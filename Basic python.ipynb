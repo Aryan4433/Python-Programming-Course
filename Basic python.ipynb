{
 "cells": [
  {
   "cell_type": "code",
   "execution_count": 1,
   "id": "8e82ff10",
   "metadata": {},
   "outputs": [
    {
     "name": "stdout",
     "output_type": "stream",
     "text": [
      "<class 'tuple'>\n",
      "<class 'tuple'>\n"
     ]
    }
   ],
   "source": [
    "d={'e':11, 'c':12}\n",
    "for i in d.items():\n",
    "    print(type(i))"
   ]
  },
  {
   "cell_type": "code",
   "execution_count": 6,
   "id": "4db7739a",
   "metadata": {},
   "outputs": [
    {
     "name": "stdout",
     "output_type": "stream",
     "text": [
      "['aryan', 'nnwvbnwijnwok', 'aryan']\n"
     ]
    }
   ],
   "source": [
    "a=\"aryan#nnwvbnwijnwok#aryan\"\n",
    "x=a.split(\"#\")\n",
    "print(x)"
   ]
  },
  {
   "cell_type": "code",
   "execution_count": 21,
   "id": "46c4cdef",
   "metadata": {},
   "outputs": [
    {
     "data": {
      "text/plain": [
       "'aryan is awsome'"
      ]
     },
     "execution_count": 21,
     "metadata": {},
     "output_type": "execute_result"
    }
   ],
   "source": [
    "def listToString(s):\n",
    "    str=' '\n",
    "    return (str.join(s))\n",
    "    \n",
    "\n",
    "s=['aryan','is','awsome']\n",
    "listToString(s)\n"
   ]
  },
  {
   "cell_type": "code",
   "execution_count": 10,
   "id": "38a061b8",
   "metadata": {},
   "outputs": [
    {
     "name": "stdout",
     "output_type": "stream",
     "text": [
      "GeeksforGeeks\n"
     ]
    }
   ],
   "source": [
    "def listToString(s):\n",
    " \n",
    "    # initialize an empty string\n",
    "    str1 = \"\"\n",
    " \n",
    "    # traverse in the string\n",
    "    for ele in s:\n",
    "        str1 += ele\n",
    " \n",
    "    # return string\n",
    "    return str1\n",
    " \n",
    " \n",
    "# Driver code\n",
    "s = ['Geeks', 'for', 'Geeks']\n",
    "print(listToString(s))"
   ]
  },
  {
   "cell_type": "code",
   "execution_count": 83,
   "id": "5f9dd82d",
   "metadata": {},
   "outputs": [
    {
     "name": "stdout",
     "output_type": "stream",
     "text": [
      "odd\n",
      "even\n",
      "odd\n",
      "even\n",
      "odd\n",
      "even\n",
      "odd\n",
      "even\n",
      "odd\n",
      "even\n",
      "5\n",
      "5\n"
     ]
    }
   ],
   "source": [
    "a=[1,2,3,4,5,6,7,8,9,10]\n",
    "e=0\n",
    "o=0\n",
    "for i in a:\n",
    "    if i%2==0:\n",
    "        e=e+1\n",
    "        print(\"even\")\n",
    "    else:\n",
    "        o=o+1\n",
    "        print(\"odd\")\n",
    "print(e)\n",
    "print(o)"
   ]
  },
  {
   "cell_type": "code",
   "execution_count": 88,
   "id": "6d376a36",
   "metadata": {
    "scrolled": false
   },
   "outputs": [
    {
     "name": "stdout",
     "output_type": "stream",
     "text": [
      "1\n",
      "3\n",
      "5\n",
      "7\n",
      "9\n"
     ]
    }
   ],
   "source": [
    "for i in range(1,11,2):\n",
    "    print(i)"
   ]
  },
  {
   "cell_type": "code",
   "execution_count": 91,
   "id": "60f43dfe",
   "metadata": {},
   "outputs": [
    {
     "name": "stdout",
     "output_type": "stream",
     "text": [
      "22100\n",
      "780625\n"
     ]
    }
   ],
   "source": [
    "even=0\n",
    "odd=0\n",
    "for i in range(1,51):\n",
    "    if i%2==0:\n",
    "        even=even+i**2\n",
    "    else:\n",
    "        odd=odd+i**3\n",
    "print(even)\n",
    "print(odd)"
   ]
  },
  {
   "cell_type": "code",
   "execution_count": 96,
   "id": "bd88e1c4",
   "metadata": {},
   "outputs": [
    {
     "name": "stdout",
     "output_type": "stream",
     "text": [
      "Enter a number:100\n",
      "100 X 1 = 100\n",
      "100 X 2 = 200\n",
      "100 X 3 = 300\n",
      "100 X 4 = 400\n",
      "100 X 5 = 500\n",
      "100 X 6 = 600\n",
      "100 X 7 = 700\n",
      "100 X 8 = 800\n",
      "100 X 9 = 900\n",
      "100 X 10 = 1000\n"
     ]
    }
   ],
   "source": [
    "a= int(input(\"Enter a number:\"))\n",
    "for i in range(1,11):\n",
    "    print(f\"{a} X {i} =\",a*i)"
   ]
  },
  {
   "cell_type": "code",
   "execution_count": 105,
   "id": "b138a27c",
   "metadata": {},
   "outputs": [
    {
     "name": "stdout",
     "output_type": "stream",
     "text": [
      "Enter a number :10\n",
      "3628800\n"
     ]
    }
   ],
   "source": [
    "# factorial\n",
    "\n",
    "f = 1\n",
    "fact= int(input(\"Enter a number :\"))\n",
    "for i in range(1,fact+1):\n",
    "    f=f*i\n",
    "print(f)\n"
   ]
  },
  {
   "cell_type": "code",
   "execution_count": 108,
   "id": "095b2e43",
   "metadata": {},
   "outputs": [
    {
     "name": "stdout",
     "output_type": "stream",
     "text": [
      "Enter a number :10\n"
     ]
    },
    {
     "data": {
      "text/plain": [
       "3628800"
      ]
     },
     "execution_count": 108,
     "metadata": {},
     "output_type": "execute_result"
    }
   ],
   "source": [
    "import math\n",
    "fact= int(input(\"Enter a number :\"))\n",
    "math.factorial(fact)"
   ]
  },
  {
   "cell_type": "code",
   "execution_count": 117,
   "id": "d391958e",
   "metadata": {},
   "outputs": [
    {
     "name": "stdout",
     "output_type": "stream",
     "text": [
      "Enter a number5\n",
      "enter numbers1\n",
      "enter numbers2\n",
      "enter numbers3\n",
      "enter numbers4\n",
      "enter numbers5\n",
      "15\n",
      "Average of numbers is 3.0\n"
     ]
    }
   ],
   "source": [
    "n= int(input(\"Enter a number\"))\n",
    "sum=0\n",
    "for i in range(1,n+1):\n",
    "    number= int(input(\"enter numbers\"))\n",
    "    sum= sum +number\n",
    "print(sum)\n",
    "print(\"Average of numbers is\",sum/n)\n",
    "    "
   ]
  },
  {
   "cell_type": "code",
   "execution_count": 119,
   "id": "19f1782a",
   "metadata": {},
   "outputs": [
    {
     "name": "stdout",
     "output_type": "stream",
     "text": [
      "Enter an number10\n",
      "3628800\n"
     ]
    }
   ],
   "source": [
    "f=1\n",
    "a= int(input(\"Enter an number\"))\n",
    "for i in range(1,a+1):\n",
    "    f=f*i\n",
    "print(f)"
   ]
  },
  {
   "cell_type": "code",
   "execution_count": 124,
   "id": "06a95787",
   "metadata": {},
   "outputs": [
    {
     "name": "stdout",
     "output_type": "stream",
     "text": [
      "Enter a number100\n",
      "9\n",
      "not prime\n"
     ]
    }
   ],
   "source": [
    "#  prime number\n",
    "c=0\n",
    "a = int(input(\"Enter a number\"))\n",
    "for i in range(1,a+1):\n",
    "    if a%i == 0:\n",
    "        c=c+1\n",
    "if c==2:\n",
    "    print(c)\n",
    "    print(\"Prime\")\n",
    "else:\n",
    "    print(c)\n",
    "    print(\"not prime\")\n"
   ]
  },
  {
   "cell_type": "code",
   "execution_count": 125,
   "id": "a3bf88e4",
   "metadata": {},
   "outputs": [
    {
     "data": {
      "text/plain": [
       "25.0"
      ]
     },
     "execution_count": 125,
     "metadata": {},
     "output_type": "execute_result"
    }
   ],
   "source": [
    "100/4"
   ]
  },
  {
   "cell_type": "code",
   "execution_count": 127,
   "id": "02c7ac7d",
   "metadata": {},
   "outputs": [
    {
     "name": "stdout",
     "output_type": "stream",
     "text": [
      "Ente r number4\n",
      "n\n",
      "3\n"
     ]
    }
   ],
   "source": [
    "c=0\n",
    "a= int(input(\"Ente r number\"))\n",
    "for i in range(1,a+1):\n",
    "    if a%i==0:\n",
    "        c=c+1\n",
    "if c==2:\n",
    "    print(\"p\")\n",
    "    print(c)\n",
    "else:\n",
    "    print(\"n\")\n",
    "    print(c)"
   ]
  },
  {
   "cell_type": "code",
   "execution_count": 129,
   "id": "b5f6bab3",
   "metadata": {},
   "outputs": [
    {
     "name": "stdout",
     "output_type": "stream",
     "text": [
      "p\n"
     ]
    }
   ],
   "source": [
    "# aryra is pailindrome or nor\n",
    "a= [\"aryra\"]\n",
    "for i in a:\n",
    "    if i==i[::-1]:\n",
    "        print(\"p\")\n",
    "    else:\n",
    "        print(\"np\")"
   ]
  },
  {
   "cell_type": "code",
   "execution_count": 134,
   "id": "743ead89",
   "metadata": {},
   "outputs": [
    {
     "name": "stdout",
     "output_type": "stream",
     "text": [
      "Enter a number10\n",
      "0\n",
      "1\n",
      "1\n",
      "2\n",
      "3\n",
      "5\n",
      "8\n",
      "13\n",
      "21\n",
      "34\n"
     ]
    }
   ],
   "source": [
    "# fibonacci series\n",
    "a=0\n",
    "b=1\n",
    "n= int(input('Enter a number'))\n",
    "for i in range(1,n+1):\n",
    "    print(a)\n",
    "    c=a\n",
    "    a=b\n",
    "    b=a+c"
   ]
  },
  {
   "cell_type": "code",
   "execution_count": 131,
   "id": "ac263e55",
   "metadata": {
    "scrolled": true
   },
   "outputs": [
    {
     "name": "stdout",
     "output_type": "stream",
     "text": [
      "Enter a number10\n",
      "0\n",
      "1\n",
      "1\n",
      "2\n",
      "3\n",
      "5\n",
      "8\n",
      "13\n",
      "21\n",
      "34\n"
     ]
    }
   ],
   "source": [
    "# fibonacci series\n",
    "a=0\n",
    "b=1\n",
    "n= int(input('Enter a number'))\n",
    "for i in range(1,n+1):\n",
    "    print(a)\n",
    "    c=a\n",
    "    a=b\n",
    "    b=c+a"
   ]
  },
  {
   "cell_type": "code",
   "execution_count": 138,
   "id": "98bd5b33",
   "metadata": {},
   "outputs": [
    {
     "name": "stdout",
     "output_type": "stream",
     "text": [
      "11\n",
      "10\n",
      "9\n",
      "8\n",
      "7\n",
      "6\n",
      "5\n",
      "4\n",
      "3\n",
      "2\n",
      "1\n"
     ]
    }
   ],
   "source": [
    "for i in range(11,0,-1):\n",
    "    print(i)\n",
    "    "
   ]
  },
  {
   "cell_type": "code",
   "execution_count": 140,
   "id": "968dfee5",
   "metadata": {},
   "outputs": [
    {
     "name": "stdout",
     "output_type": "stream",
     "text": [
      "1\n",
      "2\n",
      "3\n",
      "4\n",
      "5\n",
      "6\n",
      "7\n",
      "8\n",
      "9\n",
      "10\n"
     ]
    }
   ],
   "source": [
    "c=1\n",
    "while c<=10:\n",
    "    print(c)\n",
    "    c=c+1\n"
   ]
  },
  {
   "cell_type": "code",
   "execution_count": 141,
   "id": "c39bf062",
   "metadata": {},
   "outputs": [
    {
     "name": "stdout",
     "output_type": "stream",
     "text": [
      "enter a number4\n",
      "24\n"
     ]
    }
   ],
   "source": [
    "# factorial uisng for loop\n",
    "\n",
    "f=1\n",
    "n= int(input(\"enter a number\"))\n",
    "for i in range(1,n+1):\n",
    "    f=f*i\n",
    "print(f)\n",
    "\n",
    "\n",
    "\n",
    "\n"
   ]
  },
  {
   "cell_type": "code",
   "execution_count": 146,
   "id": "fea963fc",
   "metadata": {},
   "outputs": [
    {
     "name": "stdout",
     "output_type": "stream",
     "text": [
      "enter a number4\n",
      "24\n"
     ]
    }
   ],
   "source": [
    "# factorial using while loop\n",
    "\n",
    "f=1\n",
    "n= int(input(\"enter a number\"))\n",
    "while n!=0:\n",
    "    f=f*n\n",
    "    n=n-1\n",
    "print(f)"
   ]
  },
  {
   "cell_type": "code",
   "execution_count": 154,
   "id": "cfcc5794",
   "metadata": {},
   "outputs": [
    {
     "name": "stdout",
     "output_type": "stream",
     "text": [
      "Enter alphbetp\n",
      "Hello\n",
      "Enter againq\n",
      "good by\n"
     ]
    }
   ],
   "source": [
    "aa= input(\"Enter alphbet\")\n",
    "while aa!='q':\n",
    "    if aa=='p':\n",
    "        print(\"Hello\")\n",
    "    aa=input(\"Enter again\")\n",
    "print(\"good by\")"
   ]
  },
  {
   "cell_type": "code",
   "execution_count": 156,
   "id": "e17a8fd2",
   "metadata": {},
   "outputs": [
    {
     "name": "stdout",
     "output_type": "stream",
     "text": [
      "Enter a number10\n",
      "0\n",
      "1\n",
      "1\n",
      "2\n",
      "3\n",
      "5\n",
      "8\n",
      "13\n",
      "21\n",
      "34\n"
     ]
    }
   ],
   "source": [
    "# fiabonacci series using for loop\n",
    "a=0\n",
    "b=1\n",
    "n= int(input(\"Enter a number\"))\n",
    "for i in range(1,n+1):\n",
    "    print(a)\n",
    "    c=a\n",
    "    a=b\n",
    "    b=a+c\n",
    "    \n"
   ]
  },
  {
   "cell_type": "code",
   "execution_count": 158,
   "id": "d6c44fa0",
   "metadata": {},
   "outputs": [
    {
     "name": "stdout",
     "output_type": "stream",
     "text": [
      "Enter a number10\n",
      "0\n",
      "1\n",
      "1\n",
      "2\n",
      "3\n",
      "5\n",
      "8\n",
      "13\n",
      "21\n",
      "34\n"
     ]
    }
   ],
   "source": [
    "# fiabonacci series using while loop\n",
    "a=0\n",
    "b=1\n",
    "n= int(input(\"Enter a number\"))\n",
    "while n!=0:\n",
    "    print(a)\n",
    "    c=a\n",
    "    a=b\n",
    "    b=a+c\n",
    "    n=n-1\n",
    "    "
   ]
  },
  {
   "cell_type": "code",
   "execution_count": 164,
   "id": "23b424d1",
   "metadata": {},
   "outputs": [
    {
     "name": "stdout",
     "output_type": "stream",
     "text": [
      "Enter the number wghicvh you want to check that it is armstrong or not153\n",
      "3\n",
      "153 armstrong\n"
     ]
    }
   ],
   "source": [
    "# no is armstrong or not\n",
    "n= int(input(\"Enter the number wghicvh you want to check that it is armstrong or not\"))\n",
    "c=0\n",
    "a=n\n",
    "x=a\n",
    "while n!=0:\n",
    "    c=c+1\n",
    "    n=n//10\n",
    "print(c)\n",
    "s=0\n",
    "while a!=0:\n",
    "    digit=a%10\n",
    "    s=s+digit**c\n",
    "    a=a//10\n",
    "\n",
    "if x==s:\n",
    "    print(s,'armstrong')\n",
    "else:\n",
    "    print(\"Not\")\n"
   ]
  },
  {
   "cell_type": "code",
   "execution_count": 165,
   "id": "bc6ca1f8",
   "metadata": {},
   "outputs": [
    {
     "data": {
      "text/plain": [
       "4"
      ]
     },
     "execution_count": 165,
     "metadata": {},
     "output_type": "execute_result"
    }
   ],
   "source": [
    "8//2"
   ]
  },
  {
   "cell_type": "code",
   "execution_count": 166,
   "id": "5097e6f5",
   "metadata": {},
   "outputs": [
    {
     "name": "stdout",
     "output_type": "stream",
     "text": [
      "enter  a number8\n",
      "4\n",
      "2\n",
      "1\n",
      "8 is a power of 2\n"
     ]
    }
   ],
   "source": [
    "n= int(input('enter  a number'))\n",
    "a=n\n",
    "while n%2==0:\n",
    "    n=n//2\n",
    "    print(n)\n",
    "if n==1:\n",
    "    print(a,\"is a power of 2\")\n",
    "else:\n",
    "    print(a,\"is not power of 2\")\n",
    "    "
   ]
  },
  {
   "cell_type": "code",
   "execution_count": 167,
   "id": "0017f960",
   "metadata": {},
   "outputs": [
    {
     "data": {
      "text/plain": [
       "2"
      ]
     },
     "execution_count": 167,
     "metadata": {},
     "output_type": "execute_result"
    }
   ],
   "source": [
    "4//2"
   ]
  },
  {
   "cell_type": "code",
   "execution_count": 169,
   "id": "f14f1ec1",
   "metadata": {},
   "outputs": [
    {
     "name": "stdout",
     "output_type": "stream",
     "text": [
      "6\n"
     ]
    }
   ],
   "source": [
    "l = [1,2,3,4,5,6]\n",
    "a=0\n",
    "b=0\n",
    "for i in l:\n",
    "    a=a+i\n",
    "    b=b+1\n",
    "    if b==3:\n",
    "        break\n",
    "print(a)"
   ]
  },
  {
   "cell_type": "code",
   "execution_count": 175,
   "id": "22f93749",
   "metadata": {},
   "outputs": [
    {
     "name": "stdout",
     "output_type": "stream",
     "text": [
      "3\n",
      "3\n"
     ]
    }
   ],
   "source": [
    "a=0\n",
    "b=0\n",
    "while b<6:\n",
    "    a=a+b\n",
    "    b=b+1\n",
    "    if b==3:\n",
    "        break\n",
    "print(b)\n",
    "print(a)\n",
    "    "
   ]
  },
  {
   "cell_type": "code",
   "execution_count": 179,
   "id": "ded64dfa",
   "metadata": {},
   "outputs": [
    {
     "name": "stdout",
     "output_type": "stream",
     "text": [
      "1\n",
      "2\n",
      "3\n",
      "4\n",
      "6\n",
      "7\n",
      "8\n",
      "9\n",
      "10\n"
     ]
    }
   ],
   "source": [
    "for i in range(1,11):\n",
    "    if i==5:\n",
    "         continue\n",
    "    print(i)"
   ]
  },
  {
   "cell_type": "code",
   "execution_count": 185,
   "id": "ea3a4142",
   "metadata": {},
   "outputs": [
    {
     "name": "stdout",
     "output_type": "stream",
     "text": [
      "parrat\n",
      "perl\n",
      "python\n"
     ]
    }
   ],
   "source": [
    "l = ['parrat','perl','java','python']\n",
    "for i in l:\n",
    "    for j in i:\n",
    "        if j=='p':\n",
    "            print(i)\n",
    "        else:\n",
    "            pass"
   ]
  },
  {
   "cell_type": "code",
   "execution_count": 197,
   "id": "36508dab",
   "metadata": {},
   "outputs": [
    {
     "name": "stdout",
     "output_type": "stream",
     "text": [
      "Enter a number500\n",
      "500 X 1 = 500\n",
      "500 X 2 = 1000\n",
      "500 X 3 = 1500\n",
      "500 X 4 = 2000\n",
      "500 X 5 = 2500\n",
      "500 X 6 = 3000\n",
      "500 X 7 = 3500\n",
      "500 X 8 = 4000\n",
      "500 X 9 = 4500\n",
      "500 X 10 = 5000\n"
     ]
    }
   ],
   "source": [
    "# table by for loopprint\n",
    "n= int(input(\"Enter a number\"))\n",
    "for i in range(1,11):\n",
    "    print(f\"{n} X {i} =\",n*i)\n",
    "    "
   ]
  },
  {
   "cell_type": "code",
   "execution_count": 223,
   "id": "8abd4fb5",
   "metadata": {},
   "outputs": [
    {
     "name": "stdout",
     "output_type": "stream",
     "text": [
      "Enter a number500\n",
      "500 X 1 = 500\n",
      "500 X 2 = 1000\n",
      "500 X 3 = 1500\n",
      "500 X 4 = 2000\n",
      "500 X 5 = 2500\n",
      "500 X 6 = 3000\n",
      "500 X 7 = 3500\n",
      "500 X 8 = 4000\n",
      "500 X 9 = 4500\n",
      "500 X 10 = 5000\n"
     ]
    }
   ],
   "source": [
    "n= int(input(\"Enter a number\"))\n",
    "x=1\n",
    "while x!=11:\n",
    "        print(n,'X',x,\"=\",n*x)\n",
    "        x=x+1"
   ]
  },
  {
   "cell_type": "code",
   "execution_count": 203,
   "id": "b3c3a823",
   "metadata": {},
   "outputs": [
    {
     "name": "stdout",
     "output_type": "stream",
     "text": [
      "Enter a number12345\n",
      "54321\n"
     ]
    }
   ],
   "source": [
    "# reverse number\n",
    "n= int(input(\"Enter a number\"))\n",
    "rev=0\n",
    "while n!=0:\n",
    "    digit=n%10\n",
    "    rev= rev*10+digit\n",
    "    n=n//10\n",
    "print(rev)"
   ]
  },
  {
   "cell_type": "code",
   "execution_count": 205,
   "id": "0aa39d1c",
   "metadata": {},
   "outputs": [
    {
     "name": "stdout",
     "output_type": "stream",
     "text": [
      "543215\n"
     ]
    }
   ],
   "source": [
    "d=12345%10\n",
    "rev= rev*10+d\n",
    "print(rev)"
   ]
  },
  {
   "cell_type": "code",
   "execution_count": 206,
   "id": "6ab02bb5",
   "metadata": {},
   "outputs": [
    {
     "data": {
      "text/plain": [
       "1234"
      ]
     },
     "execution_count": 206,
     "metadata": {},
     "output_type": "execute_result"
    }
   ],
   "source": [
    "12345//10"
   ]
  },
  {
   "cell_type": "code",
   "execution_count": 207,
   "id": "f1e60799",
   "metadata": {},
   "outputs": [
    {
     "name": "stdout",
     "output_type": "stream",
     "text": [
      "enter a number1234\n",
      "4321\n"
     ]
    }
   ],
   "source": [
    " #reverse a number\n",
    "n= int(input(\"enter a number\"))\n",
    "rev=0\n",
    "while n!=0:\n",
    "    digit = n%10\n",
    "    rev= rev*10+digit\n",
    "    n=n//10\n",
    "print(rev)"
   ]
  },
  {
   "cell_type": "code",
   "execution_count": 208,
   "id": "c643a77a",
   "metadata": {},
   "outputs": [
    {
     "name": "stdout",
     "output_type": "stream",
     "text": [
      "enter a number123456\n",
      "654321\n"
     ]
    }
   ],
   "source": [
    "rev=0\n",
    "n= int(input(\"enter a number\"))\n",
    "while n!=0:\n",
    "    digit= n%10\n",
    "    rev= rev*10+digit\n",
    "    n=n//10\n",
    "print(rev)"
   ]
  },
  {
   "cell_type": "code",
   "execution_count": 214,
   "id": "a125d474",
   "metadata": {},
   "outputs": [
    {
     "name": "stdout",
     "output_type": "stream",
     "text": [
      "p\n"
     ]
    }
   ],
   "source": [
    "# pailndrome \n",
    "a= [\"aryra\"]\n",
    "for i in a:\n",
    "    if i==i[::-1]:\n",
    "        print(\"p\")\n",
    "    else:\n",
    "        print(\"np\")"
   ]
  },
  {
   "cell_type": "code",
   "execution_count": 220,
   "id": "537b3e1a",
   "metadata": {},
   "outputs": [
    {
     "name": "stdout",
     "output_type": "stream",
     "text": [
      "Enter a number121\n",
      "121\n",
      "Pallindrome\n"
     ]
    }
   ],
   "source": [
    "# pailndrome\n",
    "rev=0\n",
    "n= int(input(\"Enter a number\"))\n",
    "a=n\n",
    "while n!=0:\n",
    "    digit= n%10\n",
    "    rev= rev*10+digit\n",
    "    n=n//10\n",
    "print(rev)\n",
    "if rev==a:\n",
    "    print(\"Pallindrome\")\n",
    "else:\n",
    "    print(\"Not Pallindrome\")"
   ]
  },
  {
   "cell_type": "code",
   "execution_count": 224,
   "id": "d32d5009",
   "metadata": {},
   "outputs": [],
   "source": [
    "# Q-1 Write a program to print the following using while loop\n",
    "# a. First 10 Even numbers\n",
    "# b. First 10 Odd numbers\n",
    "# c. First 10 Natural numbers\n",
    "# d. First 10 Whole numbers"
   ]
  },
  {
   "cell_type": "code",
   "execution_count": 231,
   "id": "241253b2",
   "metadata": {
    "scrolled": true
   },
   "outputs": [
    {
     "name": "stdout",
     "output_type": "stream",
     "text": [
      "Enter a number2\n",
      "2\n",
      "4\n",
      "6\n",
      "8\n",
      "10\n",
      "12\n",
      "14\n",
      "16\n",
      "18\n",
      "20\n"
     ]
    }
   ],
   "source": [
    "n=int(input(\"Enter a number\"))\n",
    "while n<=20:\n",
    "    if n%2==0:\n",
    "        print(n)\n",
    "        n=n+2\n",
    "    else:\n",
    "        pass"
   ]
  },
  {
   "cell_type": "code",
   "execution_count": 232,
   "id": "9dc4515c",
   "metadata": {},
   "outputs": [
    {
     "name": "stdout",
     "output_type": "stream",
     "text": [
      "Enter a number1\n",
      "1\n",
      "3\n",
      "5\n",
      "7\n",
      "9\n",
      "11\n",
      "13\n",
      "15\n",
      "17\n",
      "19\n"
     ]
    }
   ],
   "source": [
    "n=int(input(\"Enter a number\"))\n",
    "while n<=20:\n",
    "    if n%2!=0:\n",
    "        print(n)\n",
    "        n=n+2\n",
    "    else:\n",
    "        print(n)\n",
    "        n=n+2"
   ]
  },
  {
   "cell_type": "code",
   "execution_count": 233,
   "id": "b5ace781",
   "metadata": {},
   "outputs": [
    {
     "name": "stdout",
     "output_type": "stream",
     "text": [
      "Enter a number1\n",
      "1\n",
      "2\n",
      "3\n",
      "4\n",
      "5\n",
      "6\n",
      "7\n",
      "8\n",
      "9\n",
      "10\n"
     ]
    }
   ],
   "source": [
    "n=int(input(\"Enter a number\"))\n",
    "while n<=10:\n",
    "    print(n)\n",
    "    n=n+1"
   ]
  },
  {
   "cell_type": "code",
   "execution_count": 234,
   "id": "9e1dd101",
   "metadata": {},
   "outputs": [
    {
     "name": "stdout",
     "output_type": "stream",
     "text": [
      "Enter a number0\n",
      "0\n",
      "1\n",
      "2\n",
      "3\n",
      "4\n",
      "5\n",
      "6\n",
      "7\n",
      "8\n",
      "9\n"
     ]
    }
   ],
   "source": [
    "n=int(input(\"Enter a number\"))\n",
    "while n<10:\n",
    "    print(n)\n",
    "    n=n+1"
   ]
  },
  {
   "cell_type": "code",
   "execution_count": 235,
   "id": "08095fe8",
   "metadata": {},
   "outputs": [
    {
     "name": "stdout",
     "output_type": "stream",
     "text": [
      "1 & 1\n",
      "2 & 4\n",
      "3 & 9\n",
      "4 & 16\n",
      "5 & 25\n",
      "6 & 36\n",
      "7 & 49\n",
      "8 & 64\n",
      "9 & 81\n",
      "10 & 100\n"
     ]
    }
   ],
   "source": [
    "# Write a program to print first 10 integers and their squares using for loop.\n",
    "for i in range(1,11):\n",
    "    print(i,\"&\",i**2)"
   ]
  },
  {
   "cell_type": "code",
   "execution_count": 236,
   "id": "623180ab",
   "metadata": {},
   "outputs": [],
   "source": [
    "# Write for loop statement to print the following series:\n",
    "# 10\n",
    "# 20\n",
    "# 30\n",
    "# .\n",
    "# .\n",
    "# .\n",
    "# 300"
   ]
  },
  {
   "cell_type": "code",
   "execution_count": 238,
   "id": "0ff348b6",
   "metadata": {},
   "outputs": [
    {
     "name": "stdout",
     "output_type": "stream",
     "text": [
      "10\n",
      "20\n",
      "30\n",
      "40\n",
      "50\n",
      "60\n",
      "70\n",
      "80\n",
      "90\n",
      "100\n",
      "110\n",
      "120\n",
      "130\n",
      "140\n",
      "150\n",
      "160\n",
      "170\n",
      "180\n",
      "190\n",
      "200\n",
      "210\n",
      "220\n",
      "230\n",
      "240\n",
      "250\n",
      "260\n",
      "270\n",
      "280\n",
      "290\n",
      "300\n"
     ]
    }
   ],
   "source": [
    "for i in range(10,310,10):\n",
    "    print(i)"
   ]
  },
  {
   "cell_type": "code",
   "execution_count": 241,
   "id": "483b8f27",
   "metadata": {},
   "outputs": [
    {
     "name": "stdout",
     "output_type": "stream",
     "text": [
      "105\n",
      "98\n",
      "91\n",
      "84\n",
      "77\n",
      "70\n",
      "63\n",
      "56\n",
      "49\n",
      "42\n",
      "35\n",
      "28\n",
      "21\n",
      "14\n",
      "7\n"
     ]
    }
   ],
   "source": [
    "# Q-4 Write a while loop statement to print the following series\n",
    "# 105 98 91 . . . . 7\n",
    "\n",
    "for i in range(105,6,-7):\n",
    "    print(i)"
   ]
  },
  {
   "cell_type": "code",
   "execution_count": 246,
   "id": "ee592c4a",
   "metadata": {},
   "outputs": [
    {
     "name": "stdout",
     "output_type": "stream",
     "text": [
      "105\n",
      "98\n",
      "91\n",
      "84\n",
      "77\n",
      "70\n",
      "63\n",
      "56\n",
      "49\n",
      "42\n",
      "35\n",
      "28\n",
      "21\n",
      "14\n",
      "7\n"
     ]
    }
   ],
   "source": [
    "a=105\n",
    "while a!=0:\n",
    "    print(a)\n",
    "    a=a-7"
   ]
  },
  {
   "cell_type": "code",
   "execution_count": 242,
   "id": "805118ae",
   "metadata": {},
   "outputs": [],
   "source": [
    "# Q-5 Write a program to enter the numbers till the user wants and at the end it should display the sum of all the numbers entered."
   ]
  },
  {
   "cell_type": "code",
   "execution_count": 244,
   "id": "fc89cac0",
   "metadata": {},
   "outputs": [
    {
     "name": "stdout",
     "output_type": "stream",
     "text": [
      "Enter a number5\n",
      "Enter a number1\n",
      "Enter a number2\n",
      "Enter a number3\n",
      "Enter a number4\n",
      "Enter a number5\n",
      "15\n"
     ]
    }
   ],
   "source": [
    "n=int(input(\"Enter a number\"))\n",
    "b=0\n",
    "while n!=0:\n",
    "    a=int(input(\"Enter a number\"))\n",
    "    b=b+a\n",
    "    n=n-1\n",
    "print(b)\n",
    "        "
   ]
  },
  {
   "cell_type": "code",
   "execution_count": 245,
   "id": "5d56e001",
   "metadata": {},
   "outputs": [
    {
     "name": "stdout",
     "output_type": "stream",
     "text": [
      "Enter a number5\n",
      "Enter a number1\n",
      "Enter a number2\n",
      "Enter a number3\n",
      "Enter a number4\n",
      "Enter a number5\n",
      "15\n"
     ]
    }
   ],
   "source": [
    "n=int(input(\"Enter a number\"))\n",
    "b=0\n",
    "for i in range(1,n+1):\n",
    "    a=int(input(\"Enter a number\"))\n",
    "    b=b+a\n",
    "    n=n-1\n",
    "print(b)"
   ]
  },
  {
   "cell_type": "code",
   "execution_count": 247,
   "id": "16b87377",
   "metadata": {},
   "outputs": [],
   "source": [
    "# Q-6 Write a program to enter the numbers till the user enter ZERO and at the end it should display the count and sum of positive , negative numbers entered"
   ]
  },
  {
   "cell_type": "code",
   "execution_count": 249,
   "id": "9d548d0e",
   "metadata": {},
   "outputs": [
    {
     "name": "stdout",
     "output_type": "stream",
     "text": [
      "Enter a number5\n",
      "Enter a number1\n",
      "Enter a number2\n",
      "Enter a number3\n",
      "Enter a number4\n",
      "Enter a number5\n",
      "6\n",
      "9\n"
     ]
    }
   ],
   "source": [
    "n=int(input(\"Enter a number\"))\n",
    "b=0\n",
    "c=0\n",
    "for i in range(1,n+1):\n",
    "    a=int(input(\"Enter a number\"))\n",
    "    if a%2==0:\n",
    "        b=b+a\n",
    "    else:\n",
    "        c=c+a\n",
    "    n=n-1\n",
    "print(b)\n",
    "print(c)"
   ]
  },
  {
   "cell_type": "code",
   "execution_count": 252,
   "id": "b2430d59",
   "metadata": {},
   "outputs": [
    {
     "name": "stdout",
     "output_type": "stream",
     "text": [
      "Enter a number6\n",
      "Enter a number1\n",
      "Enter a number2\n",
      "Enter a number3\n",
      "Enter a number4\n",
      "Enter a number5\n",
      "Enter a number6\n",
      "12\n",
      "9\n"
     ]
    }
   ],
   "source": [
    "n=int(input(\"Enter a number\"))\n",
    "b=0\n",
    "c=0\n",
    "while n!=0:\n",
    "    a=int(input(\"Enter a number\"))\n",
    "    if a%2==0:\n",
    "        b=b+a\n",
    "    else:\n",
    "        c=c+a\n",
    "    n=n-1\n",
    "print(b)\n",
    "print(c)    "
   ]
  },
  {
   "cell_type": "code",
   "execution_count": 253,
   "id": "5a0f2dc6",
   "metadata": {},
   "outputs": [],
   "source": [
    "# Q-7 Write a program to display all the numbers which are divisible by 13 but not by 3 between 100 and 500.(exclusive both numbers)"
   ]
  },
  {
   "cell_type": "code",
   "execution_count": 256,
   "id": "445fe620",
   "metadata": {},
   "outputs": [
    {
     "name": "stdout",
     "output_type": "stream",
     "text": [
      "104\n",
      "130\n",
      "143\n",
      "169\n",
      "182\n",
      "208\n",
      "221\n",
      "247\n",
      "260\n",
      "286\n",
      "299\n",
      "325\n",
      "338\n",
      "364\n",
      "377\n",
      "403\n",
      "416\n",
      "442\n",
      "455\n",
      "481\n",
      "494\n"
     ]
    }
   ],
   "source": [
    "for i in range(100,501):\n",
    "    if i%13==0  and i%3!=0:\n",
    "        print(i)\n",
    "    else:\n",
    "        pass"
   ]
  },
  {
   "cell_type": "code",
   "execution_count": 259,
   "id": "bb5feee4",
   "metadata": {},
   "outputs": [
    {
     "name": "stdout",
     "output_type": "stream",
     "text": [
      "104\n",
      "130\n",
      "143\n",
      "169\n",
      "182\n",
      "208\n",
      "221\n",
      "247\n",
      "260\n",
      "286\n",
      "299\n",
      "325\n",
      "338\n",
      "364\n",
      "377\n",
      "403\n",
      "416\n",
      "442\n",
      "455\n",
      "481\n",
      "494\n"
     ]
    }
   ],
   "source": [
    "a=100\n",
    "b=500\n",
    "while a!=b:\n",
    "    if a%13==0:\n",
    "        if a%3!=0:\n",
    "            print(a)\n",
    "    a=a+1\n",
    "    "
   ]
  },
  {
   "cell_type": "code",
   "execution_count": 260,
   "id": "73c2699e",
   "metadata": {},
   "outputs": [],
   "source": [
    "# Q-8 Write a program to accept 10 numbers from the user and display the largest & smallest number number."
   ]
  },
  {
   "cell_type": "code",
   "execution_count": 267,
   "id": "9ef27372",
   "metadata": {},
   "outputs": [
    {
     "name": "stdout",
     "output_type": "stream",
     "text": [
      "Enter 10 No.:\n",
      "Enter your no.=1\n",
      "Enter your no.=2\n",
      "Enter your no.=3\n",
      "Enter your no.=4\n",
      "Enter your no.=5\n",
      "Enter your no.=6\n",
      "Enter your no.=7\n",
      "Enter your no.=8\n",
      "Enter your no.=9\n",
      "Enter your no.=10\n",
      "Smallest No. is  1\n",
      "Biggest No. is  10\n"
     ]
    }
   ],
   "source": [
    "print(\"Enter 10 No.:\")\n",
    "n=10\n",
    "b=0\n",
    "l=0\n",
    "while n!=0:\n",
    "    a=int(input(\"Enter your no.=\"))\n",
    "    if b==0:\n",
    "        s=a\n",
    "        b+=1\n",
    "    if a>l:\n",
    "        l=a\n",
    "    if a<s:\n",
    "        s=a\n",
    "    n=n-1\n",
    "print(\"Smallest No. is \",s)\n",
    "print(\"Biggest No. is \",l)"
   ]
  },
  {
   "cell_type": "code",
   "execution_count": 268,
   "id": "f7b1977d",
   "metadata": {},
   "outputs": [],
   "source": [
    "# Q-9 Write a program to print the following series till n terms.\n",
    "# 1\n",
    "# 4\n",
    "# 9\n",
    "# 16\n",
    "# 25\n",
    "# n terms."
   ]
  },
  {
   "cell_type": "code",
   "execution_count": 273,
   "id": "5682f166",
   "metadata": {},
   "outputs": [
    {
     "name": "stdout",
     "output_type": "stream",
     "text": [
      "Enter your no.=20\n",
      "1\n",
      "4\n",
      "9\n",
      "16\n",
      "25\n",
      "36\n",
      "49\n",
      "64\n",
      "81\n",
      "100\n",
      "121\n",
      "144\n",
      "169\n",
      "196\n",
      "225\n",
      "256\n",
      "289\n",
      "324\n",
      "361\n",
      "400\n"
     ]
    }
   ],
   "source": [
    "a=int(input(\"Enter your no.=\"))\n",
    "for i in range(1,a+1):\n",
    "    print(i**2)"
   ]
  },
  {
   "cell_type": "code",
   "execution_count": 274,
   "id": "df39f444",
   "metadata": {},
   "outputs": [
    {
     "name": "stdout",
     "output_type": "stream",
     "text": [
      "Enter your no.=10\n",
      "1\n",
      "4\n",
      "9\n",
      "16\n",
      "25\n",
      "36\n",
      "49\n",
      "64\n",
      "81\n",
      "100\n"
     ]
    }
   ],
   "source": [
    "a=int(input(\"Enter your no.=\"))\n",
    "n=1\n",
    "while a!=0:\n",
    "    print(n**2)\n",
    "    n=n+1\n",
    "    a=a-1\n",
    "    "
   ]
  },
  {
   "cell_type": "code",
   "execution_count": 276,
   "id": "0eeb27ef",
   "metadata": {},
   "outputs": [
    {
     "name": "stdout",
     "output_type": "stream",
     "text": [
      "Enter a number10\n",
      "1\n",
      "4\n",
      "9\n",
      "16\n",
      "25\n",
      "36\n",
      "49\n",
      "64\n",
      "81\n",
      "100\n"
     ]
    }
   ],
   "source": [
    "a=1\n",
    "n= int(input(\"Enter a number\"))\n",
    "while n!=0:\n",
    "    print(a**2)\n",
    "    a+=1\n",
    "    n=n-1"
   ]
  },
  {
   "cell_type": "code",
   "execution_count": 277,
   "id": "cb381950",
   "metadata": {},
   "outputs": [],
   "source": [
    "# Write a program to display the number names of the digits of a number entered by user,\n",
    "# for example if the number is 231\n",
    "# then output should be\n",
    "# Two\n",
    "# Three\n",
    "# One"
   ]
  },
  {
   "cell_type": "code",
   "execution_count": 286,
   "id": "25de631a",
   "metadata": {},
   "outputs": [
    {
     "data": {
      "text/plain": [
       "0"
      ]
     },
     "execution_count": 286,
     "metadata": {},
     "output_type": "execute_result"
    }
   ],
   "source": [
    "1//10"
   ]
  },
  {
   "cell_type": "code",
   "execution_count": 289,
   "id": "9c9cade9",
   "metadata": {},
   "outputs": [
    {
     "name": "stdout",
     "output_type": "stream",
     "text": [
      "Enter any no.=12345\n",
      "one\n",
      "Two\n",
      "Three\n",
      "four\n",
      "five\n"
     ]
    }
   ],
   "source": [
    "b=0\n",
    "n=int(input(\"Enter any no.=\"))\n",
    "while n!=0:\n",
    "    a=n%10\n",
    "    b=b*10+a\n",
    "    n=n//10\n",
    "# print(b)123 -321\n",
    "\n",
    "while b!=0:\n",
    "    d=b%10 #321 -- 1\n",
    "    b=b//10  #321 -32\n",
    "    if d==1:\n",
    "        print(\"one\")\n",
    "    elif d==2:\n",
    "        print(\"Two\")\n",
    "    elif d==3:\n",
    "        print(\"Three\")\n",
    "    elif d==4:\n",
    "        print(\"four\")\n",
    "    elif d==5:\n",
    "        print(\"five\")\n",
    "    elif d==6:\n",
    "        print(\"six\")\n",
    "    elif d==7:\n",
    "        print(\"Seven\")\n",
    "    elif d==8:\n",
    "        print(\"Eight\")\n",
    "    elif d==9:\n",
    "        print(\"Nine\")\n",
    "    else:\n",
    "        print(\"Zero\")"
   ]
  },
  {
   "cell_type": "code",
   "execution_count": 290,
   "id": "6cd532d6",
   "metadata": {},
   "outputs": [
    {
     "name": "stdout",
     "output_type": "stream",
     "text": [
      "Enter Any No.=12345\n",
      "One\n",
      "Two\n",
      "Three\n",
      "Four\n",
      "Five\n"
     ]
    }
   ],
   "source": [
    "n=input(\"Enter Any No.=\")\n",
    "for i in n:\n",
    "    if i=='0':\n",
    "        print(\"Zero\")\n",
    "    elif i=='1':\n",
    "        print(\"One\")\n",
    "    elif i=='2':\n",
    "        print(\"Two\")\n",
    "    elif i=='3':\n",
    "        print(\"Three\")\n",
    "    elif i=='4':\n",
    "        print(\"Four\")\n",
    "    elif i=='5':\n",
    "        print(\"Five\")\n",
    "    elif i=='6':\n",
    "        print(\"Six\")\n",
    "    elif i=='7':\n",
    "        print(\"Seven\")\n",
    "    elif i=='8':\n",
    "        print(\"Eight\")\n",
    "    else:\n",
    "        print(\"Nine\")"
   ]
  },
  {
   "cell_type": "code",
   "execution_count": 291,
   "id": "9dc49903",
   "metadata": {},
   "outputs": [],
   "source": [
    "# Q-11 Q11. Write a python program to get the following output\n",
    "# 1—–49\n",
    "\n",
    "# 2—–48\n",
    "\n",
    "# 3—–47\n",
    "\n",
    "# . .\n",
    "\n",
    "# . .\n",
    "\n",
    "# . .\n",
    "\n",
    "# 48—–2\n",
    "\n",
    "# 49—–1"
   ]
  },
  {
   "cell_type": "code",
   "execution_count": 292,
   "id": "c80d6c57",
   "metadata": {},
   "outputs": [
    {
     "name": "stdout",
     "output_type": "stream",
     "text": [
      "1 ---- 49\n",
      "2 ---- 48\n",
      "3 ---- 47\n",
      "4 ---- 46\n",
      "5 ---- 45\n",
      "6 ---- 44\n",
      "7 ---- 43\n",
      "8 ---- 42\n",
      "9 ---- 41\n",
      "10 ---- 40\n",
      "11 ---- 39\n",
      "12 ---- 38\n",
      "13 ---- 37\n",
      "14 ---- 36\n",
      "15 ---- 35\n",
      "16 ---- 34\n",
      "17 ---- 33\n",
      "18 ---- 32\n",
      "19 ---- 31\n",
      "20 ---- 30\n",
      "21 ---- 29\n",
      "22 ---- 28\n",
      "23 ---- 27\n",
      "24 ---- 26\n",
      "25 ---- 25\n",
      "26 ---- 24\n",
      "27 ---- 23\n",
      "28 ---- 22\n",
      "29 ---- 21\n",
      "30 ---- 20\n",
      "31 ---- 19\n",
      "32 ---- 18\n",
      "33 ---- 17\n",
      "34 ---- 16\n",
      "35 ---- 15\n",
      "36 ---- 14\n",
      "37 ---- 13\n",
      "38 ---- 12\n",
      "39 ---- 11\n",
      "40 ---- 10\n",
      "41 ---- 9\n",
      "42 ---- 8\n",
      "43 ---- 7\n",
      "44 ---- 6\n",
      "45 ---- 5\n",
      "46 ---- 4\n",
      "47 ---- 3\n",
      "48 ---- 2\n",
      "49 ---- 1\n"
     ]
    }
   ],
   "source": [
    "a=1\n",
    "b=49\n",
    "while b!=0:\n",
    "    print(a,\"----\",b)\n",
    "    a=a+1\n",
    "    b=b-1"
   ]
  },
  {
   "cell_type": "code",
   "execution_count": 294,
   "id": "e06c57c5",
   "metadata": {},
   "outputs": [
    {
     "name": "stdout",
     "output_type": "stream",
     "text": [
      "1 ---- 49\n",
      "2 ---- 48\n",
      "3 ---- 47\n",
      "4 ---- 46\n",
      "5 ---- 45\n",
      "6 ---- 44\n",
      "7 ---- 43\n",
      "8 ---- 42\n",
      "9 ---- 41\n",
      "10 ---- 40\n",
      "11 ---- 39\n",
      "12 ---- 38\n",
      "13 ---- 37\n",
      "14 ---- 36\n",
      "15 ---- 35\n",
      "16 ---- 34\n",
      "17 ---- 33\n",
      "18 ---- 32\n",
      "19 ---- 31\n",
      "20 ---- 30\n",
      "21 ---- 29\n",
      "22 ---- 28\n",
      "23 ---- 27\n",
      "24 ---- 26\n",
      "25 ---- 25\n",
      "26 ---- 24\n",
      "27 ---- 23\n",
      "28 ---- 22\n",
      "29 ---- 21\n",
      "30 ---- 20\n",
      "31 ---- 19\n",
      "32 ---- 18\n",
      "33 ---- 17\n",
      "34 ---- 16\n",
      "35 ---- 15\n",
      "36 ---- 14\n",
      "37 ---- 13\n",
      "38 ---- 12\n",
      "39 ---- 11\n",
      "40 ---- 10\n",
      "41 ---- 9\n",
      "42 ---- 8\n",
      "43 ---- 7\n",
      "44 ---- 6\n",
      "45 ---- 5\n",
      "46 ---- 4\n",
      "47 ---- 3\n",
      "48 ---- 2\n",
      "49 ---- 1\n"
     ]
    }
   ],
   "source": [
    "b=49\n",
    "for i in range(1,50):\n",
    "    print(i,\"----\",b)\n",
    "    b=b-1"
   ]
  },
  {
   "cell_type": "code",
   "execution_count": 296,
   "id": "0e01af4c",
   "metadata": {},
   "outputs": [
    {
     "name": "stdout",
     "output_type": "stream",
     "text": [
      "1 ----- 99\n",
      "2 ----- 98\n",
      "3 ----- 97\n",
      "4 ----- 96\n",
      "5 ----- 95\n",
      "6 ----- 94\n",
      "7 ----- 93\n",
      "8 ----- 92\n",
      "9 ----- 91\n",
      "10 ----- 90\n",
      "11 ----- 89\n",
      "12 ----- 88\n",
      "13 ----- 87\n",
      "14 ----- 86\n",
      "15 ----- 85\n",
      "16 ----- 84\n",
      "17 ----- 83\n",
      "18 ----- 82\n",
      "19 ----- 81\n",
      "20 ----- 80\n",
      "21 ----- 79\n",
      "22 ----- 78\n",
      "23 ----- 77\n",
      "24 ----- 76\n",
      "25 ----- 75\n",
      "26 ----- 74\n",
      "27 ----- 73\n",
      "28 ----- 72\n",
      "29 ----- 71\n",
      "30 ----- 70\n",
      "31 ----- 69\n",
      "32 ----- 68\n",
      "33 ----- 67\n",
      "34 ----- 66\n",
      "35 ----- 65\n",
      "36 ----- 64\n",
      "37 ----- 63\n",
      "38 ----- 62\n",
      "39 ----- 61\n",
      "40 ----- 60\n",
      "41 ----- 59\n",
      "42 ----- 58\n",
      "43 ----- 57\n",
      "44 ----- 56\n",
      "45 ----- 55\n",
      "46 ----- 54\n",
      "47 ----- 53\n",
      "48 ----- 52\n",
      "49 ----- 51\n",
      "50 ----- 50\n",
      "51 ----- 49\n",
      "52 ----- 48\n",
      "53 ----- 47\n",
      "54 ----- 46\n",
      "55 ----- 45\n",
      "56 ----- 44\n",
      "57 ----- 43\n",
      "58 ----- 42\n",
      "59 ----- 41\n",
      "60 ----- 40\n",
      "61 ----- 39\n",
      "62 ----- 38\n",
      "63 ----- 37\n",
      "64 ----- 36\n",
      "65 ----- 35\n",
      "66 ----- 34\n",
      "67 ----- 33\n",
      "68 ----- 32\n",
      "69 ----- 31\n",
      "70 ----- 30\n",
      "71 ----- 29\n",
      "72 ----- 28\n",
      "73 ----- 27\n",
      "74 ----- 26\n",
      "75 ----- 25\n",
      "76 ----- 24\n",
      "77 ----- 23\n",
      "78 ----- 22\n",
      "79 ----- 21\n",
      "80 ----- 20\n",
      "81 ----- 19\n",
      "82 ----- 18\n",
      "83 ----- 17\n",
      "84 ----- 16\n",
      "85 ----- 15\n",
      "86 ----- 14\n",
      "87 ----- 13\n",
      "88 ----- 12\n",
      "89 ----- 11\n",
      "90 ----- 10\n",
      "91 ----- 9\n",
      "92 ----- 8\n",
      "93 ----- 7\n",
      "94 ----- 6\n",
      "95 ----- 5\n",
      "96 ----- 4\n",
      "97 ----- 3\n",
      "98 ----- 2\n"
     ]
    }
   ],
   "source": [
    "b=99\n",
    "for i in range(1,b):\n",
    "    print(i,'-----',b)\n",
    "    b=b-1"
   ]
  },
  {
   "cell_type": "code",
   "execution_count": 1,
   "id": "e8590537",
   "metadata": {},
   "outputs": [
    {
     "name": "stdout",
     "output_type": "stream",
     "text": [
      "1 ---- 99\n",
      "2 ---- 98\n",
      "3 ---- 97\n",
      "4 ---- 96\n",
      "5 ---- 95\n",
      "6 ---- 94\n",
      "7 ---- 93\n",
      "8 ---- 92\n",
      "9 ---- 91\n",
      "10 ---- 90\n",
      "11 ---- 89\n",
      "12 ---- 88\n",
      "13 ---- 87\n",
      "14 ---- 86\n",
      "15 ---- 85\n",
      "16 ---- 84\n",
      "17 ---- 83\n",
      "18 ---- 82\n",
      "19 ---- 81\n",
      "20 ---- 80\n",
      "21 ---- 79\n",
      "22 ---- 78\n",
      "23 ---- 77\n",
      "24 ---- 76\n",
      "25 ---- 75\n",
      "26 ---- 74\n",
      "27 ---- 73\n",
      "28 ---- 72\n",
      "29 ---- 71\n",
      "30 ---- 70\n",
      "31 ---- 69\n",
      "32 ---- 68\n",
      "33 ---- 67\n",
      "34 ---- 66\n",
      "35 ---- 65\n",
      "36 ---- 64\n",
      "37 ---- 63\n",
      "38 ---- 62\n",
      "39 ---- 61\n",
      "40 ---- 60\n",
      "41 ---- 59\n",
      "42 ---- 58\n",
      "43 ---- 57\n",
      "44 ---- 56\n",
      "45 ---- 55\n",
      "46 ---- 54\n",
      "47 ---- 53\n",
      "48 ---- 52\n",
      "49 ---- 51\n",
      "50 ---- 50\n",
      "51 ---- 49\n",
      "52 ---- 48\n",
      "53 ---- 47\n",
      "54 ---- 46\n",
      "55 ---- 45\n",
      "56 ---- 44\n",
      "57 ---- 43\n",
      "58 ---- 42\n",
      "59 ---- 41\n",
      "60 ---- 40\n",
      "61 ---- 39\n",
      "62 ---- 38\n",
      "63 ---- 37\n",
      "64 ---- 36\n",
      "65 ---- 35\n",
      "66 ---- 34\n",
      "67 ---- 33\n",
      "68 ---- 32\n",
      "69 ---- 31\n",
      "70 ---- 30\n",
      "71 ---- 29\n",
      "72 ---- 28\n",
      "73 ---- 27\n",
      "74 ---- 26\n",
      "75 ---- 25\n",
      "76 ---- 24\n",
      "77 ---- 23\n",
      "78 ---- 22\n",
      "79 ---- 21\n",
      "80 ---- 20\n",
      "81 ---- 19\n",
      "82 ---- 18\n",
      "83 ---- 17\n",
      "84 ---- 16\n",
      "85 ---- 15\n",
      "86 ---- 14\n",
      "87 ---- 13\n",
      "88 ---- 12\n",
      "89 ---- 11\n",
      "90 ---- 10\n",
      "91 ---- 9\n",
      "92 ---- 8\n",
      "93 ---- 7\n",
      "94 ---- 6\n",
      "95 ---- 5\n",
      "96 ---- 4\n",
      "97 ---- 3\n",
      "98 ---- 2\n",
      "99 ---- 1\n"
     ]
    }
   ],
   "source": [
    "a=1\n",
    "b=99\n",
    "while b!=0:\n",
    "    print(a,'----',b)\n",
    "    a=a+1\n",
    "    b=b-1"
   ]
  },
  {
   "cell_type": "code",
   "execution_count": 2,
   "id": "8309d40d",
   "metadata": {},
   "outputs": [
    {
     "name": "stdout",
     "output_type": "stream",
     "text": [
      "The sum of a and b is :  40\n"
     ]
    }
   ],
   "source": [
    "def add(a,b):\n",
    "    sum= a+b\n",
    "    print(\"The sum of a and b is : \",sum)\n",
    "add(20,20)"
   ]
  },
  {
   "cell_type": "code",
   "execution_count": 5,
   "id": "8f2f2703",
   "metadata": {
    "scrolled": true
   },
   "outputs": [
    {
     "name": "stdout",
     "output_type": "stream",
     "text": [
      "20\n",
      "10\n",
      "0\n"
     ]
    }
   ],
   "source": [
    "#  global aand local variable\n",
    "a=10 #  global\n",
    "def fun():\n",
    "    b= 20 # local\n",
    "    print(b)\n",
    "    print(a)\n",
    "fun()\n",
    "print(b)"
   ]
  },
  {
   "cell_type": "code",
   "execution_count": 6,
   "id": "f90fb509",
   "metadata": {},
   "outputs": [],
   "source": [
    "# pailndrome using lambda"
   ]
  },
  {
   "cell_type": "code",
   "execution_count": 14,
   "id": "944c71d4",
   "metadata": {},
   "outputs": [
    {
     "name": "stdout",
     "output_type": "stream",
     "text": [
      "Enter a numberlevel\n",
      "palindrome\n"
     ]
    }
   ],
   "source": [
    "result = (lambda a:'palindrome' if a==a[::-1] else 'not palindorme')\n",
    "print(result(a=input(\"Enter a number\")))"
   ]
  },
  {
   "cell_type": "code",
   "execution_count": 23,
   "id": "f2df4b6e",
   "metadata": {},
   "outputs": [
    {
     "name": "stdout",
     "output_type": "stream",
     "text": [
      "Enter a number20\n",
      "Enter a number10\n",
      "A is greater\n"
     ]
    }
   ],
   "source": [
    "greatest= (lambda a,b :'A is greater' if a>b else \"B id greater\")\n",
    "print(greatest(a=int(input(\"Enter a number\")),b=int(input(\"Enter a number\"))))"
   ]
  },
  {
   "cell_type": "code",
   "execution_count": 27,
   "id": "9e9e9f6d",
   "metadata": {},
   "outputs": [
    {
     "name": "stdout",
     "output_type": "stream",
     "text": [
      "2\n",
      "4\n",
      "8\n"
     ]
    }
   ],
   "source": [
    "l1= [lambda x:x , lambda x:x**2, lambda x:x**3]\n",
    "print(l1[0](2))\n",
    "print(l1[1](2))\n",
    "print(l1[2](2))"
   ]
  },
  {
   "cell_type": "code",
   "execution_count": 28,
   "id": "f57a63dc",
   "metadata": {},
   "outputs": [
    {
     "name": "stdout",
     "output_type": "stream",
     "text": [
      "Enter a number20\n",
      "Even\n"
     ]
    }
   ],
   "source": [
    "check = (lambda a: \"Even\" if a%2==0 else \"Odd\")\n",
    "print(check(a=int(input(\"Enter a number\"))))"
   ]
  },
  {
   "cell_type": "code",
   "execution_count": 31,
   "id": "540d47e3",
   "metadata": {},
   "outputs": [
    {
     "name": "stdout",
     "output_type": "stream",
     "text": [
      "How many time you want to run program :5\n",
      "Enter a number 5\n",
      "20\n",
      "Enter a number 10\n",
      "25\n",
      "Enter a number 15\n",
      "30\n",
      "Enter a number 20\n",
      "35\n",
      "Enter a number 25\n",
      "40\n"
     ]
    }
   ],
   "source": [
    "# program user enter a number and add 15 auto\n",
    "n = int(input(\"How many time you want to run program :\"))\n",
    "A=(lambda a: a + 15)\n",
    "for i in range(n):\n",
    "    a=int(input(\"Enter a number \"))\n",
    "    print(A(a))"
   ]
  },
  {
   "cell_type": "code",
   "execution_count": 45,
   "id": "1730b8cb",
   "metadata": {},
   "outputs": [
    {
     "name": "stdout",
     "output_type": "stream",
     "text": [
      "Enter a string:ARYAN\n",
      "aryan\n"
     ]
    }
   ],
   "source": [
    "# program lower to upper and upper to lower\n",
    "A= (lambda a: a.lower() if a.isupper() else a.upper())\n",
    "print(A(a= input(\"Enter a string:\")))"
   ]
  },
  {
   "cell_type": "code",
   "execution_count": 46,
   "id": "b2a97a6e",
   "metadata": {},
   "outputs": [
    {
     "name": "stdout",
     "output_type": "stream",
     "text": [
      "Enter number:2\n",
      "hellohello\n"
     ]
    }
   ],
   "source": [
    "def fun(n):\n",
    "    n=int(input(\"Enter number:\"))\n",
    "    return lambda    x : x*n\n",
    "res= fun(2)\n",
    "print(res('hello'))"
   ]
  },
  {
   "cell_type": "code",
   "execution_count": 48,
   "id": "dfaccef0",
   "metadata": {},
   "outputs": [],
   "source": [
    "def area_sqr(a):\n",
    "    return a**2"
   ]
  },
  {
   "cell_type": "code",
   "execution_count": 50,
   "id": "04e76ba5",
   "metadata": {},
   "outputs": [
    {
     "name": "stdout",
     "output_type": "stream",
     "text": [
      "[1, 4, 9, 16, 25, 36]\n"
     ]
    }
   ],
   "source": [
    "d= [1,2,3,4,5,6]\n",
    "x= map(area_sqr,d)# function ke ander function\n",
    "print(list(x))# type cast into list    "
   ]
  },
  {
   "cell_type": "code",
   "execution_count": 53,
   "id": "bb559b70",
   "metadata": {},
   "outputs": [],
   "source": [
    "L= [11,22,33,44,55,66,77,88,99]\n",
    "x= set(filter(lambda x:x%2!=0,L))"
   ]
  },
  {
   "cell_type": "code",
   "execution_count": 55,
   "id": "fdbb5b91",
   "metadata": {},
   "outputs": [
    {
     "name": "stdout",
     "output_type": "stream",
     "text": [
      "{33, 99, 11, 77, 55}\n"
     ]
    }
   ],
   "source": [
    "print(x)"
   ]
  },
  {
   "cell_type": "code",
   "execution_count": 58,
   "id": "df8c8e0f",
   "metadata": {},
   "outputs": [],
   "source": [
    "age=(12,13,45,34,18,33)\n",
    "x= list(filter(lambda x: x>=18,age))\n",
    "y= list(map(lambda x:x>=18,age))"
   ]
  },
  {
   "cell_type": "code",
   "execution_count": 59,
   "id": "428be346",
   "metadata": {},
   "outputs": [
    {
     "name": "stdout",
     "output_type": "stream",
     "text": [
      "[45, 34, 18, 33]\n",
      "[False, False, True, True, True, True]\n"
     ]
    }
   ],
   "source": [
    "print(x)\n",
    "print(y)"
   ]
  },
  {
   "cell_type": "code",
   "execution_count": 62,
   "id": "0b3cd9db",
   "metadata": {},
   "outputs": [
    {
     "name": "stdout",
     "output_type": "stream",
     "text": [
      "24\n"
     ]
    }
   ],
   "source": [
    "from functools import reduce\n",
    "L= [1,2,3,4]\n",
    "x= reduce(lambda a,b: a*b,L)\n",
    "print(x)"
   ]
  },
  {
   "cell_type": "code",
   "execution_count": 64,
   "id": "26d81d3c",
   "metadata": {},
   "outputs": [
    {
     "name": "stdout",
     "output_type": "stream",
     "text": [
      "24\n"
     ]
    }
   ],
   "source": [
    "def p(x,y):\n",
    "    return x*y\n",
    "a= reduce(p,[1,2,3,4])\n",
    "print(a)"
   ]
  },
  {
   "cell_type": "code",
   "execution_count": 73,
   "id": "a0f1a62b",
   "metadata": {},
   "outputs": [
    {
     "name": "stdout",
     "output_type": "stream",
     "text": [
      "Highest value 34\n",
      "Lowest value {1}\n"
     ]
    }
   ],
   "source": [
    "def check(x,y):\n",
    "    if x>y:\n",
    "        return x\n",
    "    else:\n",
    "        return y\n",
    "def min(x,y):\n",
    "    if x<y:\n",
    "        return x\n",
    "    else:\n",
    "        return y\n",
    "    \n",
    "l=[1,2,34,12]\n",
    "print(\"Highest value\",reduce(check,l))\n",
    "print(\"Lowest value\",{reduce(min,l)})"
   ]
  },
  {
   "cell_type": "code",
   "execution_count": 74,
   "id": "84b64c99",
   "metadata": {},
   "outputs": [],
   "source": [
    "# # You are provided an list A of size N that contains non-negative integers.\n",
    "# # Your task is to determine\n",
    "# # whether the number that is formed by selecting the last digit of all the N numbers is divisible by 10\n",
    "# # Input format\n",
    "# # First line: A single integer N denoting the size of array A\n",
    "# # Second line: N space-separated integers.\n",
    "# Output format\n",
    "# If the number is divisible by 10, then print Yes. Otherwise, print No.\n",
    "# Sample Input\n",
    "# 85 25 65 21 84\n",
    "# Sample Output\n",
    "# No\n",
    "# Explanation\n",
    "# Last digit 85 of is 5 .\n",
    "# last digit of 25 of is 5"
   ]
  },
  {
   "cell_type": "code",
   "execution_count": 104,
   "id": "c3e34c95",
   "metadata": {},
   "outputs": [
    {
     "name": "stdout",
     "output_type": "stream",
     "text": [
      "Enter a numbers 10\n",
      "Enter a numbers 13\n",
      "Enter a numbers 14\n",
      "Enter a numbers 15\n",
      "Enter a numbers 14\n",
      "Enter a numbers 25\n",
      "Enter a numbers 35\n",
      "Enter a numbers 36\n",
      "Enter a numbers 35\n",
      "Enter a numbers 367\n",
      "Enter a numbers 36\n",
      "[13, 14, 15, 14, 25, 35, 36, 35, 367, 36]\n",
      "['3', '4', '5', '4', '5', '5', '6', '5', '7', '6']\n",
      "3454556576\n",
      "No\n"
     ]
    }
   ],
   "source": [
    "# Therefore the number formed is 55514 which is not divisible by 10\n",
    "n= int(input(\"Enter a numbers \"))\n",
    "l=[]\n",
    "d=[]\n",
    "while n!=0:\n",
    "    a = int(input(\"Enter a numbers \"))\n",
    "    l.append(a)\n",
    "    n=n-1\n",
    "print(l)\n",
    "for i in l:\n",
    "    b=str(i)\n",
    "    c=b[-1]\n",
    "    d.append(c)\n",
    "print(d)\n",
    "x=int(''.join(d))\n",
    "print(x)\n",
    "if x%10==0:\n",
    "    print(\"Yes\")\n",
    "else:\n",
    "    print(\"No\")"
   ]
  },
  {
   "cell_type": "code",
   "execution_count": 105,
   "id": "c7d26a02",
   "metadata": {},
   "outputs": [],
   "source": [
    "# Find the most second repeatable character ."
   ]
  },
  {
   "cell_type": "code",
   "execution_count": 106,
   "id": "5e90f6e9",
   "metadata": {},
   "outputs": [
    {
     "name": "stdout",
     "output_type": "stream",
     "text": [
      "aaaaaaaaaa\n",
      "['aaaaaaaaaa']\n"
     ]
    }
   ],
   "source": [
    "a=input().split(' ')\n",
    "b=0\n",
    "f=0\n",
    "for i in a:\n",
    "    d=a.count(i)\n",
    "    if d>b:\n",
    "        max=i\n",
    "        b=d\n",
    "print(max)\n",
    "for i in range(1,b+1):\n",
    "    a.remove(max)\n",
    "print(a)\n",
    "for i in a:\n",
    "    e=a.count(i)\n",
    "    if e>f:\n",
    "        m=i\n",
    "        f=e\n",
    "print(\"This is the most last second repeatable word = \",m)"
   ]
  },
  {
   "cell_type": "code",
   "execution_count": 116,
   "id": "06346a3f",
   "metadata": {},
   "outputs": [
    {
     "name": "stdout",
     "output_type": "stream",
     "text": [
      "aa aa bb\n",
      "2\n",
      "2\n",
      "1\n",
      "aa\n",
      "2\n"
     ]
    }
   ],
   "source": [
    "a= input().split(' ')\n",
    "b=0\n",
    "f=0\n",
    "for i in a:    \n",
    "    d=a.count(i) \n",
    "    print(d)\n",
    "    if d>b:    \n",
    "        max=i  \n",
    "        b=d \n",
    "\n",
    "print(max)\n",
    "print(b)\n"
   ]
  },
  {
   "cell_type": "code",
   "execution_count": 118,
   "id": "5b2fab64",
   "metadata": {},
   "outputs": [
    {
     "name": "stdout",
     "output_type": "stream",
     "text": [
      "aa bb cc aa\n",
      "2\n"
     ]
    }
   ],
   "source": [
    "a= input().split(' ')\n",
    "for i in a:\n",
    "    d=a.count(i)\n",
    "print(d)"
   ]
  },
  {
   "cell_type": "code",
   "execution_count": 121,
   "id": "3fd49ac7",
   "metadata": {},
   "outputs": [
    {
     "name": "stdout",
     "output_type": "stream",
     "text": [
      "{'a': 2, 'r': 1, 'y': 1, 'n': 1}\n"
     ]
    }
   ],
   "source": [
    "# Count how many unique alphabet in the given name from dictionary ?\n",
    "a= 'aryan'\n",
    "X ={i :a.count(i) for i in a}\n",
    "print(X)"
   ]
  },
  {
   "cell_type": "code",
   "execution_count": 122,
   "id": "61b65c8a",
   "metadata": {},
   "outputs": [],
   "source": [
    "# Dynamic Count"
   ]
  },
  {
   "cell_type": "code",
   "execution_count": 123,
   "id": "25e3299d",
   "metadata": {},
   "outputs": [
    {
     "name": "stdout",
     "output_type": "stream",
     "text": [
      "Enter a nameAryan Monga\n",
      "{'A': 1, 'r': 1, 'y': 1, 'a': 2, 'n': 2, ' ': 1, 'M': 1, 'o': 1, 'g': 1}\n"
     ]
    }
   ],
   "source": [
    "a=input(\"Enter a name\")\n",
    "X ={i :a.count(i) for i in a}\n",
    "print(X)"
   ]
  },
  {
   "cell_type": "code",
   "execution_count": 124,
   "id": "1c8862f4",
   "metadata": {},
   "outputs": [],
   "source": [
    "# fibonacci series"
   ]
  },
  {
   "cell_type": "code",
   "execution_count": 127,
   "id": "ea3f1ec9",
   "metadata": {},
   "outputs": [
    {
     "name": "stdout",
     "output_type": "stream",
     "text": [
      "Enter a number10\n",
      "0\n",
      "1\n",
      "1\n",
      "2\n",
      "3\n",
      "5\n",
      "8\n",
      "13\n",
      "21\n",
      "34\n"
     ]
    }
   ],
   "source": [
    "# 0,1,1,3......n\n",
    "a=0\n",
    "b=1\n",
    "n= int(input(\"Enter a number\"))\n",
    "while n!=0:\n",
    "    print(a)\n",
    "    c=a\n",
    "    a=b\n",
    "    b=c+a\n",
    "    n=n-1"
   ]
  },
  {
   "cell_type": "code",
   "execution_count": 128,
   "id": "ef1c9def",
   "metadata": {},
   "outputs": [
    {
     "name": "stdout",
     "output_type": "stream",
     "text": [
      "Enter a number10\n",
      "0\n",
      "1\n",
      "1\n",
      "2\n",
      "3\n",
      "5\n",
      "8\n",
      "13\n",
      "21\n",
      "34\n"
     ]
    }
   ],
   "source": [
    "a=0\n",
    "b=1\n",
    "n= int(input(\"Enter a number\"))\n",
    "for i in range(1,n+1):\n",
    "    print(a)\n",
    "    c=a\n",
    "    a=b\n",
    "    b=c+a\n",
    "    n=n-1"
   ]
  },
  {
   "cell_type": "code",
   "execution_count": 129,
   "id": "a1a5af71",
   "metadata": {},
   "outputs": [
    {
     "name": "stdout",
     "output_type": "stream",
     "text": [
      "Enter a number10\n",
      "3628800\n"
     ]
    }
   ],
   "source": [
    "# factorial\n",
    "f=1\n",
    "n= int(input(\"Enter a number\"))\n",
    "for i in range(1,n+1):\n",
    "    f=f*i\n",
    "print(f)"
   ]
  },
  {
   "cell_type": "code",
   "execution_count": 131,
   "id": "df397813",
   "metadata": {},
   "outputs": [
    {
     "data": {
      "text/plain": [
       "3628800"
      ]
     },
     "execution_count": 131,
     "metadata": {},
     "output_type": "execute_result"
    }
   ],
   "source": [
    "import math\n",
    "math.factorial(10)"
   ]
  },
  {
   "cell_type": "code",
   "execution_count": 138,
   "id": "ca513c41",
   "metadata": {},
   "outputs": [
    {
     "name": "stdout",
     "output_type": "stream",
     "text": [
      "Enter a number5\n",
      "5 X 1 =  5\n",
      "5 X 2 =  10\n",
      "5 X 3 =  15\n",
      "5 X 4 =  20\n",
      "5 X 5 =  25\n",
      "5 X 6 =  30\n",
      "5 X 7 =  35\n",
      "5 X 8 =  40\n",
      "5 X 9 =  45\n",
      "5 X 10 =  50\n"
     ]
    }
   ],
   "source": [
    "n= int(input(\"Enter a number\"))\n",
    "for i in range(1,11):\n",
    "    print(f\"{n} X {i} = \",i*n)\n"
   ]
  },
  {
   "cell_type": "code",
   "execution_count": 140,
   "id": "5c8dd0d0",
   "metadata": {},
   "outputs": [
    {
     "name": "stdout",
     "output_type": "stream",
     "text": [
      "Enter a number4\n",
      "not\n"
     ]
    }
   ],
   "source": [
    "# prime number \n",
    "c=0\n",
    "n= int(input(\"Enter a number\"))\n",
    "for i in range(1,11):\n",
    "    if n%i==0:\n",
    "        c=c+1\n",
    "if c==2:\n",
    "    print(\"Prime\")\n",
    "else:\n",
    "    print(\"not\")"
   ]
  },
  {
   "cell_type": "code",
   "execution_count": null,
   "id": "9bade3fc",
   "metadata": {},
   "outputs": [],
   "source": [
    " # no is armstrong or not\n",
    "n= int(input(\"Enter the number wghicvh you want to check that it is armstrong or not\"))\n",
    "c=0\n",
    "a=n\n",
    "x=a\n",
    "while n!=0:\n",
    "    c=c+1\n",
    "    n=n//10\n",
    "print(c)\n",
    "s=0\n",
    "while a!=0:\n",
    "    digit=a%10\n",
    "    s=s+digit**c\n",
    "    a=a//10\n",
    "\n",
    "if x==s:\n",
    "    print(s,'armstrong')\n",
    "else:\n",
    "    print(\"Not\")\n",
    "  "
   ]
  },
  {
   "cell_type": "code",
   "execution_count": 144,
   "id": "cf7d4a15",
   "metadata": {},
   "outputs": [
    {
     "name": "stdout",
     "output_type": "stream",
     "text": [
      "Enter a number153\n",
      "3\n",
      "Armstrong\n"
     ]
    }
   ],
   "source": [
    "n= int(input(\"Enter a number\"))\n",
    "c=0\n",
    "a=n\n",
    "x=a\n",
    "while n!=0:\n",
    "    c=c+1\n",
    "    n=n//10\n",
    "print(c)\n",
    "s=0\n",
    "while a!=0:\n",
    "    digit=a%10\n",
    "    s=s+digit**c\n",
    "    a=a//10\n",
    "if x==s:\n",
    "    print(\"Armstrong\")\n",
    "else:\n",
    "    print(\"not\")"
   ]
  },
  {
   "cell_type": "code",
   "execution_count": 149,
   "id": "388d8e5d",
   "metadata": {},
   "outputs": [
    {
     "name": "stdout",
     "output_type": "stream",
     "text": [
      "Enter a number182\n",
      "3\n",
      "not\n"
     ]
    }
   ],
   "source": [
    "n= int(input(\"Enter a number\"))\n",
    "c=0\n",
    "a=n\n",
    "x=a      \n",
    "while n!=0:\n",
    "       c=c+1\n",
    "       n=n//10\n",
    "print(c)\n",
    "s=0\n",
    "while a!=0:\n",
    "       digit=a%10\n",
    "       s=s+digit**c\n",
    "       a=a//10\n",
    "if x==s:\n",
    "    print(\"Armstrong\")\n",
    "else:\n",
    "    print(\"not\")"
   ]
  },
  {
   "cell_type": "code",
   "execution_count": 152,
   "id": "981d7712",
   "metadata": {
    "scrolled": true
   },
   "outputs": [
    {
     "name": "stdout",
     "output_type": "stream",
     "text": [
      "Enter a number124\n",
      "421\n"
     ]
    }
   ],
   "source": [
    "n= int(input(\"Enter a number\"))\n",
    "s=0\n",
    "while n!=0:\n",
    "    digit=n%10\n",
    "    s=s*10+digit\n",
    "    n=n//10\n",
    "print(s)"
   ]
  }
 ],
 "metadata": {
  "kernelspec": {
   "display_name": "Python 3",
   "language": "python",
   "name": "python3"
  },
  "language_info": {
   "codemirror_mode": {
    "name": "ipython",
    "version": 3
   },
   "file_extension": ".py",
   "mimetype": "text/x-python",
   "name": "python",
   "nbconvert_exporter": "python",
   "pygments_lexer": "ipython3",
   "version": "3.8.8"
  }
 },
 "nbformat": 4,
 "nbformat_minor": 5
}
