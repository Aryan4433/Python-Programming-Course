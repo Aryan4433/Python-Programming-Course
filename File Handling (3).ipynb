{
 "cells": [
  {
   "cell_type": "code",
   "execution_count": 1,
   "id": "b79940ce",
   "metadata": {},
   "outputs": [
    {
     "data": {
      "text/plain": [
       "43"
      ]
     },
     "execution_count": 1,
     "metadata": {},
     "output_type": "execute_result"
    }
   ],
   "source": [
    "f=open(\"abc.txt\",\"w\")\n",
    "f.write(\"a quick brown fox \\njumps over the lazy Dog\\n\")\n"
   ]
  },
  {
   "cell_type": "code",
   "execution_count": 7,
   "id": "01f553af",
   "metadata": {},
   "outputs": [],
   "source": [
    "f=open(\"abc.txt\",\"w\")\n",
    "f.write(\"a quick brown fox \\njumps over the lazy Dog\\n\")\n",
    "f.close()"
   ]
  },
  {
   "cell_type": "code",
   "execution_count": 2,
   "id": "61b35db9",
   "metadata": {},
   "outputs": [],
   "source": [
    "f=open(\"ex1.doc\",\"w\")\n",
    "f.write(\"a quick brown fox \\njumps over the lazy Dog\\n\")\n",
    "f.close()"
   ]
  },
  {
   "cell_type": "code",
   "execution_count": 3,
   "id": "ade42779",
   "metadata": {},
   "outputs": [],
   "source": [
    "### Basic Operations of file handling"
   ]
  },
  {
   "cell_type": "code",
   "execution_count": 17,
   "id": "f21ca332",
   "metadata": {},
   "outputs": [
    {
     "name": "stdout",
     "output_type": "stream",
     "text": [
      "File Name:  xyz.txt\n",
      "File Mode:  w\n",
      "Is File Readable:  False\n",
      "Is File Writable:  True\n",
      "Is File Closed :  False\n",
      "Is File Closed :  True\n"
     ]
    }
   ],
   "source": [
    "f=open(\"xyz.txt\",'w')\n",
    "print(\"File Name: \",f.name) #xyz\n",
    "print(\"File Mode: \",f.mode)# w\n",
    "print(\"Is File Readable: \",f.readable())\n",
    "print(\"Is File Writable: \",f.writable())\n",
    "print(\"Is File Closed : \",f.closed)\n",
    "f.close()\n",
    "print(\"Is File Closed : \",f.closed)\n",
    "\n"
   ]
  },
  {
   "cell_type": "code",
   "execution_count": 1,
   "id": "b722df5e",
   "metadata": {},
   "outputs": [
    {
     "name": "stdout",
     "output_type": "stream",
     "text": [
      "Data Written into the file successfully\n"
     ]
    }
   ],
   "source": [
    "f=open(\"Deepanshu.txt\",'w')\n",
    "f.write('Welcome\\n')\n",
    "f.write('To\\n')\n",
    "f.write('Madrid\\n')\n",
    "f.write('To')\n",
    "f.write('Software')\n",
    "print('Data Written into the file successfully')\n",
    "f.close()"
   ]
  },
  {
   "cell_type": "code",
   "execution_count": 2,
   "id": "90e81f7b",
   "metadata": {},
   "outputs": [
    {
     "name": "stdout",
     "output_type": "stream",
     "text": [
      "Data Written into the file successfully\n"
     ]
    }
   ],
   "source": [
    "f=open(\"Deepanshu1.txt\",'w')\n",
    "f.write('Welcome\\n')\n",
    "f.write('To\\n')\n",
    "f.write('Software\\n')\n",
    "print('Data Written into the file successfully')"
   ]
  },
  {
   "cell_type": "code",
   "execution_count": 3,
   "id": "644fb90e",
   "metadata": {},
   "outputs": [
    {
     "name": "stdout",
     "output_type": "stream",
     "text": [
      "Data Written into the file successfully\n"
     ]
    }
   ],
   "source": [
    "f=open(\"Deepanshu2.txt\",'w')\n",
    "f.write('Welcome\\n')\n",
    "f.write('To\\n')\n",
    "f.write('Software\\n')\n",
    "print('Data Written into the file successfully')\n",
    "f.close()"
   ]
  },
  {
   "cell_type": "markdown",
   "id": "6f9caae6",
   "metadata": {},
   "source": [
    "     In the above program, data present in the file will be overridden everytime if we run the program. Instead of overriding if we want append operation then we should open the file as follows.\n"
   ]
  },
  {
   "cell_type": "code",
   "execution_count": null,
   "id": "5cc08988",
   "metadata": {},
   "outputs": [],
   "source": []
  },
  {
   "cell_type": "code",
   "execution_count": 5,
   "id": "c545f3be",
   "metadata": {},
   "outputs": [
    {
     "name": "stdout",
     "output_type": "stream",
     "text": [
      "Welcome\n",
      "To\n",
      "Software\n",
      "\n"
     ]
    }
   ],
   "source": [
    "# read()To read total data  from the file\n",
    "\n",
    "f = open(\"Deepanshu2.txt\",\"r\")\n",
    "data=f.read()\n",
    "print(data)\n",
    "f.close()\n"
   ]
  },
  {
   "cell_type": "code",
   "execution_count": 9,
   "id": "e367344d",
   "metadata": {},
   "outputs": [
    {
     "name": "stdout",
     "output_type": "stream",
     "text": [
      "Welcom\n"
     ]
    }
   ],
   "source": [
    "# To read only first 10 characters\n",
    "f=open('Deepanshu2.txt','r')\n",
    "data=f.read(6)\n",
    "print(data)\n",
    "f.close()\n"
   ]
  },
  {
   "cell_type": "code",
   "execution_count": 11,
   "id": "305675bf",
   "metadata": {},
   "outputs": [
    {
     "name": "stdout",
     "output_type": "stream",
     "text": [
      "Welcome\n",
      "\n",
      "To\n",
      "\n",
      "Software\n",
      "\n",
      "[]\n"
     ]
    }
   ],
   "source": [
    "# readline() To read data line by line\n",
    "f=open('Deepanshu2.txt')\n",
    "line1=f.readline()\n",
    "print(line1)\n",
    "line2=f.readline()\n",
    "print(line2)\n",
    "line3=f.readline()\n",
    "print(line3)\n",
    "x=f.readlines()\n",
    "print(x)\n",
    "f.close()"
   ]
  },
  {
   "cell_type": "code",
   "execution_count": 17,
   "id": "44461fef",
   "metadata": {},
   "outputs": [
    {
     "name": "stdout",
     "output_type": "stream",
     "text": [
      "['Welcome\\n', 'To\\n', 'Software\\n']\n",
      "\n"
     ]
    }
   ],
   "source": [
    "f=open('Deepanshu2.txt')\n",
    "print(f.readlines())\n",
    "x=f.readline()\n",
    "print(x)\n",
    "\n",
    "f.close()"
   ]
  },
  {
   "cell_type": "code",
   "execution_count": 23,
   "id": "52e923b4",
   "metadata": {},
   "outputs": [
    {
     "name": "stdout",
     "output_type": "stream",
     "text": [
      "['Welcome\\n', 'To\\n', 'Software\\n']\n",
      "Welcome\n",
      "\n",
      "To\n",
      "\n",
      "Software\n",
      "\n"
     ]
    }
   ],
   "source": [
    "# readlines() To read  all lines into list\n",
    "f=open('Deepanshu2.txt','r')\n",
    "lines=f.readlines()\n",
    "print(lines)\n",
    "for line in lines:\n",
    "    print(line)\n",
    "f.close()"
   ]
  },
  {
   "cell_type": "code",
   "execution_count": 24,
   "id": "96632fce",
   "metadata": {},
   "outputs": [
    {
     "name": "stdout",
     "output_type": "stream",
     "text": [
      "['Welcome\\n', 'To\\n', 'Madrid\\n', 'ToSoftware']\n",
      "Welcome\n",
      "\n",
      "To\n",
      "\n",
      "Madrid\n",
      "\n",
      "ToSoftware\n"
     ]
    }
   ],
   "source": [
    "f=open('Deepanshu.txt','r')\n",
    "lines=f.readlines()\n",
    "print(lines)\n",
    "for line in lines:\n",
    "    print(line)\n",
    "f.close()"
   ]
  },
  {
   "cell_type": "code",
   "execution_count": 12,
   "id": "c18c3436",
   "metadata": {},
   "outputs": [
    {
     "data": {
      "text/plain": [
       "39"
      ]
     },
     "execution_count": 12,
     "metadata": {},
     "output_type": "execute_result"
    }
   ],
   "source": [
    "f=open('myfile.txt','w')\n",
    "f.write('a\\nquick\\nbrown\\nfox\\njumps\\nover\\na\\nlazy\\ndog')"
   ]
  },
  {
   "cell_type": "code",
   "execution_count": 25,
   "id": "50e1ed63",
   "metadata": {},
   "outputs": [],
   "source": [
    "f=open('myfile1.txt','w')\n",
    "f.write('a\\nquick\\nbrown\\nfox\\njumps\\nover\\na\\nlazy\\ndog')\n",
    "f.close()"
   ]
  },
  {
   "cell_type": "code",
   "execution_count": null,
   "id": "006a1e73",
   "metadata": {},
   "outputs": [],
   "source": []
  },
  {
   "cell_type": "markdown",
   "id": "e7372644",
   "metadata": {},
   "source": [
    "To read a file in Python, we must open the file in reading mode.\n",
    "\n",
    "There are various methods available for this purpose.\n",
    "\n",
    " We can use the read(size) method to read in size number of data. \n",
    "If size parameter is not specified, it reads and returns up to the end of the file.\n"
   ]
  },
  {
   "cell_type": "markdown",
   "id": "23861465",
   "metadata": {},
   "source": [
    "Alternately, we can use readline()/readlines() method to read individual lines of a file. This method reads a file till the newline, including the newline character.\n"
   ]
  },
  {
   "cell_type": "code",
   "execution_count": 31,
   "id": "5b7fb0c5",
   "metadata": {},
   "outputs": [
    {
     "name": "stdout",
     "output_type": "stream",
     "text": [
      "a\n",
      "q\n",
      "Remaining data\n",
      "uick\n",
      "brown\n",
      "fox\n",
      "jumps\n",
      "over\n",
      "a\n",
      "lazy\n",
      "dog\n"
     ]
    }
   ],
   "source": [
    "f=open('myfile1.txt','r')\n",
    "print(f.read(3))  #reading the 6 characters in a file\n",
    "# print(f.readline()) # to read only the first line\n",
    "# print(f.readlines()) # to read the data in the list\n",
    "# print(f.read()) # reading the 21 character in a file\n",
    "print(\"Remaining data\")\n",
    "print(f.read()) # read all the data of the file\n",
    "f.close()"
   ]
  },
  {
   "cell_type": "code",
   "execution_count": 32,
   "id": "500bac0d",
   "metadata": {},
   "outputs": [
    {
     "name": "stdout",
     "output_type": "stream",
     "text": [
      "Is File Closed:  False\n",
      "Is File Closed:  False\n",
      "Is File Closed:  False\n",
      "Is File Closed:  True\n"
     ]
    }
   ],
   "source": [
    "## with it opens a file and write the content by replacing the older content of the file\n",
    "with open(\"myfile1.txt\",\"w\") as f:\n",
    "    f.write(\"Data Science\\n\")\n",
    "    print(\"Is File Closed: \",f.closed)\n",
    "    f.write(\"AI\\n\")\n",
    "    print(\"Is File Closed: \",f.closed)\n",
    "    f.write(\"TCS\\n\")\n",
    "    print(\"Is File Closed: \",f.closed)\n",
    "print(\"Is File Closed: \",f.closed)\n"
   ]
  },
  {
   "cell_type": "code",
   "execution_count": null,
   "id": "e356e19a",
   "metadata": {},
   "outputs": [],
   "source": [
    "\n"
   ]
  },
  {
   "cell_type": "code",
   "execution_count": 33,
   "id": "66885ca4",
   "metadata": {},
   "outputs": [
    {
     "name": "stdout",
     "output_type": "stream",
     "text": [
      "Is File Closed:  False\n",
      "Is File Closed:  False\n",
      "Is File Closed:  False\n",
      "Is File Closed:  True\n"
     ]
    }
   ],
   "source": [
    "with open(\"newfile1.txt\",\"w\") as f:\n",
    "    f.write(\"Agra\\n\")\n",
    "    print(\"Is File Closed: \",f.closed)\n",
    "    f.write(\"Delhi\\n\")\n",
    "    print(\"Is File Closed: \",f.closed)\n",
    "    f.write(\"Mumbai\\n\")\n",
    "    f.write('with mode creates the file if it does not exist and wite in it by w operation')\n",
    "    print(\"Is File Closed: \",f.closed)\n",
    "print(\"Is File Closed: \",f.closed)\n"
   ]
  },
  {
   "cell_type": "code",
   "execution_count": 1,
   "id": "5fc379ab",
   "metadata": {},
   "outputs": [],
   "source": [
    "f=open('file1.txt','w')\n",
    "f.write('Python is a great language\\nThis is the second line')\n",
    "f.close()"
   ]
  },
  {
   "cell_type": "code",
   "execution_count": 19,
   "id": "2cf8dc80",
   "metadata": {},
   "outputs": [],
   "source": [
    "## a Open for appending at the end of the file without  truncating it. creates a new file if it does not exist\n",
    "# and if we run this program again and again then it starts writing continue"
   ]
  },
  {
   "cell_type": "code",
   "execution_count": 2,
   "id": "f96b3635",
   "metadata": {},
   "outputs": [],
   "source": [
    "with open('file1.txt','a') as f:\n",
    "    f.write('1.My first line')\n",
    "    f.write('2.My second line ')\n",
    "    f.write('3.My Third line\\n')\n",
    "    f.write('4.My fourth line\\n')\n",
    "    f.write('5.My fifth line')\n",
    "    f.write('6.My sixth line')"
   ]
  },
  {
   "cell_type": "code",
   "execution_count": 3,
   "id": "774e11a6",
   "metadata": {},
   "outputs": [
    {
     "name": "stdout",
     "output_type": "stream",
     "text": [
      "Name of the file:  file1.txt\n",
      "Read Line:  Python is a great language\n",
      "\n",
      "Read Lines:  ['This is the second line1.My first line2.My second line 3.My Third line\\n', '4.My fourth line\\n', '5.My fifth line6.My sixth line']\n",
      "Read all lines:  \n"
     ]
    }
   ],
   "source": [
    "f=open(\"file1.txt\",\"r\")\n",
    "print (\"Name of the file: \", f.name)\n",
    "line1 = f.readline()  #it is for single line\n",
    "line2 = f.readlines()  #it is for multi line and return in list\n",
    "line3=f.read() # it is for read all content\n",
    "print (\"Read Line: \",line1)\n",
    "print(\"Read Lines: \",line2)\n",
    "print(\"Read all lines: \",line3)\n",
    "# Close opened file\n",
    "f.close()\n"
   ]
  },
  {
   "cell_type": "markdown",
   "id": "0132d874",
   "metadata": {},
   "source": [
    "The tell() method tells you the current position within the file.\n",
    " In other words, the next read or write will occur at that many bytes from the beginning of the file.\n",
    "\n",
    "We can use tell() method to return current position of the cursor(file pointer) from beginning of the file. \n",
    "\n",
    "The position(index) of first character in files is zero just like string index.\n",
    "\n"
   ]
  },
  {
   "cell_type": "code",
   "execution_count": 4,
   "id": "e91ec955",
   "metadata": {},
   "outputs": [
    {
     "name": "stdout",
     "output_type": "stream",
     "text": [
      "0\n",
      "Python i\n",
      "8\n",
      "s a great language\n",
      "This is the second line1.My first line2.My second line 3.My Third line\n",
      "4.My fourth line\n",
      "5.My fifth line6.My sixth line\n",
      "148\n",
      "\n"
     ]
    }
   ],
   "source": [
    "f=open(\"file1.txt\",\"r\")\n",
    "print(f.tell())\n",
    "print(f.read(8)) \n",
    "print(f.tell())\n",
    "print(f.read())\n",
    "print(f.tell())\n",
    "print(f.read(3)) # it read nothing because the character finihed\n",
    "# print(f.tell())\n",
    "f.close()"
   ]
  },
  {
   "cell_type": "markdown",
   "id": "b24d9729",
   "metadata": {},
   "source": [
    "If from is set to 0, it means use the beginning of the file as the reference position \n",
    "\n",
    "and 1 means use the current position as the reference position \n",
    "\n",
    "and if it is set to 2 then the end of the file would be taken as the reference position.\n"
   ]
  },
  {
   "cell_type": "code",
   "execution_count": 9,
   "id": "a7fb766a",
   "metadata": {},
   "outputs": [
    {
     "name": "stdout",
     "output_type": "stream",
     "text": [
      "Python is\n",
      "Current cursor position is  9\n",
      "99\n",
      "\n",
      "4.My fourth line\n",
      "5.My fifth line6.My sixth line\n"
     ]
    }
   ],
   "source": [
    "# open a file\n",
    "fo=open(\"file1.txt\",\"r\")\n",
    "str1=fo.read(9)\n",
    "print(str1)\n",
    "# # #check the Current cursor position\n",
    "position=fo.tell()\n",
    "print(\"Current cursor position is \",position)\n",
    "\n",
    "# # # # # # #If u want to place the cursor in beg\n",
    "print(fo.seek())\n",
    "str2=fo.read()\n",
    "print(str2)\n",
    "fo.close()\n"
   ]
  },
  {
   "cell_type": "code",
   "execution_count": 45,
   "id": "467db356",
   "metadata": {},
   "outputs": [
    {
     "name": "stdout",
     "output_type": "stream",
     "text": [
      "enter text verma\n"
     ]
    }
   ],
   "source": [
    "### Another way to write in a file\n",
    "f=open('file2.txt','w')\n",
    "text=input('enter text ')\n",
    "f.write(text)\n",
    "# f.write('dee')\n",
    "f.read()    \n",
    "f.close()\n",
    "\n"
   ]
  },
  {
   "cell_type": "code",
   "execution_count": null,
   "id": "89f6e24b",
   "metadata": {},
   "outputs": [],
   "source": []
  },
  {
   "cell_type": "code",
   "execution_count": 1,
   "id": "919819e9",
   "metadata": {},
   "outputs": [],
   "source": [
    "f=open('file3.txt','w')\n",
    "courses=['Data Science\\n','Machine Learning\\n','Deep Learning\\n','Artificial intelligence\\n','Neural network\\n','Mlops\\n']\n",
    "f.writelines(courses)\n",
    "\n",
    "f.close()"
   ]
  },
  {
   "cell_type": "markdown",
   "id": "a32d1e56",
   "metadata": {},
   "source": [
    "if you want to write a single string you can do this with write(). If you have a sequence of strings you can write them all using writelines().\n"
   ]
  },
  {
   "cell_type": "code",
   "execution_count": 13,
   "id": "6f12e6ac",
   "metadata": {},
   "outputs": [
    {
     "name": "stdout",
     "output_type": "stream",
     "text": [
      "P\n",
      "y\n",
      "t\n",
      "h\n",
      "o\n",
      "n\n"
     ]
    }
   ],
   "source": [
    "### Read content  from the file line by line\n",
    "f=open('file1.txt','r')\n",
    "while True:\n",
    "    y=1\n",
    "    \n",
    "    x=f.read(y)\n",
    "#     print('hii')\n",
    "    if x==' ':\n",
    "        break\n",
    "    print(x)\n",
    "    y=y+1\n",
    "else:\n",
    "    print('will this statement execute')\n",
    "\n",
    "f.close()"
   ]
  },
  {
   "cell_type": "code",
   "execution_count": 14,
   "id": "8a976e5a",
   "metadata": {},
   "outputs": [
    {
     "name": "stdout",
     "output_type": "stream",
     "text": [
      "Data Science\n",
      "Machine Learning\n",
      "Deep Learning\n",
      "Artificial intelligence\n",
      "Neural network\n",
      "Mlops\n",
      "\n"
     ]
    }
   ],
   "source": [
    "f=open('file3.txt','r')\n",
    "print(f.read())\n",
    "f.close()"
   ]
  },
  {
   "cell_type": "code",
   "execution_count": 9,
   "id": "4d6935f7",
   "metadata": {},
   "outputs": [
    {
     "name": "stdout",
     "output_type": "stream",
     "text": [
      "enter any course Data Science\n",
      "this course in our file  Data Science\n",
      "\n"
     ]
    }
   ],
   "source": [
    "# Searching any string in the file\n",
    "f=open('file3.txt','r')\n",
    "courses=f.readlines()\n",
    "x=input('enter any course ')\n",
    "x+=\"\\n\"\n",
    "for course in courses:\n",
    "    if course==x:\n",
    "        print(\"this course in our file \",course)\n",
    "        break\n",
    "    \n",
    "else:\n",
    "    print(x,'this course not in this',f.name)\n",
    "f.close()\n",
    "\n",
    "\n",
    "\n",
    "#----------------------------------------------------------------------------------------------------------------------\n",
    "\n",
    "# f=open('file3.txt','r')\n",
    "# courses=f.readlines()\n",
    "# x=input('enter any course ')\n",
    "# x+=\"\\n\"\n",
    "# # for course in courses:\n",
    "# if x in courses:\n",
    "#     print(\"this course in our file \",x)\n",
    "# #     break\n",
    "# else:\n",
    "#     print(x,'this course not in this',f.name)\n",
    "# f.close()\n",
    "\n"
   ]
  },
  {
   "cell_type": "code",
   "execution_count": 38,
   "id": "8b55cc63",
   "metadata": {},
   "outputs": [
    {
     "name": "stdout",
     "output_type": "stream",
     "text": [
      "enter the course which you want to adddddd\n",
      "7220\n",
      "dddd\n",
      " This course successfully added in the file\n"
     ]
    }
   ],
   "source": [
    "# Modifying Existing content of file\n",
    "f=open('file3.txt','r+')\n",
    "x=input('enter the course which you want to add')\n",
    "x+='\\n'\n",
    "c=0\n",
    "courses=f.readlines()\n",
    "for i in courses:\n",
    "    for j in i:\n",
    "        c+=len(x)\n",
    "\n",
    "print(c)\n",
    "if x in courses:\n",
    "    print(x,'This course already exist in a file')\n",
    "else:\n",
    "    f.seek(c+1)\n",
    "#     f.write('\\n')\n",
    "    f.write(x)\n",
    "    print(x,'This course successfully added in the file')\n",
    "f.close()"
   ]
  },
  {
   "cell_type": "code",
   "execution_count": 23,
   "id": "a006880c",
   "metadata": {},
   "outputs": [
    {
     "name": "stdout",
     "output_type": "stream",
     "text": [
      "1 \n",
      "\n"
     ]
    }
   ],
   "source": [
    "print(1,'\\n')"
   ]
  },
  {
   "cell_type": "code",
   "execution_count": 3,
   "id": "35c82991",
   "metadata": {},
   "outputs": [],
   "source": [
    "# # Modifying Existing content of file\n",
    "# f=open('file3.txt','r+')\n",
    "# x=input('enter the course which you want to add')\n",
    "# x+='\\n'\n",
    "# courses=f.readlines()\n",
    "# if x in courses:\n",
    "#     print(x,'This course already exist in a file')\n",
    "# else:\n",
    "#     f.seek(2)\n",
    "#     f.write(x)\n",
    "#     print(x,'This course successfully added in the file')\n",
    "# f.close()"
   ]
  },
  {
   "cell_type": "markdown",
   "id": "05c55cb4",
   "metadata": {},
   "source": []
  },
  {
   "cell_type": "markdown",
   "id": "06fccaf2",
   "metadata": {},
   "source": [
    "Python os module provides methods that help you perform\n",
    " file-processing operations, such as renaming and deleting files.\n",
    "\n",
    "To use this module you need to import it first and then you can call any related functions.\n",
    "\n",
    "\n",
    "\n"
   ]
  },
  {
   "cell_type": "code",
   "execution_count": 16,
   "id": "b605c8b7",
   "metadata": {},
   "outputs": [],
   "source": [
    "import os"
   ]
  },
  {
   "cell_type": "code",
   "execution_count": 20,
   "id": "3082899b",
   "metadata": {},
   "outputs": [],
   "source": [
    "# renaming a file\n",
    "\n",
    "os.rename('sample.txt','123456789.txt')"
   ]
  },
  {
   "cell_type": "code",
   "execution_count": 21,
   "id": "6c8c21fd",
   "metadata": {},
   "outputs": [],
   "source": [
    "# deleting a file\n",
    "os.remove('123456789.txt')"
   ]
  },
  {
   "cell_type": "code",
   "execution_count": 24,
   "id": "b2250f71",
   "metadata": {},
   "outputs": [],
   "source": [
    "os.remove('C:/Users/meena/OneDrive/Desktop/ex.txt')"
   ]
  },
  {
   "cell_type": "code",
   "execution_count": 25,
   "id": "6c54180b",
   "metadata": {},
   "outputs": [],
   "source": [
    "os.remove('C:/Users/meena/OneDrive/Desktop/DD.txt')"
   ]
  },
  {
   "cell_type": "markdown",
   "id": "3c3aa1d7",
   "metadata": {},
   "source": [
    "What is Directory in Python:-\n",
    "\n",
    "If there are a large number of file to handle\n",
    "in your program, you can arrange your code within different directories to make things more manageable.\n",
    "\n",
    "A directory or folder is a collection of files and sub directories. \n",
    "\n"
   ]
  },
  {
   "cell_type": "code",
   "execution_count": 7,
   "id": "657204b5",
   "metadata": {},
   "outputs": [
    {
     "name": "stdout",
     "output_type": "stream",
     "text": [
      "Current Working Directory: C:\\Users\\meena\\Deepanshu\\New folder\\File Handling\n"
     ]
    }
   ],
   "source": [
    "# To know current working Directory\n",
    "cwd=os.getcwd()\n",
    "print(\"Current Working Directory:\",cwd)\n",
    "\n"
   ]
  },
  {
   "cell_type": "code",
   "execution_count": 30,
   "id": "2fdda29f",
   "metadata": {},
   "outputs": [
    {
     "name": "stdout",
     "output_type": "stream",
     "text": [
      " mynewdirectory created in cwd\n"
     ]
    }
   ],
   "source": [
    "# To create a sub directory in the current working directory:\n",
    "os.mkdir(\"mynewdirectory\")\n",
    "print(\" mynewdirectory created in cwd\")\n",
    "\n"
   ]
  },
  {
   "cell_type": "code",
   "execution_count": 31,
   "id": "333f3020",
   "metadata": {},
   "outputs": [
    {
     "name": "stdout",
     "output_type": "stream",
     "text": [
      "mydirectory renamed to directory\n"
     ]
    }
   ],
   "source": [
    "os.rename(\"mynewdirectory\",\"directory\")\n",
    "print(\"mydirectory renamed to directory\")\n",
    "\n"
   ]
  },
  {
   "cell_type": "code",
   "execution_count": 32,
   "id": "4fe4afdb",
   "metadata": {},
   "outputs": [
    {
     "name": "stdout",
     "output_type": "stream",
     "text": [
      "directory1 created in directory\n"
     ]
    }
   ],
   "source": [
    "# To create a sub directory in mysub directory\n",
    "os.mkdir(\"directory/directory1\")\n",
    "print('directory1 created in directory')"
   ]
  },
  {
   "cell_type": "code",
   "execution_count": 33,
   "id": "f069470c",
   "metadata": {},
   "outputs": [
    {
     "name": "stdout",
     "output_type": "stream",
     "text": [
      "directory and in that directory1 and in that directory2 directories created\n"
     ]
    }
   ],
   "source": [
    "#To create multiple directories like mynewdirectoryin that directory1 in that directory2:\n",
    "os.makedirs(\"directory/directory1/directory2\")\n",
    "print(\"directory and in that directory1 and in that directory2 directories created\")\n",
    "\n"
   ]
  },
  {
   "cell_type": "code",
   "execution_count": 34,
   "id": "de9abca4",
   "metadata": {},
   "outputs": [
    {
     "name": "stdout",
     "output_type": "stream",
     "text": [
      "directory2 directory deleted\n"
     ]
    }
   ],
   "source": [
    "# To remove a directory\n",
    "os.rmdir(\"directory/directory1/directory2\")\n",
    "print(\"directory2 directory deleted\")\n"
   ]
  },
  {
   "cell_type": "code",
   "execution_count": 35,
   "id": "54c112a7",
   "metadata": {},
   "outputs": [
    {
     "name": "stdout",
     "output_type": "stream",
     "text": [
      "directory1 directory deleted\n"
     ]
    }
   ],
   "source": [
    "os.rmdir(\"directory/directory1\")\n",
    "print(\"directory1 directory deleted\")"
   ]
  },
  {
   "cell_type": "code",
   "execution_count": 36,
   "id": "84dbfbe0",
   "metadata": {},
   "outputs": [
    {
     "name": "stdout",
     "output_type": "stream",
     "text": [
      "directory directory deleted\n"
     ]
    }
   ],
   "source": [
    "os.rmdir(\"directory\")\n",
    "print(\"directory directory deleted\")"
   ]
  },
  {
   "cell_type": "code",
   "execution_count": null,
   "id": "eddcb3ef",
   "metadata": {},
   "outputs": [],
   "source": [
    "# file not error\n",
    "# Name error\n",
    "# value error\n",
    "# Type error\n",
    "# "
   ]
  },
  {
   "cell_type": "code",
   "execution_count": 64,
   "id": "ed07bd25",
   "metadata": {},
   "outputs": [
    {
     "name": "stdout",
     "output_type": "stream",
     "text": [
      "enter x 3\n",
      "enter y 0\n",
      "denonima shold not zero\n",
      "always print\n"
     ]
    }
   ],
   "source": [
    "\n",
    "try:\n",
    "    x=int(input('enter x '))\n",
    "    y=int(input('enter y '))\n",
    "    result=x/y\n",
    "    print(result)\n",
    "    \n",
    "except ZeroDivisionError:\n",
    "    print('denonima shold not zero')\n",
    "    \n",
    "except ValueError:\n",
    "    print('only pass int')\n",
    "\n",
    "finally:\n",
    "    print('always print')"
   ]
  },
  {
   "cell_type": "code",
   "execution_count": 10,
   "id": "3e1c4744",
   "metadata": {},
   "outputs": [],
   "source": [
    "# Basic python, print, type, type castng\n",
    "# operators, \n",
    "# if else\n",
    "# loops for loop, nested fro loop\n",
    "# str, list, dict"
   ]
  },
  {
   "cell_type": "code",
   "execution_count": 11,
   "id": "8155bec5",
   "metadata": {},
   "outputs": [],
   "source": [
    "# x=int(input('enter x'))"
   ]
  },
  {
   "cell_type": "code",
   "execution_count": 12,
   "id": "5d56f233",
   "metadata": {},
   "outputs": [],
   "source": [
    "# try:\n",
    "    \n",
    "# except:\n",
    "    \n",
    "    "
   ]
  },
  {
   "cell_type": "code",
   "execution_count": 9,
   "id": "a00acd17",
   "metadata": {},
   "outputs": [],
   "source": [
    "# z=1\n",
    "# m=0\n",
    "# k=0\n",
    "# p=0\n",
    "# for i in range(0,10):\n",
    "#     n=int(input(\"Enter \"+ str(z) + \"number\"))\n",
    "#     z+=1  z=2\n",
    "    \n",
    "#     if(p==0):\n",
    "#         k=n\n",
    "#         p+=1\n",
    "        \n",
    "#     if(m<n):\n",
    "#         m=n\n",
    "        \n",
    "#     if(k>n):\n",
    "#         print(k)\n",
    "#         k=n\n",
    "        \n",
    "# print(\"smallest number is\" ,k)\n",
    "# print(\"largest number is\" ,m)"
   ]
  }
 ],
 "metadata": {
  "kernelspec": {
   "display_name": "Python 3",
   "language": "python",
   "name": "python3"
  },
  "language_info": {
   "codemirror_mode": {
    "name": "ipython",
    "version": 3
   },
   "file_extension": ".py",
   "mimetype": "text/x-python",
   "name": "python",
   "nbconvert_exporter": "python",
   "pygments_lexer": "ipython3",
   "version": "3.8.8"
  }
 },
 "nbformat": 4,
 "nbformat_minor": 5
}
