{
 "cells": [
  {
   "cell_type": "code",
   "execution_count": 69,
   "id": "d5b81020",
   "metadata": {},
   "outputs": [
    {
     "name": "stdout",
     "output_type": "stream",
     "text": [
      "['aryan', 'nnwvbnwijnwok', 'aryan']\n"
     ]
    }
   ],
   "source": [
    "# detach this string by #\n",
    "a=\"aryan#nnwvbnwijnwok#aryan\"\n",
    "d=a.split(\"#\")\n",
    "print(d)"
   ]
  },
  {
   "cell_type": "code",
   "execution_count": 70,
   "id": "6bc13072",
   "metadata": {},
   "outputs": [
    {
     "name": "stdout",
     "output_type": "stream",
     "text": [
      "['aryan', 'nnwvbnwijnwok', 'aryan']\n"
     ]
    },
    {
     "data": {
      "text/plain": [
       "'aryan nnwvbnwijnwok aryan'"
      ]
     },
     "execution_count": 70,
     "metadata": {},
     "output_type": "execute_result"
    }
   ],
   "source": [
    "# convert the uppr list into string\n",
    "print(d)\n",
    "def listtostring(a):\n",
    "    str=' '\n",
    "    return (str.join(a))\n",
    "listtostring(d)\n"
   ]
  },
  {
   "cell_type": "code",
   "execution_count": 71,
   "id": "68bf4b0b",
   "metadata": {},
   "outputs": [
    {
     "name": "stdout",
     "output_type": "stream",
     "text": [
      "Enter how many number you want to check 2\n",
      "Enter a number you want to check 1\n",
      "Enter a number you want to check 2\n",
      "Even Number is [2]\n",
      "odd Number is [1]\n"
     ]
    }
   ],
   "source": [
    "#return odd/even when number entered by user\n",
    "odd=[]\n",
    "even=[]\n",
    "a=int(input(\"Enter how many number you want to check \"))\n",
    "while a!=0:\n",
    "    b=int(input(\"Enter a number you want to check \"))    \n",
    "    if b%2==0:\n",
    "        even.append(b)\n",
    "    elif b%2!=0:\n",
    "        odd.append(b)\n",
    "    a=a-1\n",
    "print(\"Even Number is\", even)\n",
    "print(\"odd Number is\",odd)"
   ]
  },
  {
   "cell_type": "code",
   "execution_count": 72,
   "id": "8f5a924d",
   "metadata": {},
   "outputs": [
    {
     "name": "stdout",
     "output_type": "stream",
     "text": [
      "Enter a number : 2\n",
      "2 * 1 = 2\n",
      "2 * 2 = 4\n",
      "2 * 3 = 6\n",
      "2 * 4 = 8\n",
      "2 * 5 = 10\n",
      "2 * 6 = 12\n",
      "2 * 7 = 14\n",
      "2 * 8 = 16\n",
      "2 * 9 = 18\n",
      "2 * 10 = 20\n"
     ]
    }
   ],
   "source": [
    "# Generate a table of number enter by user\n",
    "a=int(input(\"Enter a number : \"))\n",
    "for i in range(1,11):\n",
    "    print(a,\"*\",i,\"=\",a*i)"
   ]
  },
  {
   "cell_type": "code",
   "execution_count": null,
   "id": "73074d4d",
   "metadata": {},
   "outputs": [],
   "source": [
    "# Find Factorial of a number:\n",
    "f=1\n",
    "fact=int(input(\"Enter a number\"))\n",
    "for i in range(1,fact+1):\n",
    "    f=f*i\n",
    "print(f)"
   ]
  },
  {
   "cell_type": "code",
   "execution_count": 73,
   "id": "5405287a",
   "metadata": {},
   "outputs": [
    {
     "name": "stdout",
     "output_type": "stream",
     "text": [
      "Enter a number4\n",
      "24\n"
     ]
    }
   ],
   "source": [
    "f=1\n",
    "n=int(input(\"Enter a number\"))\n",
    "while n!=0:\n",
    "    f=f*n\n",
    "    n=n-1\n",
    "print(f)"
   ]
  },
  {
   "cell_type": "code",
   "execution_count": 74,
   "id": "04455bae",
   "metadata": {},
   "outputs": [
    {
     "name": "stdout",
     "output_type": "stream",
     "text": [
      "Enter a number4\n"
     ]
    },
    {
     "data": {
      "text/plain": [
       "24"
      ]
     },
     "execution_count": 74,
     "metadata": {},
     "output_type": "execute_result"
    }
   ],
   "source": [
    "import math\n",
    "fact=int(input(\"Enter a number\"))\n",
    "math.factorial(fact)"
   ]
  },
  {
   "cell_type": "code",
   "execution_count": 75,
   "id": "0352b389",
   "metadata": {},
   "outputs": [
    {
     "name": "stdout",
     "output_type": "stream",
     "text": [
      "enter a number4\n",
      "enter a numbers1\n",
      "enter a numbers2\n",
      "enter a numbers3\n",
      "enter a numbers4\n",
      "The average is : 2.5\n"
     ]
    }
   ],
   "source": [
    "f= int(input(\"enter a number\"))\n",
    "sum=0\n",
    "while f!=0:\n",
    "    a= int(input(\"enter a numbers\"))\n",
    "    sum= sum +a\n",
    "    f=f-1\n",
    "print(\"The average is :\",sum/a)"
   ]
  },
  {
   "cell_type": "code",
   "execution_count": 76,
   "id": "6e64c8b1",
   "metadata": {},
   "outputs": [
    {
     "name": "stdout",
     "output_type": "stream",
     "text": [
      "Enter a number4\n",
      "Not Prime\n"
     ]
    }
   ],
   "source": [
    "# find prime number\n",
    "c=0\n",
    "p=int(input(\"Enter a number\"))\n",
    "for i in range(1,p+1):\n",
    "    if p%i==0:\n",
    "        c=c+1\n",
    "if c==2:\n",
    "    print(\"Prime number\")\n",
    "else:\n",
    "    print(\"Not Prime\")"
   ]
  },
  {
   "cell_type": "code",
   "execution_count": 77,
   "id": "e8baab11",
   "metadata": {},
   "outputs": [
    {
     "name": "stdout",
     "output_type": "stream",
     "text": [
      "Enter a Word : ara\n",
      "Pallindrome\n",
      "Pallindrome\n",
      "Pallindrome\n"
     ]
    }
   ],
   "source": [
    "# Pallindrome\n",
    "P= str(input(\"Enter a Word : \"))\n",
    "for i in P:\n",
    "    if i==i[::-1]:\n",
    "        print(\"Pallindrome\")\n",
    "    else:\n",
    "        print(\"Not Pallindrome\")"
   ]
  },
  {
   "cell_type": "code",
   "execution_count": 78,
   "id": "79b85d80",
   "metadata": {
    "scrolled": true
   },
   "outputs": [
    {
     "name": "stdout",
     "output_type": "stream",
     "text": [
      "Enter a number45\n",
      "0\n",
      "1\n",
      "1\n",
      "2\n",
      "3\n",
      "5\n",
      "8\n",
      "13\n",
      "21\n",
      "34\n",
      "55\n",
      "89\n",
      "144\n",
      "233\n",
      "377\n",
      "610\n",
      "987\n",
      "1597\n",
      "2584\n",
      "4181\n",
      "6765\n",
      "10946\n",
      "17711\n",
      "28657\n",
      "46368\n",
      "75025\n",
      "121393\n",
      "196418\n",
      "317811\n",
      "514229\n",
      "832040\n",
      "1346269\n",
      "2178309\n",
      "3524578\n",
      "5702887\n",
      "9227465\n",
      "14930352\n",
      "24157817\n",
      "39088169\n",
      "63245986\n",
      "102334155\n",
      "165580141\n",
      "267914296\n",
      "433494437\n",
      "701408733\n"
     ]
    }
   ],
   "source": [
    "# Fibonacci Series\n",
    "a=0\n",
    "b=1\n",
    "f= int(input(\"Enter a number\"))\n",
    "for i in range(1,f+1):\n",
    "    print(a)\n",
    "    c=a\n",
    "    a=b\n",
    "    b=a+c\n",
    "    "
   ]
  },
  {
   "cell_type": "code",
   "execution_count": 79,
   "id": "c7da8ca9",
   "metadata": {},
   "outputs": [
    {
     "name": "stdout",
     "output_type": "stream",
     "text": [
      "Enter a number10\n",
      "0\n",
      "1\n",
      "1\n",
      "2\n",
      "3\n",
      "5\n",
      "8\n",
      "13\n",
      "21\n",
      "34\n"
     ]
    }
   ],
   "source": [
    "a=0\n",
    "b=1\n",
    "d= int(input(\"Enter a number\"))\n",
    "while d!=0:\n",
    "    print(a)\n",
    "    c=a\n",
    "    a=b\n",
    "    b=a+c\n",
    "    d=d-1"
   ]
  },
  {
   "cell_type": "code",
   "execution_count": 80,
   "id": "7f38ac08",
   "metadata": {},
   "outputs": [
    {
     "name": "stdout",
     "output_type": "stream",
     "text": [
      "11\n",
      "10\n",
      "9\n",
      "8\n",
      "7\n",
      "6\n",
      "5\n",
      "4\n",
      "3\n",
      "2\n"
     ]
    }
   ],
   "source": [
    "for i in range(11,1,-1):\n",
    "    print(i)"
   ]
  },
  {
   "cell_type": "code",
   "execution_count": 81,
   "id": "af592c8b",
   "metadata": {},
   "outputs": [
    {
     "name": "stdout",
     "output_type": "stream",
     "text": [
      "11\n",
      "10\n",
      "9\n",
      "8\n",
      "7\n",
      "6\n",
      "5\n",
      "4\n",
      "3\n",
      "2\n",
      "1\n"
     ]
    }
   ],
   "source": [
    "c=11\n",
    "while c!=0: \n",
    "    print(c)\n",
    "    c=c-1"
   ]
  },
  {
   "cell_type": "code",
   "execution_count": 82,
   "id": "1dfa6ea7",
   "metadata": {},
   "outputs": [
    {
     "name": "stdout",
     "output_type": "stream",
     "text": [
      "1\n",
      "2\n",
      "3\n",
      "4\n",
      "5\n",
      "6\n",
      "7\n",
      "8\n",
      "9\n",
      "10\n"
     ]
    }
   ],
   "source": [
    "c=1\n",
    "while c!=11:\n",
    "    print(c)\n",
    "    c=c+1"
   ]
  },
  {
   "cell_type": "code",
   "execution_count": 83,
   "id": "98839e5c",
   "metadata": {},
   "outputs": [
    {
     "name": "stdout",
     "output_type": "stream",
     "text": [
      "parrat\n",
      "perl\n",
      "python\n"
     ]
    }
   ],
   "source": [
    "l = ['parrat','perl','java','python']\n",
    "for i in l:\n",
    "    for j in i:\n",
    "        if j==\"p\":\n",
    "            print(i)\n",
    "        else:\n",
    "            pass"
   ]
  },
  {
   "cell_type": "code",
   "execution_count": 84,
   "id": "2075df82",
   "metadata": {},
   "outputs": [
    {
     "name": "stdout",
     "output_type": "stream",
     "text": [
      "Enter a number100\n",
      "1 ---- 100\n",
      "2 ---- 99\n",
      "3 ---- 98\n",
      "4 ---- 97\n",
      "5 ---- 96\n",
      "6 ---- 95\n",
      "7 ---- 94\n",
      "8 ---- 93\n",
      "9 ---- 92\n",
      "10 ---- 91\n",
      "11 ---- 90\n",
      "12 ---- 89\n",
      "13 ---- 88\n",
      "14 ---- 87\n",
      "15 ---- 86\n",
      "16 ---- 85\n",
      "17 ---- 84\n",
      "18 ---- 83\n",
      "19 ---- 82\n",
      "20 ---- 81\n",
      "21 ---- 80\n",
      "22 ---- 79\n",
      "23 ---- 78\n",
      "24 ---- 77\n",
      "25 ---- 76\n",
      "26 ---- 75\n",
      "27 ---- 74\n",
      "28 ---- 73\n",
      "29 ---- 72\n",
      "30 ---- 71\n",
      "31 ---- 70\n",
      "32 ---- 69\n",
      "33 ---- 68\n",
      "34 ---- 67\n",
      "35 ---- 66\n",
      "36 ---- 65\n",
      "37 ---- 64\n",
      "38 ---- 63\n",
      "39 ---- 62\n",
      "40 ---- 61\n",
      "41 ---- 60\n",
      "42 ---- 59\n",
      "43 ---- 58\n",
      "44 ---- 57\n",
      "45 ---- 56\n",
      "46 ---- 55\n",
      "47 ---- 54\n",
      "48 ---- 53\n",
      "49 ---- 52\n",
      "50 ---- 51\n",
      "51 ---- 50\n",
      "52 ---- 49\n",
      "53 ---- 48\n",
      "54 ---- 47\n",
      "55 ---- 46\n",
      "56 ---- 45\n",
      "57 ---- 44\n",
      "58 ---- 43\n",
      "59 ---- 42\n",
      "60 ---- 41\n",
      "61 ---- 40\n",
      "62 ---- 39\n",
      "63 ---- 38\n",
      "64 ---- 37\n",
      "65 ---- 36\n",
      "66 ---- 35\n",
      "67 ---- 34\n",
      "68 ---- 33\n",
      "69 ---- 32\n",
      "70 ---- 31\n",
      "71 ---- 30\n",
      "72 ---- 29\n",
      "73 ---- 28\n",
      "74 ---- 27\n",
      "75 ---- 26\n",
      "76 ---- 25\n",
      "77 ---- 24\n",
      "78 ---- 23\n",
      "79 ---- 22\n",
      "80 ---- 21\n",
      "81 ---- 20\n",
      "82 ---- 19\n",
      "83 ---- 18\n",
      "84 ---- 17\n",
      "85 ---- 16\n",
      "86 ---- 15\n",
      "87 ---- 14\n",
      "88 ---- 13\n",
      "89 ---- 12\n",
      "90 ---- 11\n",
      "91 ---- 10\n",
      "92 ---- 9\n",
      "93 ---- 8\n",
      "94 ---- 7\n",
      "95 ---- 6\n",
      "96 ---- 5\n",
      "97 ---- 4\n",
      "98 ---- 3\n",
      "99 ---- 2\n",
      "100 ---- 1\n"
     ]
    }
   ],
   "source": [
    "b=int(input(\"Enter a number\"))\n",
    "for i in range(1,b+1):\n",
    "    print(i,\"----\",b)\n",
    "    b=b-1\n",
    "    "
   ]
  },
  {
   "cell_type": "code",
   "execution_count": 90,
   "id": "0b0d77d0",
   "metadata": {},
   "outputs": [
    {
     "name": "stdout",
     "output_type": "stream",
     "text": [
      "<reversed object at 0x000001785BEAEE80>\n"
     ]
    }
   ],
   "source": [
    "a=\"Aryan\"\n",
    "b=str(reversed(a))\n",
    "print(b)"
   ]
  },
  {
   "cell_type": "code",
   "execution_count": 93,
   "id": "d4039ef6",
   "metadata": {},
   "outputs": [
    {
     "name": "stdout",
     "output_type": "stream",
     "text": [
      "Enter a number132\n",
      "231\n"
     ]
    }
   ],
   "source": [
    "# reverse a number\n",
    "n=int(input(\"Enter a number\"))\n",
    "s=0\n",
    "while n!=0:\n",
    "    digit=n%10\n",
    "    s=s*10+digit\n",
    "    n=n//10\n",
    "print(s)"
   ]
  },
  {
   "cell_type": "code",
   "execution_count": 94,
   "id": "cacc750e",
   "metadata": {},
   "outputs": [
    {
     "name": "stdout",
     "output_type": "stream",
     "text": [
      "Enter a number132\n",
      "231\n"
     ]
    }
   ],
   "source": [
    "n=int(input(\"Enter a number\"))\n",
    "s=0\n",
    "while n!=0:\n",
    "    rem=n%10\n",
    "    s=s*10+rem\n",
    "    n=n//10\n",
    "print(s)"
   ]
  }
 ],
 "metadata": {
  "kernelspec": {
   "display_name": "Python 3",
   "language": "python",
   "name": "python3"
  },
  "language_info": {
   "codemirror_mode": {
    "name": "ipython",
    "version": 3
   },
   "file_extension": ".py",
   "mimetype": "text/x-python",
   "name": "python",
   "nbconvert_exporter": "python",
   "pygments_lexer": "ipython3",
   "version": "3.8.8"
  }
 },
 "nbformat": 4,
 "nbformat_minor": 5
}
