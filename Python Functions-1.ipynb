{
 "cells": [
  {
   "cell_type": "markdown",
   "id": "7d621c7e",
   "metadata": {},
   "source": [
    "# Functions\n",
    "---"
   ]
  },
  {
   "cell_type": "raw",
   "id": "843ab5b9",
   "metadata": {},
   "source": [
    "Python Functions is a block of related statements designed to perform a computational, logical, or evaluative task. The idea is to put some commonly or repeatedly done tasks together and make a function so that instead of writing the same code again and again for different inputs, we can do the function calls to reuse code contained in it over and over again. \n",
    "\n",
    "functions can be both built-in or user-defined. It helps the program to be concise, non-repetitive, and organized.\n",
    "\n",
    "\n",
    "Functions:\n",
    "     if we want to do some task repeatly so we use function\n",
    "     functions are set of code that runs when we call\n",
    "Types:\n",
    "     user define function\n",
    "     built in function\n",
    "     \n",
    "USER DEFINE FUNCTIONS\n",
    "    syntax  def for define \n",
    "    define ke time jo variable dete h vo parameter \n",
    "    function calling....ke time jo variable dete h vo argument\n",
    "    then function name():"
   ]
  },
  {
   "cell_type": "markdown",
   "id": "a9bb0cca",
   "metadata": {},
   "source": [
    "### Syntax\n",
    "\n",
    "Function definition\n",
    "\n",
    "The function definition starts with a def keyword followed by the function name and the arguments the function can take. These arguments are within parentheses and there can be any number of arguments including zero. When there is more than one argument, they are separated by a comma. Since python is a loosely typed language, (meaning we don’t assign a data type to a variable when declaration) we shouldn’t include the data types for the arguments. The function definition statement is terminated by a colon. In python, we define a function as follows:"
   ]
  },
  {
   "cell_type": "markdown",
   "id": "4fe89e73",
   "metadata": {},
   "source": [
    "### Creating a Function\n",
    "We can create a  Python function using the def keyword."
   ]
  },
  {
   "cell_type": "code",
   "execution_count": 1,
   "id": "ae867dcd",
   "metadata": {},
   "outputs": [
    {
     "name": "stdout",
     "output_type": "stream",
     "text": [
      "Hello 'Deepanshu' \n"
     ]
    }
   ],
   "source": [
    "def fun():# first we created function named fun\n",
    "    print(\"Hello 'Deepanshu' \")\n",
    "fun()"
   ]
  },
  {
   "cell_type": "code",
   "execution_count": null,
   "id": "f24bb303",
   "metadata": {},
   "outputs": [],
   "source": []
  },
  {
   "cell_type": "code",
   "execution_count": 5,
   "id": "fb17a1a4",
   "metadata": {},
   "outputs": [
    {
     "name": "stdout",
     "output_type": "stream",
     "text": [
      "emter x 5\n",
      "enter y 5\n",
      "10\n"
     ]
    }
   ],
   "source": [
    "def add(a,b):\n",
    "    print(x+y)\n",
    "x=int(input('emter x '))\n",
    "y=int(input('enter y '))\n",
    "add(x,y)"
   ]
  },
  {
   "cell_type": "code",
   "execution_count": 10,
   "id": "a0ec661f",
   "metadata": {},
   "outputs": [
    {
     "name": "stdout",
     "output_type": "stream",
     "text": [
      "Hello 'Deepanshu' \n"
     ]
    }
   ],
   "source": [
    "fun()\n",
    "# every time we call this fun function it will give same value"
   ]
  },
  {
   "cell_type": "code",
   "execution_count": 11,
   "id": "a88e6ac3",
   "metadata": {},
   "outputs": [
    {
     "name": "stdout",
     "output_type": "stream",
     "text": [
      "python\n",
      "Data science\n"
     ]
    }
   ],
   "source": [
    "def deepanshu():\n",
    "    print('python')\n",
    "    print('Data science')\n",
    "\n",
    "deepanshu()"
   ]
  },
  {
   "cell_type": "code",
   "execution_count": 12,
   "id": "66eb84eb",
   "metadata": {},
   "outputs": [
    {
     "name": "stdout",
     "output_type": "stream",
     "text": [
      "python\n",
      "Data science\n",
      "AI\n"
     ]
    }
   ],
   "source": [
    "def deepanshu():\n",
    "    print('python')\n",
    "    print('Data science')\n",
    "\n",
    "deepanshu()\n",
    "print('AI') # it is not a part of then functi\n"
   ]
  },
  {
   "cell_type": "code",
   "execution_count": 13,
   "id": "f6dc65ef",
   "metadata": {},
   "outputs": [
    {
     "name": "stdout",
     "output_type": "stream",
     "text": [
      "Befote function call\n",
      "enter a 10\n",
      "enter b 100\n",
      "the addition of two variable is 110\n",
      "After function call \n"
     ]
    }
   ],
   "source": [
    "def add():\n",
    "    a=int(input('enter a '))\n",
    "    b=int(input('enter b '))\n",
    "    result=a+b\n",
    "    print('the addition of two variable is',result)\n",
    "print('Befote function call')\n",
    "add()\n",
    "print('After function call ')"
   ]
  },
  {
   "cell_type": "markdown",
   "id": "db13d96a",
   "metadata": {},
   "source": [
    "There are four ways to define function\n",
    "- Takes Nothing,return Nothing\n",
    "- Takes Something, return Nothing\n",
    "- Takes Nothing, return Something\n",
    "- Takes Someethong, return Something"
   ]
  },
  {
   "cell_type": "code",
   "execution_count": 14,
   "id": "f4f36fd0",
   "metadata": {},
   "outputs": [
    {
     "name": "stdout",
     "output_type": "stream",
     "text": [
      "enter a 1\n",
      "enter b 1\n",
      "the addition of two variable is 2\n"
     ]
    }
   ],
   "source": [
    "# Takes Nothing return Nothing\n",
    "def add():\n",
    "    a=int(input('enter a '))\n",
    "    b=int(input('enter b '))\n",
    "    result=a+b\n",
    "    print('the addition of two variable is',result)\n",
    "add()"
   ]
  },
  {
   "cell_type": "code",
   "execution_count": 17,
   "id": "260aabaa",
   "metadata": {},
   "outputs": [
    {
     "data": {
      "text/plain": [
       "9"
      ]
     },
     "execution_count": 17,
     "metadata": {},
     "output_type": "execute_result"
    }
   ],
   "source": [
    "s='deepanshu'\n",
    "len(s)"
   ]
  },
  {
   "cell_type": "code",
   "execution_count": null,
   "id": "e567dba8",
   "metadata": {},
   "outputs": [],
   "source": [
    "def len(a):\n",
    "    c=c+1"
   ]
  },
  {
   "cell_type": "code",
   "execution_count": 19,
   "id": "942f47c6",
   "metadata": {},
   "outputs": [
    {
     "ename": "TypeError",
     "evalue": "len() takes exactly one argument (2 given)",
     "output_type": "error",
     "traceback": [
      "\u001b[1;31m---------------------------------------------------------------------------\u001b[0m",
      "\u001b[1;31mTypeError\u001b[0m                                 Traceback (most recent call last)",
      "\u001b[1;32m<ipython-input-19-799f6fd5e440>\u001b[0m in \u001b[0;36m<module>\u001b[1;34m\u001b[0m\n\u001b[0;32m      1\u001b[0m \u001b[0ms\u001b[0m\u001b[1;33m=\u001b[0m\u001b[1;34m'deepanshu'\u001b[0m\u001b[1;33m\u001b[0m\u001b[1;33m\u001b[0m\u001b[0m\n\u001b[1;32m----> 2\u001b[1;33m \u001b[0mlen\u001b[0m\u001b[1;33m(\u001b[0m\u001b[0ms\u001b[0m\u001b[1;33m,\u001b[0m\u001b[1;36m1\u001b[0m\u001b[1;33m)\u001b[0m\u001b[1;33m\u001b[0m\u001b[1;33m\u001b[0m\u001b[0m\n\u001b[0m",
      "\u001b[1;31mTypeError\u001b[0m: len() takes exactly one argument (2 given)"
     ]
    }
   ],
   "source": [
    "s='deepanshu'\n",
    "len(s,1)"
   ]
  },
  {
   "cell_type": "code",
   "execution_count": 15,
   "id": "733e85af",
   "metadata": {},
   "outputs": [
    {
     "name": "stdout",
     "output_type": "stream",
     "text": [
      "Please enter Two number\n",
      "enter number 10\n",
      "enter number 1\n",
      "the addition of two variable is 11\n"
     ]
    }
   ],
   "source": [
    "# Takes Something, return Nothing\n",
    "def add(x,y): # parameters or formal parameters\n",
    "    result=x+y\n",
    "    print('the addition of two variable is',result)\n",
    "print('Please enter Two number')\n",
    "a=int(input('enter number '))\n",
    "b=int(input('enter number '))\n",
    "add(a,b) # arguments or actual parameters\n"
   ]
  },
  {
   "cell_type": "code",
   "execution_count": 3,
   "id": "cb564bbe",
   "metadata": {},
   "outputs": [
    {
     "name": "stdout",
     "output_type": "stream",
     "text": [
      "Please enter Two number\n",
      "enter number 1\n",
      "enter number 1\n",
      "2\n"
     ]
    }
   ],
   "source": [
    "# Takes Nothing return Something\n",
    "def add():\n",
    "    print('Please enter Two number')\n",
    "    x=int(input('enter number '))\n",
    "    y=int(input('enter number '))\n",
    "    \n",
    "    \n",
    "    result=x+y\n",
    "\n",
    "    return result\n",
    "#     code after return statement can't run because return throw out of the function body....\n",
    "    print(\"y\")\n",
    "\n",
    "    \n",
    "t=add()\n",
    "\n",
    "print(t)\n",
    "\n"
   ]
  },
  {
   "cell_type": "code",
   "execution_count": 28,
   "id": "6d3e966a",
   "metadata": {},
   "outputs": [
    {
     "name": "stdout",
     "output_type": "stream",
     "text": [
      "11\n"
     ]
    }
   ],
   "source": [
    "print(t)"
   ]
  },
  {
   "cell_type": "code",
   "execution_count": 5,
   "id": "f3b902b9",
   "metadata": {},
   "outputs": [
    {
     "name": "stdout",
     "output_type": "stream",
     "text": [
      "hii\n",
      "17\n"
     ]
    }
   ],
   "source": [
    "# Takes something, return something\n",
    "def add(x,y):\n",
    "    print('hii')\n",
    "    result=x+y\n",
    "    \n",
    "    return result\n",
    "a=11\n",
    "b=6\n",
    "\n",
    "\n",
    "receive=add(a,b)\n",
    "print(receive)"
   ]
  },
  {
   "cell_type": "code",
   "execution_count": 32,
   "id": "251f307d",
   "metadata": {},
   "outputs": [
    {
     "data": {
      "text/plain": [
       "17"
      ]
     },
     "execution_count": 32,
     "metadata": {},
     "output_type": "execute_result"
    }
   ],
   "source": [
    "receive"
   ]
  },
  {
   "cell_type": "code",
   "execution_count": 39,
   "id": "5bed45ac",
   "metadata": {},
   "outputs": [
    {
     "name": "stdout",
     "output_type": "stream",
     "text": [
      "hello\n",
      "None ---- <class 'NoneType'>\n"
     ]
    }
   ],
   "source": [
    "### when fuction returns nothing that time it returns none\n",
    "def myfunc():\n",
    "    print('hello')\n",
    "   \n",
    "rec=myfunc()\n",
    "print(rec,'----',type(rec))"
   ]
  },
  {
   "cell_type": "code",
   "execution_count": 41,
   "id": "7368057a",
   "metadata": {},
   "outputs": [
    {
     "name": "stdout",
     "output_type": "stream",
     "text": [
      "hiii\n",
      "1\n",
      "-10\n"
     ]
    }
   ],
   "source": [
    "def sub(R,S):\n",
    "    print('hiii')\n",
    "    print('1')\n",
    "    result=R-S\n",
    "   \n",
    "    return result\n",
    "    print('hello')\n",
    "    print('2')\n",
    "X=10\n",
    "Y=20\n",
    "r=sub(X,Y)\n",
    "print(r)"
   ]
  },
  {
   "cell_type": "code",
   "execution_count": 44,
   "id": "a2b8b56b",
   "metadata": {},
   "outputs": [
    {
     "name": "stdout",
     "output_type": "stream",
     "text": [
      "hii\n"
     ]
    },
    {
     "data": {
      "text/plain": [
       "'Deepanshu'"
      ]
     },
     "execution_count": 44,
     "metadata": {},
     "output_type": "execute_result"
    }
   ],
   "source": [
    "def tt():\n",
    "    print('hii')\n",
    "    return 'Deepanshu'\n",
    "    print('hello')\n",
    "tt()"
   ]
  },
  {
   "cell_type": "code",
   "execution_count": 43,
   "id": "8c818590",
   "metadata": {},
   "outputs": [
    {
     "data": {
      "text/plain": [
       "'Deepanshu'"
      ]
     },
     "execution_count": 43,
     "metadata": {},
     "output_type": "execute_result"
    }
   ],
   "source": [
    "z"
   ]
  },
  {
   "cell_type": "code",
   "execution_count": 8,
   "id": "d9509820",
   "metadata": {},
   "outputs": [
    {
     "name": "stdout",
     "output_type": "stream",
     "text": [
      "100\n",
      "hii\n",
      "100\n"
     ]
    }
   ],
   "source": [
    "def anil(a,b,c=50):\n",
    "    print(a+b+c)\n",
    "    print('hii')\n",
    "    return a+b+c\n",
    "    print('yess')\n",
    "\n",
    "deepanshu=anil(20,30)\n",
    "print(deepanshu)"
   ]
  },
  {
   "cell_type": "markdown",
   "id": "d1077653",
   "metadata": {},
   "source": [
    "When we call a function with some values, these values get assigned to the arguments according to their position.\n",
    "\n",
    "Python allows functions to be called using keyword arguments.\n",
    "\n",
    "\n",
    "When we call functions in this way, the order (position) of the arguments can be changed.\n"
   ]
  },
  {
   "cell_type": "code",
   "execution_count": 9,
   "id": "b44b44f8",
   "metadata": {},
   "outputs": [
    {
     "name": "stdout",
     "output_type": "stream",
     "text": [
      "Hii Priyanka\n"
     ]
    }
   ],
   "source": [
    "def exam(p,q):\n",
    "    print(p,q)\n",
    "\n",
    "U='Hii'\n",
    "T='Priyanka'\n",
    "exam(U,T)"
   ]
  },
  {
   "cell_type": "code",
   "execution_count": 53,
   "id": "0be0f2d4",
   "metadata": {},
   "outputs": [
    {
     "name": "stdout",
     "output_type": "stream",
     "text": [
      "Solution Madrid\n"
     ]
    }
   ],
   "source": [
    "def student(firstname, lastname):\n",
    "    print(firstname, lastname)\n",
    " \n",
    " \n",
    "# Keyword arguments\n",
    "# same as normal arguments but you can specify the argument \n",
    "# student(firstname='Madrid', lastname='Solutions')  \n",
    "\n",
    "student(lastname='Madrid', firstname='Solution')\n",
    "a='Deepanshu'\n",
    "b='Verma'\n",
    "\n",
    "# student(a,b)\n",
    "# student(b,a)\n",
    "# we gave same output but in diffrent order and still get same output \n",
    "# beacuse of keyword argument because we specified the arguments"
   ]
  },
  {
   "cell_type": "markdown",
   "id": "5f481f1c",
   "metadata": {},
   "source": [
    "#### The return statement\n",
    "The function return statement is used to exit from a function and go back to the function caller and return the specified value or data item to the caller.\n",
    "\n",
    "Syntax: return [expression_list]\n",
    "\n",
    "The return statement can consist of a variable, an expression, or a constant which is returned to the end of the function execution. If none of the above is present with the return statement a None object is returned."
   ]
  },
  {
   "cell_type": "code",
   "execution_count": 10,
   "id": "ce4d4b9c",
   "metadata": {},
   "outputs": [
    {
     "name": "stdout",
     "output_type": "stream",
     "text": [
      "4\n",
      "16\n"
     ]
    }
   ],
   "source": [
    "\n",
    "def square_value(num):\n",
    "   \n",
    "    return num**2\n",
    "    print('hiii')\n",
    "\n",
    "    # ranther than printing result we can use return for getting value\n",
    "\n",
    "\n",
    "x=square_value(2)\n",
    "print(x)# it will return square of 2\n",
    "print(square_value(-4))        # it will return square of -4"
   ]
  },
  {
   "cell_type": "code",
   "execution_count": 57,
   "id": "a97fda19",
   "metadata": {},
   "outputs": [
    {
     "name": "stdout",
     "output_type": "stream",
     "text": [
      "5\n"
     ]
    }
   ],
   "source": [
    "# x=5\n",
    "print(5)"
   ]
  },
  {
   "cell_type": "code",
   "execution_count": 59,
   "id": "a8007bfb",
   "metadata": {},
   "outputs": [
    {
     "data": {
      "text/plain": [
       "5"
      ]
     },
     "execution_count": 59,
     "metadata": {},
     "output_type": "execute_result"
    }
   ],
   "source": [
    "5"
   ]
  },
  {
   "cell_type": "code",
   "execution_count": 60,
   "id": "d50cabac",
   "metadata": {},
   "outputs": [
    {
     "name": "stdout",
     "output_type": "stream",
     "text": [
      "hiiii\n",
      "30\n"
     ]
    }
   ],
   "source": [
    "def FUN(a,b):\n",
    "    print('hiiii')\n",
    "    return a+b\n",
    "    return('Deepanshu')\n",
    "    print('How are you ?')\n",
    "    print('function funish')\n",
    "C=10\n",
    "G=20\n",
    "print(FUN(10,20))\n"
   ]
  },
  {
   "cell_type": "code",
   "execution_count": 63,
   "id": "9e9dc8e9",
   "metadata": {},
   "outputs": [
    {
     "name": "stdout",
     "output_type": "stream",
     "text": [
      "hiiii\n",
      "30\n",
      "yes\n"
     ]
    }
   ],
   "source": [
    "def FUN(a,b):\n",
    "    print('hiiii')\n",
    "    return a+b\n",
    "#     return('Deepanshu')\n",
    "#     print('How are you ?')\n",
    "#     print('function funish')\n",
    "# C=10\n",
    "# G=20\n",
    "print(FUN(10,20))\n",
    "print('yes')"
   ]
  },
  {
   "cell_type": "code",
   "execution_count": 61,
   "id": "d6c3129d",
   "metadata": {},
   "outputs": [
    {
     "name": "stdout",
     "output_type": "stream",
     "text": [
      "[20, 11, 12, 13, 14, 15]\n"
     ]
    }
   ],
   "source": [
    "# def without print or return\n",
    "def lst(x):\n",
    "    x[0] = 20\n",
    " \n",
    "    print(x)\n",
    "\n",
    "l = [10, 11, 12, 13, 14, 15]\n",
    "lst(l)\n"
   ]
  },
  {
   "cell_type": "markdown",
   "id": "afe9eedb",
   "metadata": {},
   "source": [
    "## Variable-length Arguments"
   ]
  },
  {
   "cell_type": "markdown",
   "id": "9cd7f9f3",
   "metadata": {},
   "source": [
    "You may need to process a function for more arguments than you specified while defining the function.\n",
    "\n",
    " These arguments are called variable-length arguments and are not named in the function definition, unlike required and default arguments.\n"
   ]
  },
  {
   "cell_type": "code",
   "execution_count": null,
   "id": "279b48fa",
   "metadata": {},
   "outputs": [],
   "source": [
    "#Syntax:-\n",
    "\n",
    "# def functionname([formal_args,] *var_args_tuple ):\n",
    "#     function_suite \n",
    "#     return [expression]\n",
    "\n",
    "#An asterisk (*) is placed before the variable name that holds the values of all non keyword variable arguments. \n",
    "#This tuple remains empty if no additional arguments are specified during the function call. \n"
   ]
  },
  {
   "cell_type": "code",
   "execution_count": 13,
   "id": "93e4dfbd",
   "metadata": {},
   "outputs": [
    {
     "name": "stdout",
     "output_type": "stream",
     "text": [
      "1\n",
      "2\n",
      "3\n",
      "1 2 3\n"
     ]
    }
   ],
   "source": [
    "def d(a,b,c):\n",
    "    print(a,b,c)\n",
    "    \n",
    "x=int(input())\n",
    "y=int(input())\n",
    "z=int(input())\n",
    "\n",
    "d(x,y,z)\n"
   ]
  },
  {
   "cell_type": "code",
   "execution_count": 15,
   "id": "321cf6bc",
   "metadata": {},
   "outputs": [
    {
     "name": "stdout",
     "output_type": "stream",
     "text": [
      "(1, 2, 3, 4, 5, 7, 8, 9, 2, 2, 2, 2, 2)\n"
     ]
    }
   ],
   "source": [
    "def hlo(*args): # first we took argument as *args\n",
    "#     for arg in args: \n",
    "        # since it is stored as tuple we need to use loop to acess the values \n",
    "        print(args)\n",
    " \n",
    " \n",
    "hlo(1,2,3,4,5,7,8,9,2,2,2,2,2)"
   ]
  },
  {
   "cell_type": "code",
   "execution_count": 67,
   "id": "490c1b22",
   "metadata": {},
   "outputs": [
    {
     "name": "stdout",
     "output_type": "stream",
     "text": [
      "(10, 20, 30, 40, 50, 60, 70, 80, 90, 100, 110, 120, 130) <class 'tuple'>\n",
      "average of all the numbers 70.0\n"
     ]
    }
   ],
   "source": [
    "def find_average(*numbers):     \n",
    "    print(numbers,type(numbers))\n",
    "    print('average of all the numbers',sum(numbers)/len(numbers))\n",
    "    \n",
    "    \n",
    "find_average(10,20,30,40,50,60,70,80,90,100,110,120,130)"
   ]
  },
  {
   "cell_type": "code",
   "execution_count": 71,
   "id": "c745c399",
   "metadata": {},
   "outputs": [
    {
     "name": "stdout",
     "output_type": "stream",
     "text": [
      "enter n 5\n",
      "enter2\n",
      "4\n",
      "enter3\n",
      "9\n",
      "enter4\n",
      "16\n",
      "enter8\n",
      "64\n",
      "enter9\n",
      "81\n"
     ]
    }
   ],
   "source": [
    "n=int(input('enter n '))\n",
    "for i in range(n):\n",
    "    def p(a):\n",
    "        print(a**2)\n",
    "        \n",
    "    k=int(input('enter'))\n",
    "    p(k)"
   ]
  },
  {
   "cell_type": "code",
   "execution_count": null,
   "id": "ae00d0aa",
   "metadata": {},
   "outputs": [],
   "source": [
    "def k(v):\n",
    "    print(v)\n",
    "for i in range(3):\n",
    "    k(i)"
   ]
  },
  {
   "cell_type": "code",
   "execution_count": null,
   "id": "890d980f",
   "metadata": {},
   "outputs": [],
   "source": []
  },
  {
   "cell_type": "code",
   "execution_count": 75,
   "id": "78b4127c",
   "metadata": {},
   "outputs": [
    {
     "name": "stdout",
     "output_type": "stream",
     "text": [
      "Output is:\n",
      "100\n",
      "(40, 70, 40)\n",
      "40 70 40\n",
      "40\n",
      "70\n",
      "40\n"
     ]
    },
    {
     "data": {
      "text/plain": [
       "40"
      ]
     },
     "execution_count": 75,
     "metadata": {},
     "output_type": "execute_result"
    }
   ],
   "source": [
    "def printinfo(arg1,*vartuple):\n",
    "   \n",
    "    print(\"Output is:\")\n",
    "    print(arg1)\n",
    "    print(vartuple)\n",
    "    print(*vartuple)\n",
    "    for var in vartuple:\n",
    "        print(var)\n",
    "    return var\n",
    "\n",
    "printinfo(100,40,70,40)\n"
   ]
  },
  {
   "cell_type": "code",
   "execution_count": 78,
   "id": "53999069",
   "metadata": {},
   "outputs": [
    {
     "name": "stdout",
     "output_type": "stream",
     "text": [
      "1\n",
      "2 3 4\n",
      "(2, 3, 4)\n",
      "2\n",
      "3\n",
      "4\n"
     ]
    }
   ],
   "source": [
    "def printValue(arg1,*vartuple):\n",
    "    print(arg1)\n",
    "    print(*vartuple)\n",
    "    print(vartuple)\n",
    "    for v in vartuple:\n",
    "        print(v)\n",
    "# printValue(1)\n",
    "printValue(1,2,3,4)\n",
    "# printValue(1,2,\"Three\",4.0)\n"
   ]
  },
  {
   "cell_type": "code",
   "execution_count": 16,
   "id": "ae7840f1",
   "metadata": {},
   "outputs": [
    {
     "name": "stdout",
     "output_type": "stream",
     "text": [
      "150\n",
      "30.0\n"
     ]
    }
   ],
   "source": [
    "## Variable length arguments\n",
    "def Average(*numbers):\n",
    "    sum=0\n",
    "    for num in numbers:\n",
    "        sum+=num\n",
    "    if len(numbers)!=0:\n",
    "        print(sum)\n",
    "        return sum/len(numbers)\n",
    "    else:\n",
    "        return \"There is no numbers for avreage\"\n",
    "\n",
    "\n",
    "# result=Average()\n",
    "# print(result)\n",
    "result=Average(10,20,30,40,50)\n",
    "print(result)\n",
    "\n"
   ]
  },
  {
   "cell_type": "code",
   "execution_count": 85,
   "id": "b63d7486",
   "metadata": {},
   "outputs": [
    {
     "name": "stdout",
     "output_type": "stream",
     "text": [
      "Deepanshu 10\n",
      "Total points 65\n"
     ]
    }
   ],
   "source": [
    "def f1(teachername,batches,*points):\n",
    "    print(teachername,batches)\n",
    "    s=0\n",
    "    for x in points:\n",
    "        s+=x\n",
    "    print('Total points',s)\n",
    "\n",
    "# f1('Deepanshu',10,11,12)\n",
    "f1('Deepanshu',10,11,12,13,14,15)"
   ]
  },
  {
   "cell_type": "code",
   "execution_count": null,
   "id": "bfda3bd5",
   "metadata": {},
   "outputs": [],
   "source": []
  },
  {
   "cell_type": "markdown",
   "id": "e72415af",
   "metadata": {},
   "source": [
    "### This is the combination of variable length arguments and Keyword Arguments"
   ]
  },
  {
   "cell_type": "code",
   "execution_count": 10,
   "id": "ef6c7015",
   "metadata": {},
   "outputs": [
    {
     "name": "stdout",
     "output_type": "stream",
     "text": [
      "{'a': 1, 'b': 2, 'c': 3}\n",
      "a 1\n",
      "b 2\n",
      "c 3\n"
     ]
    }
   ],
   "source": [
    "def fun(**kwargs):                 # first we take argument as **kwargs \n",
    "    print(kwargs)\n",
    "    for key in kwargs:\n",
    "        print(key ,kwargs[key])         \n",
    "        # since it is stored as dictionery we need to use loop \n",
    "        # to acess keys and values \n",
    "\n",
    "        \n",
    "fun(a=1,b=2,c=3)"
   ]
  },
  {
   "cell_type": "code",
   "execution_count": null,
   "id": "17b5c7cf",
   "metadata": {},
   "outputs": [],
   "source": [
    "d={'a':1,'b':2}\n",
    "d['b']"
   ]
  },
  {
   "cell_type": "code",
   "execution_count": 1,
   "id": "eb2de668",
   "metadata": {},
   "outputs": [
    {
     "name": "stdout",
     "output_type": "stream",
     "text": [
      "{'name': 'deepanshu', 'age': 24, 'gender': 'Male'}\n",
      "dict_items([('name', 'deepanshu'), ('age', 24), ('gender', 'Male')])\n",
      "Person Information\n",
      "name -------- deepanshu\n",
      "age -------- 24\n",
      "gender -------- Male\n"
     ]
    }
   ],
   "source": [
    "def f2(**k):\n",
    "    print(k)\n",
    "    print(k.items())\n",
    "    print('Person Information')\n",
    "    for key,value in k.items():\n",
    "        \n",
    "        print(key,'--------',value)\n",
    "        \n",
    "f2(name='deepanshu',age=24,gender=\"Male\")"
   ]
  },
  {
   "cell_type": "code",
   "execution_count": 2,
   "id": "d5097204",
   "metadata": {},
   "outputs": [
    {
     "name": "stdout",
     "output_type": "stream",
     "text": [
      "My name is Robin\n",
      "I'm a amazingguy\n",
      "My vibe is so good\n",
      "I love to hearpunjabi songs\n",
      "My favorite food ischicken\n",
      "I lovepeacefulllife\n"
     ]
    }
   ],
   "source": [
    "def x(*dash):\n",
    "#     print(dash)\n",
    "    print(\"My name is\" , dash[2])\n",
    "    print(\"I'm a amazing\" + dash[4])\n",
    "    print(\"My \" + dash[1]+ \" is so good\")\n",
    "    print(\"I love to hear\" + dash[5])\n",
    "    print(\"My favorite food is\"+ dash[0])\n",
    "    print(\"I love\" + dash[3]+ \"life\")\n",
    "x(\"chicken\",\"vibe\",\"Robin\",\"peacefull\",\"guy\",\"punjabi songs\")\n",
    "\n"
   ]
  },
  {
   "cell_type": "markdown",
   "id": "537667e0",
   "metadata": {},
   "source": [
    "- you can use def function in single line "
   ]
  },
  {
   "cell_type": "code",
   "execution_count": null,
   "id": "12ec879e",
   "metadata": {},
   "outputs": [],
   "source": [
    "def cube(x): return x**6\n",
    "\n",
    "cube(7)"
   ]
  },
  {
   "cell_type": "markdown",
   "id": "fecf5375",
   "metadata": {},
   "source": [
    "- some examples of def function"
   ]
  },
  {
   "cell_type": "code",
   "execution_count": 17,
   "id": "0d1f2186",
   "metadata": {},
   "outputs": [
    {
     "name": "stdout",
     "output_type": "stream",
     "text": [
      "I am from  Sweden\n",
      "I am from  India\n",
      "I am from  Norway\n",
      "I am from  Brazil\n"
     ]
    }
   ],
   "source": [
    "def my_function(country = \"Norway\"):        \n",
    "    print(\"I am from \",country)\n",
    "\n",
    "my_function(\"Sweden\")               \n",
    "# # in a function that we have given the arugment it will work through that \n",
    "my_function(\"India\")\n",
    "my_function() \n",
    "# # in a function that we didn't give argument it will work through default argument\n",
    "my_function(\"Brazil\")"
   ]
  },
  {
   "cell_type": "code",
   "execution_count": 18,
   "id": "0a7ff0cb",
   "metadata": {},
   "outputs": [
    {
     "name": "stdout",
     "output_type": "stream",
     "text": [
      "enter number 2\n",
      "enter number 2\n",
      "enter number 2\n",
      "Additrion 6\n",
      "subtraction -2\n",
      "Multiplication 8\n",
      "Division 0.5\n"
     ]
    }
   ],
   "source": [
    "def math():\n",
    "    \n",
    "    a = int(input('enter number '))\n",
    "    b = int(input('enter number '))\n",
    "    c = int(input('enter number '))\n",
    "   \n",
    "    g= a+b+c\n",
    "    print('Additrion',g)\n",
    "    d= a-b-c\n",
    "    print('subtraction',d)\n",
    "    e= a*b*c\n",
    "    print('Multiplication',e)\n",
    "    f=a/b/c\n",
    "    print('Division',f)\n",
    "    \n",
    "math()\n"
   ]
  },
  {
   "cell_type": "markdown",
   "id": "27e12ea9",
   "metadata": {},
   "source": [
    "## Scope of variables"
   ]
  },
  {
   "cell_type": "markdown",
   "id": "44852fd8",
   "metadata": {},
   "source": [
    "All variables in a program may not be accessible at all locations in that program. This depends on where you have declared a variable.\n",
    "\n",
    "The scope of a variable determines the portion of the program where you can access a particular identifier. \n",
    "\n",
    "There are two basic scopes of variables in Python\n",
    "- Local variables\n",
    "- Global variables\n"
   ]
  },
  {
   "cell_type": "markdown",
   "id": "b8957365",
   "metadata": {},
   "source": [
    "Local  vs. Global variables:-\n",
    "    \n",
    "    \n",
    "Variables that are defined inside a function body have a local scope, and those defined outside have a global scope.\n",
    "\n",
    "This means that local variables can be accessed only inside the function in which they are declared, whereas global variables can be accessed throughout the program body by all functions"
   ]
  },
  {
   "cell_type": "code",
   "execution_count": 19,
   "id": "b9445947",
   "metadata": {
    "scrolled": true
   },
   "outputs": [
    {
     "name": "stdout",
     "output_type": "stream",
     "text": [
      "Hello\n",
      "20\n",
      "10\n",
      "10\n"
     ]
    },
    {
     "ename": "NameError",
     "evalue": "name 'Y' is not defined",
     "output_type": "error",
     "traceback": [
      "\u001b[1;31m---------------------------------------------------------------------------\u001b[0m",
      "\u001b[1;31mNameError\u001b[0m                                 Traceback (most recent call last)",
      "\u001b[1;32m<ipython-input-19-76e8704024b1>\u001b[0m in \u001b[0;36m<module>\u001b[1;34m\u001b[0m\n\u001b[0;32m     10\u001b[0m \u001b[0mfunction\u001b[0m\u001b[1;33m(\u001b[0m\u001b[1;33m)\u001b[0m\u001b[1;33m\u001b[0m\u001b[1;33m\u001b[0m\u001b[0m\n\u001b[0;32m     11\u001b[0m \u001b[0mprint\u001b[0m\u001b[1;33m(\u001b[0m\u001b[0mx\u001b[0m\u001b[1;33m)\u001b[0m\u001b[1;33m\u001b[0m\u001b[1;33m\u001b[0m\u001b[0m\n\u001b[1;32m---> 12\u001b[1;33m \u001b[0mprint\u001b[0m\u001b[1;33m(\u001b[0m\u001b[0mY\u001b[0m\u001b[1;33m)\u001b[0m\u001b[1;33m\u001b[0m\u001b[1;33m\u001b[0m\u001b[0m\n\u001b[0m",
      "\u001b[1;31mNameError\u001b[0m: name 'Y' is not defined"
     ]
    }
   ],
   "source": [
    "x = 10\n",
    "def function():\n",
    "    print(\"Hello\")\n",
    "    \n",
    "    Y= 20 # local variable\n",
    "    print(Y)\n",
    "    print(x)\n",
    "    \n",
    "    \n",
    "function()\n",
    "print(x)\n",
    "print(Y)\n"
   ]
  },
  {
   "cell_type": "markdown",
   "id": "585e2e30",
   "metadata": {},
   "source": [
    "- Local scope variables can only be accessed within its block."
   ]
  },
  {
   "cell_type": "code",
   "execution_count": 20,
   "id": "2a869605",
   "metadata": {},
   "outputs": [
    {
     "name": "stdout",
     "output_type": "stream",
     "text": [
      "Hello\n",
      "20\n",
      "10\n"
     ]
    },
    {
     "ename": "NameError",
     "evalue": "name 'zz' is not defined",
     "output_type": "error",
     "traceback": [
      "\u001b[1;31m---------------------------------------------------------------------------\u001b[0m",
      "\u001b[1;31mNameError\u001b[0m                                 Traceback (most recent call last)",
      "\u001b[1;32m<ipython-input-20-6771f21ee2c0>\u001b[0m in \u001b[0;36m<module>\u001b[1;34m\u001b[0m\n\u001b[0;32m      6\u001b[0m \u001b[0mfunction\u001b[0m\u001b[1;33m(\u001b[0m\u001b[1;33m)\u001b[0m\u001b[1;33m\u001b[0m\u001b[1;33m\u001b[0m\u001b[0m\n\u001b[0;32m      7\u001b[0m \u001b[0mprint\u001b[0m\u001b[1;33m(\u001b[0m\u001b[0mx\u001b[0m\u001b[1;33m)\u001b[0m\u001b[1;33m\u001b[0m\u001b[1;33m\u001b[0m\u001b[0m\n\u001b[1;32m----> 8\u001b[1;33m \u001b[0mprint\u001b[0m\u001b[1;33m(\u001b[0m\u001b[0mzz\u001b[0m\u001b[1;33m)\u001b[0m\u001b[1;33m\u001b[0m\u001b[1;33m\u001b[0m\u001b[0m\n\u001b[0m",
      "\u001b[1;31mNameError\u001b[0m: name 'zz' is not defined"
     ]
    }
   ],
   "source": [
    "x = 10\n",
    "def function():\n",
    "    print(\"Hello\")\n",
    "    zz = 20\n",
    "    print(zz)\n",
    "function()\n",
    "print(x)\n",
    "print(zz)"
   ]
  },
  {
   "cell_type": "code",
   "execution_count": 3,
   "id": "b200b552",
   "metadata": {},
   "outputs": [
    {
     "name": "stdout",
     "output_type": "stream",
     "text": [
      "The Sum of two number is  30\n",
      "The Total is  0\n"
     ]
    }
   ],
   "source": [
    "# This demo is related with scope\n",
    "\n",
    "total=0   # This is a global variable\n",
    "def sum(a,b):\n",
    "    total=a+b    # Here total is local variable\n",
    "    print(\"The Sum of two number is \",total)\n",
    "\n",
    "# Using Sum Func\n",
    "sum(10,20)\n",
    "print(\"The Total is \",total)# it is a gloabal variable\n",
    "\n"
   ]
  },
  {
   "cell_type": "code",
   "execution_count": null,
   "id": "9089c0af",
   "metadata": {},
   "outputs": [],
   "source": []
  },
  {
   "cell_type": "markdown",
   "id": "6f861858",
   "metadata": {},
   "source": [
    "For example, we define a variable Money in the global namespace. Within the function Money, we assign Money a value, therefore Python assumes Money as a local variable. \n",
    "\n",
    "\n",
    "However, we accessed the value of the local variable Money before setting it, so an UnboundLocalError is the result. \n",
    "To overcome this problem we use the  global keyword"
   ]
  },
  {
   "cell_type": "code",
   "execution_count": 4,
   "id": "d8a529d0",
   "metadata": {},
   "outputs": [
    {
     "name": "stdout",
     "output_type": "stream",
     "text": [
      "1000\n"
     ]
    },
    {
     "ename": "UnboundLocalError",
     "evalue": "local variable 'Money' referenced before assignment",
     "output_type": "error",
     "traceback": [
      "\u001b[1;31m---------------------------------------------------------------------------\u001b[0m",
      "\u001b[1;31mUnboundLocalError\u001b[0m                         Traceback (most recent call last)",
      "\u001b[1;32m<ipython-input-4-bac52bddd107>\u001b[0m in \u001b[0;36m<module>\u001b[1;34m\u001b[0m\n\u001b[0;32m      7\u001b[0m \u001b[1;33m\u001b[0m\u001b[0m\n\u001b[0;32m      8\u001b[0m \u001b[0mprint\u001b[0m\u001b[1;33m(\u001b[0m\u001b[0mMoney\u001b[0m\u001b[1;33m)\u001b[0m\u001b[1;33m\u001b[0m\u001b[1;33m\u001b[0m\u001b[0m\n\u001b[1;32m----> 9\u001b[1;33m \u001b[0mAdd_money\u001b[0m\u001b[1;33m(\u001b[0m\u001b[1;33m)\u001b[0m\u001b[1;33m\u001b[0m\u001b[1;33m\u001b[0m\u001b[0m\n\u001b[0m\u001b[0;32m     10\u001b[0m \u001b[0mprint\u001b[0m\u001b[1;33m(\u001b[0m\u001b[0mMoney\u001b[0m\u001b[1;33m)\u001b[0m\u001b[1;33m\u001b[0m\u001b[1;33m\u001b[0m\u001b[0m\n",
      "\u001b[1;32m<ipython-input-4-bac52bddd107>\u001b[0m in \u001b[0;36mAdd_money\u001b[1;34m()\u001b[0m\n\u001b[0;32m      3\u001b[0m \u001b[1;33m\u001b[0m\u001b[0m\n\u001b[0;32m      4\u001b[0m \u001b[1;33m\u001b[0m\u001b[0m\n\u001b[1;32m----> 5\u001b[1;33m     \u001b[0mMoney\u001b[0m\u001b[1;33m=\u001b[0m\u001b[0mMoney\u001b[0m\u001b[1;33m+\u001b[0m\u001b[1;36m100\u001b[0m\u001b[1;33m\u001b[0m\u001b[1;33m\u001b[0m\u001b[0m\n\u001b[0m\u001b[0;32m      6\u001b[0m     \u001b[0mprint\u001b[0m\u001b[1;33m(\u001b[0m\u001b[0mMoney\u001b[0m\u001b[1;33m)\u001b[0m\u001b[1;33m\u001b[0m\u001b[1;33m\u001b[0m\u001b[0m\n\u001b[0;32m      7\u001b[0m \u001b[1;33m\u001b[0m\u001b[0m\n",
      "\u001b[1;31mUnboundLocalError\u001b[0m: local variable 'Money' referenced before assignment"
     ]
    }
   ],
   "source": [
    "Money=1000\n",
    "def Add_money():\n",
    "    \n",
    "#     we can't u[pdatde]\n",
    "    Money=Money+100\n",
    "    print(Money)\n",
    "    \n",
    "print(Money)\n",
    "Add_money()\n",
    "print(Money)"
   ]
  },
  {
   "cell_type": "code",
   "execution_count": 24,
   "id": "ce1f9dae",
   "metadata": {},
   "outputs": [
    {
     "name": "stdout",
     "output_type": "stream",
     "text": [
      "the global variable before the function 2000\n",
      "After assigning the global variable 2001\n",
      "2001\n"
     ]
    }
   ],
   "source": [
    "Money=2000 #global variable\n",
    "\n",
    "def Add_Money():\n",
    "    global Money  #global is used to acces the variable inside the function\n",
    "    Money=Money+1\n",
    "\n",
    "\n",
    "print('the global variable before the function',Money)\n",
    "Add_Money()\n",
    "print('After assigning the global variable',Money)\n",
    "print(Money)\n"
   ]
  },
  {
   "cell_type": "code",
   "execution_count": 25,
   "id": "58ac9c2b",
   "metadata": {},
   "outputs": [
    {
     "name": "stdout",
     "output_type": "stream",
     "text": [
      "Welcome To !\n",
      "Madrid Software\n",
      "Madrid Software\n"
     ]
    }
   ],
   "source": [
    "# This function modifies global variable 's'\n",
    "def f():\n",
    "    global s\n",
    "    print(s)\n",
    "    s = \"Madrid Software\"\n",
    "    print(s)\n",
    "\n",
    "# Global Scope\n",
    "s = \"Welcome To !\"\n",
    "f()\n",
    "print(s)\n"
   ]
  },
  {
   "cell_type": "code",
   "execution_count": 29,
   "id": "b310dac5",
   "metadata": {},
   "outputs": [
    {
     "name": "stdout",
     "output_type": "stream",
     "text": [
      "global :  1\n",
      "Inside f() :  1\n",
      "global :  1\n",
      "Inside g() :  2\n",
      "global :  1\n",
      "Inside h() :  3\n",
      "global :  3\n"
     ]
    }
   ],
   "source": [
    "# Python program to demonstrate\n",
    "# scope of variable\n",
    "a = 1\n",
    "# Uses global because there is no local 'a'\n",
    "def f():\n",
    "    print('Inside f() : ', a)\n",
    "# Variable 'a' is redefined as a local\n",
    "def g():\n",
    "    a = 2\n",
    "    print('Inside g() : ', a)\n",
    "# Uses global keyword to modify global 'a'\n",
    "def h():\n",
    "    global a\n",
    "    a = 3\n",
    "    print('Inside h() : ', a)\n",
    "\n",
    "# Global scope\n",
    "print('global : ', a)\n",
    "f()\n",
    "print('global : ', a)\n",
    "g()\n",
    "print('global : ', a)\n",
    "h()\n",
    "print('global : ', a)\n"
   ]
  },
  {
   "cell_type": "code",
   "execution_count": 4,
   "id": "e4a19e78",
   "metadata": {},
   "outputs": [
    {
     "name": "stdout",
     "output_type": "stream",
     "text": [
      "200\n"
     ]
    }
   ],
   "source": [
    "add(100,100)"
   ]
  }
 ],
 "metadata": {
  "kernelspec": {
   "display_name": "Python 3",
   "language": "python",
   "name": "python3"
  },
  "language_info": {
   "codemirror_mode": {
    "name": "ipython",
    "version": 3
   },
   "file_extension": ".py",
   "mimetype": "text/x-python",
   "name": "python",
   "nbconvert_exporter": "python",
   "pygments_lexer": "ipython3",
   "version": "3.8.8"
  }
 },
 "nbformat": 4,
 "nbformat_minor": 5
}
