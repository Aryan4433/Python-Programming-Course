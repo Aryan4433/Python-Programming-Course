{
 "cells": [
  {
   "cell_type": "markdown",
   "id": "4254af7c",
   "metadata": {},
   "source": [
    "# built in functions:"
   ]
  },
  {
   "cell_type": "markdown",
   "id": "033db24d",
   "metadata": {},
   "source": [
    "# lambda function"
   ]
  },
  {
   "cell_type": "code",
   "execution_count": 1,
   "id": "f95ac857",
   "metadata": {},
   "outputs": [],
   "source": [
    "# syntax = lambda(args:expression)"
   ]
  },
  {
   "cell_type": "code",
   "execution_count": 2,
   "id": "4ddbcccb",
   "metadata": {},
   "outputs": [
    {
     "name": "stdout",
     "output_type": "stream",
     "text": [
      "4\n"
     ]
    }
   ],
   "source": [
    "# add two number using lambda\n",
    "result=(lambda a,b : a+b)\n",
    "print(result(2,2))"
   ]
  },
  {
   "cell_type": "code",
   "execution_count": 6,
   "id": "6e25b822",
   "metadata": {},
   "outputs": [
    {
     "name": "stdout",
     "output_type": "stream",
     "text": [
      "enter a string ARA\n",
      "string is paillidrome\n"
     ]
    }
   ],
   "source": [
    "# paillidrome or not\n",
    "s=input(\"enter a string \")\n",
    "string=(lambda s: \"string is paillidrome\"  if s==s[::-1] else \"string is not paillidrome\")\n",
    "print(string(s))"
   ]
  },
  {
   "cell_type": "code",
   "execution_count": 8,
   "id": "d20614aa",
   "metadata": {},
   "outputs": [
    {
     "name": "stdout",
     "output_type": "stream",
     "text": [
      "Enter a number4\n",
      "64\n"
     ]
    }
   ],
   "source": [
    "c=int(input(\"Enter a number\"))\n",
    "cube=(lambda c:c*c*c)\n",
    "print(cube(c))"
   ]
  },
  {
   "cell_type": "code",
   "execution_count": 10,
   "id": "2b75689d",
   "metadata": {},
   "outputs": [
    {
     "name": "stdout",
     "output_type": "stream",
     "text": [
      "Enter a number6\n",
      "Enter a number8\n",
      "y is greater\n"
     ]
    }
   ],
   "source": [
    "# find greater number \n",
    "x=int(input(\"Enter a number\"))\n",
    "y=int(input(\"Enter a number\"))\n",
    "great=(lambda x,y:\"x is greater \" if x>y else \"y is greater\")\n",
    "print(great(x,y))"
   ]
  },
  {
   "cell_type": "code",
   "execution_count": 19,
   "id": "6a7e575c",
   "metadata": {},
   "outputs": [
    {
     "name": "stdout",
     "output_type": "stream",
     "text": [
      "2\n",
      "4\n",
      "216\n"
     ]
    }
   ],
   "source": [
    "Li=[lambda x:x ,lambda x:x**2,lambda x:x**3]\n",
    "print(Li[0](2))\n",
    "print(Li[1](2))\n",
    "print(Li[2](6))"
   ]
  },
  {
   "cell_type": "code",
   "execution_count": 21,
   "id": "2147b506",
   "metadata": {},
   "outputs": [
    {
     "name": "stdout",
     "output_type": "stream",
     "text": [
      "Enter a number4\n",
      "4\n",
      "16\n",
      "64\n"
     ]
    }
   ],
   "source": [
    "x=int(input(\"Enter a number\"))\n",
    "for i in range(len(Li)):\n",
    "    print(Li[i](x))"
   ]
  },
  {
   "cell_type": "code",
   "execution_count": 23,
   "id": "d5782637",
   "metadata": {},
   "outputs": [
    {
     "name": "stdout",
     "output_type": "stream",
     "text": [
      "Enter a number100\n",
      "even\n"
     ]
    }
   ],
   "source": [
    "# odd or even\n",
    "x=int(input(\"Enter a number\"))\n",
    "check=(lambda x: \"even\" if x%2==0 else \"odd\")\n",
    "print(check(x))"
   ]
  },
  {
   "cell_type": "code",
   "execution_count": 25,
   "id": "b329b1c4",
   "metadata": {},
   "outputs": [
    {
     "name": "stdout",
     "output_type": "stream",
     "text": [
      "Enter a number20\n",
      "40\n"
     ]
    }
   ],
   "source": [
    "# you enter any number but it add 20 automatically\n",
    "x=int(input(\"Enter a number\"))\n",
    "add=(lambda x:x+20)\n",
    "print(add(x))"
   ]
  },
  {
   "cell_type": "code",
   "execution_count": 26,
   "id": "a54d59d1",
   "metadata": {},
   "outputs": [
    {
     "name": "stdout",
     "output_type": "stream",
     "text": [
      "Enter a number5\n",
      "Enter a number1\n",
      "21\n",
      "Enter a number2\n",
      "22\n",
      "Enter a number3\n",
      "23\n",
      "Enter a number4\n",
      "24\n",
      "Enter a number5\n",
      "25\n"
     ]
    }
   ],
   "source": [
    "# you enter multiple numbers but it add 20 automatically\n",
    "x=int(input(\"Enter a number\"))\n",
    "add=(lambda y:y+20)\n",
    "for i in range(x):\n",
    "    y=int(input(\"Enter a number\"))\n",
    "    print(add(y))"
   ]
  },
  {
   "cell_type": "markdown",
   "id": "92984f9d",
   "metadata": {},
   "source": [
    "# Map()"
   ]
  },
  {
   "cell_type": "code",
   "execution_count": null,
   "id": "c274f02f",
   "metadata": {},
   "outputs": [],
   "source": []
  }
 ],
 "metadata": {
  "kernelspec": {
   "display_name": "Python 3",
   "language": "python",
   "name": "python3"
  },
  "language_info": {
   "codemirror_mode": {
    "name": "ipython",
    "version": 3
   },
   "file_extension": ".py",
   "mimetype": "text/x-python",
   "name": "python",
   "nbconvert_exporter": "python",
   "pygments_lexer": "ipython3",
   "version": "3.8.8"
  }
 },
 "nbformat": 4,
 "nbformat_minor": 5
}
