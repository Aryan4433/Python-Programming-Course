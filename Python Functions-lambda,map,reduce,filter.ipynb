{
 "cells": [
  {
   "cell_type": "markdown",
   "id": "3176abb2",
   "metadata": {},
   "source": [
    "## lambda ( Annonymous Function)\n",
    "- These functions are called anonymous because they are not declared in the standard manner by using the def keyword. \n",
    "- You can use the lambda keyword to create small anonymous functions."
   ]
  },
  {
   "cell_type": "markdown",
   "id": "24b17aa5",
   "metadata": {},
   "source": [
    "### Syntax\n",
    "- The syntax of lambda functions contains only a single statement.\n",
    "- lambda [arg1 [,arg2,.....argn]]:expression\n"
   ]
  },
  {
   "cell_type": "code",
   "execution_count": 1,
   "id": "5dbd8fd7",
   "metadata": {},
   "outputs": [
    {
     "name": "stdout",
     "output_type": "stream",
     "text": [
      "30\n"
     ]
    }
   ],
   "source": [
    "#Example 1 Addition from lambda\n",
    "result=(lambda a,b:a+b)(10,20)\n",
    "print(result)\n",
    "# first we assign a two variables \n",
    "# a,b then seperated by colon lambda func that performed a+b "
   ]
  },
  {
   "cell_type": "code",
   "execution_count": 32,
   "id": "9cd4a947",
   "metadata": {},
   "outputs": [
    {
     "name": "stdout",
     "output_type": "stream",
     "text": [
      "[0, 1, 3, 2, 4, 6]\n"
     ]
    }
   ],
   "source": [
    "L=[-6,0,1,3,-9,2,4,6]\n",
    "LL=[]\n",
    "for i in L:\n",
    "    if i>=0:\n",
    "        LL.append(i)\n",
    "    else:\n",
    "        pass\n",
    "print(LL)"
   ]
  },
  {
   "cell_type": "code",
   "execution_count": 48,
   "id": "035e039a",
   "metadata": {},
   "outputs": [],
   "source": [
    "n=int(input('enter n '))\n",
    "for i in range(n):\n",
    "    "
   ]
  },
  {
   "cell_type": "code",
   "execution_count": 49,
   "id": "395278af",
   "metadata": {},
   "outputs": [],
   "source": [
    "ob=snake"
   ]
  },
  {
   "cell_type": "code",
   "execution_count": 51,
   "id": "0175c976",
   "metadata": {},
   "outputs": [
    {
     "name": "stdout",
     "output_type": "stream",
     "text": [
      "anaconda\n"
     ]
    }
   ],
   "source": [
    "print(ob.name)"
   ]
  },
  {
   "cell_type": "code",
   "execution_count": 35,
   "id": "4763d669",
   "metadata": {},
   "outputs": [],
   "source": [
    "x=(lambda s: 'Pallindromic' if s==s[::-1] else 'not pallindr')\n",
    "# print(x)"
   ]
  },
  {
   "cell_type": "code",
   "execution_count": 9,
   "id": "daebd40e",
   "metadata": {},
   "outputs": [
    {
     "name": "stdout",
     "output_type": "stream",
     "text": [
      "level is pallindromic\n"
     ]
    }
   ],
   "source": [
    "a='level'\n",
    "if a==a[::-1]:\n",
    "    print(a,'is pallindromic')\n",
    "else:\n",
    "    print(a,'not pallin dromic')"
   ]
  },
  {
   "cell_type": "code",
   "execution_count": 2,
   "id": "496936aa",
   "metadata": {},
   "outputs": [
    {
     "name": "stdout",
     "output_type": "stream",
     "text": [
      "output of user defined function 125\n",
      "output of lambda function 125\n"
     ]
    }
   ],
   "source": [
    "def cube(y): #user defined function\n",
    "    return y*y*y\n",
    "\n",
    "#Annonymous func OR lambda function\n",
    "lambda_func= lambda y:y**3\n",
    "\n",
    "\n",
    "print('output of user defined function',cube(5))\n",
    "\n",
    "\n",
    "print('output of lambda function',lambda_func(5))\n"
   ]
  },
  {
   "cell_type": "code",
   "execution_count": 3,
   "id": "aa253ca9",
   "metadata": {},
   "outputs": [
    {
     "data": {
      "text/plain": [
       "1000"
      ]
     },
     "execution_count": 3,
     "metadata": {},
     "output_type": "execute_result"
    }
   ],
   "source": [
    "lambda_func(10)"
   ]
  },
  {
   "cell_type": "code",
   "execution_count": 12,
   "id": "d601152e",
   "metadata": {},
   "outputs": [],
   "source": [
    "# ADD=lambda a,b:a+b #2\n",
    "# print(\"the result is\",ADD(1,1))\n",
    "#          #OR\n",
    "add=lambda a,b:a+b #20\n",
    "# print(add)\n",
    "result=add(10,10) \n",
    "# print(\"the result is\",result)\n",
    "#          #OR\n",
    "# result=(lambda a,b:a+b)(100,100)\n",
    "# print(\"the result is\",result)\n",
    "\n",
    "# z=(lambda a,b:a+b),(10,10)\n",
    "# print(\"the result is\",z)\n"
   ]
  },
  {
   "cell_type": "code",
   "execution_count": null,
   "id": "3da42594",
   "metadata": {},
   "outputs": [],
   "source": []
  },
  {
   "cell_type": "code",
   "execution_count": 15,
   "id": "c3dd895a",
   "metadata": {},
   "outputs": [
    {
     "name": "stdout",
     "output_type": "stream",
     "text": [
      "enter x 3\n",
      "enter y 9\n",
      "9\n"
     ]
    }
   ],
   "source": [
    "#Example 2 finding greatest number from lambda\n",
    "max_number=(lambda x,y: x if x>y else y)(int(input('enter x ')),int(input('enter y ')))\n",
    "print(max_number)\n",
    "# first we assign a two variables x,y then seperated by colon and apply the \n",
    "# conditon whcih one is greater betwwn x & y with the help of lambda func\n"
   ]
  },
  {
   "cell_type": "code",
   "execution_count": 15,
   "id": "a51f2433",
   "metadata": {},
   "outputs": [
    {
     "name": "stdout",
     "output_type": "stream",
     "text": [
      "enter two numbers\n",
      "enter num1:34567654\n",
      "enter num2:45674\n",
      "the max number is: 34567654\n"
     ]
    }
   ],
   "source": [
    "print(\"enter two numbers\")\n",
    "max_number=(lambda num1,num2:num1 if num1>num2 else num2)(int(input('enter num1:')),int(input('enter num2:')))\n",
    "\n",
    "print(\"the max number is:\",max_number)\n"
   ]
  },
  {
   "cell_type": "code",
   "execution_count": 16,
   "id": "a6d61a21",
   "metadata": {},
   "outputs": [
    {
     "name": "stdout",
     "output_type": "stream",
     "text": [
      "2\n",
      "4\n",
      "8\n"
     ]
    }
   ],
   "source": [
    "# Example 3 lambda with list\n",
    "Li=[lambda x:x,lambda x:x**2,lambda x:x**3]\n",
    "print(Li[0](2))\n",
    "print(Li[1](2))\n",
    "print(Li[2](2))"
   ]
  },
  {
   "cell_type": "code",
   "execution_count": 17,
   "id": "5de98e6b",
   "metadata": {},
   "outputs": [
    {
     "name": "stdout",
     "output_type": "stream",
     "text": [
      "enter x 10\n",
      "10\n",
      "enter x 20\n",
      "400\n",
      "enter x 5\n",
      "125\n"
     ]
    }
   ],
   "source": [
    "# x=int(input('enter x'))\n",
    "for i in range(len(Li)):\n",
    "    x=int(input('enter x '))\n",
    "    print(Li[i](x))"
   ]
  },
  {
   "cell_type": "code",
   "execution_count": 162,
   "id": "1945277f",
   "metadata": {},
   "outputs": [
    {
     "name": "stdout",
     "output_type": "stream",
     "text": [
      "0\n",
      "1\n",
      "2\n",
      "3\n"
     ]
    }
   ],
   "source": [
    "for i in range(4):\n",
    "    print(i)"
   ]
  },
  {
   "cell_type": "code",
   "execution_count": 18,
   "id": "a8c043e5",
   "metadata": {},
   "outputs": [
    {
     "name": "stdout",
     "output_type": "stream",
     "text": [
      "the output is 16\n",
      "the output is 64\n",
      "the output is 256\n",
      "it is printing from outside the loop 256\n"
     ]
    }
   ],
   "source": [
    "L=[lambda x:x**2,lambda y:y**3,lambda z:z**4]\n",
    "\n",
    "for i in L:\n",
    "    print(\"the output is\",i(4))\n",
    "    \n",
    "\n",
    "print(\"it is printing from outside the loop\",L[2](4))\n",
    "\n"
   ]
  },
  {
   "cell_type": "code",
   "execution_count": 22,
   "id": "dfb642a4",
   "metadata": {},
   "outputs": [
    {
     "name": "stdout",
     "output_type": "stream",
     "text": [
      "ENTER A NUMBER 11\n",
      "Odd\n",
      "enter n 10\n",
      "Even\n"
     ]
    }
   ],
   "source": [
    "func = (lambda x: \"Even\" if x % 2 == 0 else \"Odd\") (int(input('ENTER A NUMBER ')))\n",
    "print(func)\n",
    "\n",
    "#         or\n",
    "func = (lambda x: \"Even\" if x % 2 == 0 else \"Odd\") \n",
    "a=int(input('enter n '))\n",
    "print(func(a))"
   ]
  },
  {
   "cell_type": "code",
   "execution_count": 45,
   "id": "1106df30",
   "metadata": {},
   "outputs": [
    {
     "name": "stdout",
     "output_type": "stream",
     "text": [
      "deepanshu\n",
      "not pallindrome\n"
     ]
    }
   ],
   "source": [
    "x=(lambda string : 'pallindome' if string == string[::-1] else 'not pallindrome')(input('enter a string'))\n",
    "print(x)"
   ]
  },
  {
   "cell_type": "code",
   "execution_count": 26,
   "id": "16763a42",
   "metadata": {},
   "outputs": [
    {
     "name": "stdout",
     "output_type": "stream",
     "text": [
      "enter a stringDEEP\n",
      "deep\n"
     ]
    }
   ],
   "source": [
    "x=(lambda string : string.lower() if string.isupper() else string.upper())(input('enter a string'))\n",
    "print(x)"
   ]
  },
  {
   "cell_type": "code",
   "execution_count": 24,
   "id": "db3b6a0e",
   "metadata": {},
   "outputs": [
    {
     "name": "stdout",
     "output_type": "stream",
     "text": [
      "enter a3\n",
      "enter b2\n",
      "6\n"
     ]
    }
   ],
   "source": [
    "#Write a Python program to create a lambda function that adds 15 to a given number passed in as an argument, \n",
    "#also create a another lambda function that multiplies argument x with argument y and print the result.\n",
    "\n",
    "# n=int(input('enter how many'))\n",
    "# A = (lambda a : a + 15)\n",
    "# for i in range(n):\n",
    "#     q=int(input('enter q'))\n",
    "#     print(A(q))\n",
    "\n",
    "Z = lambda x, y : x * y\n",
    "a=int(input('enter a'))\n",
    "b=int(input('enter b'))\n",
    "print(Z(a,b))\n"
   ]
  },
  {
   "cell_type": "code",
   "execution_count": 26,
   "id": "9661ff80",
   "metadata": {},
   "outputs": [
    {
     "name": "stdout",
     "output_type": "stream",
     "text": [
      "hellohellohellohello\n"
     ]
    }
   ],
   "source": [
    "# def func_compute(n):\n",
    "#     n=int(input('enter n'))\n",
    "#     return lambda x : x * n\n",
    "# result = func_compute(2)\n",
    "# print(result('hello'))\n",
    "# q=(lambda x : x * 4)('hello')\n",
    "# print(q)"
   ]
  },
  {
   "cell_type": "markdown",
   "id": "4c29f07e",
   "metadata": {},
   "source": [
    "### Map()\n",
    "- The map() function iterates through all items in the given iterable and executes the function we passed as an argument on each of them"
   ]
  },
  {
   "cell_type": "code",
   "execution_count": 1,
   "id": "33e237c6",
   "metadata": {},
   "outputs": [],
   "source": [
    "\n",
    "def area_of_square(a):\n",
    "    \n",
    "    return a**2\n",
    "    \n",
    "    "
   ]
  },
  {
   "cell_type": "code",
   "execution_count": 2,
   "id": "a15d8837",
   "metadata": {},
   "outputs": [
    {
     "data": {
      "text/plain": [
       "100"
      ]
     },
     "execution_count": 2,
     "metadata": {},
     "output_type": "execute_result"
    }
   ],
   "source": [
    "area_of_square(10)"
   ]
  },
  {
   "cell_type": "code",
   "execution_count": 15,
   "id": "f07c8cc8",
   "metadata": {},
   "outputs": [],
   "source": [
    "dimensions={1:3,2:4,3:5,4:6}"
   ]
  },
  {
   "cell_type": "code",
   "execution_count": 3,
   "id": "b30e1e09",
   "metadata": {},
   "outputs": [],
   "source": [
    "Di=[1,2,4,5,6]"
   ]
  },
  {
   "cell_type": "code",
   "execution_count": 8,
   "id": "f6a841a2",
   "metadata": {},
   "outputs": [
    {
     "name": "stdout",
     "output_type": "stream",
     "text": [
      "[1, 4, 16, 25, 36]\n"
     ]
    }
   ],
   "source": [
    "d=[]\n",
    "for i in Di:\n",
    "    d.append(area_of_square(i))\n",
    "print(d)"
   ]
  },
  {
   "cell_type": "code",
   "execution_count": 9,
   "id": "80e81ea3",
   "metadata": {},
   "outputs": [
    {
     "name": "stdout",
     "output_type": "stream",
     "text": [
      "<map object at 0x000001AAE8A651C0>\n"
     ]
    }
   ],
   "source": [
    "x=map(area_of_square,Di)\n",
    "print(x)\n"
   ]
  },
  {
   "cell_type": "code",
   "execution_count": 10,
   "id": "4f85cc47",
   "metadata": {},
   "outputs": [
    {
     "data": {
      "text/plain": [
       "(1, 4, 16, 25, 36)"
      ]
     },
     "execution_count": 10,
     "metadata": {},
     "output_type": "execute_result"
    }
   ],
   "source": [
    "tuple(x)"
   ]
  },
  {
   "cell_type": "code",
   "execution_count": 68,
   "id": "5e629fc2",
   "metadata": {},
   "outputs": [
    {
     "name": "stdout",
     "output_type": "stream",
     "text": [
      "(9, 16, 25, 36, 9, 16, 16)\n"
     ]
    },
    {
     "data": {
      "text/plain": [
       "16"
      ]
     },
     "execution_count": 68,
     "metadata": {},
     "output_type": "execute_result"
    }
   ],
   "source": [
    "y=tuple(z)\n",
    "print(y)\n",
    "y[1]"
   ]
  },
  {
   "cell_type": "code",
   "execution_count": 18,
   "id": "dea8e657",
   "metadata": {},
   "outputs": [],
   "source": [
    "N=[100,200]"
   ]
  },
  {
   "cell_type": "code",
   "execution_count": 16,
   "id": "d7974990",
   "metadata": {},
   "outputs": [
    {
     "data": {
      "text/plain": [
       "[1, 4, 9, 16]"
      ]
     },
     "execution_count": 16,
     "metadata": {},
     "output_type": "execute_result"
    }
   ],
   "source": [
    "list(map(area_of_square,dimensions))\n"
   ]
  },
  {
   "cell_type": "code",
   "execution_count": 20,
   "id": "0585236a",
   "metadata": {},
   "outputs": [
    {
     "data": {
      "text/plain": [
       "<map at 0x2d333064340>"
      ]
     },
     "execution_count": 20,
     "metadata": {},
     "output_type": "execute_result"
    }
   ],
   "source": [
    "list(map(area_of_square,N))"
   ]
  },
  {
   "cell_type": "code",
   "execution_count": 24,
   "id": "e3ec5277",
   "metadata": {},
   "outputs": [
    {
     "name": "stdout",
     "output_type": "stream",
     "text": [
      "[1, 4, 16, 25, 36]\n"
     ]
    }
   ],
   "source": [
    "print(d)"
   ]
  },
  {
   "cell_type": "code",
   "execution_count": 17,
   "id": "418fdf81",
   "metadata": {},
   "outputs": [
    {
     "data": {
      "text/plain": [
       "{1, 8, 27, 64, 125, 9261}"
      ]
     },
     "execution_count": 17,
     "metadata": {},
     "output_type": "execute_result"
    }
   ],
   "source": [
    "x={1,2,3,5,3,2,4,21,4,2,4,2,4,2,4,1,4,2,5}\n",
    "def cu(q):\n",
    "    return q**3\n",
    "\n",
    "set(map(cu,x))"
   ]
  },
  {
   "cell_type": "code",
   "execution_count": 12,
   "id": "56b05807",
   "metadata": {},
   "outputs": [],
   "source": [
    "x={1,2,3,5,3,2,4,21,4,2,4,2,4,2,4,1,4,2,5}\n"
   ]
  },
  {
   "cell_type": "code",
   "execution_count": 13,
   "id": "14655f5e",
   "metadata": {},
   "outputs": [
    {
     "name": "stdout",
     "output_type": "stream",
     "text": [
      "{1, 2, 3, 4, 5, 21}\n"
     ]
    }
   ],
   "source": [
    "print(x)"
   ]
  },
  {
   "cell_type": "code",
   "execution_count": 31,
   "id": "3e073425",
   "metadata": {},
   "outputs": [
    {
     "name": "stdout",
     "output_type": "stream",
     "text": [
      "{1, 2, 3, 4, 24, 412}\n"
     ]
    }
   ],
   "source": [
    "r={1,2,1,3,1,3,24,2,412,4,2,4,2,3,4}\n",
    "type(r)\n",
    "print(r)"
   ]
  },
  {
   "cell_type": "code",
   "execution_count": 34,
   "id": "49360b29",
   "metadata": {},
   "outputs": [
    {
     "name": "stdout",
     "output_type": "stream",
     "text": [
      "{1, 4, 9, 441, 16, 25}\n"
     ]
    }
   ],
   "source": [
    "print(set(map(area_of_square,x)))"
   ]
  },
  {
   "cell_type": "code",
   "execution_count": 73,
   "id": "2971d0f9",
   "metadata": {},
   "outputs": [
    {
     "name": "stdout",
     "output_type": "stream",
     "text": [
      "[81, 256, 625, 1296]\n"
     ]
    }
   ],
   "source": [
    "print(list(map(area_of_square,d)))"
   ]
  },
  {
   "cell_type": "code",
   "execution_count": 18,
   "id": "ac7e6be9",
   "metadata": {},
   "outputs": [
    {
     "name": "stdout",
     "output_type": "stream",
     "text": [
      "<map object at 0x000001AAE8B4CA60>\n",
      "(1, 4, 9, 16, 25)\n"
     ]
    }
   ],
   "source": [
    "def newfunc(a):\n",
    "    return a*a\n",
    "\n",
    "x=map(newfunc,(1,2,3,4,5))  #here x is the map object\n",
    "\n",
    "\n",
    "print(x) # it shows the output in hexadecimal\n",
    "print(tuple(x))"
   ]
  },
  {
   "cell_type": "code",
   "execution_count": 21,
   "id": "8a7238bc",
   "metadata": {},
   "outputs": [
    {
     "name": "stdout",
     "output_type": "stream",
     "text": [
      "<map object at 0x000001AAE8B4C970>\n",
      "{4, 5, 6, 7, 8, 9, 11}\n"
     ]
    }
   ],
   "source": [
    "#map function with lambda function\n",
    "\n",
    "List=[1,2,3,4,5,6,6,8]\n",
    "map_lambda= map(lambda x:x+3,List)\n",
    "\n",
    "print(map_lambda)\n",
    "print(set(map_lambda))\n"
   ]
  },
  {
   "cell_type": "code",
   "execution_count": 46,
   "id": "798c7a40",
   "metadata": {},
   "outputs": [
    {
     "name": "stdout",
     "output_type": "stream",
     "text": [
      "{4, 5, 6, 7, 8, 9, 11}\n"
     ]
    }
   ],
   "source": [
    "print(set(map_lambda))"
   ]
  },
  {
   "cell_type": "code",
   "execution_count": 37,
   "id": "bce39e97",
   "metadata": {},
   "outputs": [
    {
     "name": "stdout",
     "output_type": "stream",
     "text": [
      "<map object at 0x000001AAE8A65E20>\n"
     ]
    }
   ],
   "source": [
    "#map func with lambda func\n",
    "names=['deepanshu','verma','python','ai']\n",
    "# names='deepanshu'\n",
    "\n",
    "map_lambda=(map(lambda x:str.upper(x),names))\n",
    "\n",
    "print(map_lambda)\n",
    "\n",
    "\n"
   ]
  },
  {
   "cell_type": "code",
   "execution_count": 38,
   "id": "f800afee",
   "metadata": {},
   "outputs": [
    {
     "data": {
      "text/plain": [
       "{'AI', 'DEEPANSHU', 'PYTHON', 'VERMA'}"
      ]
     },
     "execution_count": 38,
     "metadata": {},
     "output_type": "execute_result"
    }
   ],
   "source": [
    "set(map_lambda)"
   ]
  },
  {
   "cell_type": "code",
   "execution_count": 51,
   "id": "85caf029",
   "metadata": {},
   "outputs": [
    {
     "name": "stdout",
     "output_type": "stream",
     "text": [
      "enter deepanhsu,verma,python,ai\n",
      "['DEEPANHSU', 'VERMA', 'PYTHON', 'AI']\n"
     ]
    }
   ],
   "source": [
    "q=(lambda x:str.upper(x))(input('enter ')).split(',')\n",
    "print(q)"
   ]
  },
  {
   "cell_type": "code",
   "execution_count": 50,
   "id": "a1007bf3",
   "metadata": {},
   "outputs": [
    {
     "name": "stdout",
     "output_type": "stream",
     "text": [
      "1 2 3 4 5\n",
      "['1', '2', '3', '4', '5']\n"
     ]
    }
   ],
   "source": [
    "a=input().split(' ')\n",
    "print(a)\n",
    "# print(b)"
   ]
  },
  {
   "cell_type": "code",
   "execution_count": 73,
   "id": "2d86a0cc",
   "metadata": {},
   "outputs": [
    {
     "name": "stdout",
     "output_type": "stream",
     "text": [
      "deeepanshu\n",
      "verma\n"
     ]
    }
   ],
   "source": [
    "k=('deeepanshu', 'verma')\n",
    "g='deepanshu'\n",
    "for i in k:\n",
    "    print(i)"
   ]
  },
  {
   "cell_type": "code",
   "execution_count": 57,
   "id": "e0807b78",
   "metadata": {},
   "outputs": [
    {
     "data": {
      "text/plain": [
       "\"['deeepansnhu', 'verma']\""
      ]
     },
     "execution_count": 57,
     "metadata": {},
     "output_type": "execute_result"
    }
   ],
   "source": [
    "l=['deeepansnhu','verma']\n",
    "str(l)"
   ]
  },
  {
   "cell_type": "code",
   "execution_count": 41,
   "id": "d21f4d54",
   "metadata": {
    "scrolled": true
   },
   "outputs": [
    {
     "name": "stdout",
     "output_type": "stream",
     "text": [
      "(1, 4, 9, 16, 25, 36, 49)\n"
     ]
    }
   ],
   "source": [
    "li=[1,2,3,4,5,6,7]\n",
    "print(tuple(list(map(lambda x:x**2,li))))"
   ]
  },
  {
   "cell_type": "code",
   "execution_count": 44,
   "id": "50cb3011",
   "metadata": {},
   "outputs": [
    {
     "name": "stdout",
     "output_type": "stream",
     "text": [
      "<class 'dict'> {0: 0, 1: 1, 2: 4, 3: 9, 4: 16, 5: 25, 6: 36, 7: 49, 8: 64, 9: 81}\n"
     ]
    }
   ],
   "source": [
    "a={i:i**2 for i in range(10)}\n",
    "print(type(a),a)"
   ]
  },
  {
   "cell_type": "code",
   "execution_count": 46,
   "id": "0ee9320d",
   "metadata": {},
   "outputs": [
    {
     "data": {
      "text/plain": [
       "[15, 18, 21, 24, 112]"
      ]
     },
     "execution_count": 46,
     "metadata": {},
     "output_type": "execute_result"
    }
   ],
   "source": [
    "a = [1,2,3,4,1]\n",
    "b = [5,6,7,8,100]\n",
    "c = [9,10,11,12,11]\n",
    "\n",
    "list(map(lambda x,y,z : x+y+z ,a,b,c))"
   ]
  },
  {
   "cell_type": "markdown",
   "id": "5155ac88",
   "metadata": {},
   "source": [
    "### Filter()\n",
    "- filter forms a new list which can contain only those elements that satisfies the certain condition"
   ]
  },
  {
   "cell_type": "code",
   "execution_count": 1,
   "id": "463ce825",
   "metadata": {},
   "outputs": [
    {
     "name": "stdout",
     "output_type": "stream",
     "text": [
      "<filter object at 0x0000019B64C0AC40>\n",
      "('3',)\n",
      "(False, False, True, False, False)\n"
     ]
    }
   ],
   "source": [
    "#filter()\n",
    "def f1(x):\n",
    "    return x[0]=='3'\n",
    "#         return x\n",
    "\n",
    "y= (filter(f1,['1','2','3','4','5']))\n",
    "y1= tuple(map(f1,['1','2','3','4','5']))\n",
    "\n",
    "print(y) #shows the output in hexadecimal\n",
    "print(tuple(y))\n",
    "print(tuple(y1))\n",
    "    \n"
   ]
  },
  {
   "cell_type": "code",
   "execution_count": 65,
   "id": "f3baacd0",
   "metadata": {},
   "outputs": [],
   "source": [
    "l=[10,20,99,30,40,50,60,55]\n",
    "def ev(x):\n",
    "    if x%2==0:\n",
    "        return (x)\n",
    "    else:\n",
    "        pass"
   ]
  },
  {
   "cell_type": "code",
   "execution_count": 67,
   "id": "fe9de144",
   "metadata": {},
   "outputs": [
    {
     "name": "stdout",
     "output_type": "stream",
     "text": [
      "[10, 20, 30, 40, 50, 60]\n"
     ]
    }
   ],
   "source": [
    "a=list(filter(ev, l))\n",
    "# print('h')\n",
    "print(a)"
   ]
  },
  {
   "cell_type": "code",
   "execution_count": 70,
   "id": "5c6f0283",
   "metadata": {},
   "outputs": [
    {
     "name": "stdout",
     "output_type": "stream",
     "text": [
      "{33, 99, 11, 77, 55}\n"
     ]
    }
   ],
   "source": [
    "L=[11,22,33,44,55,66,77,88,99,11,33]\n",
    "\n",
    "x=set(filter(lambda y:(y%2!=0),L))\n",
    "\n",
    "print(x)\n"
   ]
  },
  {
   "cell_type": "code",
   "execution_count": 73,
   "id": "fa6cc601",
   "metadata": {},
   "outputs": [
    {
     "name": "stdout",
     "output_type": "stream",
     "text": [
      "list of adults {18, 20, 29, 22}\n",
      "{False, True}\n"
     ]
    }
   ],
   "source": [
    "ages=(12,14,16,18,18,20,22,29)\n",
    "\n",
    "adults=set(list(filter(lambda x:x>=18 ,ages)))\n",
    "adults1=set(list(map(lambda x:x>=18 ,ages)))\n",
    "\n",
    "print('list of adults',adults)\n",
    "print(adults1)\n"
   ]
  },
  {
   "cell_type": "code",
   "execution_count": 78,
   "id": "fc009765",
   "metadata": {},
   "outputs": [
    {
     "name": "stdout",
     "output_type": "stream",
     "text": [
      "[True, False, True, True, False]\n",
      "['Apple', 'Pear', 'Apricot']\n"
     ]
    }
   ],
   "source": [
    "def starts_with_A(s):\n",
    "    return s[0] == \"A\" and s[1]=='p' or s[0]=='P'\n",
    "\n",
    "fruit = [\"Apple\", \"Banana\", \"Pear\", \"Apricot\", \"Orange\"]\n",
    "filter_object = map(starts_with_A, fruit)\n",
    "filter_object1 = filter(starts_with_A, fruit)\n",
    "\n",
    "print(list(filter_object))\n",
    "print(list(filter_object1))"
   ]
  },
  {
   "cell_type": "markdown",
   "id": "ef9de524",
   "metadata": {},
   "source": [
    "### Reduce()\n",
    "- Reduce function works differently than map() and fillter(). it does not return a new datastype list of tuple like a map and fillter.it returns only a single value\n",
    "- Reduce can be found in functools module()"
   ]
  },
  {
   "attachments": {
    "download.png": {
     "image/png": "[encoded data removed]"
    }
   },
   "cell_type": "markdown",
   "id": "33b34e28",
   "metadata": {},
   "source": [
    "![download.png](attachment:download.png)"
   ]
  },
  {
   "cell_type": "code",
   "execution_count": 72,
   "id": "4ded3671",
   "metadata": {},
   "outputs": [
    {
     "name": "stdout",
     "output_type": "stream",
     "text": [
      "113\n"
     ]
    }
   ],
   "source": [
    "from functools import reduce\n",
    "li=[47,11,42,13]\n",
    "# Returns the sum of all the elements using `reduce`\n",
    "x=reduce(lambda a,b:a+b,li)\n",
    "print(x)"
   ]
  },
  {
   "cell_type": "code",
   "execution_count": 80,
   "id": "e62ebf93",
   "metadata": {},
   "outputs": [
    {
     "name": "stdout",
     "output_type": "stream",
     "text": [
      "210\n"
     ]
    }
   ],
   "source": [
    "from functools import reduce\n",
    "# calculates the product of two elements\n",
    "def product(x,y):\n",
    "    return x*y\n",
    "\n",
    "ans = reduce(product, [2, 5, 3, 7])\n",
    "print(ans)\n"
   ]
  },
  {
   "cell_type": "code",
   "execution_count": 87,
   "id": "be3aa410",
   "metadata": {},
   "outputs": [
    {
     "data": {
      "text/plain": [
       "1"
      ]
     },
     "execution_count": 87,
     "metadata": {},
     "output_type": "execute_result"
    }
   ],
   "source": [
    "# Find the smaller value in the list\n",
    "li=[9,47,1,11,42,1]\n",
    "reduce(lambda x,y: x if x<y else y,li)"
   ]
  },
  {
   "cell_type": "code",
   "execution_count": 140,
   "id": "e78b9c27",
   "metadata": {},
   "outputs": [],
   "source": [
    "# li=[1,2,3,4,5]\n",
    "# a=sum(li)\n",
    "# b=0\n",
    "# c=''\n",
    "# for i in li:\n",
    "#     if i>a:\n",
    "#         b=i\n",
    "#     if i<a\n",
    "    \n",
    "# print(b)\n",
    "        \n",
    "    "
   ]
  },
  {
   "cell_type": "code",
   "execution_count": 90,
   "id": "48604ae6",
   "metadata": {},
   "outputs": [
    {
     "name": "stdout",
     "output_type": "stream",
     "text": [
      "100\n"
     ]
    }
   ],
   "source": [
    "s='''def k(a,b):\n",
    "        return (a*b)\n",
    "print(k(10,10))\n",
    "'''\n",
    "exec(s)"
   ]
  },
  {
   "cell_type": "code",
   "execution_count": 91,
   "id": "ab5322b5",
   "metadata": {},
   "outputs": [
    {
     "name": "stdout",
     "output_type": "stream",
     "text": [
      "The minimum in the given list is 1\n",
      "The maximum in the given list is 7\n"
     ]
    }
   ],
   "source": [
    "from functools import reduce\n",
    "\n",
    "\n",
    "def mini(a, b):\n",
    "    if a<b:\n",
    "        return a\n",
    "    else:\n",
    "        return b\n",
    "#    return a if a < b else b\n",
    "\n",
    "\n",
    "def maxi(a, b):\n",
    "   return a if a > b else b\n",
    "\n",
    "nums = [3, 5, 2, 4, 7, 1,5,1]\n",
    "\n",
    "# passing both functions in the reduce along with nums as iterable\n",
    "print('The minimum in the given list is' ,reduce(mini, nums))\n",
    "print(f'The maximum in the given list is {reduce(maxi, nums)}')\n"
   ]
  },
  {
   "cell_type": "code",
   "execution_count": 99,
   "id": "9ab36aea",
   "metadata": {},
   "outputs": [
    {
     "name": "stdout",
     "output_type": "stream",
     "text": [
      "<map object at 0x000001AAE8B6B400>\n",
      "it is a list [6, 8, 10]\n"
     ]
    }
   ],
   "source": [
    "#using filter func within map func\n",
    "\n",
    "a=map(lambda x:x+x,filter(lambda x: (x>=3),(1,2,3,4,5)))\n",
    "print(a)\n",
    "\n",
    "print('it is a list',list(a))\n"
   ]
  },
  {
   "cell_type": "code",
   "execution_count": 157,
   "id": "ec4fb9e7",
   "metadata": {},
   "outputs": [
    {
     "name": "stdout",
     "output_type": "stream",
     "text": [
      "{4, 6, 8, 10, 12}\n"
     ]
    }
   ],
   "source": [
    "#using map func() within filter func()\n",
    "\n",
    "a=filter(lambda x:(x>=3),map(lambda x:x+x,(1,2,3,4,5,6)))\n",
    "\n",
    "print(set(a))"
   ]
  },
  {
   "cell_type": "code",
   "execution_count": 1,
   "id": "c9005bbc",
   "metadata": {},
   "outputs": [
    {
     "name": "stdout",
     "output_type": "stream",
     "text": [
      "36\n"
     ]
    }
   ],
   "source": [
    "#using map() and filter() within reduce\n",
    "from functools import reduce\n",
    "a=reduce(lambda x,y:x+y,map(lambda x:x+x,filter(lambda x:(x>=3),(1,2,3,4,5,6))))\n",
    "\n",
    "print(a)\n"
   ]
  },
  {
   "cell_type": "code",
   "execution_count": 5,
   "id": "a23c4458",
   "metadata": {},
   "outputs": [
    {
     "name": "stdout",
     "output_type": "stream",
     "text": [
      "[0, 1, 1, 2, 3, 5, 8, 13, 21, 34]\n"
     ]
    }
   ],
   "source": [
    "from functools import reduce\n",
    "\n",
    "fib_numbers = lambda y: reduce(lambda x, _: x + [x[-1] + x[-2]], range(y - 2), [0, 1])\n",
    "\n",
    "print(fib_numbers(10))"
   ]
  },
  {
   "cell_type": "code",
   "execution_count": null,
   "id": "d7a93493",
   "metadata": {},
   "outputs": [],
   "source": []
  }
 ],
 "metadata": {
  "kernelspec": {
   "display_name": "Python 3",
   "language": "python",
   "name": "python3"
  },
  "language_info": {
   "codemirror_mode": {
    "name": "ipython",
    "version": 3
   },
   "file_extension": ".py",
   "mimetype": "text/x-python",
   "name": "python",
   "nbconvert_exporter": "python",
   "pygments_lexer": "ipython3",
   "version": "3.8.8"
  }
 },
 "nbformat": 4,
 "nbformat_minor": 5
}
