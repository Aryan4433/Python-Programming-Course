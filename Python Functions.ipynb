{
 "cells": [
  {
   "cell_type": "code",
   "execution_count": 1,
   "id": "e9474a4c",
   "metadata": {},
   "outputs": [],
   "source": [
    "# Functions:\n",
    "#     if we want to do some task repeatly so we use function\n",
    "#     functions are set of code that runs when we call"
   ]
  },
  {
   "cell_type": "code",
   "execution_count": 2,
   "id": "5331bdec",
   "metadata": {},
   "outputs": [],
   "source": [
    "# Types:\n",
    "#     user define function\n",
    "#     built in function"
   ]
  },
  {
   "cell_type": "code",
   "execution_count": 3,
   "id": "2fae8bc0",
   "metadata": {},
   "outputs": [],
   "source": [
    "# USER DEFINE FUNCTIONS\n",
    "# syntax  def for define \n",
    "# define ke time jo variable dete h vo parameter \n",
    "#function calling....ke time jo variable dete h vo argument\n",
    "# then function name():\n",
    "\n",
    "def fun():\n",
    "    print(\"Aryan\")"
   ]
  },
  {
   "cell_type": "code",
   "execution_count": 4,
   "id": "04dfa427",
   "metadata": {},
   "outputs": [
    {
     "name": "stdout",
     "output_type": "stream",
     "text": [
      "Aryan\n"
     ]
    }
   ],
   "source": [
    "fun() #function calling...."
   ]
  },
  {
   "cell_type": "code",
   "execution_count": 5,
   "id": "d773b8a5",
   "metadata": {},
   "outputs": [
    {
     "name": "stdout",
     "output_type": "stream",
     "text": [
      "30\n"
     ]
    }
   ],
   "source": [
    "def add(a,b):\n",
    "    print(a+b)\n",
    "x=10\n",
    "y=20\n",
    "add(x,y)"
   ]
  },
  {
   "cell_type": "code",
   "execution_count": 2,
   "id": "f7c39936",
   "metadata": {},
   "outputs": [
    {
     "name": "stdout",
     "output_type": "stream",
     "text": [
      "summer\n",
      "the result is  200\n"
     ]
    }
   ],
   "source": [
    "def sum():\n",
    "    a=100\n",
    "    b=100\n",
    "    result = a+b\n",
    "    print(\"the result is \",result)\n",
    "print('summer')\n",
    "sum()"
   ]
  },
  {
   "cell_type": "code",
   "execution_count": 9,
   "id": "3f9d3aaf",
   "metadata": {},
   "outputs": [
    {
     "name": "stdout",
     "output_type": "stream",
     "text": [
      "enter a mam\n",
      "paillidrome\n"
     ]
    }
   ],
   "source": [
    "a=(input('enter a '))\n",
    "fun=(lambda a: 'paillidrome' if a==a[::-1] else \"not paillidrome\")\n",
    "print(fun(a))"
   ]
  },
  {
   "cell_type": "code",
   "execution_count": 11,
   "id": "7db0968a",
   "metadata": {},
   "outputs": [
    {
     "name": "stdout",
     "output_type": "stream",
     "text": [
      "Enter a number20\n",
      "35\n"
     ]
    }
   ],
   "source": [
    "a=int(input(\"Enter a number\"))\n",
    "fun=(lambda a: a+15)\n",
    "print(fun(a))"
   ]
  },
  {
   "cell_type": "code",
   "execution_count": 1,
   "id": "442c0900",
   "metadata": {},
   "outputs": [
    {
     "name": "stdout",
     "output_type": "stream",
     "text": [
      "enter a aer\n",
      "AER\n"
     ]
    }
   ],
   "source": [
    "a=(input('enter a '))\n",
    "fun=(lambda a:s.lower() if a.isupper() else a.upper())\n",
    "print(fun(a))"
   ]
  },
  {
   "cell_type": "code",
   "execution_count": 2,
   "id": "b0ae6a7d",
   "metadata": {},
   "outputs": [
    {
     "name": "stdout",
     "output_type": "stream",
     "text": [
      "The sum is  4\n"
     ]
    }
   ],
   "source": [
    "def add(a,b):\n",
    "    print(\"The sum is \",a+b)\n",
    "add(2,2)"
   ]
  },
  {
   "cell_type": "code",
   "execution_count": 1,
   "id": "69838921",
   "metadata": {},
   "outputs": [
    {
     "name": "stdout",
     "output_type": "stream",
     "text": [
      "Befote function call\n",
      "enter a 2\n",
      "enter b 2\n",
      "the addition of two variable is 4\n",
      "After function call \n"
     ]
    }
   ],
   "source": [
    "def add():\n",
    "    a=int(input('enter a '))\n",
    "    b=int(input('enter b '))\n",
    "    result=a+b\n",
    "    print('the addition of two variable is',result)\n",
    "print('Befote function call')\n",
    "add()\n",
    "print('After function call ')"
   ]
  },
  {
   "cell_type": "code",
   "execution_count": null,
   "id": "d93326ff",
   "metadata": {},
   "outputs": [],
   "source": []
  }
 ],
 "metadata": {
  "kernelspec": {
   "display_name": "Python 3",
   "language": "python",
   "name": "python3"
  },
  "language_info": {
   "codemirror_mode": {
    "name": "ipython",
    "version": 3
   },
   "file_extension": ".py",
   "mimetype": "text/x-python",
   "name": "python",
   "nbconvert_exporter": "python",
   "pygments_lexer": "ipython3",
   "version": "3.8.8"
  }
 },
 "nbformat": 4,
 "nbformat_minor": 5
}
