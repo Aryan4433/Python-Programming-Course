{
 "cells": [
  {
   "cell_type": "markdown",
   "id": "318b2cc2",
   "metadata": {},
   "source": [
    "# for loop"
   ]
  },
  {
   "cell_type": "code",
   "execution_count": 1,
   "id": "3bf619f2",
   "metadata": {},
   "outputs": [
    {
     "name": "stdout",
     "output_type": "stream",
     "text": [
      "A\n",
      "R\n",
      "Y\n",
      "A\n",
      "N\n",
      "\n"
     ]
    }
   ],
   "source": [
    "print(\"A\\nR\\nY\\nA\\nN\\n\")"
   ]
  },
  {
   "cell_type": "code",
   "execution_count": 6,
   "id": "befcaf99",
   "metadata": {},
   "outputs": [
    {
     "name": "stdout",
     "output_type": "stream",
     "text": [
      "A\n",
      "1\n",
      "R\n",
      "1\n",
      "Y\n",
      "1\n",
      "A\n",
      "1\n",
      "N\n",
      "1\n",
      "hello\n"
     ]
    }
   ],
   "source": [
    "#we can use loops only on iterable items...\n",
    "#i = itetrator it can be anything \n",
    "name= \"ARYAN\"\n",
    "for i in name:\n",
    "    print(i)\n",
    "    print('1')\n",
    "print(\"hello\")"
   ]
  },
  {
   "cell_type": "code",
   "execution_count": 11,
   "id": "fbca9149",
   "metadata": {},
   "outputs": [
    {
     "name": "stdout",
     "output_type": "stream",
     "text": [
      "1 A\n",
      "2 r\n",
      "3 y\n",
      "4 a\n",
      "5 n\n",
      "6  \n",
      "7 M\n",
      "8 o\n",
      "9 n\n",
      "10 g\n",
      "11 a\n"
     ]
    }
   ],
   "source": [
    "name= \"Aryan Monga\"\n",
    "k=0\n",
    "for i in name:\n",
    "    k=k+1\n",
    "    print(k,i)"
   ]
  },
  {
   "cell_type": "code",
   "execution_count": 37,
   "id": "88409fba",
   "metadata": {},
   "outputs": [
    {
     "name": "stdout",
     "output_type": "stream",
     "text": [
      "vowels 5\n",
      "consonant 21\n",
      "26\n"
     ]
    }
   ],
   "source": [
    "x=[\"A\", \"B\", \"C\", \"D\", \"E\", \"F\", \"G\" ,\"H\", \"I\", \"J\", \"K\", \"L\", \"M\", \"N\", \"O\", \"P\", \"Q\", \"R\", \"S\", \"T\", \"U\", \"V\", \"W\", \"X\",\n",
    "\"Y\", \"Z\"]\n",
    "k=0\n",
    "v=0\n",
    "a= 0\n",
    "for j in x:\n",
    "    if j=='A' or j=='E' or j=='I' or j=='O' or j=='U':\n",
    "        k= k+1\n",
    "     \n",
    "    else:\n",
    "        v= v+1\n",
    "    \n",
    "print(\"vowels\",k)\n",
    "print(\"consonant\",v)\n",
    "for i in x:\n",
    "    a= a+1\n",
    "print(a)\n",
    "\n",
    "        \n",
    "        "
   ]
  },
  {
   "cell_type": "code",
   "execution_count": 1,
   "id": "c00f34e9",
   "metadata": {},
   "outputs": [
    {
     "name": "stdout",
     "output_type": "stream",
     "text": [
      "odd 1\n",
      "even 2\n",
      "odd 3\n",
      "even 4\n",
      "odd 5\n",
      "even 6\n",
      "odd 7\n",
      "even 8\n",
      "odd 9\n",
      "even 10\n",
      "even 5\n",
      "odd 5\n"
     ]
    }
   ],
   "source": [
    "a = [1,2,3,4,5,6,7,8,9,10]\n",
    "e = 0\n",
    "o = 0\n",
    "for i in a:\n",
    "    if i%2==0:\n",
    "        e= e+1\n",
    "        print(\"even\",i)\n",
    "    else:\n",
    "        o = o+1\n",
    "        print(\"odd\",i)\n",
    "        \n",
    "print(\"even\",e) \n",
    "print(\"odd\",o)\n",
    "#addition of list\n",
    "\n"
   ]
  },
  {
   "cell_type": "code",
   "execution_count": 77,
   "id": "d7c40fb0",
   "metadata": {},
   "outputs": [
    {
     "name": "stdout",
     "output_type": "stream",
     "text": [
      "Addition 385\n"
     ]
    }
   ],
   "source": [
    "a = [1,2,3,4,5,6,7,8,9,10]\n",
    "\n",
    "u =0\n",
    "for j in a:\n",
    "     u = u+j**2\n",
    "print(\"Addition\",u)"
   ]
  },
  {
   "cell_type": "code",
   "execution_count": 81,
   "id": "c2ec3482",
   "metadata": {},
   "outputs": [
    {
     "name": "stdout",
     "output_type": "stream",
     "text": [
      "odd 1\n",
      "even 2\n",
      "odd 3\n",
      "even 4\n",
      "odd 5\n",
      "even 6\n",
      "odd 7\n",
      "even 8\n",
      "odd 9\n",
      "even 10\n",
      "even 5\n",
      "odd 5\n",
      "add even 220\n",
      "add odd 1225\n"
     ]
    }
   ],
   "source": [
    "a = [1,2,3,4,5,6,7,8,9,10]\n",
    "e = 0\n",
    "o = 0\n",
    "u = 0\n",
    "s = 0\n",
    "c = 0\n",
    "for i in a:\n",
    "    if i%2==0:\n",
    "        e= e+1\n",
    "        print(\"even\",i)\n",
    "        s = s+i**2\n",
    "        \n",
    "    else:\n",
    "        o = o+1\n",
    "        print(\"odd\",i)\n",
    "        c = c+i**3\n",
    "        \n",
    "print(\"even\",e) \n",
    "print(\"odd\",o)\n",
    "print(\"add even\",s)\n",
    "print(\"add odd\",c)\n",
    "\n"
   ]
  },
  {
   "cell_type": "code",
   "execution_count": 4,
   "id": "c9c9f811",
   "metadata": {},
   "outputs": [
    {
     "name": "stdout",
     "output_type": "stream",
     "text": [
      "Average  5.5\n"
     ]
    }
   ],
   "source": [
    "a = [1,2,3,4,5,6,7,8,9,10]\n",
    "s =0\n",
    "u =0\n",
    "for j in a:\n",
    "    u = u+j\n",
    "    s = s+1\n",
    "    \n",
    "print(\"Average \",u/s)\n"
   ]
  },
  {
   "cell_type": "markdown",
   "id": "1858b4c5",
   "metadata": {},
   "source": [
    "# sunday-2"
   ]
  },
  {
   "cell_type": "markdown",
   "id": "90e1bf80",
   "metadata": {},
   "source": [
    "# range function"
   ]
  },
  {
   "cell_type": "code",
   "execution_count": 2,
   "id": "da5c1b1a",
   "metadata": {},
   "outputs": [
    {
     "name": "stdout",
     "output_type": "stream",
     "text": [
      "1\n",
      "2\n",
      "3\n",
      "4\n",
      "5\n",
      "6\n",
      "7\n",
      "8\n",
      "9\n",
      "10\n"
     ]
    }
   ],
   "source": [
    "#range function last values  is excluded\n",
    "for i in range(1,11):\n",
    "    print(i)"
   ]
  },
  {
   "cell_type": "code",
   "execution_count": 3,
   "id": "5efd9b0a",
   "metadata": {},
   "outputs": [
    {
     "name": "stdout",
     "output_type": "stream",
     "text": [
      "1\n",
      "2\n",
      "3\n",
      "4\n",
      "5\n",
      "6\n",
      "7\n",
      "8\n",
      "9\n",
      "10\n",
      "11\n",
      "12\n",
      "13\n",
      "14\n",
      "15\n",
      "16\n",
      "17\n",
      "18\n",
      "19\n",
      "20\n",
      "21\n",
      "22\n",
      "23\n",
      "24\n",
      "25\n",
      "26\n",
      "27\n",
      "28\n",
      "29\n",
      "30\n",
      "31\n",
      "32\n",
      "33\n",
      "34\n",
      "35\n",
      "36\n",
      "37\n",
      "38\n",
      "39\n",
      "40\n",
      "41\n",
      "42\n",
      "43\n",
      "44\n",
      "45\n",
      "46\n",
      "47\n",
      "48\n",
      "49\n",
      "50\n",
      "51\n",
      "52\n",
      "53\n",
      "54\n",
      "55\n"
     ]
    }
   ],
   "source": [
    "for i in range(1,56):\n",
    "    print(i)"
   ]
  },
  {
   "cell_type": "code",
   "execution_count": 7,
   "id": "21bc8719",
   "metadata": {},
   "outputs": [
    {
     "name": "stdout",
     "output_type": "stream",
     "text": [
      " even 25\n",
      "odd 25\n",
      "sum 22100\n",
      "odd 780625\n"
     ]
    }
   ],
   "source": [
    "#1 to 50\n",
    "se = 0\n",
    "so  = 0\n",
    "s= 0\n",
    "v = 0\n",
    "for i in range(1,51):\n",
    "    if i%2==0:\n",
    "        se = se +1\n",
    "        s = s+i**2\n",
    "    else:\n",
    "        so = so + 1\n",
    "        v = v+i**3\n",
    "print(\" even\",se)\n",
    "print(\"odd\",so)\n",
    "print(\"sum\",s)\n",
    "print(\"odd\",v)\n",
    "    "
   ]
  },
  {
   "cell_type": "code",
   "execution_count": 10,
   "id": "aac90f4a",
   "metadata": {},
   "outputs": [
    {
     "name": "stdout",
     "output_type": "stream",
     "text": [
      "sum if 5500\n",
      "sum else 1400625\n"
     ]
    }
   ],
   "source": [
    "s = 0\n",
    "v = 0\n",
    "o = 0\n",
    "b = 0\n",
    "for i in range(1,51):\n",
    "    if i % 2==0 and i % 5==0:\n",
    "        s = i**2\n",
    "        v = v+s\n",
    "    else:\n",
    "        o = i**3\n",
    "        b = b+o\n",
    "print(\"sum if\",v)\n",
    "print(\"sum else\",b)"
   ]
  },
  {
   "cell_type": "code",
   "execution_count": 25,
   "id": "78d08bb6",
   "metadata": {},
   "outputs": [
    {
     "name": "stdout",
     "output_type": "stream",
     "text": [
      "Enter your number2\n",
      "2\n",
      "4\n",
      "6\n",
      "8\n",
      "10\n",
      "12\n",
      "14\n",
      "16\n",
      "18\n",
      "20\n"
     ]
    }
   ],
   "source": [
    "a = int(input(\"Enter your number\"))\n",
    "\n",
    "for i in range(1,11):\n",
    "    print(a * i )\n",
    "    \n",
    "    \n"
   ]
  },
  {
   "cell_type": "code",
   "execution_count": 27,
   "id": "86c252c8",
   "metadata": {},
   "outputs": [
    {
     "name": "stdout",
     "output_type": "stream",
     "text": [
      "Enter your number2\n",
      "2 * 1 = 2\n",
      "2 * 2 = 2\n",
      "2 * 3 = 2\n",
      "2 * 4 = 2\n",
      "2 * 5 = 2\n",
      "2 * 6 = 2\n",
      "2 * 7 = 2\n",
      "2 * 8 = 2\n",
      "2 * 9 = 2\n",
      "2 * 10 = 2\n"
     ]
    }
   ],
   "source": [
    "a = int(input(\"Enter your number\"))\n",
    "b = 0 \n",
    "for i in range(1,11):\n",
    "    print(a,\"*\",i, \"=\",a*1)"
   ]
  },
  {
   "cell_type": "code",
   "execution_count": 50,
   "id": "8db442df",
   "metadata": {},
   "outputs": [
    {
     "name": "stdout",
     "output_type": "stream",
     "text": [
      "Enter a number0\n",
      "factorial is 1 1\n"
     ]
    }
   ],
   "source": [
    "#factorial\n",
    "a = int(input(\"Enter a number\"))\n",
    "t = 1\n",
    "if a<0:\n",
    "    print(\"Invalid\")\n",
    "elif a==0:\n",
    "    t =1\n",
    "    print(\"factorial is 1\",t)\n",
    "else:\n",
    "    for i in range(1,a+1):\n",
    "        t = t*i\n",
    "    print(\"fact\",t)\n",
    "    \n"
   ]
  },
  {
   "cell_type": "code",
   "execution_count": 52,
   "id": "019d73a5",
   "metadata": {},
   "outputs": [
    {
     "name": "stdout",
     "output_type": "stream",
     "text": [
      "Enter a number4\n",
      "fact 24\n"
     ]
    }
   ],
   "source": [
    "a = int(input(\"Enter a number\"))\n",
    "t = 1\n",
    "for i in range(1,a+1):\n",
    "        t = t*i\n",
    "print(\"fact\",t)"
   ]
  },
  {
   "cell_type": "markdown",
   "id": "798f1974",
   "metadata": {},
   "source": [
    "# many no. averages"
   ]
  },
  {
   "cell_type": "code",
   "execution_count": 65,
   "id": "16abe1e3",
   "metadata": {},
   "outputs": [
    {
     "name": "stdout",
     "output_type": "stream",
     "text": [
      "Enter the number4\n",
      "enter numbers1\n",
      "enter numbers2\n",
      "enter numbers3\n",
      "enter numbers4\n",
      "Average  2.5\n"
     ]
    }
   ],
   "source": [
    "a = int(input(\"Enter the number\"))\n",
    "sum = 0\n",
    "\n",
    "for i in range(1, a+1):\n",
    "    b = int(input(\"enter numbers\"))\n",
    "\n",
    "    sum = sum+i\n",
    "print(\"Average \",sum/a)\n",
    "    "
   ]
  },
  {
   "cell_type": "code",
   "execution_count": 2,
   "id": "b1a7c2d3",
   "metadata": {},
   "outputs": [
    {
     "name": "stdout",
     "output_type": "stream",
     "text": [
      "Enter a number 8\n",
      "8  is not prime\n"
     ]
    }
   ],
   "source": [
    "a = int(input(\"Enter a number \"))\n",
    "count = 0\n",
    "for i in  range(1,a+1):\n",
    "    if a%i == 0:\n",
    "        count = count+1\n",
    "if count == 2:\n",
    "    print(a,\" is Prime number\")\n",
    "else:\n",
    "    print(a,\" is not prime\")\n",
    "        "
   ]
  },
  {
   "cell_type": "code",
   "execution_count": null,
   "id": "facfe840",
   "metadata": {},
   "outputs": [],
   "source": [
    "first 10 mumber fibonacci series"
   ]
  },
  {
   "cell_type": "code",
   "execution_count": 4,
   "id": "68d12728",
   "metadata": {},
   "outputs": [
    {
     "name": "stdout",
     "output_type": "stream",
     "text": [
      "Number of elements in Fibonacci Series : 10\n",
      "[0, 1, 1, 2, 3, 5, 8, 13, 21, 34]\n"
     ]
    }
   ],
   "source": [
    "n = int(input(\"Number of elements in Fibonacci Series : \"))\n",
    "fibonacciSeries = [0,1]\n",
    "\n",
    "if n>2:\n",
    "    for i in range(2, n):\n",
    "        nextElement = fibonacciSeries[i-1] + fibonacciSeries[i-2]\n",
    "        fibonacciSeries.append(nextElement)\n",
    "\n",
    "print(fibonacciSeries)"
   ]
  },
  {
   "cell_type": "code",
   "execution_count": 3,
   "id": "66980839",
   "metadata": {},
   "outputs": [
    {
     "name": "stdout",
     "output_type": "stream",
     "text": [
      "Enter the number10\n",
      "0\n",
      "1\n",
      "1\n",
      "2\n",
      "3\n",
      "5\n",
      "8\n",
      "13\n",
      "21\n",
      "34\n"
     ]
    }
   ],
   "source": [
    "#fibonacci series\n",
    "n= int(input(\"Enter the number\"))\n",
    "a= 0\n",
    "b= 1\n",
    "for i in range(n):\n",
    "    print(a)f\n",
    "    c=a\n",
    "    a= b\n",
    "    b= c+a"
   ]
  },
  {
   "cell_type": "markdown",
   "id": "a51d028d",
   "metadata": {},
   "source": [
    "# step for lopp\n",
    "# saturday..."
   ]
  },
  {
   "cell_type": "code",
   "execution_count": 17,
   "id": "923188c7",
   "metadata": {},
   "outputs": [
    {
     "name": "stdout",
     "output_type": "stream",
     "text": [
      "11\n",
      "10\n",
      "9\n",
      "8\n",
      "7\n",
      "6\n",
      "5\n",
      "4\n",
      "3\n",
      "2\n",
      "1\n"
     ]
    }
   ],
   "source": [
    "for i in range(11,0,-1):\n",
    "    print(i)"
   ]
  },
  {
   "cell_type": "code",
   "execution_count": 18,
   "id": "5b172664",
   "metadata": {},
   "outputs": [
    {
     "name": "stdout",
     "output_type": "stream",
     "text": [
      "1\n",
      "3\n",
      "5\n",
      "7\n",
      "9\n"
     ]
    }
   ],
   "source": [
    "for i in range(1,11,2):\n",
    "    print(i)"
   ]
  },
  {
   "cell_type": "code",
   "execution_count": 23,
   "id": "1c4c7a87",
   "metadata": {},
   "outputs": [
    {
     "name": "stdout",
     "output_type": "stream",
     "text": [
      "99\n",
      "97\n",
      "95\n",
      "93\n",
      "91\n",
      "89\n",
      "87\n",
      "85\n",
      "83\n",
      "81\n",
      "79\n",
      "77\n",
      "75\n",
      "73\n",
      "71\n",
      "69\n",
      "67\n",
      "65\n",
      "63\n",
      "61\n",
      "59\n",
      "57\n",
      "55\n",
      "53\n",
      "51\n",
      "49\n",
      "47\n",
      "45\n",
      "43\n",
      "41\n",
      "39\n",
      "37\n",
      "35\n",
      "33\n",
      "31\n",
      "29\n",
      "27\n",
      "25\n",
      "23\n",
      "21\n",
      "19\n",
      "17\n",
      "15\n",
      "13\n",
      "11\n",
      "9\n",
      "7\n",
      "5\n",
      "3\n",
      "1\n"
     ]
    }
   ],
   "source": [
    "for i in range(99,0,-2):\n",
    "    print(i)"
   ]
  },
  {
   "cell_type": "code",
   "execution_count": 24,
   "id": "a3f71f54",
   "metadata": {},
   "outputs": [
    {
     "name": "stdout",
     "output_type": "stream",
     "text": [
      "100\n",
      "98\n",
      "96\n",
      "94\n",
      "92\n",
      "90\n",
      "88\n",
      "86\n",
      "84\n",
      "82\n",
      "80\n",
      "78\n",
      "76\n",
      "74\n",
      "72\n",
      "70\n",
      "68\n",
      "66\n",
      "64\n",
      "62\n",
      "60\n",
      "58\n",
      "56\n",
      "54\n",
      "52\n",
      "50\n",
      "48\n",
      "46\n",
      "44\n",
      "42\n",
      "40\n",
      "38\n",
      "36\n",
      "34\n",
      "32\n",
      "30\n",
      "28\n",
      "26\n",
      "24\n",
      "22\n",
      "20\n",
      "18\n",
      "16\n",
      "14\n",
      "12\n",
      "10\n",
      "8\n",
      "6\n",
      "4\n",
      "2\n"
     ]
    }
   ],
   "source": [
    "for i in range(100,0,-2):\n",
    "    print(i)"
   ]
  },
  {
   "cell_type": "markdown",
   "id": "be670663",
   "metadata": {},
   "source": [
    "# WHILE LOOP"
   ]
  },
  {
   "cell_type": "code",
   "execution_count": 1,
   "id": "d0b69d37",
   "metadata": {},
   "outputs": [],
   "source": [
    "#WHILE WORK ON CONDITION\n",
    "#while condition:"
   ]
  },
  {
   "cell_type": "code",
   "execution_count": 26,
   "id": "1771fd89",
   "metadata": {},
   "outputs": [
    {
     "name": "stdout",
     "output_type": "stream",
     "text": [
      "The number is  1\n",
      "The number is  2\n",
      "The number is  3\n",
      "The number is  4\n",
      "The number is  5\n",
      "The number is  6\n",
      "The number is  7\n",
      "The number is  8\n",
      "The number is  9\n",
      "The number is  10\n",
      "End\n"
     ]
    }
   ],
   "source": [
    "counter= 1\n",
    "while counter<=10:\n",
    "    print(\"The number is \",counter)\n",
    "    counter = counter + 1\n",
    "\n",
    "print(\"End\")"
   ]
  },
  {
   "cell_type": "code",
   "execution_count": 27,
   "id": "0806f546",
   "metadata": {},
   "outputs": [
    {
     "name": "stdout",
     "output_type": "stream",
     "text": [
      "The number is  2\n",
      "The number is  3\n",
      "The number is  4\n",
      "The number is  5\n"
     ]
    }
   ],
   "source": [
    "counter = 1\n",
    "while counter<=4:\n",
    "    counter = counter +1\n",
    "    print(\"The number is \",counter)"
   ]
  },
  {
   "cell_type": "code",
   "execution_count": 37,
   "id": "fb7956d1",
   "metadata": {},
   "outputs": [
    {
     "name": "stdout",
     "output_type": "stream",
     "text": [
      "Nope\n"
     ]
    }
   ],
   "source": [
    "x = 1\n",
    "while x>1:\n",
    "    print(\"Hello\",x)\n",
    "    x = x+1\n",
    "print(\"Nope\")"
   ]
  },
  {
   "cell_type": "code",
   "execution_count": null,
   "id": "d53f1794",
   "metadata": {},
   "outputs": [],
   "source": [
    "\n"
   ]
  },
  {
   "cell_type": "code",
   "execution_count": 43,
   "id": "54a57c99",
   "metadata": {},
   "outputs": [
    {
     "name": "stdout",
     "output_type": "stream",
     "text": [
      "Enter a number5\n",
      "fact 120\n"
     ]
    }
   ],
   "source": [
    "#Factorial\n",
    "a = int(input(\"Enter a number\")) #5\n",
    "t = 1\n",
    "while a!=0: #a>0\n",
    "    t = t*a\n",
    "    a = a-1\n",
    "print(\"fact\",t)   "
   ]
  },
  {
   "cell_type": "code",
   "execution_count": 56,
   "id": "cd853909",
   "metadata": {},
   "outputs": [
    {
     "name": "stdout",
     "output_type": "stream",
     "text": [
      "Enter the characterp\n",
      "hello\n",
      "Enter againa\n",
      "Enter againq\n",
      "End\n"
     ]
    }
   ],
   "source": [
    "ch= input(\"Enter the character\")\n",
    "while ch!= 'q':\n",
    "    if ch == 'p':\n",
    "        print(\"hello\")\n",
    "    ch = input(\"Enter again\")\n",
    "print(\"End\")"
   ]
  },
  {
   "cell_type": "code",
   "execution_count": 1,
   "id": "2cdb48bc",
   "metadata": {},
   "outputs": [
    {
     "name": "stdout",
     "output_type": "stream",
     "text": [
      "Enter the number1234 5678\n"
     ]
    },
    {
     "ename": "ValueError",
     "evalue": "invalid literal for int() with base 10: '1234 5678'",
     "output_type": "error",
     "traceback": [
      "\u001b[1;31m---------------------------------------------------------------------------\u001b[0m",
      "\u001b[1;31mValueError\u001b[0m                                Traceback (most recent call last)",
      "\u001b[1;32m<ipython-input-1-e8d19a87ec91>\u001b[0m in \u001b[0;36m<module>\u001b[1;34m\u001b[0m\n\u001b[0;32m      1\u001b[0m \u001b[1;31m#count digit\u001b[0m\u001b[1;33m\u001b[0m\u001b[1;33m\u001b[0m\u001b[1;33m\u001b[0m\u001b[0m\n\u001b[1;32m----> 2\u001b[1;33m \u001b[0mn\u001b[0m \u001b[1;33m=\u001b[0m \u001b[0mint\u001b[0m\u001b[1;33m(\u001b[0m\u001b[0minput\u001b[0m\u001b[1;33m(\u001b[0m\u001b[1;34m'Enter the number'\u001b[0m\u001b[1;33m)\u001b[0m\u001b[1;33m)\u001b[0m\u001b[1;33m\u001b[0m\u001b[1;33m\u001b[0m\u001b[0m\n\u001b[0m\u001b[0;32m      3\u001b[0m \u001b[0mcount\u001b[0m\u001b[1;33m=\u001b[0m \u001b[1;36m0\u001b[0m\u001b[1;33m\u001b[0m\u001b[1;33m\u001b[0m\u001b[0m\n\u001b[0;32m      4\u001b[0m \u001b[1;32mwhile\u001b[0m \u001b[0mn\u001b[0m\u001b[1;33m!=\u001b[0m\u001b[1;36m0\u001b[0m\u001b[1;33m:\u001b[0m\u001b[1;33m\u001b[0m\u001b[1;33m\u001b[0m\u001b[0m\n\u001b[0;32m      5\u001b[0m     \u001b[0mn\u001b[0m \u001b[1;33m=\u001b[0m \u001b[0mn\u001b[0m\u001b[1;33m//\u001b[0m\u001b[1;36m10\u001b[0m\u001b[1;33m\u001b[0m\u001b[1;33m\u001b[0m\u001b[0m\n",
      "\u001b[1;31mValueError\u001b[0m: invalid literal for int() with base 10: '1234 5678'"
     ]
    }
   ],
   "source": [
    "#count digit\n",
    "n = int(input('Enter the number'))\n",
    "count= 0\n",
    "while n!=0:\n",
    "    n = n//10\n",
    "    count = count +1\n",
    "print(\"total digit is\",count)\n"
   ]
  },
  {
   "cell_type": "code",
   "execution_count": 64,
   "id": "6d2b423f",
   "metadata": {},
   "outputs": [
    {
     "name": "stdout",
     "output_type": "stream",
     "text": [
      "Enter a number you want to reverse2468\n",
      "8642\n"
     ]
    }
   ],
   "source": [
    "n = int(input(\"Enter a number you want to reverse\"))\n",
    "rev= 0\n",
    "while n!=0:\n",
    "    digit= n%10\n",
    "    rev= rev*10+digit\n",
    "    n= n//10\n",
    "print(rev)"
   ]
  },
  {
   "cell_type": "code",
   "execution_count": 2,
   "id": "b5e43785",
   "metadata": {},
   "outputs": [
    {
     "name": "stdout",
     "output_type": "stream",
     "text": [
      "Enter a number121\n",
      "no. is pallindrome\n"
     ]
    }
   ],
   "source": [
    "n = int(input(\"Enter a number\"))\n",
    "a = n\n",
    "rev = 0\n",
    "while n!=0: \n",
    "    digit= n%10\n",
    "    rev= rev*10+digit\n",
    "    n = n//10\n",
    "if rev == a:\n",
    "        print(\"no. is pallindrome\")\n",
    "else:\n",
    "        print(\"no. is not pallindrom\")"
   ]
  },
  {
   "cell_type": "code",
   "execution_count": 17,
   "id": "3585364b",
   "metadata": {},
   "outputs": [
    {
     "name": "stdout",
     "output_type": "stream",
     "text": [
      "Enter a number10\n",
      "0\n",
      "1\n",
      "1\n",
      "2\n",
      "3\n",
      "5\n",
      "8\n",
      "13\n",
      "21\n",
      "34\n"
     ]
    }
   ],
   "source": [
    "n= int(input(\"Enter a number\"))\n",
    "a = 0\n",
    "b = 1\n",
    "while n!=0:\n",
    "    print(a)\n",
    "    c = a\n",
    "    a = b\n",
    "    b = c + a\n",
    "    n= n-1\n",
    "    \n",
    "   \n",
    "    \n"
   ]
  },
  {
   "cell_type": "code",
   "execution_count": 30,
   "id": "61b9c2f8",
   "metadata": {},
   "outputs": [
    {
     "name": "stdout",
     "output_type": "stream",
     "text": [
      "Enter a number153\n",
      "The no. of digit is  3\n",
      "amstrong number\n"
     ]
    }
   ],
   "source": [
    "#Armstrong Number\n",
    "n = int(input(\"Enter a number\"))\n",
    "a = n\n",
    "x = a\n",
    "count= 0\n",
    "while n!= 0:\n",
    "    \n",
    "    count = count +1\n",
    "    n = n//10  #length short\n",
    "print (\"The no. of digit is \",count)\n",
    "s=0\n",
    "while a!=0:\n",
    "    digit = a%10\n",
    "    s = s + digit**count\n",
    "    a = a//10\n",
    "if x == s:\n",
    "    print(\"amstrong number\")\n",
    "else:\n",
    "    print(\"Number is not armstrong number\")\n",
    "    "
   ]
  },
  {
   "cell_type": "code",
   "execution_count": 32,
   "id": "0ff90b4d",
   "metadata": {},
   "outputs": [
    {
     "name": "stdout",
     "output_type": "stream",
     "text": [
      "Enter a number8\n",
      "8 is a power of 2\n"
     ]
    }
   ],
   "source": [
    "n= int(input(\"Enter a number\"))\n",
    "a=n\n",
    "while n%2==0:\n",
    "    n = n//2\n",
    "if n==1:\n",
    "    print(a,\"is a power of 2\")\n",
    "else:\n",
    "    print(a,\"is not a power of 2\")\n",
    "        "
   ]
  },
  {
   "cell_type": "markdown",
   "id": "6a0ea270",
   "metadata": {},
   "source": [
    "# Jump Statement"
   ]
  },
  {
   "cell_type": "code",
   "execution_count": 39,
   "id": "117a8aa8",
   "metadata": {},
   "outputs": [
    {
     "name": "stdout",
     "output_type": "stream",
     "text": [
      "0\n",
      "1\n",
      "2\n",
      "3\n"
     ]
    }
   ],
   "source": [
    "for i in range(10):\n",
    "    if i == 4:\n",
    "        break\n",
    "    print(i)"
   ]
  },
  {
   "cell_type": "code",
   "execution_count": 41,
   "id": "e972e0fa",
   "metadata": {},
   "outputs": [
    {
     "name": "stdout",
     "output_type": "stream",
     "text": [
      "A\n",
      "r\n",
      "y\n"
     ]
    }
   ],
   "source": [
    "name= 'Aryan'\n",
    "for i in name:\n",
    "    if i =='a':\n",
    "        break\n",
    "    print(i)"
   ]
  },
  {
   "cell_type": "code",
   "execution_count": 42,
   "id": "150a12ca",
   "metadata": {},
   "outputs": [
    {
     "name": "stdout",
     "output_type": "stream",
     "text": [
      "1\n",
      "2\n",
      "3\n",
      "4\n",
      "5\n"
     ]
    }
   ],
   "source": [
    "x=1\n",
    "while x<=10:\n",
    "    print(x)\n",
    "    if x==5:\n",
    "        break\n",
    "    x= x+1"
   ]
  },
  {
   "cell_type": "code",
   "execution_count": 46,
   "id": "d51d2ef9",
   "metadata": {},
   "outputs": [
    {
     "name": "stdout",
     "output_type": "stream",
     "text": [
      "1\n",
      "2\n",
      "3\n",
      "Sum is  6\n",
      "3\n"
     ]
    }
   ],
   "source": [
    "list =[1,2,3,4,5,6]\n",
    "s=0\n",
    "c=0\n",
    "for num in list:\n",
    "    print(num)\n",
    "    s = s+num\n",
    "    c= c+1\n",
    "    if(c==3):\n",
    "        break \n",
    "print(\"Sum is \",s)\n",
    "print(c)"
   ]
  },
  {
   "cell_type": "code",
   "execution_count": 48,
   "id": "4c844b53",
   "metadata": {},
   "outputs": [
    {
     "name": "stdout",
     "output_type": "stream",
     "text": [
      "Sum is  3\n"
     ]
    }
   ],
   "source": [
    "s=0\n",
    "c=0\n",
    "while c<6:\n",
    "    s = s+c\n",
    "    c= c+1\n",
    "    if(c==3):\n",
    "        break \n",
    "print(\"Sum is \",s)"
   ]
  },
  {
   "cell_type": "markdown",
   "id": "f146825f",
   "metadata": {},
   "source": [
    "# continue"
   ]
  },
  {
   "cell_type": "code",
   "execution_count": 52,
   "id": "9ff0f300",
   "metadata": {},
   "outputs": [
    {
     "name": "stdout",
     "output_type": "stream",
     "text": [
      "1\n",
      "2\n",
      "3\n",
      "4\n",
      "6\n",
      "7\n",
      "8\n",
      "9\n",
      "10\n"
     ]
    }
   ],
   "source": [
    "#skip the value \n",
    "for i in range(1,11):\n",
    "    if i==5:\n",
    "        continue\n",
    "        print(\"a\")\n",
    "    print(i)"
   ]
  },
  {
   "cell_type": "code",
   "execution_count": 53,
   "id": "4afb7fc2",
   "metadata": {},
   "outputs": [],
   "source": [
    "for i in range(1,11):\n",
    "    if i==5:\n",
    "        continue\n",
    "        print(\"a\")\n",
    "        print(i)"
   ]
  },
  {
   "cell_type": "code",
   "execution_count": 55,
   "id": "e2fb44c9",
   "metadata": {},
   "outputs": [
    {
     "name": "stdout",
     "output_type": "stream",
     "text": [
      "Hello 5\n"
     ]
    }
   ],
   "source": [
    "for i in range(1,11):\n",
    "    if i==5:\n",
    "        print(\"Hello 5\")\n",
    "        continue\n",
    "        print(\"a\")\n",
    "        "
   ]
  },
  {
   "cell_type": "code",
   "execution_count": 56,
   "id": "b0c4a39c",
   "metadata": {},
   "outputs": [
    {
     "name": "stdout",
     "output_type": "stream",
     "text": [
      "n\n"
     ]
    }
   ],
   "source": [
    "for k in 'Aryan':\n",
    "    if k==\"a\":\n",
    "        continue\n",
    "print(k)"
   ]
  },
  {
   "cell_type": "code",
   "execution_count": 57,
   "id": "274bcb80",
   "metadata": {},
   "outputs": [
    {
     "name": "stdout",
     "output_type": "stream",
     "text": [
      "1\n",
      "2\n",
      "3\n",
      "4\n",
      "6\n",
      "7\n",
      "8\n",
      "9\n",
      "10\n",
      "11\n"
     ]
    }
   ],
   "source": [
    "x= 0\n",
    "while x<=10:\n",
    "    x = x+1\n",
    "    if x==5:\n",
    "        continue\n",
    "    print(x)"
   ]
  },
  {
   "cell_type": "code",
   "execution_count": 61,
   "id": "6c6043dc",
   "metadata": {},
   "outputs": [
    {
     "name": "stdout",
     "output_type": "stream",
     "text": [
      "1\n",
      "2\n",
      "4\n",
      "5\n",
      "6\n",
      "Sum is  15\n"
     ]
    }
   ],
   "source": [
    "s=0\n",
    "c=0\n",
    "while c<6:\n",
    "    s = s+c\n",
    "    c= c+1\n",
    "    if(c==3):\n",
    "        continue \n",
    "    print(c)\n",
    "print(\"Sum is \",s)"
   ]
  },
  {
   "cell_type": "code",
   "execution_count": 62,
   "id": "a123a0bb",
   "metadata": {},
   "outputs": [
    {
     "name": "stdout",
     "output_type": "stream",
     "text": [
      "2\n",
      "3\n",
      "4\n",
      "6\n",
      "7\n",
      "8\n",
      "9\n",
      "Sum is  36\n"
     ]
    }
   ],
   "source": [
    "s=0\n",
    "for c in range(1,9):\n",
    "    s = s+c\n",
    "    c= c+1\n",
    "    if(c==5):\n",
    "        continue \n",
    "    print(c)\n",
    "print(\"Sum is \",s)"
   ]
  },
  {
   "cell_type": "markdown",
   "id": "7762b64f",
   "metadata": {},
   "source": [
    "# pass \n",
    "#ignore the statement"
   ]
  },
  {
   "cell_type": "code",
   "execution_count": 6,
   "id": "be2f7599",
   "metadata": {},
   "outputs": [
    {
     "ename": "SyntaxError",
     "evalue": "invalid syntax (<ipython-input-6-a682d3900d77>, line 2)",
     "output_type": "error",
     "traceback": [
      "\u001b[1;36m  File \u001b[1;32m\"<ipython-input-6-a682d3900d77>\"\u001b[1;36m, line \u001b[1;32m2\u001b[0m\n\u001b[1;33m    if n%2!==0:\u001b[0m\n\u001b[1;37m            ^\u001b[0m\n\u001b[1;31mSyntaxError\u001b[0m\u001b[1;31m:\u001b[0m invalid syntax\n"
     ]
    }
   ],
   "source": [
    "n = int(input(\"ENTer a number\"))\n",
    "if n%2!==0:\n",
    "    print(\"No. is odd\")\n",
    "else:\n",
    "    pass"
   ]
  },
  {
   "cell_type": "markdown",
   "id": "d0f5dd3d",
   "metadata": {},
   "source": [
    "# Nested Loops"
   ]
  },
  {
   "cell_type": "code",
   "execution_count": 72,
   "id": "a31ba292",
   "metadata": {},
   "outputs": [
    {
     "name": "stdout",
     "output_type": "stream",
     "text": [
      "0\n",
      "1\n",
      "2\n"
     ]
    }
   ],
   "source": [
    "for i in range(3):\n",
    "        print(i)"
   ]
  },
  {
   "cell_type": "code",
   "execution_count": 77,
   "id": "72efb9f0",
   "metadata": {},
   "outputs": [
    {
     "name": "stdout",
     "output_type": "stream",
     "text": [
      "parrot\n",
      "perl\n",
      "python\n"
     ]
    }
   ],
   "source": [
    "l = ['parrot','perl','java','python','c','c++']\n",
    "for i in l:\n",
    "    if i[0]=='p':\n",
    "        print(i)"
   ]
  },
  {
   "cell_type": "code",
   "execution_count": 78,
   "id": "96a29ac2",
   "metadata": {},
   "outputs": [
    {
     "name": "stdout",
     "output_type": "stream",
     "text": [
      "parrot\n",
      "perl\n",
      "python\n"
     ]
    }
   ],
   "source": [
    "l = ['parrot','perl','java','python','c','c++']\n",
    "for i in l:\n",
    "    for j in i:\n",
    "        if j =='p':\n",
    "            print(i)\n",
    "        else:\n",
    "            pass\n",
    "    "
   ]
  },
  {
   "cell_type": "code",
   "execution_count": 90,
   "id": "55d90a36",
   "metadata": {},
   "outputs": [
    {
     "name": "stdout",
     "output_type": "stream",
     "text": [
      "Enter a number100\n",
      "new table\n",
      "1 * 1 = 1\n",
      "1 * 2 = 2\n",
      "1 * 3 = 3\n",
      "1 * 4 = 4\n",
      "1 * 5 = 5\n",
      "1 * 6 = 6\n",
      "1 * 7 = 7\n",
      "1 * 8 = 8\n",
      "1 * 9 = 9\n",
      "1 * 10 = 10\n",
      "\n",
      "new table\n",
      "2 * 1 = 2\n",
      "2 * 2 = 4\n",
      "2 * 3 = 6\n",
      "2 * 4 = 8\n",
      "2 * 5 = 10\n",
      "2 * 6 = 12\n",
      "2 * 7 = 14\n",
      "2 * 8 = 16\n",
      "2 * 9 = 18\n",
      "2 * 10 = 20\n",
      "\n",
      "new table\n",
      "3 * 1 = 3\n",
      "3 * 2 = 6\n",
      "3 * 3 = 9\n",
      "3 * 4 = 12\n",
      "3 * 5 = 15\n",
      "3 * 6 = 18\n",
      "3 * 7 = 21\n",
      "3 * 8 = 24\n",
      "3 * 9 = 27\n",
      "3 * 10 = 30\n",
      "\n",
      "new table\n",
      "4 * 1 = 4\n",
      "4 * 2 = 8\n",
      "4 * 3 = 12\n",
      "4 * 4 = 16\n",
      "4 * 5 = 20\n",
      "4 * 6 = 24\n",
      "4 * 7 = 28\n",
      "4 * 8 = 32\n",
      "4 * 9 = 36\n",
      "4 * 10 = 40\n",
      "\n",
      "new table\n",
      "5 * 1 = 5\n",
      "5 * 2 = 10\n",
      "5 * 3 = 15\n",
      "5 * 4 = 20\n",
      "5 * 5 = 25\n",
      "5 * 6 = 30\n",
      "5 * 7 = 35\n",
      "5 * 8 = 40\n",
      "5 * 9 = 45\n",
      "5 * 10 = 50\n",
      "\n",
      "new table\n",
      "6 * 1 = 6\n",
      "6 * 2 = 12\n",
      "6 * 3 = 18\n",
      "6 * 4 = 24\n",
      "6 * 5 = 30\n",
      "6 * 6 = 36\n",
      "6 * 7 = 42\n",
      "6 * 8 = 48\n",
      "6 * 9 = 54\n",
      "6 * 10 = 60\n",
      "\n",
      "new table\n",
      "7 * 1 = 7\n",
      "7 * 2 = 14\n",
      "7 * 3 = 21\n",
      "7 * 4 = 28\n",
      "7 * 5 = 35\n",
      "7 * 6 = 42\n",
      "7 * 7 = 49\n",
      "7 * 8 = 56\n",
      "7 * 9 = 63\n",
      "7 * 10 = 70\n",
      "\n",
      "new table\n",
      "8 * 1 = 8\n",
      "8 * 2 = 16\n",
      "8 * 3 = 24\n",
      "8 * 4 = 32\n",
      "8 * 5 = 40\n",
      "8 * 6 = 48\n",
      "8 * 7 = 56\n",
      "8 * 8 = 64\n",
      "8 * 9 = 72\n",
      "8 * 10 = 80\n",
      "\n",
      "new table\n",
      "9 * 1 = 9\n",
      "9 * 2 = 18\n",
      "9 * 3 = 27\n",
      "9 * 4 = 36\n",
      "9 * 5 = 45\n",
      "9 * 6 = 54\n",
      "9 * 7 = 63\n",
      "9 * 8 = 72\n",
      "9 * 9 = 81\n",
      "9 * 10 = 90\n",
      "\n",
      "new table\n",
      "10 * 1 = 10\n",
      "10 * 2 = 20\n",
      "10 * 3 = 30\n",
      "10 * 4 = 40\n",
      "10 * 5 = 50\n",
      "10 * 6 = 60\n",
      "10 * 7 = 70\n",
      "10 * 8 = 80\n",
      "10 * 9 = 90\n",
      "10 * 10 = 100\n",
      "\n",
      "new table\n",
      "11 * 1 = 11\n",
      "11 * 2 = 22\n",
      "11 * 3 = 33\n",
      "11 * 4 = 44\n",
      "11 * 5 = 55\n",
      "11 * 6 = 66\n",
      "11 * 7 = 77\n",
      "11 * 8 = 88\n",
      "11 * 9 = 99\n",
      "11 * 10 = 110\n",
      "\n",
      "new table\n",
      "12 * 1 = 12\n",
      "12 * 2 = 24\n",
      "12 * 3 = 36\n",
      "12 * 4 = 48\n",
      "12 * 5 = 60\n",
      "12 * 6 = 72\n",
      "12 * 7 = 84\n",
      "12 * 8 = 96\n",
      "12 * 9 = 108\n",
      "12 * 10 = 120\n",
      "\n",
      "new table\n",
      "13 * 1 = 13\n",
      "13 * 2 = 26\n",
      "13 * 3 = 39\n",
      "13 * 4 = 52\n",
      "13 * 5 = 65\n",
      "13 * 6 = 78\n",
      "13 * 7 = 91\n",
      "13 * 8 = 104\n",
      "13 * 9 = 117\n",
      "13 * 10 = 130\n",
      "\n",
      "new table\n",
      "14 * 1 = 14\n",
      "14 * 2 = 28\n",
      "14 * 3 = 42\n",
      "14 * 4 = 56\n",
      "14 * 5 = 70\n",
      "14 * 6 = 84\n",
      "14 * 7 = 98\n",
      "14 * 8 = 112\n",
      "14 * 9 = 126\n",
      "14 * 10 = 140\n",
      "\n",
      "new table\n",
      "15 * 1 = 15\n",
      "15 * 2 = 30\n",
      "15 * 3 = 45\n",
      "15 * 4 = 60\n",
      "15 * 5 = 75\n",
      "15 * 6 = 90\n",
      "15 * 7 = 105\n",
      "15 * 8 = 120\n",
      "15 * 9 = 135\n",
      "15 * 10 = 150\n",
      "\n",
      "new table\n",
      "16 * 1 = 16\n",
      "16 * 2 = 32\n",
      "16 * 3 = 48\n",
      "16 * 4 = 64\n",
      "16 * 5 = 80\n",
      "16 * 6 = 96\n",
      "16 * 7 = 112\n",
      "16 * 8 = 128\n",
      "16 * 9 = 144\n",
      "16 * 10 = 160\n",
      "\n",
      "new table\n",
      "17 * 1 = 17\n",
      "17 * 2 = 34\n",
      "17 * 3 = 51\n",
      "17 * 4 = 68\n",
      "17 * 5 = 85\n",
      "17 * 6 = 102\n",
      "17 * 7 = 119\n",
      "17 * 8 = 136\n",
      "17 * 9 = 153\n",
      "17 * 10 = 170\n",
      "\n",
      "new table\n",
      "18 * 1 = 18\n",
      "18 * 2 = 36\n",
      "18 * 3 = 54\n",
      "18 * 4 = 72\n",
      "18 * 5 = 90\n",
      "18 * 6 = 108\n",
      "18 * 7 = 126\n",
      "18 * 8 = 144\n",
      "18 * 9 = 162\n",
      "18 * 10 = 180\n",
      "\n",
      "new table\n",
      "19 * 1 = 19\n",
      "19 * 2 = 38\n",
      "19 * 3 = 57\n",
      "19 * 4 = 76\n",
      "19 * 5 = 95\n",
      "19 * 6 = 114\n",
      "19 * 7 = 133\n",
      "19 * 8 = 152\n",
      "19 * 9 = 171\n",
      "19 * 10 = 190\n",
      "\n",
      "new table\n",
      "20 * 1 = 20\n",
      "20 * 2 = 40\n",
      "20 * 3 = 60\n",
      "20 * 4 = 80\n",
      "20 * 5 = 100\n",
      "20 * 6 = 120\n",
      "20 * 7 = 140\n",
      "20 * 8 = 160\n",
      "20 * 9 = 180\n",
      "20 * 10 = 200\n",
      "\n",
      "new table\n",
      "21 * 1 = 21\n",
      "21 * 2 = 42\n",
      "21 * 3 = 63\n",
      "21 * 4 = 84\n",
      "21 * 5 = 105\n",
      "21 * 6 = 126\n",
      "21 * 7 = 147\n",
      "21 * 8 = 168\n",
      "21 * 9 = 189\n",
      "21 * 10 = 210\n",
      "\n",
      "new table\n",
      "22 * 1 = 22\n",
      "22 * 2 = 44\n",
      "22 * 3 = 66\n",
      "22 * 4 = 88\n",
      "22 * 5 = 110\n",
      "22 * 6 = 132\n",
      "22 * 7 = 154\n",
      "22 * 8 = 176\n",
      "22 * 9 = 198\n",
      "22 * 10 = 220\n",
      "\n",
      "new table\n",
      "23 * 1 = 23\n",
      "23 * 2 = 46\n",
      "23 * 3 = 69\n",
      "23 * 4 = 92\n",
      "23 * 5 = 115\n",
      "23 * 6 = 138\n",
      "23 * 7 = 161\n",
      "23 * 8 = 184\n",
      "23 * 9 = 207\n",
      "23 * 10 = 230\n",
      "\n",
      "new table\n",
      "24 * 1 = 24\n",
      "24 * 2 = 48\n",
      "24 * 3 = 72\n",
      "24 * 4 = 96\n",
      "24 * 5 = 120\n",
      "24 * 6 = 144\n",
      "24 * 7 = 168\n",
      "24 * 8 = 192\n",
      "24 * 9 = 216\n",
      "24 * 10 = 240\n",
      "\n",
      "new table\n",
      "25 * 1 = 25\n",
      "25 * 2 = 50\n",
      "25 * 3 = 75\n",
      "25 * 4 = 100\n",
      "25 * 5 = 125\n",
      "25 * 6 = 150\n",
      "25 * 7 = 175\n",
      "25 * 8 = 200\n",
      "25 * 9 = 225\n",
      "25 * 10 = 250\n",
      "\n",
      "new table\n",
      "26 * 1 = 26\n",
      "26 * 2 = 52\n",
      "26 * 3 = 78\n",
      "26 * 4 = 104\n",
      "26 * 5 = 130\n",
      "26 * 6 = 156\n",
      "26 * 7 = 182\n",
      "26 * 8 = 208\n",
      "26 * 9 = 234\n",
      "26 * 10 = 260\n",
      "\n",
      "new table\n",
      "27 * 1 = 27\n",
      "27 * 2 = 54\n",
      "27 * 3 = 81\n",
      "27 * 4 = 108\n",
      "27 * 5 = 135\n",
      "27 * 6 = 162\n",
      "27 * 7 = 189\n",
      "27 * 8 = 216\n",
      "27 * 9 = 243\n",
      "27 * 10 = 270\n",
      "\n",
      "new table\n",
      "28 * 1 = 28\n",
      "28 * 2 = 56\n",
      "28 * 3 = 84\n",
      "28 * 4 = 112\n",
      "28 * 5 = 140\n",
      "28 * 6 = 168\n",
      "28 * 7 = 196\n",
      "28 * 8 = 224\n",
      "28 * 9 = 252\n",
      "28 * 10 = 280\n",
      "\n",
      "new table\n",
      "29 * 1 = 29\n",
      "29 * 2 = 58\n",
      "29 * 3 = 87\n",
      "29 * 4 = 116\n",
      "29 * 5 = 145\n",
      "29 * 6 = 174\n",
      "29 * 7 = 203\n",
      "29 * 8 = 232\n",
      "29 * 9 = 261\n",
      "29 * 10 = 290\n",
      "\n",
      "new table\n",
      "30 * 1 = 30\n",
      "30 * 2 = 60\n",
      "30 * 3 = 90\n",
      "30 * 4 = 120\n",
      "30 * 5 = 150\n",
      "30 * 6 = 180\n",
      "30 * 7 = 210\n",
      "30 * 8 = 240\n",
      "30 * 9 = 270\n",
      "30 * 10 = 300\n",
      "\n",
      "new table\n",
      "31 * 1 = 31\n",
      "31 * 2 = 62\n",
      "31 * 3 = 93\n",
      "31 * 4 = 124\n",
      "31 * 5 = 155\n",
      "31 * 6 = 186\n",
      "31 * 7 = 217\n",
      "31 * 8 = 248\n",
      "31 * 9 = 279\n",
      "31 * 10 = 310\n",
      "\n",
      "new table\n",
      "32 * 1 = 32\n",
      "32 * 2 = 64\n",
      "32 * 3 = 96\n",
      "32 * 4 = 128\n",
      "32 * 5 = 160\n",
      "32 * 6 = 192\n",
      "32 * 7 = 224\n",
      "32 * 8 = 256\n",
      "32 * 9 = 288\n",
      "32 * 10 = 320\n",
      "\n",
      "new table\n",
      "33 * 1 = 33\n",
      "33 * 2 = 66\n",
      "33 * 3 = 99\n",
      "33 * 4 = 132\n",
      "33 * 5 = 165\n",
      "33 * 6 = 198\n",
      "33 * 7 = 231\n",
      "33 * 8 = 264\n",
      "33 * 9 = 297\n",
      "33 * 10 = 330\n",
      "\n",
      "new table\n",
      "34 * 1 = 34\n",
      "34 * 2 = 68\n",
      "34 * 3 = 102\n",
      "34 * 4 = 136\n",
      "34 * 5 = 170\n",
      "34 * 6 = 204\n",
      "34 * 7 = 238\n",
      "34 * 8 = 272\n",
      "34 * 9 = 306\n",
      "34 * 10 = 340\n",
      "\n",
      "new table\n",
      "35 * 1 = 35\n",
      "35 * 2 = 70\n",
      "35 * 3 = 105\n",
      "35 * 4 = 140\n",
      "35 * 5 = 175\n",
      "35 * 6 = 210\n",
      "35 * 7 = 245\n",
      "35 * 8 = 280\n",
      "35 * 9 = 315\n",
      "35 * 10 = 350\n",
      "\n",
      "new table\n",
      "36 * 1 = 36\n",
      "36 * 2 = 72\n",
      "36 * 3 = 108\n",
      "36 * 4 = 144\n",
      "36 * 5 = 180\n",
      "36 * 6 = 216\n",
      "36 * 7 = 252\n",
      "36 * 8 = 288\n",
      "36 * 9 = 324\n",
      "36 * 10 = 360\n",
      "\n",
      "new table\n",
      "37 * 1 = 37\n",
      "37 * 2 = 74\n",
      "37 * 3 = 111\n",
      "37 * 4 = 148\n",
      "37 * 5 = 185\n",
      "37 * 6 = 222\n",
      "37 * 7 = 259\n",
      "37 * 8 = 296\n",
      "37 * 9 = 333\n",
      "37 * 10 = 370\n",
      "\n",
      "new table\n",
      "38 * 1 = 38\n",
      "38 * 2 = 76\n",
      "38 * 3 = 114\n",
      "38 * 4 = 152\n",
      "38 * 5 = 190\n",
      "38 * 6 = 228\n",
      "38 * 7 = 266\n",
      "38 * 8 = 304\n",
      "38 * 9 = 342\n",
      "38 * 10 = 380\n",
      "\n",
      "new table\n",
      "39 * 1 = 39\n",
      "39 * 2 = 78\n",
      "39 * 3 = 117\n",
      "39 * 4 = 156\n",
      "39 * 5 = 195\n",
      "39 * 6 = 234\n",
      "39 * 7 = 273\n",
      "39 * 8 = 312\n",
      "39 * 9 = 351\n",
      "39 * 10 = 390\n",
      "\n",
      "new table\n",
      "40 * 1 = 40\n",
      "40 * 2 = 80\n",
      "40 * 3 = 120\n",
      "40 * 4 = 160\n",
      "40 * 5 = 200\n",
      "40 * 6 = 240\n",
      "40 * 7 = 280\n",
      "40 * 8 = 320\n",
      "40 * 9 = 360\n",
      "40 * 10 = 400\n",
      "\n",
      "new table\n",
      "41 * 1 = 41\n",
      "41 * 2 = 82\n",
      "41 * 3 = 123\n",
      "41 * 4 = 164\n",
      "41 * 5 = 205\n",
      "41 * 6 = 246\n",
      "41 * 7 = 287\n",
      "41 * 8 = 328\n",
      "41 * 9 = 369\n",
      "41 * 10 = 410\n",
      "\n",
      "new table\n",
      "42 * 1 = 42\n",
      "42 * 2 = 84\n",
      "42 * 3 = 126\n",
      "42 * 4 = 168\n",
      "42 * 5 = 210\n",
      "42 * 6 = 252\n",
      "42 * 7 = 294\n",
      "42 * 8 = 336\n",
      "42 * 9 = 378\n",
      "42 * 10 = 420\n",
      "\n",
      "new table\n",
      "43 * 1 = 43\n",
      "43 * 2 = 86\n",
      "43 * 3 = 129\n",
      "43 * 4 = 172\n",
      "43 * 5 = 215\n",
      "43 * 6 = 258\n",
      "43 * 7 = 301\n",
      "43 * 8 = 344\n",
      "43 * 9 = 387\n",
      "43 * 10 = 430\n",
      "\n",
      "new table\n",
      "44 * 1 = 44\n",
      "44 * 2 = 88\n",
      "44 * 3 = 132\n",
      "44 * 4 = 176\n",
      "44 * 5 = 220\n",
      "44 * 6 = 264\n",
      "44 * 7 = 308\n",
      "44 * 8 = 352\n",
      "44 * 9 = 396\n",
      "44 * 10 = 440\n",
      "\n",
      "new table\n",
      "45 * 1 = 45\n",
      "45 * 2 = 90\n",
      "45 * 3 = 135\n",
      "45 * 4 = 180\n",
      "45 * 5 = 225\n",
      "45 * 6 = 270\n",
      "45 * 7 = 315\n",
      "45 * 8 = 360\n",
      "45 * 9 = 405\n",
      "45 * 10 = 450\n",
      "\n",
      "new table\n",
      "46 * 1 = 46\n",
      "46 * 2 = 92\n",
      "46 * 3 = 138\n",
      "46 * 4 = 184\n",
      "46 * 5 = 230\n",
      "46 * 6 = 276\n",
      "46 * 7 = 322\n",
      "46 * 8 = 368\n",
      "46 * 9 = 414\n",
      "46 * 10 = 460\n",
      "\n",
      "new table\n",
      "47 * 1 = 47\n",
      "47 * 2 = 94\n",
      "47 * 3 = 141\n",
      "47 * 4 = 188\n",
      "47 * 5 = 235\n",
      "47 * 6 = 282\n",
      "47 * 7 = 329\n",
      "47 * 8 = 376\n",
      "47 * 9 = 423\n",
      "47 * 10 = 470\n",
      "\n",
      "new table\n",
      "48 * 1 = 48\n",
      "48 * 2 = 96\n",
      "48 * 3 = 144\n",
      "48 * 4 = 192\n",
      "48 * 5 = 240\n",
      "48 * 6 = 288\n",
      "48 * 7 = 336\n",
      "48 * 8 = 384\n",
      "48 * 9 = 432\n",
      "48 * 10 = 480\n",
      "\n",
      "new table\n",
      "49 * 1 = 49\n",
      "49 * 2 = 98\n",
      "49 * 3 = 147\n",
      "49 * 4 = 196\n",
      "49 * 5 = 245\n",
      "49 * 6 = 294\n",
      "49 * 7 = 343\n",
      "49 * 8 = 392\n",
      "49 * 9 = 441\n",
      "49 * 10 = 490\n",
      "\n",
      "new table\n",
      "50 * 1 = 50\n",
      "50 * 2 = 100\n",
      "50 * 3 = 150\n",
      "50 * 4 = 200\n",
      "50 * 5 = 250\n",
      "50 * 6 = 300\n",
      "50 * 7 = 350\n",
      "50 * 8 = 400\n",
      "50 * 9 = 450\n",
      "50 * 10 = 500\n",
      "\n",
      "new table\n",
      "51 * 1 = 51\n",
      "51 * 2 = 102\n",
      "51 * 3 = 153\n",
      "51 * 4 = 204\n",
      "51 * 5 = 255\n",
      "51 * 6 = 306\n",
      "51 * 7 = 357\n",
      "51 * 8 = 408\n",
      "51 * 9 = 459\n",
      "51 * 10 = 510\n",
      "\n",
      "new table\n",
      "52 * 1 = 52\n",
      "52 * 2 = 104\n",
      "52 * 3 = 156\n",
      "52 * 4 = 208\n",
      "52 * 5 = 260\n",
      "52 * 6 = 312\n",
      "52 * 7 = 364\n",
      "52 * 8 = 416\n",
      "52 * 9 = 468\n",
      "52 * 10 = 520\n",
      "\n",
      "new table\n",
      "53 * 1 = 53\n",
      "53 * 2 = 106\n",
      "53 * 3 = 159\n",
      "53 * 4 = 212\n",
      "53 * 5 = 265\n",
      "53 * 6 = 318\n",
      "53 * 7 = 371\n",
      "53 * 8 = 424\n",
      "53 * 9 = 477\n",
      "53 * 10 = 530\n",
      "\n",
      "new table\n",
      "54 * 1 = 54\n",
      "54 * 2 = 108\n",
      "54 * 3 = 162\n",
      "54 * 4 = 216\n",
      "54 * 5 = 270\n",
      "54 * 6 = 324\n",
      "54 * 7 = 378\n",
      "54 * 8 = 432\n",
      "54 * 9 = 486\n",
      "54 * 10 = 540\n",
      "\n",
      "new table\n",
      "55 * 1 = 55\n",
      "55 * 2 = 110\n",
      "55 * 3 = 165\n",
      "55 * 4 = 220\n",
      "55 * 5 = 275\n",
      "55 * 6 = 330\n",
      "55 * 7 = 385\n",
      "55 * 8 = 440\n",
      "55 * 9 = 495\n",
      "55 * 10 = 550\n",
      "\n",
      "new table\n",
      "56 * 1 = 56\n",
      "56 * 2 = 112\n",
      "56 * 3 = 168\n",
      "56 * 4 = 224\n",
      "56 * 5 = 280\n",
      "56 * 6 = 336\n",
      "56 * 7 = 392\n",
      "56 * 8 = 448\n",
      "56 * 9 = 504\n",
      "56 * 10 = 560\n",
      "\n",
      "new table\n",
      "57 * 1 = 57\n",
      "57 * 2 = 114\n",
      "57 * 3 = 171\n",
      "57 * 4 = 228\n",
      "57 * 5 = 285\n",
      "57 * 6 = 342\n",
      "57 * 7 = 399\n",
      "57 * 8 = 456\n",
      "57 * 9 = 513\n",
      "57 * 10 = 570\n",
      "\n",
      "new table\n",
      "58 * 1 = 58\n",
      "58 * 2 = 116\n",
      "58 * 3 = 174\n",
      "58 * 4 = 232\n",
      "58 * 5 = 290\n",
      "58 * 6 = 348\n",
      "58 * 7 = 406\n",
      "58 * 8 = 464\n",
      "58 * 9 = 522\n",
      "58 * 10 = 580\n",
      "\n",
      "new table\n",
      "59 * 1 = 59\n",
      "59 * 2 = 118\n",
      "59 * 3 = 177\n",
      "59 * 4 = 236\n",
      "59 * 5 = 295\n",
      "59 * 6 = 354\n",
      "59 * 7 = 413\n",
      "59 * 8 = 472\n",
      "59 * 9 = 531\n",
      "59 * 10 = 590\n",
      "\n",
      "new table\n",
      "60 * 1 = 60\n",
      "60 * 2 = 120\n",
      "60 * 3 = 180\n",
      "60 * 4 = 240\n",
      "60 * 5 = 300\n",
      "60 * 6 = 360\n",
      "60 * 7 = 420\n",
      "60 * 8 = 480\n",
      "60 * 9 = 540\n",
      "60 * 10 = 600\n",
      "\n",
      "new table\n",
      "61 * 1 = 61\n",
      "61 * 2 = 122\n",
      "61 * 3 = 183\n",
      "61 * 4 = 244\n",
      "61 * 5 = 305\n",
      "61 * 6 = 366\n",
      "61 * 7 = 427\n",
      "61 * 8 = 488\n",
      "61 * 9 = 549\n",
      "61 * 10 = 610\n",
      "\n",
      "new table\n",
      "62 * 1 = 62\n",
      "62 * 2 = 124\n",
      "62 * 3 = 186\n",
      "62 * 4 = 248\n",
      "62 * 5 = 310\n",
      "62 * 6 = 372\n",
      "62 * 7 = 434\n",
      "62 * 8 = 496\n",
      "62 * 9 = 558\n",
      "62 * 10 = 620\n",
      "\n",
      "new table\n",
      "63 * 1 = 63\n",
      "63 * 2 = 126\n",
      "63 * 3 = 189\n",
      "63 * 4 = 252\n",
      "63 * 5 = 315\n",
      "63 * 6 = 378\n",
      "63 * 7 = 441\n",
      "63 * 8 = 504\n",
      "63 * 9 = 567\n",
      "63 * 10 = 630\n",
      "\n",
      "new table\n",
      "64 * 1 = 64\n",
      "64 * 2 = 128\n",
      "64 * 3 = 192\n",
      "64 * 4 = 256\n",
      "64 * 5 = 320\n",
      "64 * 6 = 384\n",
      "64 * 7 = 448\n",
      "64 * 8 = 512\n",
      "64 * 9 = 576\n",
      "64 * 10 = 640\n",
      "\n",
      "new table\n",
      "65 * 1 = 65\n",
      "65 * 2 = 130\n",
      "65 * 3 = 195\n",
      "65 * 4 = 260\n",
      "65 * 5 = 325\n",
      "65 * 6 = 390\n",
      "65 * 7 = 455\n",
      "65 * 8 = 520\n",
      "65 * 9 = 585\n",
      "65 * 10 = 650\n",
      "\n",
      "new table\n",
      "66 * 1 = 66\n",
      "66 * 2 = 132\n",
      "66 * 3 = 198\n",
      "66 * 4 = 264\n",
      "66 * 5 = 330\n",
      "66 * 6 = 396\n",
      "66 * 7 = 462\n",
      "66 * 8 = 528\n",
      "66 * 9 = 594\n",
      "66 * 10 = 660\n",
      "\n",
      "new table\n",
      "67 * 1 = 67\n",
      "67 * 2 = 134\n",
      "67 * 3 = 201\n",
      "67 * 4 = 268\n",
      "67 * 5 = 335\n"
     ]
    },
    {
     "name": "stdout",
     "output_type": "stream",
     "text": [
      "67 * 6 = 402\n",
      "67 * 7 = 469\n",
      "67 * 8 = 536\n",
      "67 * 9 = 603\n",
      "67 * 10 = 670\n",
      "\n",
      "new table\n",
      "68 * 1 = 68\n",
      "68 * 2 = 136\n",
      "68 * 3 = 204\n",
      "68 * 4 = 272\n",
      "68 * 5 = 340\n",
      "68 * 6 = 408\n",
      "68 * 7 = 476\n",
      "68 * 8 = 544\n",
      "68 * 9 = 612\n",
      "68 * 10 = 680\n",
      "\n",
      "new table\n",
      "69 * 1 = 69\n",
      "69 * 2 = 138\n",
      "69 * 3 = 207\n",
      "69 * 4 = 276\n",
      "69 * 5 = 345\n",
      "69 * 6 = 414\n",
      "69 * 7 = 483\n",
      "69 * 8 = 552\n",
      "69 * 9 = 621\n",
      "69 * 10 = 690\n",
      "\n",
      "new table\n",
      "70 * 1 = 70\n",
      "70 * 2 = 140\n",
      "70 * 3 = 210\n",
      "70 * 4 = 280\n",
      "70 * 5 = 350\n",
      "70 * 6 = 420\n",
      "70 * 7 = 490\n",
      "70 * 8 = 560\n",
      "70 * 9 = 630\n",
      "70 * 10 = 700\n",
      "\n",
      "new table\n",
      "71 * 1 = 71\n",
      "71 * 2 = 142\n",
      "71 * 3 = 213\n",
      "71 * 4 = 284\n",
      "71 * 5 = 355\n",
      "71 * 6 = 426\n",
      "71 * 7 = 497\n",
      "71 * 8 = 568\n",
      "71 * 9 = 639\n",
      "71 * 10 = 710\n",
      "\n",
      "new table\n",
      "72 * 1 = 72\n",
      "72 * 2 = 144\n",
      "72 * 3 = 216\n",
      "72 * 4 = 288\n",
      "72 * 5 = 360\n",
      "72 * 6 = 432\n",
      "72 * 7 = 504\n",
      "72 * 8 = 576\n",
      "72 * 9 = 648\n",
      "72 * 10 = 720\n",
      "\n",
      "new table\n",
      "73 * 1 = 73\n",
      "73 * 2 = 146\n",
      "73 * 3 = 219\n",
      "73 * 4 = 292\n",
      "73 * 5 = 365\n",
      "73 * 6 = 438\n",
      "73 * 7 = 511\n",
      "73 * 8 = 584\n",
      "73 * 9 = 657\n",
      "73 * 10 = 730\n",
      "\n",
      "new table\n",
      "74 * 1 = 74\n",
      "74 * 2 = 148\n",
      "74 * 3 = 222\n",
      "74 * 4 = 296\n",
      "74 * 5 = 370\n",
      "74 * 6 = 444\n",
      "74 * 7 = 518\n",
      "74 * 8 = 592\n",
      "74 * 9 = 666\n",
      "74 * 10 = 740\n",
      "\n",
      "new table\n",
      "75 * 1 = 75\n",
      "75 * 2 = 150\n",
      "75 * 3 = 225\n",
      "75 * 4 = 300\n",
      "75 * 5 = 375\n",
      "75 * 6 = 450\n",
      "75 * 7 = 525\n",
      "75 * 8 = 600\n",
      "75 * 9 = 675\n",
      "75 * 10 = 750\n",
      "\n",
      "new table\n",
      "76 * 1 = 76\n",
      "76 * 2 = 152\n",
      "76 * 3 = 228\n",
      "76 * 4 = 304\n",
      "76 * 5 = 380\n",
      "76 * 6 = 456\n",
      "76 * 7 = 532\n",
      "76 * 8 = 608\n",
      "76 * 9 = 684\n",
      "76 * 10 = 760\n",
      "\n",
      "new table\n",
      "77 * 1 = 77\n",
      "77 * 2 = 154\n",
      "77 * 3 = 231\n",
      "77 * 4 = 308\n",
      "77 * 5 = 385\n",
      "77 * 6 = 462\n",
      "77 * 7 = 539\n",
      "77 * 8 = 616\n",
      "77 * 9 = 693\n",
      "77 * 10 = 770\n",
      "\n",
      "new table\n",
      "78 * 1 = 78\n",
      "78 * 2 = 156\n",
      "78 * 3 = 234\n",
      "78 * 4 = 312\n",
      "78 * 5 = 390\n",
      "78 * 6 = 468\n",
      "78 * 7 = 546\n",
      "78 * 8 = 624\n",
      "78 * 9 = 702\n",
      "78 * 10 = 780\n",
      "\n",
      "new table\n",
      "79 * 1 = 79\n",
      "79 * 2 = 158\n",
      "79 * 3 = 237\n",
      "79 * 4 = 316\n",
      "79 * 5 = 395\n",
      "79 * 6 = 474\n",
      "79 * 7 = 553\n",
      "79 * 8 = 632\n",
      "79 * 9 = 711\n",
      "79 * 10 = 790\n",
      "\n",
      "new table\n",
      "80 * 1 = 80\n",
      "80 * 2 = 160\n",
      "80 * 3 = 240\n",
      "80 * 4 = 320\n",
      "80 * 5 = 400\n",
      "80 * 6 = 480\n",
      "80 * 7 = 560\n",
      "80 * 8 = 640\n",
      "80 * 9 = 720\n",
      "80 * 10 = 800\n",
      "\n",
      "new table\n",
      "81 * 1 = 81\n",
      "81 * 2 = 162\n",
      "81 * 3 = 243\n",
      "81 * 4 = 324\n",
      "81 * 5 = 405\n",
      "81 * 6 = 486\n",
      "81 * 7 = 567\n",
      "81 * 8 = 648\n",
      "81 * 9 = 729\n",
      "81 * 10 = 810\n",
      "\n",
      "new table\n",
      "82 * 1 = 82\n",
      "82 * 2 = 164\n",
      "82 * 3 = 246\n",
      "82 * 4 = 328\n",
      "82 * 5 = 410\n",
      "82 * 6 = 492\n",
      "82 * 7 = 574\n",
      "82 * 8 = 656\n",
      "82 * 9 = 738\n",
      "82 * 10 = 820\n",
      "\n",
      "new table\n",
      "83 * 1 = 83\n",
      "83 * 2 = 166\n",
      "83 * 3 = 249\n",
      "83 * 4 = 332\n",
      "83 * 5 = 415\n",
      "83 * 6 = 498\n",
      "83 * 7 = 581\n",
      "83 * 8 = 664\n",
      "83 * 9 = 747\n",
      "83 * 10 = 830\n",
      "\n",
      "new table\n",
      "84 * 1 = 84\n",
      "84 * 2 = 168\n",
      "84 * 3 = 252\n",
      "84 * 4 = 336\n",
      "84 * 5 = 420\n",
      "84 * 6 = 504\n",
      "84 * 7 = 588\n",
      "84 * 8 = 672\n",
      "84 * 9 = 756\n",
      "84 * 10 = 840\n",
      "\n",
      "new table\n",
      "85 * 1 = 85\n",
      "85 * 2 = 170\n",
      "85 * 3 = 255\n",
      "85 * 4 = 340\n",
      "85 * 5 = 425\n",
      "85 * 6 = 510\n",
      "85 * 7 = 595\n",
      "85 * 8 = 680\n",
      "85 * 9 = 765\n",
      "85 * 10 = 850\n",
      "\n",
      "new table\n",
      "86 * 1 = 86\n",
      "86 * 2 = 172\n",
      "86 * 3 = 258\n",
      "86 * 4 = 344\n",
      "86 * 5 = 430\n",
      "86 * 6 = 516\n",
      "86 * 7 = 602\n",
      "86 * 8 = 688\n",
      "86 * 9 = 774\n",
      "86 * 10 = 860\n",
      "\n",
      "new table\n",
      "87 * 1 = 87\n",
      "87 * 2 = 174\n",
      "87 * 3 = 261\n",
      "87 * 4 = 348\n",
      "87 * 5 = 435\n",
      "87 * 6 = 522\n",
      "87 * 7 = 609\n",
      "87 * 8 = 696\n",
      "87 * 9 = 783\n",
      "87 * 10 = 870\n",
      "\n",
      "new table\n",
      "88 * 1 = 88\n",
      "88 * 2 = 176\n",
      "88 * 3 = 264\n",
      "88 * 4 = 352\n",
      "88 * 5 = 440\n",
      "88 * 6 = 528\n",
      "88 * 7 = 616\n",
      "88 * 8 = 704\n",
      "88 * 9 = 792\n",
      "88 * 10 = 880\n",
      "\n",
      "new table\n",
      "89 * 1 = 89\n",
      "89 * 2 = 178\n",
      "89 * 3 = 267\n",
      "89 * 4 = 356\n",
      "89 * 5 = 445\n",
      "89 * 6 = 534\n",
      "89 * 7 = 623\n",
      "89 * 8 = 712\n",
      "89 * 9 = 801\n",
      "89 * 10 = 890\n",
      "\n",
      "new table\n",
      "90 * 1 = 90\n",
      "90 * 2 = 180\n",
      "90 * 3 = 270\n",
      "90 * 4 = 360\n",
      "90 * 5 = 450\n",
      "90 * 6 = 540\n",
      "90 * 7 = 630\n",
      "90 * 8 = 720\n",
      "90 * 9 = 810\n",
      "90 * 10 = 900\n",
      "\n",
      "new table\n",
      "91 * 1 = 91\n",
      "91 * 2 = 182\n",
      "91 * 3 = 273\n",
      "91 * 4 = 364\n",
      "91 * 5 = 455\n",
      "91 * 6 = 546\n",
      "91 * 7 = 637\n",
      "91 * 8 = 728\n",
      "91 * 9 = 819\n",
      "91 * 10 = 910\n",
      "\n",
      "new table\n",
      "92 * 1 = 92\n",
      "92 * 2 = 184\n",
      "92 * 3 = 276\n",
      "92 * 4 = 368\n",
      "92 * 5 = 460\n",
      "92 * 6 = 552\n",
      "92 * 7 = 644\n",
      "92 * 8 = 736\n",
      "92 * 9 = 828\n",
      "92 * 10 = 920\n",
      "\n",
      "new table\n",
      "93 * 1 = 93\n",
      "93 * 2 = 186\n",
      "93 * 3 = 279\n",
      "93 * 4 = 372\n",
      "93 * 5 = 465\n",
      "93 * 6 = 558\n",
      "93 * 7 = 651\n",
      "93 * 8 = 744\n",
      "93 * 9 = 837\n",
      "93 * 10 = 930\n",
      "\n",
      "new table\n",
      "94 * 1 = 94\n",
      "94 * 2 = 188\n",
      "94 * 3 = 282\n",
      "94 * 4 = 376\n",
      "94 * 5 = 470\n",
      "94 * 6 = 564\n",
      "94 * 7 = 658\n",
      "94 * 8 = 752\n",
      "94 * 9 = 846\n",
      "94 * 10 = 940\n",
      "\n",
      "new table\n",
      "95 * 1 = 95\n",
      "95 * 2 = 190\n",
      "95 * 3 = 285\n",
      "95 * 4 = 380\n",
      "95 * 5 = 475\n",
      "95 * 6 = 570\n",
      "95 * 7 = 665\n",
      "95 * 8 = 760\n",
      "95 * 9 = 855\n",
      "95 * 10 = 950\n",
      "\n",
      "new table\n",
      "96 * 1 = 96\n",
      "96 * 2 = 192\n",
      "96 * 3 = 288\n",
      "96 * 4 = 384\n",
      "96 * 5 = 480\n",
      "96 * 6 = 576\n",
      "96 * 7 = 672\n",
      "96 * 8 = 768\n",
      "96 * 9 = 864\n",
      "96 * 10 = 960\n",
      "\n",
      "new table\n",
      "97 * 1 = 97\n",
      "97 * 2 = 194\n",
      "97 * 3 = 291\n",
      "97 * 4 = 388\n",
      "97 * 5 = 485\n",
      "97 * 6 = 582\n",
      "97 * 7 = 679\n",
      "97 * 8 = 776\n",
      "97 * 9 = 873\n",
      "97 * 10 = 970\n",
      "\n",
      "new table\n",
      "98 * 1 = 98\n",
      "98 * 2 = 196\n",
      "98 * 3 = 294\n",
      "98 * 4 = 392\n",
      "98 * 5 = 490\n",
      "98 * 6 = 588\n",
      "98 * 7 = 686\n",
      "98 * 8 = 784\n",
      "98 * 9 = 882\n",
      "98 * 10 = 980\n",
      "\n",
      "new table\n",
      "99 * 1 = 99\n",
      "99 * 2 = 198\n",
      "99 * 3 = 297\n",
      "99 * 4 = 396\n",
      "99 * 5 = 495\n",
      "99 * 6 = 594\n",
      "99 * 7 = 693\n",
      "99 * 8 = 792\n",
      "99 * 9 = 891\n",
      "99 * 10 = 990\n",
      "\n",
      "new table\n",
      "100 * 1 = 100\n",
      "100 * 2 = 200\n",
      "100 * 3 = 300\n",
      "100 * 4 = 400\n",
      "100 * 5 = 500\n",
      "100 * 6 = 600\n",
      "100 * 7 = 700\n",
      "100 * 8 = 800\n",
      "100 * 9 = 900\n",
      "100 * 10 = 1000\n",
      "\n"
     ]
    }
   ],
   "source": [
    "n= int(input(\"Enter a number\"))\n",
    "\n",
    "for i in range(1,n+1):\n",
    "    print(\"new table\")\n",
    "    for j in range(1,11):\n",
    "        print(i,'*',j,'=',i*j)\n",
    "    print()\n"
   ]
  },
  {
   "cell_type": "code",
   "execution_count": 95,
   "id": "a2afad97",
   "metadata": {},
   "outputs": [
    {
     "name": "stdout",
     "output_type": "stream",
     "text": [
      "['Aryan', 'Aryan', 'Aryan', 'Aryan', 'Aryan', 'Aryan', 'Aryan', 'Aryan', 'Aryan', 'Aryan', 'Aryan', 'Aryan', 'Aryan', 'Aryan', 'Aryan', 'Aryan', 'Aryan', 'Aryan', 'Aryan', 'Aryan', 'Aryan', 'Aryan', 'Aryan', 'Aryan', 'Aryan', 'Aryan', 'Aryan', 'Aryan', 'Aryan', 'Aryan', 'Aryan', 'Aryan', 'Aryan', 'Aryan', 'Aryan', 'Aryan', 'Aryan', 'Aryan', 'Aryan', 'Aryan', 'Aryan', 'Aryan', 'Aryan', 'Aryan', 'Aryan', 'Aryan', 'Aryan', 'Aryan', 'Aryan', 'Aryan', 'Aryan', 'Aryan', 'Aryan', 'Aryan', 'Aryan', 'Aryan', 'Aryan', 'Aryan', 'Aryan', 'Aryan', 'Aryan', 'Aryan', 'Aryan', 'Aryan', 'Aryan', 'Aryan', 'Aryan', 'Aryan', 'Aryan', 'Aryan', 'Aryan', 'Aryan', 'Aryan', 'Aryan', 'Aryan', 'Aryan', 'Aryan', 'Aryan', 'Aryan', 'Aryan', 'Aryan', 'Aryan', 'Aryan', 'Aryan', 'Aryan', 'Aryan', 'Aryan', 'Aryan', 'Aryan', 'Aryan', 'Aryan', 'Aryan', 'Aryan', 'Aryan', 'Aryan', 'Aryan', 'Aryan', 'Aryan', 'Aryan', 'Aryan']\n"
     ]
    }
   ],
   "source": [
    "a=['Aryan']*100\n",
    "print(a)"
   ]
  },
  {
   "cell_type": "code",
   "execution_count": 96,
   "id": "a1fa8c55",
   "metadata": {},
   "outputs": [
    {
     "name": "stdout",
     "output_type": "stream",
     "text": [
      "AryanAryanAryanAryanAryanAryanAryanAryanAryanAryanAryanAryanAryanAryanAryanAryanAryanAryanAryanAryanAryanAryanAryanAryanAryanAryanAryanAryanAryanAryanAryanAryanAryanAryanAryanAryanAryanAryanAryanAryanAryanAryanAryanAryanAryanAryanAryanAryanAryanAryanAryanAryanAryanAryanAryanAryanAryanAryanAryanAryanAryanAryanAryanAryanAryanAryanAryanAryanAryanAryanAryanAryanAryanAryanAryanAryanAryanAryanAryanAryanAryanAryanAryanAryanAryanAryanAryanAryanAryanAryanAryanAryanAryanAryanAryanAryanAryanAryanAryanAryan \n",
      "\n"
     ]
    }
   ],
   "source": [
    "a=\"Aryan\"\n",
    "print(a*100,\"\\n\")"
   ]
  },
  {
   "cell_type": "code",
   "execution_count": 98,
   "id": "17e21e25",
   "metadata": {},
   "outputs": [
    {
     "name": "stdout",
     "output_type": "stream",
     "text": [
      "xyz\n",
      "xyz\n",
      "xyz\n",
      "xyz\n",
      "xyz\n",
      "xyz\n",
      "xyz\n",
      "xyz\n",
      "xyz\n",
      "xyz\n",
      "\n"
     ]
    }
   ],
   "source": [
    "name = \"xyz\" \n",
    "print((name + \"\\n\") * 10)"
   ]
  }
 ],
 "metadata": {
  "kernelspec": {
   "display_name": "Python 3",
   "language": "python",
   "name": "python3"
  },
  "language_info": {
   "codemirror_mode": {
    "name": "ipython",
    "version": 3
   },
   "file_extension": ".py",
   "mimetype": "text/x-python",
   "name": "python",
   "nbconvert_exporter": "python",
   "pygments_lexer": "ipython3",
   "version": "3.8.8"
  }
 },
 "nbformat": 4,
 "nbformat_minor": 5
}
