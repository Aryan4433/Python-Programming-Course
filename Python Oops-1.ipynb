{
 "cells": [
  {
   "cell_type": "code",
   "execution_count": 1,
   "id": "e7b1e5ad",
   "metadata": {},
   "outputs": [
    {
     "name": "stdout",
     "output_type": "stream",
     "text": [
      "10\n",
      "counstructor calls\n",
      "2286055455616 <class '__main__.Person'>\n",
      "My name is Deepanshu and my age is 12 and my hobby music\n",
      "2286055455616 <class '__main__.Person'>\n"
     ]
    }
   ],
   "source": [
    "class Person:\n",
    "    x=10 # class variable\n",
    "    print(x)\n",
    "    \n",
    "    def __init__(w,name,age):\n",
    "        w.name=name # instace variable \n",
    "        w.age=age\n",
    "        print('counstructor calls')\n",
    "        print(id(w),type(w))\n",
    "        \n",
    "    def info(w,hobby):\n",
    "        print('My name is',w.name,'and my age is',w.age,'and my hobby',hobby)\n",
    "        \n",
    "    \n",
    "ob=Person('Deepanshu',12)\n",
    "ob.info('music')\n",
    "        \n",
    "print(id(ob),type(ob))"
   ]
  },
  {
   "cell_type": "code",
   "execution_count": 22,
   "id": "9ead44e5",
   "metadata": {},
   "outputs": [
    {
     "name": "stdout",
     "output_type": "stream",
     "text": [
      "True\n",
      "140704659286096\n",
      "140704659286096\n",
      "<class 'int'> <class 'int'>\n"
     ]
    }
   ],
   "source": [
    "x=10\n",
    "y=10\n",
    "print(x==y)\n",
    "print(id(x))\n",
    "print(id(y))\n",
    "print(type(x),type(y))\n",
    "\n"
   ]
  },
  {
   "cell_type": "code",
   "execution_count": 15,
   "id": "fb59ba9e",
   "metadata": {},
   "outputs": [],
   "source": [
    "list=[]\n",
    "list.append(1)\n"
   ]
  },
  {
   "cell_type": "code",
   "execution_count": 17,
   "id": "9a02b086",
   "metadata": {},
   "outputs": [
    {
     "name": "stdout",
     "output_type": "stream",
     "text": [
      "[1]\n"
     ]
    }
   ],
   "source": [
    "print(list)"
   ]
  },
  {
   "cell_type": "code",
   "execution_count": null,
   "id": "93a904f2",
   "metadata": {},
   "outputs": [],
   "source": [
    "# inheritance\n",
    "# polymorphism\n",
    "# encapsulatuon\n",
    "# abstractuon"
   ]
  },
  {
   "cell_type": "code",
   "execution_count": 2,
   "id": "72fbeafe",
   "metadata": {},
   "outputs": [],
   "source": [
    "class Animals: # parent class or base class\n",
    "    def __init__(self,legs):\n",
    "        self.iswild=True\n",
    "        self._legs=4\n",
    "        print('i am a parent class constructor')\n",
    "        \n",
    "    def wild(self):\n",
    "        if self.iswild:\n",
    "            print('it is for wild animal')\n",
    "            print('lion has ',self._legs,'legs')\n",
    "        \n",
    "        else:\n",
    "            pass\n",
    "        \n",
    "class Lion(Animals): # child class or derived class\n",
    "    def __init__(self,country):\n",
    "        self.country=country\n",
    "        print('i am a child class constructor')\n",
    "        super().__init__(self)\n",
    "        \n",
    "    def wild(self):\n",
    "        print('i am a child class method')\n",
    "        print('counrtry of lion is',self.country)\n",
    "        super().wild()"
   ]
  },
  {
   "cell_type": "code",
   "execution_count": 67,
   "id": "43dd68c6",
   "metadata": {},
   "outputs": [
    {
     "name": "stdout",
     "output_type": "stream",
     "text": [
      "i am a child class constructor\n",
      "i am a parent class constructor\n",
      "i am a child class method\n",
      "counrtry of lion is Africa\n",
      "it is for wild animal\n",
      "lion has  4 legs\n"
     ]
    }
   ],
   "source": [
    "li=Lion('Africa')\n",
    "li.wild()"
   ]
  },
  {
   "cell_type": "code",
   "execution_count": 42,
   "id": "cd577dc3",
   "metadata": {},
   "outputs": [
    {
     "name": "stdout",
     "output_type": "stream",
     "text": [
      "my balance is 2000\n",
      " i am depositing300\n",
      " i want to withdraw 100\n"
     ]
    }
   ],
   "source": [
    "# Encapsulation\n",
    "class Bank:\n",
    "    def __init__(self,balance, withdraw, Deposit):\n",
    "        self._balance=balance # protected\n",
    "        self.Deposit=Deposit\n",
    "        self.__withdraw=withdraw # private\n",
    "    def action(self):\n",
    "        print(f'my balance is {self._balance}')\n",
    "        print(\" i am depositing{}\".format(self.Deposit))\n",
    "        print(' i want to withdraw',self.__withdraw)\n",
    "\n",
    "Sbi=Bank(2000,100,300)\n",
    "Sbi.action()"
   ]
  },
  {
   "cell_type": "code",
   "execution_count": 44,
   "id": "57d9eaf3",
   "metadata": {},
   "outputs": [
    {
     "data": {
      "text/plain": [
       "2000"
      ]
     },
     "execution_count": 44,
     "metadata": {},
     "output_type": "execute_result"
    }
   ],
   "source": [
    "Sbi._balance # protected\n"
   ]
  },
  {
   "cell_type": "code",
   "execution_count": 45,
   "id": "88286881",
   "metadata": {},
   "outputs": [
    {
     "data": {
      "text/plain": [
       "300"
      ]
     },
     "execution_count": 45,
     "metadata": {},
     "output_type": "execute_result"
    }
   ],
   "source": [
    "Sbi.Deposit"
   ]
  },
  {
   "cell_type": "code",
   "execution_count": 46,
   "id": "16fbea2a",
   "metadata": {},
   "outputs": [
    {
     "ename": "AttributeError",
     "evalue": "'Bank' object has no attribute '__withdraw'",
     "output_type": "error",
     "traceback": [
      "\u001b[1;31m---------------------------------------------------------------------------\u001b[0m",
      "\u001b[1;31mAttributeError\u001b[0m                            Traceback (most recent call last)",
      "\u001b[1;32m<ipython-input-46-b22a324b8a48>\u001b[0m in \u001b[0;36m<module>\u001b[1;34m\u001b[0m\n\u001b[1;32m----> 1\u001b[1;33m \u001b[0mSbi\u001b[0m\u001b[1;33m.\u001b[0m\u001b[0m__withdraw\u001b[0m\u001b[1;33m\u001b[0m\u001b[1;33m\u001b[0m\u001b[0m\n\u001b[0m",
      "\u001b[1;31mAttributeError\u001b[0m: 'Bank' object has no attribute '__withdraw'"
     ]
    }
   ],
   "source": [
    "Sbi.__withdraw # private varibale"
   ]
  },
  {
   "cell_type": "code",
   "execution_count": 47,
   "id": "21cfa27f",
   "metadata": {},
   "outputs": [
    {
     "data": {
      "text/plain": [
       "100"
      ]
     },
     "execution_count": 47,
     "metadata": {},
     "output_type": "execute_result"
    }
   ],
   "source": [
    "Sbi._Bank__withdraw # name mangling"
   ]
  },
  {
   "cell_type": "code",
   "execution_count": 49,
   "id": "0b3d3438",
   "metadata": {},
   "outputs": [
    {
     "name": "stdout",
     "output_type": "stream",
     "text": [
      " i am a tomato const\n",
      " i am a Apple class const\n"
     ]
    }
   ],
   "source": [
    "# Polymorphism\n",
    "\n",
    "class Tomato:\n",
    "    def __init__(self):\n",
    "        print(' i am a tomato const')\n",
    "    def category(self):\n",
    "        print('tomato is a vegetable')\n",
    "        \n",
    "    def color(self):\n",
    "        print('tomato is oramge color')\n",
    "\n",
    "class Apple:\n",
    "    def __init__(self):\n",
    "        print(' i am a Apple class const')\n",
    "    def category(self):\n",
    "        print('Apple is a fruit')\n",
    "        \n",
    "    def color(self):\n",
    "        print('apple is red color')\n",
    "        \n",
    "\n",
    "tom=Tomato()   \n",
    "app=Apple()"
   ]
  },
  {
   "cell_type": "code",
   "execution_count": 50,
   "id": "ec411f60",
   "metadata": {},
   "outputs": [
    {
     "name": "stdout",
     "output_type": "stream",
     "text": [
      "tomato is a vegetable\n",
      "tomato is oramge color\n"
     ]
    }
   ],
   "source": [
    "tom.category()\n",
    "tom.color()"
   ]
  },
  {
   "cell_type": "code",
   "execution_count": 51,
   "id": "9fc0dead",
   "metadata": {},
   "outputs": [
    {
     "name": "stdout",
     "output_type": "stream",
     "text": [
      "Apple is a fruit\n",
      "apple is red color\n"
     ]
    }
   ],
   "source": [
    "app.category()\n",
    "app.color()"
   ]
  },
  {
   "cell_type": "code",
   "execution_count": 56,
   "id": "01012517",
   "metadata": {},
   "outputs": [
    {
     "name": "stdout",
     "output_type": "stream",
     "text": [
      "tomato is a vegetable\n",
      "tomato is oramge color\n",
      "Apple is a fruit\n",
      "apple is red color\n"
     ]
    }
   ],
   "source": [
    "for i in (tom,app):\n",
    "    i.category()\n",
    "    i.color()"
   ]
  },
  {
   "cell_type": "code",
   "execution_count": 52,
   "id": "826fa9d9",
   "metadata": {},
   "outputs": [
    {
     "data": {
      "text/plain": [
       "2"
      ]
     },
     "execution_count": 52,
     "metadata": {},
     "output_type": "execute_result"
    }
   ],
   "source": [
    "str='deepanhsu'\n",
    "str.count('e')"
   ]
  },
  {
   "cell_type": "code",
   "execution_count": 54,
   "id": "2dd4df83",
   "metadata": {},
   "outputs": [
    {
     "data": {
      "text/plain": [
       "4"
      ]
     },
     "execution_count": 54,
     "metadata": {},
     "output_type": "execute_result"
    }
   ],
   "source": [
    "tuple=(1,1,23,1,34,12,42,4,1,3)\n",
    "tuple.count(1)"
   ]
  },
  {
   "cell_type": "code",
   "execution_count": 55,
   "id": "16d740e3",
   "metadata": {},
   "outputs": [
    {
     "data": {
      "text/plain": [
       "4"
      ]
     },
     "execution_count": 55,
     "metadata": {},
     "output_type": "execute_result"
    }
   ],
   "source": [
    "list=[1,1,23,1,34,12,42,4,1,3]\n",
    "list.count(1)"
   ]
  },
  {
   "cell_type": "code",
   "execution_count": 68,
   "id": "f3d12faf",
   "metadata": {},
   "outputs": [],
   "source": [
    "# import __main__"
   ]
  },
  {
   "cell_type": "code",
   "execution_count": 3,
   "id": "7daea907",
   "metadata": {},
   "outputs": [],
   "source": [
    "# help(__main__)"
   ]
  }
 ],
 "metadata": {
  "kernelspec": {
   "display_name": "Python 3",
   "language": "python",
   "name": "python3"
  },
  "language_info": {
   "codemirror_mode": {
    "name": "ipython",
    "version": 3
   },
   "file_extension": ".py",
   "mimetype": "text/x-python",
   "name": "python",
   "nbconvert_exporter": "python",
   "pygments_lexer": "ipython3",
   "version": "3.8.8"
  }
 },
 "nbformat": 4,
 "nbformat_minor": 5
}
