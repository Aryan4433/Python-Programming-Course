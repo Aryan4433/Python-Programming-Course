{
 "cells": [
  {
   "cell_type": "code",
   "execution_count": 2,
   "id": "3d22ca8e",
   "metadata": {},
   "outputs": [
    {
     "name": "stdout",
     "output_type": "stream",
     "text": [
      "Aryan\n"
     ]
    }
   ],
   "source": [
    "print(\"Aryan\")"
   ]
  },
  {
   "cell_type": "code",
   "execution_count": 3,
   "id": "20db6724",
   "metadata": {},
   "outputs": [
    {
     "name": "stdout",
     "output_type": "stream",
     "text": [
      "hello \"Aryan\"\n"
     ]
    }
   ],
   "source": [
    "print('hello \"Aryan\"')"
   ]
  },
  {
   "cell_type": "code",
   "execution_count": 4,
   "id": "c03a08fc",
   "metadata": {},
   "outputs": [
    {
     "name": "stdout",
     "output_type": "stream",
     "text": [
      "'hello' Aryan\n"
     ]
    }
   ],
   "source": [
    "print(\"'hello' Aryan\")"
   ]
  },
  {
   "cell_type": "code",
   "execution_count": 5,
   "id": "8682788f",
   "metadata": {},
   "outputs": [
    {
     "name": "stdout",
     "output_type": "stream",
     "text": [
      "hello 'aryan'\n"
     ]
    }
   ],
   "source": [
    "print(\"hello 'aryan'\")"
   ]
  },
  {
   "cell_type": "code",
   "execution_count": 68,
   "id": "0f72b625",
   "metadata": {},
   "outputs": [
    {
     "name": "stdout",
     "output_type": "stream",
     "text": [
      "\"hello\" Aryan\n"
     ]
    }
   ],
   "source": [
    "print('\"hello\" Aryan')"
   ]
  },
  {
   "cell_type": "code",
   "execution_count": 8,
   "id": "738db591",
   "metadata": {},
   "outputs": [
    {
     "name": "stdout",
     "output_type": "stream",
     "text": [
      "\"hello\" Aryan\n"
     ]
    }
   ],
   "source": [
    "print('\"hello\" Aryan')"
   ]
  },
  {
   "cell_type": "code",
   "execution_count": 11,
   "id": "4cb851ac",
   "metadata": {},
   "outputs": [
    {
     "name": "stdout",
     "output_type": "stream",
     "text": [
      "\n",
      "\n"
     ]
    }
   ],
   "source": [
    "print(\"\\n\")"
   ]
  },
  {
   "cell_type": "code",
   "execution_count": 12,
   "id": "dbda88f6",
   "metadata": {},
   "outputs": [
    {
     "name": "stdout",
     "output_type": "stream",
     "text": [
      "443\n"
     ]
    }
   ],
   "source": [
    "a=443\n",
    "print(a)"
   ]
  },
  {
   "cell_type": "code",
   "execution_count": 14,
   "id": "1704dc1e",
   "metadata": {},
   "outputs": [
    {
     "name": "stdout",
     "output_type": "stream",
     "text": [
      "443\n"
     ]
    }
   ],
   "source": [
    "_ = 443\n",
    "print(_)"
   ]
  },
  {
   "cell_type": "code",
   "execution_count": 3,
   "id": "4055f1a0",
   "metadata": {},
   "outputs": [
    {
     "name": "stdout",
     "output_type": "stream",
     "text": [
      "2\n"
     ]
    }
   ],
   "source": [
    "a2=2\n",
    "print(2)"
   ]
  },
  {
   "cell_type": "code",
   "execution_count": 18,
   "id": "efe8b5dc",
   "metadata": {},
   "outputs": [
    {
     "name": "stdout",
     "output_type": "stream",
     "text": [
      "['False', 'None', 'True', 'and', 'as', 'assert', 'async', 'await', 'break', 'class', 'continue', 'def', 'del', 'elif', 'else', 'except', 'finally', 'for', 'from', 'global', 'if', 'import', 'in', 'is', 'lambda', 'nonlocal', 'not', 'or', 'pass', 'raise', 'return', 'try', 'while', 'with', 'yield']\n"
     ]
    }
   ],
   "source": [
    "import keyword\n",
    "print(keyword.kwlist)"
   ]
  },
  {
   "cell_type": "code",
   "execution_count": 1,
   "id": "6fedc6b7",
   "metadata": {},
   "outputs": [],
   "source": [
    "# interger int ALL -VE TO +VE\n",
    "# FLOAT float 3.2,4.2\n",
    "# String str \"Aryan\"\n",
    "# Boolean bool True or false"
   ]
  },
  {
   "cell_type": "code",
   "execution_count": 20,
   "id": "855a4443",
   "metadata": {},
   "outputs": [
    {
     "name": "stdout",
     "output_type": "stream",
     "text": [
      "<class 'int'>\n"
     ]
    }
   ],
   "source": [
    "c=10\n",
    "print(type(c))"
   ]
  },
  {
   "cell_type": "code",
   "execution_count": 21,
   "id": "1c864217",
   "metadata": {},
   "outputs": [
    {
     "name": "stdout",
     "output_type": "stream",
     "text": [
      "<class 'float'>\n"
     ]
    }
   ],
   "source": [
    "d=3.0\n",
    "print(type(d))"
   ]
  },
  {
   "cell_type": "code",
   "execution_count": 22,
   "id": "ec5d00a8",
   "metadata": {},
   "outputs": [
    {
     "name": "stdout",
     "output_type": "stream",
     "text": [
      "<class 'str'>\n"
     ]
    }
   ],
   "source": [
    "x='-9'\n",
    "print(type(x))"
   ]
  },
  {
   "cell_type": "code",
   "execution_count": 24,
   "id": "8944c7b4",
   "metadata": {},
   "outputs": [
    {
     "name": "stdout",
     "output_type": "stream",
     "text": [
      "The type of 10.4 is <class 'float'>\n"
     ]
    }
   ],
   "source": [
    "z =10.4\n",
    "print(\"The type of\",z,\"is\",type(z))"
   ]
  },
  {
   "cell_type": "code",
   "execution_count": 25,
   "id": "2a16281e",
   "metadata": {},
   "outputs": [
    {
     "name": "stdout",
     "output_type": "stream",
     "text": [
      "The type of Aryan is <class 'str'>\n"
     ]
    }
   ],
   "source": [
    "a =\"Aryan\"\n",
    "print(\"The type of\",a,\"is\",type(a))"
   ]
  },
  {
   "cell_type": "code",
   "execution_count": 26,
   "id": "e810ebdb",
   "metadata": {},
   "outputs": [
    {
     "name": "stdout",
     "output_type": "stream",
     "text": [
      "10.0\n"
     ]
    }
   ],
   "source": [
    "x=10\n",
    "y=float(x)\n",
    "print(y)"
   ]
  },
  {
   "cell_type": "code",
   "execution_count": 28,
   "id": "8cff2a74",
   "metadata": {},
   "outputs": [
    {
     "name": "stdout",
     "output_type": "stream",
     "text": [
      "The value of  8\n"
     ]
    }
   ],
   "source": [
    "x=8.8\n",
    "s=int(x)\n",
    "print(\"The value of \",s)"
   ]
  },
  {
   "cell_type": "code",
   "execution_count": 30,
   "id": "dfb52280",
   "metadata": {},
   "outputs": [
    {
     "name": "stdout",
     "output_type": "stream",
     "text": [
      "1\n",
      "<class 'int'>\n"
     ]
    }
   ],
   "source": [
    "x='1'\n",
    "x=int(x)\n",
    "print(x)\n",
    "print(type(x))"
   ]
  },
  {
   "cell_type": "code",
   "execution_count": 31,
   "id": "01387a95",
   "metadata": {},
   "outputs": [
    {
     "name": "stdout",
     "output_type": "stream",
     "text": [
      "100.0\n",
      "<class 'float'>\n"
     ]
    }
   ],
   "source": [
    "x=100\n",
    "x=float(x)\n",
    "print(x)\n",
    "print(type(x))"
   ]
  },
  {
   "cell_type": "code",
   "execution_count": 36,
   "id": "253f204a",
   "metadata": {},
   "outputs": [
    {
     "name": "stdout",
     "output_type": "stream",
     "text": [
      "3.14\n",
      "<class 'str'>\n"
     ]
    }
   ],
   "source": [
    "x=3.14\n",
    "x=str(x)\n",
    "print(x)\n",
    "print(type(x))"
   ]
  },
  {
   "cell_type": "code",
   "execution_count": 38,
   "id": "78325e48",
   "metadata": {},
   "outputs": [
    {
     "name": "stdout",
     "output_type": "stream",
     "text": [
      "3\n",
      "<class 'int'>\n"
     ]
    }
   ],
   "source": [
    "x='3.14'\n",
    "x=float(x)\n",
    "x=int(x)\n",
    "print(x)\n",
    "print(type(x))"
   ]
  },
  {
   "cell_type": "code",
   "execution_count": 40,
   "id": "1f203200",
   "metadata": {},
   "outputs": [
    {
     "name": "stdout",
     "output_type": "stream",
     "text": [
      "Enter value of a2\n",
      "a <class 'str'> 2\n"
     ]
    }
   ],
   "source": [
    "a = input('Enter value of a')\n",
    "print('a',type(a),a)"
   ]
  },
  {
   "cell_type": "code",
   "execution_count": 41,
   "id": "b94f14f8",
   "metadata": {},
   "outputs": [
    {
     "name": "stdout",
     "output_type": "stream",
     "text": [
      "Enter value of aa\n",
      "a <class 'str'> a\n"
     ]
    }
   ],
   "source": [
    "a = input('Enter value of a')\n",
    "print('a',type(a),a)"
   ]
  },
  {
   "cell_type": "code",
   "execution_count": 42,
   "id": "54cb1047",
   "metadata": {},
   "outputs": [
    {
     "name": "stdout",
     "output_type": "stream",
     "text": [
      "2\n",
      "a \n",
      "\n"
     ]
    }
   ],
   "source": [
    "c=input()\n",
    "print(a,'\\n')"
   ]
  },
  {
   "cell_type": "code",
   "execution_count": 43,
   "id": "70315860",
   "metadata": {},
   "outputs": [
    {
     "name": "stdout",
     "output_type": "stream",
     "text": [
      "Enter value of x3.14\n"
     ]
    },
    {
     "ename": "ValueError",
     "evalue": "invalid literal for int() with base 10: '3.14'",
     "output_type": "error",
     "traceback": [
      "\u001b[1;31m---------------------------------------------------------------------------\u001b[0m",
      "\u001b[1;31mValueError\u001b[0m                                Traceback (most recent call last)",
      "\u001b[1;32m<ipython-input-43-22d9c5892b34>\u001b[0m in \u001b[0;36m<module>\u001b[1;34m\u001b[0m\n\u001b[1;32m----> 1\u001b[1;33m \u001b[0mx\u001b[0m\u001b[1;33m=\u001b[0m\u001b[0mint\u001b[0m\u001b[1;33m(\u001b[0m\u001b[0minput\u001b[0m\u001b[1;33m(\u001b[0m\u001b[1;34m'Enter value of x'\u001b[0m\u001b[1;33m)\u001b[0m\u001b[1;33m)\u001b[0m\u001b[1;33m\u001b[0m\u001b[1;33m\u001b[0m\u001b[0m\n\u001b[0m\u001b[0;32m      2\u001b[0m \u001b[0mprint\u001b[0m\u001b[1;33m(\u001b[0m\u001b[0mtype\u001b[0m\u001b[1;33m(\u001b[0m\u001b[0mx\u001b[0m\u001b[1;33m)\u001b[0m\u001b[1;33m,\u001b[0m\u001b[0mx\u001b[0m\u001b[1;33m)\u001b[0m\u001b[1;33m\u001b[0m\u001b[1;33m\u001b[0m\u001b[0m\n",
      "\u001b[1;31mValueError\u001b[0m: invalid literal for int() with base 10: '3.14'"
     ]
    }
   ],
   "source": [
    "x=int(input('Enter value of x'))\n",
    "print(type(x),x)"
   ]
  },
  {
   "cell_type": "code",
   "execution_count": 44,
   "id": "1bd2e57a",
   "metadata": {},
   "outputs": [
    {
     "name": "stdout",
     "output_type": "stream",
     "text": [
      "Enter value of x3.14\n",
      "<class 'int'> 3\n"
     ]
    }
   ],
   "source": [
    "x=int(float(input('Enter value of x')))\n",
    "print(type(x),x)"
   ]
  },
  {
   "cell_type": "code",
   "execution_count": 47,
   "id": "d9970cf6",
   "metadata": {},
   "outputs": [
    {
     "name": "stdout",
     "output_type": "stream",
     "text": [
      "Enter your name Aryan\n",
      "Enter your age 20\n",
      "Enter your height 5.7\n"
     ]
    }
   ],
   "source": [
    "name=input(\"Enter your name \")\n",
    "Age=int(input(\"Enter your age \"))\n",
    "height=float(input(\"Enter your height \"))"
   ]
  },
  {
   "cell_type": "code",
   "execution_count": null,
   "id": "04255edf",
   "metadata": {},
   "outputs": [],
   "source": []
  },
  {
   "cell_type": "markdown",
   "id": "e39cf8ee",
   "metadata": {},
   "source": [
    "# operators in python"
   ]
  },
  {
   "cell_type": "code",
   "execution_count": 57,
   "id": "58aac245",
   "metadata": {},
   "outputs": [
    {
     "name": "stdout",
     "output_type": "stream",
     "text": [
      "Enter value of x 10\n",
      "Enter value of y 5\n",
      "The addition of 10 and 5 is 15\n",
      "The subtraction of 10 and 5 is 5\n",
      "The multiplication of 10 and 5 is 50\n",
      "The division of 10 and 5 is 2.0\n",
      "The double division of 10 and 5 is 2\n",
      "The mod of 10 and 5 is 0\n",
      "The exponansional of 10 and 5 is 100000\n"
     ]
    }
   ],
   "source": [
    "#Arithmetic Operator\n",
    "x= int(input('Enter value of x '))\n",
    "y= int(input('Enter value of y '))\n",
    "\n",
    "print('The addition of',x,'and',y,'is',x+y)\n",
    "print('The subtraction of',x,'and',y,'is',x-y)\n",
    "print('The multiplication of',x,'and',y,'is',x*y)\n",
    "print('The division of',x,'and',y,'is',x/y)\n",
    "print('The double division of',x,'and',y,'is',x//y)\n",
    "print('The mod of',x,'and',y,'is',x%y)\n",
    "print('The exponansional of',x,'and',y,'is',x**y)"
   ]
  },
  {
   "cell_type": "markdown",
   "id": "70c1bb7b",
   "metadata": {},
   "source": [
    "precedence"
   ]
  },
  {
   "cell_type": "code",
   "execution_count": 59,
   "id": "c33ea2a5",
   "metadata": {},
   "outputs": [
    {
     "name": "stdout",
     "output_type": "stream",
     "text": [
      "5.0\n"
     ]
    }
   ],
   "source": [
    "#(),**,*,/,%,//,+,-  \n",
    "print(1+3*4/2-2)"
   ]
  },
  {
   "cell_type": "code",
   "execution_count": 61,
   "id": "be6a027f",
   "metadata": {},
   "outputs": [
    {
     "name": "stdout",
     "output_type": "stream",
     "text": [
      "13.5\n"
     ]
    }
   ],
   "source": [
    "a=17.5\n",
    "b=5\n",
    "print(a+b-9)"
   ]
  },
  {
   "cell_type": "code",
   "execution_count": 63,
   "id": "ca9c9ada",
   "metadata": {},
   "outputs": [
    {
     "name": "stdout",
     "output_type": "stream",
     "text": [
      "3\n"
     ]
    }
   ],
   "source": [
    "m=34\n",
    "z=9\n",
    "print(34//9)"
   ]
  },
  {
   "cell_type": "code",
   "execution_count": 64,
   "id": "5a88dd3d",
   "metadata": {},
   "outputs": [
    {
     "name": "stdout",
     "output_type": "stream",
     "text": [
      "Enter the length 20\n",
      "Enter the breath 20\n",
      "the area of rectangle 400\n"
     ]
    }
   ],
   "source": [
    "#write a program to print area of rectange\n",
    "#l*b\n",
    "l=int(input(\"Enter the length \"))\n",
    "b=int(input(\"Enter the breath \"))\n",
    "print('the area of rectangle',l*b)"
   ]
  },
  {
   "cell_type": "code",
   "execution_count": 6,
   "id": "c2a72596",
   "metadata": {},
   "outputs": [
    {
     "name": "stdout",
     "output_type": "stream",
     "text": [
      "Enter the radius4\n",
      "Enter the area2\n",
      "46.24\n"
     ]
    }
   ],
   "source": [
    "#cube - circle area\n",
    "pi=3.14\n",
    "r=float(input(\"Enter the radius\"))\n",
    "a=int(input(\"Enter the area\"))\n",
    "print(pi*r**2-a**2)"
   ]
  },
  {
   "cell_type": "markdown",
   "id": "3593de1b",
   "metadata": {},
   "source": [
    "# Assignment -1 "
   ]
  },
  {
   "cell_type": "code",
   "execution_count": 4,
   "id": "af6dd6fc",
   "metadata": {},
   "outputs": [
    {
     "name": "stdout",
     "output_type": "stream",
     "text": [
      "Enter value of x\\n\n",
      "\\n\n"
     ]
    }
   ],
   "source": [
    "x=input('Enter value of x')\n",
    "print(x)"
   ]
  },
  {
   "cell_type": "code",
   "execution_count": 18,
   "id": "6af10740",
   "metadata": {},
   "outputs": [
    {
     "name": "stdout",
     "output_type": "stream",
     "text": [
      "Enter value of x\\n\n",
      "\\n\n"
     ]
    }
   ],
   "source": [
    "x=input('Enter value of x')\n",
    "print(x)"
   ]
  },
  {
   "cell_type": "code",
   "execution_count": 2,
   "id": "c9a57fb8",
   "metadata": {},
   "outputs": [
    {
     "name": "stdout",
     "output_type": "stream",
     "text": [
      "enter the radius:4\n",
      "The area of squar is 50.24\n"
     ]
    }
   ],
   "source": [
    "pi=3.14\n",
    "r=float(input(\"enter the radius:\"))\n",
    "print(\"The area of squar is\",pi*r**2)"
   ]
  },
  {
   "cell_type": "code",
   "execution_count": 20,
   "id": "f55efe23",
   "metadata": {},
   "outputs": [
    {
     "name": "stdout",
     "output_type": "stream",
     "text": [
      "The vloume of sphere 904.3199999999999\n"
     ]
    }
   ],
   "source": [
    "pi=3.14\n",
    "r=6\n",
    "print(\"The vloume of sphere\",4/3*pi*r**3)"
   ]
  },
  {
   "cell_type": "code",
   "execution_count": 12,
   "id": "7c39eeb4",
   "metadata": {},
   "outputs": [
    {
     "name": "stdout",
     "output_type": "stream",
     "text": [
      "The sum of 3 numbers 18\n"
     ]
    }
   ],
   "source": [
    "a=2\n",
    "b=2\n",
    "c=2\n",
    "print(\"The sum of 3 numbers\",(a+b+c)*3)"
   ]
  },
  {
   "cell_type": "code",
   "execution_count": 13,
   "id": "69e1b12a",
   "metadata": {},
   "outputs": [
    {
     "name": "stdout",
     "output_type": "stream",
     "text": [
      "Enter the base:24\n",
      "Enter the height:30\n",
      "the voume of sphere 360.0\n"
     ]
    }
   ],
   "source": [
    "b=int(input(\"Enter the base:\"))\n",
    "h=int(input(\"Enter the height:\"))\n",
    "print(\"the volume of sphere\",1/2*b*h)"
   ]
  },
  {
   "cell_type": "code",
   "execution_count": 15,
   "id": "b9cbb5c2",
   "metadata": {},
   "outputs": [
    {
     "name": "stdout",
     "output_type": "stream",
     "text": [
      "49\n"
     ]
    }
   ],
   "source": [
    "x=4\n",
    "y=3\n",
    "print((x+y)*(x+y))"
   ]
  },
  {
   "cell_type": "code",
   "execution_count": 8,
   "id": "527503ee",
   "metadata": {},
   "outputs": [
    {
     "name": "stdout",
     "output_type": "stream",
     "text": [
      "Simple interestr is 2450.0\n"
     ]
    }
   ],
   "source": [
    "amt=10000\n",
    "interest=3.5\n",
    "year=7\n",
    "print(\"Simple interestr is\",amt*interest*year/100)"
   ]
  },
  {
   "cell_type": "code",
   "execution_count": 25,
   "id": "08f93eb0",
   "metadata": {},
   "outputs": [
    {
     "name": "stdout",
     "output_type": "stream",
     "text": [
      "246\n"
     ]
    }
   ],
   "source": [
    "data=\"246.2458\"\n",
    "d=int(float(data))\n",
    "print(d)"
   ]
  },
  {
   "cell_type": "code",
   "execution_count": null,
   "id": "5e999c41",
   "metadata": {},
   "outputs": [],
   "source": []
  },
  {
   "cell_type": "code",
   "execution_count": 6,
   "id": "1b49a98c",
   "metadata": {},
   "outputs": [
    {
     "name": "stdout",
     "output_type": "stream",
     "text": [
      "x= 77\n",
      "a= 1\n"
     ]
    }
   ],
   "source": [
    "a=77\n",
    "x=1\n",
    "b=a\n",
    "a=x\n",
    "x=b\n",
    "print(\"x=\",x)\n",
    "print(\"a=\",a)"
   ]
  },
  {
   "cell_type": "code",
   "execution_count": 4,
   "id": "0fac656e",
   "metadata": {},
   "outputs": [
    {
     "name": "stdout",
     "output_type": "stream",
     "text": [
      "Enter the value of a:4\n",
      "The cube of a is: 64\n"
     ]
    }
   ],
   "source": [
    "a = int(input(\"Enter the value of a:\"))\n",
    "print(\"The cube of a is:\",a**3)"
   ]
  },
  {
   "cell_type": "markdown",
   "id": "c71ada38",
   "metadata": {},
   "source": [
    "# Compound Assignment"
   ]
  },
  {
   "cell_type": "code",
   "execution_count": 19,
   "id": "af97019e",
   "metadata": {},
   "outputs": [
    {
     "name": "stdout",
     "output_type": "stream",
     "text": [
      "12\n",
      "120\n",
      "12.0\n",
      "2.0\n"
     ]
    }
   ],
   "source": [
    "x=2\n",
    "x+=10\n",
    "print(x)\n",
    "x*=10\n",
    "print(x)\n",
    "x/=10\n",
    "print(x)\n",
    "x-=10\n",
    "print(x)"
   ]
  },
  {
   "cell_type": "code",
   "execution_count": null,
   "id": "91286028",
   "metadata": {},
   "outputs": [],
   "source": []
  },
  {
   "cell_type": "markdown",
   "id": "29363699",
   "metadata": {},
   "source": [
    "# Assingment operator"
   ]
  },
  {
   "cell_type": "code",
   "execution_count": 26,
   "id": "a3835bda",
   "metadata": {},
   "outputs": [],
   "source": [
    "x=10"
   ]
  },
  {
   "cell_type": "markdown",
   "id": "da8806f3",
   "metadata": {},
   "source": [
    "# Comparison Operator"
   ]
  },
  {
   "cell_type": "code",
   "execution_count": 52,
   "id": "2c7072fe",
   "metadata": {},
   "outputs": [],
   "source": [
    "# == equal to\n",
    "# > greater than\n",
    "# < less than\n",
    "# != not equal to \n",
    "# >= greater than equal to \n",
    "# <= less than equal to"
   ]
  },
  {
   "cell_type": "code",
   "execution_count": 28,
   "id": "db1989af",
   "metadata": {},
   "outputs": [],
   "source": [
    "x=100\n",
    "y=125"
   ]
  },
  {
   "cell_type": "code",
   "execution_count": 29,
   "id": "31322fe2",
   "metadata": {},
   "outputs": [
    {
     "name": "stdout",
     "output_type": "stream",
     "text": [
      "False\n"
     ]
    }
   ],
   "source": [
    "print(x>y)"
   ]
  },
  {
   "cell_type": "code",
   "execution_count": 30,
   "id": "5b3d658b",
   "metadata": {},
   "outputs": [
    {
     "name": "stdout",
     "output_type": "stream",
     "text": [
      "True\n"
     ]
    }
   ],
   "source": [
    "print(x<y)"
   ]
  },
  {
   "cell_type": "code",
   "execution_count": 31,
   "id": "3cd5302a",
   "metadata": {},
   "outputs": [
    {
     "name": "stdout",
     "output_type": "stream",
     "text": [
      "True\n"
     ]
    }
   ],
   "source": [
    "print(x!=y)"
   ]
  },
  {
   "cell_type": "code",
   "execution_count": 32,
   "id": "9ace6361",
   "metadata": {},
   "outputs": [
    {
     "name": "stdout",
     "output_type": "stream",
     "text": [
      "False\n"
     ]
    }
   ],
   "source": [
    "print(x>=y)"
   ]
  },
  {
   "cell_type": "code",
   "execution_count": 33,
   "id": "35df514d",
   "metadata": {},
   "outputs": [
    {
     "name": "stdout",
     "output_type": "stream",
     "text": [
      "True\n"
     ]
    }
   ],
   "source": [
    "print(x<=y)"
   ]
  },
  {
   "cell_type": "code",
   "execution_count": 34,
   "id": "14d47dc5",
   "metadata": {},
   "outputs": [],
   "source": [
    "x=10\n",
    "y=10"
   ]
  },
  {
   "cell_type": "code",
   "execution_count": 35,
   "id": "977c7796",
   "metadata": {},
   "outputs": [
    {
     "name": "stdout",
     "output_type": "stream",
     "text": [
      "False\n",
      "False\n"
     ]
    }
   ],
   "source": [
    "print(x>y)\n",
    "print(x<y)"
   ]
  },
  {
   "cell_type": "code",
   "execution_count": 36,
   "id": "3e8e5444",
   "metadata": {},
   "outputs": [
    {
     "name": "stdout",
     "output_type": "stream",
     "text": [
      "False\n"
     ]
    }
   ],
   "source": [
    "print(x!=y)"
   ]
  },
  {
   "cell_type": "code",
   "execution_count": 37,
   "id": "83355f94",
   "metadata": {},
   "outputs": [
    {
     "name": "stdout",
     "output_type": "stream",
     "text": [
      "True\n",
      "True\n"
     ]
    }
   ],
   "source": [
    "print(x>=y)\n",
    "print(x<=y)"
   ]
  },
  {
   "cell_type": "code",
   "execution_count": 38,
   "id": "dc9abc25",
   "metadata": {},
   "outputs": [
    {
     "name": "stdout",
     "output_type": "stream",
     "text": [
      "True\n"
     ]
    }
   ],
   "source": [
    "print(x==y)"
   ]
  },
  {
   "cell_type": "code",
   "execution_count": 43,
   "id": "de89726c",
   "metadata": {},
   "outputs": [
    {
     "name": "stdout",
     "output_type": "stream",
     "text": [
      "True\n",
      "False\n",
      "True\n",
      "False\n"
     ]
    }
   ],
   "source": [
    "x='D'\n",
    "y='d'\n",
    "print(x<y)\n",
    "print(x>y)\n",
    "print(x!=y)\n",
    "print(x>=y)"
   ]
  },
  {
   "cell_type": "code",
   "execution_count": 44,
   "id": "f20c0879",
   "metadata": {},
   "outputs": [
    {
     "name": "stdout",
     "output_type": "stream",
     "text": [
      "False\n",
      "True\n",
      "False\n",
      "True\n",
      "False\n"
     ]
    }
   ],
   "source": [
    "print(10>20>30>40>50)\n",
    "print(10<20<30<40)\n",
    "print(10>20>30>40>50)\n",
    "print(50>40>30>20)\n",
    "print(50>40<20<30)"
   ]
  },
  {
   "cell_type": "markdown",
   "id": "5a7d33fa",
   "metadata": {},
   "source": [
    "# Logical Operator"
   ]
  },
  {
   "cell_type": "code",
   "execution_count": 51,
   "id": "5cbfff4e",
   "metadata": {},
   "outputs": [],
   "source": [
    "# and  A*B\n",
    "# if both the input are true then the output is true\n",
    "\n",
    "# or   A+B \n",
    "#if any one input is true it returns true\n",
    "\n",
    "# not  A'\n",
    "#it reverse the operand output"
   ]
  },
  {
   "cell_type": "code",
   "execution_count": 11,
   "id": "2a532cec",
   "metadata": {},
   "outputs": [],
   "source": [
    "a = True\n",
    "b = False\n",
    "c = True\n",
    "d = False"
   ]
  },
  {
   "cell_type": "code",
   "execution_count": 12,
   "id": "95f61c1e",
   "metadata": {},
   "outputs": [
    {
     "name": "stdout",
     "output_type": "stream",
     "text": [
      "False\n",
      "False\n",
      "True\n",
      "False\n",
      "True\n",
      "False\n",
      "True\n",
      "True\n",
      "False\n",
      "True\n"
     ]
    }
   ],
   "source": [
    "#and\n",
    "print(a and b)\n",
    "print(a and d)\n",
    "print(a and c)\n",
    "print(b and d)\n",
    "\n",
    "#or\n",
    "print(a or b)\n",
    "print(b or d)\n",
    "print(a or d)\n",
    "print(b or c)\n",
    "\n",
    "#not\n",
    "print(not a)\n",
    "print(not b)"
   ]
  },
  {
   "cell_type": "markdown",
   "id": "83d3510c",
   "metadata": {},
   "source": [
    "# IDENTITY OPERATOR"
   ]
  },
  {
   "cell_type": "code",
   "execution_count": 7,
   "id": "d8a29066",
   "metadata": {},
   "outputs": [
    {
     "name": "stdout",
     "output_type": "stream",
     "text": [
      "1832227597328\n",
      "140707595036752\n",
      "False\n",
      "True\n"
     ]
    }
   ],
   "source": [
    "# is operator\n",
    "# == compares the content of the variable\n",
    "# is compares the memory addrees of variable\n",
    "# if we want to see the address of variable in ram\n",
    "\n",
    "x=10.0\n",
    "y=10\n",
    "\n",
    "print(id(x))\n",
    "print(id(y))\n",
    "\n",
    "print(x is y)\n",
    "print(x==y)"
   ]
  },
  {
   "cell_type": "code",
   "execution_count": 68,
   "id": "83803ddc",
   "metadata": {},
   "outputs": [
    {
     "name": "stdout",
     "output_type": "stream",
     "text": [
      "140706815814992\n",
      "140706815815024\n"
     ]
    }
   ],
   "source": [
    "x= 50\n",
    "y= 51\n",
    "print(id(x))\n",
    "print(id(y))\n"
   ]
  },
  {
   "cell_type": "markdown",
   "id": "f940facb",
   "metadata": {},
   "source": [
    "# membership operator"
   ]
  },
  {
   "cell_type": "code",
   "execution_count": 69,
   "id": "2f955a8a",
   "metadata": {},
   "outputs": [
    {
     "name": "stdout",
     "output_type": "stream",
     "text": [
      "True\n"
     ]
    }
   ],
   "source": [
    "# in operator\n",
    "name='Aryan'\n",
    "print('A' in name)"
   ]
  },
  {
   "cell_type": "code",
   "execution_count": 25,
   "id": "6954e642",
   "metadata": {},
   "outputs": [
    {
     "name": "stdout",
     "output_type": "stream",
     "text": [
      "False\n",
      "True\n",
      "True\n"
     ]
    }
   ],
   "source": [
    "a = ['AryanMonga',24,26]\n",
    "print('A' in a)\n",
    "print(\"AryanMonga\" in a)\n",
    "print(26 in a)"
   ]
  },
  {
   "cell_type": "code",
   "execution_count": 12,
   "id": "05541609",
   "metadata": {},
   "outputs": [
    {
     "name": "stdout",
     "output_type": "stream",
     "text": [
      "equal pens 26\n",
      "equal pens 2\n"
     ]
    }
   ],
   "source": [
    " r = 25\n",
    " a = 17\n",
    " ro = 23\n",
    " c = 19\n",
    " p = 41\n",
    " v =33\n",
    "print(\"equal pens\",(r+a+ro+c+p+v)//6)\n",
    "print(\"equal pens\",(r+a+ro+c+p+v)%6)"
   ]
  },
  {
   "cell_type": "code",
   "execution_count": 24,
   "id": "7af372c8",
   "metadata": {},
   "outputs": [
    {
     "name": "stdout",
     "output_type": "stream",
     "text": [
      "Enter the value of a4\n",
      "the value is 6\n",
      "6\n"
     ]
    }
   ],
   "source": [
    "a = int(input(\"Enter the value of a\"))\n",
    "print(\"the value is\",a+2)\n",
    "a+=2\n",
    "print(a)\n",
    "\n"
   ]
  },
  {
   "cell_type": "markdown",
   "id": "af87f62a",
   "metadata": {},
   "source": [
    "\n",
    "# conditional statements\n",
    "If - else..."
   ]
  },
  {
   "cell_type": "code",
   "execution_count": 9,
   "id": "bdd4a53c",
   "metadata": {},
   "outputs": [
    {
     "name": "stdout",
     "output_type": "stream",
     "text": [
      "ENTER a number3\n",
      "3 +ve\n"
     ]
    }
   ],
   "source": [
    "#saturday -2\n",
    "n=int(input(\"ENTER a number\"))\n",
    "if n>0: \n",
    "    print(n, 'positive')\n",
    "else:\n",
    "    printf(n ,'negeative')    "
   ]
  },
  {
   "cell_type": "code",
   "execution_count": 11,
   "id": "7fbc5296",
   "metadata": {},
   "outputs": [
    {
     "name": "stdout",
     "output_type": "stream",
     "text": [
      "ENTER a number5\n",
      "5 n0 is odd\n"
     ]
    }
   ],
   "source": [
    "n=int(input(\"ENTER a number\"))\n",
    "if n%2==0 :\n",
    "    print(n,\"no is even\")\n",
    "else:\n",
    "    print(n,\"n0 is odd\")"
   ]
  },
  {
   "cell_type": "code",
   "execution_count": 13,
   "id": "3b398c45",
   "metadata": {},
   "outputs": [
    {
     "name": "stdout",
     "output_type": "stream",
     "text": [
      "ENTER a number6\n",
      "ENTER a number8\n",
      "b is greater 8\n"
     ]
    }
   ],
   "source": [
    "a=int(input(\"ENTER a number\"))\n",
    "b=int(input(\"ENTER a number\"))\n",
    "if a>b:\n",
    "    print(\"a is greater\",a)\n",
    "else:\n",
    "    print(\"b is greater\",b)"
   ]
  },
  {
   "cell_type": "code",
   "execution_count": 16,
   "id": "b40c5d70",
   "metadata": {},
   "outputs": [
    {
     "name": "stdout",
     "output_type": "stream",
     "text": [
      "ENTER a number5\n",
      "not divisible by 7\n"
     ]
    }
   ],
   "source": [
    "a=int(input(\"ENTER a number\"))\n",
    "if a%7==0:\n",
    "    print(\"divisble by 7\")\n",
    "else:\n",
    "    print(\"not divisible by 7\")"
   ]
  },
  {
   "cell_type": "code",
   "execution_count": 20,
   "id": "2265b546",
   "metadata": {},
   "outputs": [
    {
     "name": "stdout",
     "output_type": "stream",
     "text": [
      "ENTER a number = 6\n",
      "6 positive\n"
     ]
    }
   ],
   "source": [
    "#multiple condition\n",
    "n=int(input(\"ENTER a number = \"))\n",
    "if n>0: \n",
    "    print(n, 'positive')\n",
    "elif n==0: \n",
    "    print(n,'zero')\n",
    "else:\n",
    "    printf(n ,'negeative')    "
   ]
  },
  {
   "cell_type": "code",
   "execution_count": 22,
   "id": "f4e5eabb",
   "metadata": {},
   "outputs": [
    {
     "name": "stdout",
     "output_type": "stream",
     "text": [
      "Enter the value of a2\n",
      "Enter the value of b4\n",
      "Enter the value of c6\n",
      "c is greater 6\n"
     ]
    }
   ],
   "source": [
    "a= int(input(\"Enter the value of a\"))\n",
    "b= int(input(\"Enter the value of b\"))\n",
    "c= int(input(\"Enter the value of c\"))\n",
    "if a>b and b>c:\n",
    "    print(\"a is greater\",a)\n",
    "elif b>c and c>a:\n",
    "    print(\"b is greater\",b)\n",
    "else:\n",
    "    print(\"c is greater\",c)\n"
   ]
  },
  {
   "cell_type": "code",
   "execution_count": 27,
   "id": "f0428601",
   "metadata": {},
   "outputs": [
    {
     "name": "stdout",
     "output_type": "stream",
     "text": [
      "ENTER a number55\n",
      "divisble by 5 and 7\n"
     ]
    }
   ],
   "source": [
    "a=int(input(\"ENTER a number\"))\n",
    "if a%7==0 and a%5==0:\n",
    "    print(\"divisble by 5 and 7\")\n",
    "else:\n",
    "    print(\"not divisible by 5 and 7\")"
   ]
  },
  {
   "cell_type": "code",
   "execution_count": 30,
   "id": "80a8ad23",
   "metadata": {},
   "outputs": [
    {
     "name": "stdout",
     "output_type": "stream",
     "text": [
      "ENTER a number21\n",
      "divisible by 7\n"
     ]
    }
   ],
   "source": [
    "a=int(input(\"ENTER a number\"))\n",
    "if a%7==0 and a%5==0:\n",
    "    print(\"divisble by 5 and 7\")\n",
    "elif a%5==0:\n",
    "    print(\"divisble by 5\")\n",
    "elif a%7==0:\n",
    "    print(\"divisible by 7\")\n",
    "else:\n",
    "    print(\"not divisible by 5 and 7\")"
   ]
  },
  {
   "cell_type": "code",
   "execution_count": 28,
   "id": "46002e54",
   "metadata": {},
   "outputs": [
    {
     "name": "stdout",
     "output_type": "stream",
     "text": [
      "Enter a number 2\n",
      "Enter a number 2\n",
      "Enter the operator you want to perform  ...+,-,/,*,**,//,%**\n",
      "the exp is 4\n"
     ]
    }
   ],
   "source": [
    "a = int(input(\"Enter a number \"))\n",
    "b = int(input(\"Enter a number \"))\n",
    "c = input(\"Enter the operator you want to perform  ...+,-,/,*,**,//,%\")\n",
    "if  c == '+':\n",
    "    print(\"the add is\",a+b)\n",
    "elif c == '-':\n",
    "     print(\"the sub is\",a+b)\n",
    "elif c == '/':\n",
    "     print(\"the div is\",a/b)\n",
    "elif c == '*':\n",
    "     print(\"the mul is\",a*b)\n",
    "elif c == '**':\n",
    "     print(\"the exp is\",a**b)\n",
    "elif c == '//':\n",
    "     print(\"the ddiv is\",a//b)\n",
    "elif c == '%':\n",
    "     print(\"the mod is\",a%b)\n",
    "else:\n",
    "    print(\"pls check!! invalid operator\")"
   ]
  },
  {
   "cell_type": "code",
   "execution_count": 47,
   "id": "e677e4fa",
   "metadata": {},
   "outputs": [
    {
     "name": "stdout",
     "output_type": "stream",
     "text": [
      "Enter a number 35\n",
      "35 divisible by 5 and 7\n"
     ]
    }
   ],
   "source": [
    "# nested if else\n",
    "n = int(input(\"Enter a number \"))\n",
    "if n%5 == 0:\n",
    "    if n%7==0:\n",
    "        print(n,\"divisible by 5 and 7\")\n",
    "    else:\n",
    "        print(n,\"divisible by 5\")\n",
    "elif n%7==0:\n",
    "    print(n,\"divisible by 7\")\n",
    "else:\n",
    "    print(n,\"can't divisible by 5 and 7\")\n",
    "        "
   ]
  },
  {
   "cell_type": "code",
   "execution_count": 58,
   "id": "31cca3e4",
   "metadata": {},
   "outputs": [
    {
     "name": "stdout",
     "output_type": "stream",
     "text": [
      "Enter a number 21\n",
      " weird\n"
     ]
    }
   ],
   "source": [
    "n = int(input(\"Enter a number \"))\n",
    "if n%2==1:\n",
    "    print(\" weird\")\n",
    "else:\n",
    "    if n>=2 and n<=5:\n",
    "        print(\"not weird\")\n",
    "    elif n>=5 and n<=20:\n",
    "        print(\"not weird\")\n",
    "    else:\n",
    "         print(\"not weird\")"
   ]
  },
  {
   "cell_type": "code",
   "execution_count": 75,
   "id": "cff15200",
   "metadata": {},
   "outputs": [
    {
     "name": "stdout",
     "output_type": "stream",
     "text": [
      "Enter a weather rainy\n",
      "weather is rainy\n",
      "Enter the condition heavy\n",
      "not play\n"
     ]
    }
   ],
   "source": [
    "n = input(\"Enter a weather \")\n",
    "if n == \"sunny\" or weather == \"Sunny \":\n",
    "    print(\"weather is sunny\")\n",
    "    t = int(input(\"Enter the temperature \"))\n",
    "    if t>=35 and t <=50:\n",
    "        print(\"play\")\n",
    "    else:\n",
    "        print(\"not play\")\n",
    "    \n",
    "elif n == \"winter\" or n = 'Rainy' or n == 'rainy':\n",
    "    print(\"weather is winter\")\n",
    "    if t>=20:\n",
    "        print(\"play\")\n",
    "    else:\n",
    "        print(\"not play\")\n",
    "        \n",
    "elif  n == \"rainy\" or n == 'WINTER' :\n",
    "    print(\"weather is rainy\")\n",
    "    c = input(\"Enter the condition \")\n",
    "    if c == \"heavy\":\n",
    "        print(\"not play\")\n",
    "    else:\n",
    "        print(\"play\")\n",
    "        \n",
    "else:\n",
    "    print(\"Invalid\")"
   ]
  },
  {
   "cell_type": "markdown",
   "id": "bb46db14",
   "metadata": {},
   "source": [
    "# Assignment - 2"
   ]
  },
  {
   "cell_type": "code",
   "execution_count": 1,
   "id": "9cfd94ee",
   "metadata": {},
   "outputs": [
    {
     "name": "stdout",
     "output_type": "stream",
     "text": [
      "Enter the number-1\n",
      "-1  is a negative number\n"
     ]
    }
   ],
   "source": [
    "# q1\n",
    "n = int(input(\"Enter the number\"))\n",
    "if n>0:\n",
    "    print(n,\" is a positive number\")\n",
    "elif n==0:\n",
    "    print(n,\" is zero\")\n",
    "else:\n",
    "    print(n,\" is a negative number\")"
   ]
  },
  {
   "cell_type": "code",
   "execution_count": 7,
   "id": "e0e9252a",
   "metadata": {},
   "outputs": [
    {
     "name": "stdout",
     "output_type": "stream",
     "text": [
      "Enter your usernameAryan433\n",
      "Enter your password123456789\n",
      "welcome to the website!!!\n"
     ]
    }
   ],
   "source": [
    "#q2\n",
    "username = 'Aryan433'\n",
    "password = 123456789\n",
    "u = input(\"Enter your username\")\n",
    "p = int(input(\"Enter your password\"))\n",
    "if username == u and password == p:\n",
    "    print(\"welcome to the website!!!\")\n",
    "else:\n",
    "    print(\"report! invalid username and password\")\n"
   ]
  },
  {
   "cell_type": "code",
   "execution_count": 13,
   "id": "d4f45964",
   "metadata": {},
   "outputs": [
    {
     "name": "stdout",
     "output_type": "stream",
     "text": [
      "Enter the number945\n",
      "945 is three digit number\n"
     ]
    }
   ],
   "source": [
    "#q3\n",
    "n = int(input(\"Enter the number\"))\n",
    "if n>0 and n<10:\n",
    "    print(n,\"is one digit number\")\n",
    "elif n>=10 and n<=99:\n",
    "    print(n,\"is two digit number\")\n",
    "elif n>=100 and n<=999:\n",
    "    print(n,\"is three digit number\")\n",
    "else:\n",
    "    print(n,\"is more than 3 digit number\")\n",
    "    "
   ]
  },
  {
   "cell_type": "code",
   "execution_count": 16,
   "id": "9a623246",
   "metadata": {},
   "outputs": [
    {
     "name": "stdout",
     "output_type": "stream",
     "text": [
      "Enter the number1000\n",
      "1000  is smallest 4 digit number\n"
     ]
    }
   ],
   "source": [
    "#q4\n",
    "n = int(input(\"Enter the number\"))\n",
    "if n<=1000:\n",
    "    print(n,\" is smallest 4 digit number\")\n",
    "else:\n",
    "    print(n,\" is not smallest 4 digit number\")"
   ]
  },
  {
   "cell_type": "code",
   "execution_count": 23,
   "id": "22f84b37",
   "metadata": {},
   "outputs": [
    {
     "name": "stdout",
     "output_type": "stream",
     "text": [
      "Enter the value of a 2\n",
      "Enter the value of b 8\n",
      "Enter the value of c 6\n",
      "8 is greatest\n"
     ]
    }
   ],
   "source": [
    "#q5\n",
    "a = int(input(\"Enter the value of a \"))\n",
    "b = int(input(\"Enter the value of b \"))\n",
    "c = int(input(\"Enter the value of c \"))\n",
    "if a>b and b>c:\n",
    "    print(a,\"is greatest\")\n",
    "elif b>c and c>a:\n",
    "    print(b,\"is greatest\")\n",
    "else:\n",
    "    print(c,\"is greatest\")"
   ]
  },
  {
   "cell_type": "code",
   "execution_count": 25,
   "id": "6c06f000",
   "metadata": {},
   "outputs": [
    {
     "name": "stdout",
     "output_type": "stream",
     "text": [
      "Enter the value of a 4\n",
      "Enter the value of b 4\n",
      "Enter the value of c 2\n",
      "it can form sides of triangle\n"
     ]
    }
   ],
   "source": [
    "#q6\n",
    "a = int(input(\"Enter the value of a \"))\n",
    "b = int(input(\"Enter the value of b \"))\n",
    "c = int(input(\"Enter the value of c \"))\n",
    "if (a+b)>c:\n",
    "    print(\"it can form sides of triangle\")\n",
    "else:\n",
    "    print(\"it can't form sides of triangle\")"
   ]
  },
  {
   "cell_type": "code",
   "execution_count": 30,
   "id": "4d4a932d",
   "metadata": {},
   "outputs": [
    {
     "name": "stdout",
     "output_type": "stream",
     "text": [
      "Enter the value of a 3\n",
      "Enter the value of b 4\n",
      "Enter the value of c 5\n",
      "The triangle is right angled triangle\n"
     ]
    }
   ],
   "source": [
    "#7\n",
    "a = int(input(\"Enter the value of a \"))\n",
    "b = int(input(\"Enter the value of b \"))\n",
    "c = int(input(\"Enter the value of c \"))\n",
    "if c**2 == a**2+b**2:\n",
    "    print(\"The triangle is right angled triangle\")\n",
    "elif c**2 < a**2+b**2:\n",
    "    print(\"The triangle is acute angle triangle\")\n",
    "elif c**2 > a**2+b**2:\n",
    "    print(\"The triangle is obtuse angle triangle\")\n",
    "else:\n",
    "    print(\"something went wrong!!!\")"
   ]
  },
  {
   "cell_type": "code",
   "execution_count": 34,
   "id": "be0cc54b",
   "metadata": {},
   "outputs": [
    {
     "name": "stdout",
     "output_type": "stream",
     "text": [
      "Enter the value of a 1\n",
      "Enter the value of b 2\n",
      "Enter the value of c 3\n",
      "This is scalene traingle\n"
     ]
    }
   ],
   "source": [
    "#8\n",
    "a = int(input(\"Enter the value of a \"))\n",
    "b = int(input(\"Enter the value of b \"))\n",
    "c = int(input(\"Enter the value of c \"))\n",
    "if a == b and b == c:\n",
    "    print(\"This is Equilateral traingle\")\n",
    "elif a == b or b == c:\n",
    "    print(\"This is isosceles traingle\")\n",
    "elif a != b and b != c and c!=a:\n",
    "    print(\"This is scalene traingle\")\n",
    "    "
   ]
  },
  {
   "cell_type": "code",
   "execution_count": 40,
   "id": "9cdb61f9",
   "metadata": {},
   "outputs": [
    {
     "name": "stdout",
     "output_type": "stream",
     "text": [
      "Enter the type of toykey toy\n",
      "Enter the amount of toy... 580\n",
      "5% discount alloted\n",
      "Your total amount is  551.0\n"
     ]
    }
   ],
   "source": [
    "#9\n",
    "t = input(\"Enter the type of toy\")\n",
    "a = int(input(\"Enter the amount of toy... \"))\n",
    "if t == \"battery toy\":\n",
    "    a = int(input(\"Enter the amount of toy... \"))\n",
    "    if a>=1000:\n",
    "        print(\"10% discount alloted\")\n",
    "        discount=a*10/100\n",
    "        print(\"Your total amount is \",a - discount)\n",
    "\n",
    "elif t == \"key toy\":\n",
    "    if a>=100:\n",
    "        print(\"5% discount alloted\")\n",
    "        discount=a*5/100\n",
    "        print(\"Your total amount is \",a - discount)\n",
    "\n",
    "elif t == \"Electrical toy\":\n",
    "    if a>=500:\n",
    "        print(\"10% discount alloted\")\n",
    "        discount=a*10/100\n",
    "        print(\"Your total amount is \",a - discount)\n",
    "\n",
    "else:\n",
    "    print(\"You purchased nothing!!!\")"
   ]
  },
  {
   "cell_type": "code",
   "execution_count": 53,
   "id": "777c3721",
   "metadata": {},
   "outputs": [
    {
     "name": "stdout",
     "output_type": "stream",
     "text": [
      "Enter the value of x 2\n",
      "Enter the value of k 4\n",
      "A function is  -2\n"
     ]
    }
   ],
   "source": [
    "#q10\n",
    "a=1\n",
    "b=2\n",
    "c=3\n",
    "d=4 \n",
    "x = int(input(\"Enter the value of x \"))\n",
    "k = int(input(\"Enter the value of k \"))\n",
    "if x>k:\n",
    "    fun= a*x**3-b*x**2 + c*x-d\n",
    "    print(\"A function is \", fun)\n",
    "elif x==k:\n",
    "    fun= 0\n",
    "    print(\"A function is \", fun)\n",
    "elif x<k:\n",
    "    fun =  -a*x**3 + b*x**2 - c*x +d\n",
    "    print(\"A function is \", fun)\n",
    "else:\n",
    "    print(\"nothing!!!\")  \n"
   ]
  },
  {
   "cell_type": "code",
   "execution_count": 66,
   "id": "b628d0a2",
   "metadata": {},
   "outputs": [
    {
     "name": "stdout",
     "output_type": "stream",
     "text": [
      "Enter the past unit consumed300\n",
      "Enter the current unit consumed600\n",
      "total charges is  300.0\n"
     ]
    }
   ],
   "source": [
    "#q11\n",
    "pu = int(input(\"Enter the past unit consumed\"))\n",
    "cu = int(input(\"Enter the current unit consumed\"))\n",
    "uc= cu-pu\n",
    "if  uc>=0 and uc<= 100:\n",
    "    charges= uc*0.50\n",
    "    print(\"total charges is \",charges)\n",
    "elif uc>100 and uc<=200:\n",
    "    charges= 50+(uc-100)*1\n",
    "    print(\"total charges is \",charges)\n",
    "elif uc>200 and uc<=300:\n",
    "    charges= 150+(uc-200)*1.50\n",
    "    print(\"total charges is \",charges)\n",
    "else:\n",
    "    charges= 300+(uc-300)*2\n",
    "    print(\"total charges is \",charges)"
   ]
  },
  {
   "cell_type": "code",
   "execution_count": 20,
   "id": "029c77e2",
   "metadata": {},
   "outputs": [
    {
     "name": "stdout",
     "output_type": "stream",
     "text": [
      "Enter your salary 27000\n",
      "salary after deducting tax 24300.0\n"
     ]
    }
   ],
   "source": [
    "#sunday-2\n",
    "salary = int(input(\"Enter your salary \"))     \n",
    "if salary >= 25000 and salary < 50000:\n",
    "    tax= salary*10/100\n",
    "    totalsalary = salary - tax\n",
    "    print(\"salary after deducting tax\",totalsalary)\n",
    "elif salary >= 50000 and salary <100000:\n",
    "    tax = salary*20/100\n",
    "    totalsalary = salary - tax\n",
    "    print(\"salary after deducting tax\",totalsalary)\n",
    "elif salary >= 100000:\n",
    "    tax = salary*20/100\n",
    "    totalsalary = salary - tax\n",
    "    print(\"salary after deducting tax\",totalsalary)\n",
    "else:\n",
    "    print(\"you enter something invalid \")\n",
    "    "
   ]
  },
  {
   "cell_type": "code",
   "execution_count": 31,
   "id": "d0e59437",
   "metadata": {},
   "outputs": [
    {
     "name": "stdout",
     "output_type": "stream",
     "text": [
      "pizza : burger : pasta \n",
      "Enter the food item you want choose pizza\n",
      "toppings available for pizza  cheese: veggies : corn  \n",
      "Enter the topping onoin\n",
      "this topping is not available\n"
     ]
    }
   ],
   "source": [
    "print(\"pizza : burger : pasta \")\n",
    "\n",
    "menu = input(\"Enter the food item you want choose \")\n",
    "if menu == \"pizza\":\n",
    "    print(\"toppings available for pizza  cheese: veggies : corn  \")\n",
    "    top = input(\"Enter the topping \")\n",
    "    if top == \"cheese\":\n",
    "        print(\"your cheese pizza price is :250\")\n",
    "    elif top == \"veggies\":\n",
    "        print(\"Your veggies pizza price is :180\")\n",
    "    elif top == \"corn\":\n",
    "        print(\"Your corn pizza price is :200\")\n",
    "    else:\n",
    "        print(\"this topping is not available\")\n",
    "elif menu == \"burger\":\n",
    "    print(\"category available for burger : Veg and Non_Veg\")\n",
    "    cat = input(\"Enter the category \")\n",
    "    if cat == \"Veg\":\n",
    "        print(\"your veg burger price is :120\")\n",
    "    elif cat == \"Non_Veg\":\n",
    "        print(\"your Non_Veg burger price is :190\")\n",
    "    else:\n",
    "        print(\"Not available\")\n",
    "elif menu == \"pasta\":\n",
    "    print(\"category available for  : red sause and white sause paste\")\n",
    "    past = input(\"Enter the category \")\n",
    "    if past == \"red_sause\":\n",
    "        print(\"your red sause pasta price is :120\")\n",
    "    elif past == \"white+_sause\":\n",
    "        print(\"your white sause pasta price is :190\")\n",
    "    else:\n",
    "        print(\"Not available\")\n",
    "else:\n",
    "    print(\"inalid item\")"
   ]
  },
  {
   "cell_type": "code",
   "execution_count": 1,
   "id": "ba054737",
   "metadata": {},
   "outputs": [
    {
     "name": "stdout",
     "output_type": "stream",
     "text": [
      "Enter your pin1234\n",
      "1: cash enquiry , 2 : Deposit,  3 :withdrawl \n",
      "choose your option3\n",
      "Enter amount you want to withdrawl 200\n",
      "Your total account balance is  99999999999999999999999999999999999999999999999999999999999999999800\n"
     ]
    }
   ],
   "source": [
    "#ATM\n",
    "amount = 100000000000000000000000000000000000000000000000000000000000000000000\n",
    "pin=int(input(\"Enter your pin\"))\n",
    "if pin == 1234:\n",
    "    print(\"1: cash enquiry , 2 : Deposit,  3 :withdrawl \" )\n",
    "    choose = int(input(\"choose your option\"))\n",
    "    if choose == 1:\n",
    "        print(\"YOUR ACCOUNT BALANCE IS \",amount)\n",
    "    elif choose ==2:\n",
    "        amt=int(input(\"Enter amount you want to deposit \"))\n",
    "        totalamt= amount+amt\n",
    "        print(\"Your total account balance is \", totalamt)\n",
    "    elif choose ==3:\n",
    "        withamt=int(input(\"Enter amount you want to withdrawl \"))\n",
    "        restamt= amount-withamt\n",
    "        print(\"Your total account balance is \", restamt)\n",
    "    else:\n",
    "        print(\"not available!!!\")\n",
    "else:\n",
    "    print(\"you entered wrong pin! please try again\")\n",
    "    \n"
   ]
  }
 ],
 "metadata": {
  "kernelspec": {
   "display_name": "Python 3",
   "language": "python",
   "name": "python3"
  },
  "language_info": {
   "codemirror_mode": {
    "name": "ipython",
    "version": 3
   },
   "file_extension": ".py",
   "mimetype": "text/x-python",
   "name": "python",
   "nbconvert_exporter": "python",
   "pygments_lexer": "ipython3",
   "version": "3.8.8"
  }
 },
 "nbformat": 4,
 "nbformat_minor": 5
}
