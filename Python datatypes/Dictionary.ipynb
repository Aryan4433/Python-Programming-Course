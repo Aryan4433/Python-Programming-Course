{
 "cells": [
  {
   "cell_type": "markdown",
   "id": "ec6587a0",
   "metadata": {},
   "source": [
    "# Dictionaries"
   ]
  },
  {
   "cell_type": "markdown",
   "id": "79f8d625",
   "metadata": {},
   "source": [
    "- What is Dictionary?\n",
    "\n",
    "Dictionary is a non-homogeneous data structure which stores key value pairs. Use {} curly brackets to construct the dictionary, and [] square brackets to index it. Separate the key and value with colons: and with commas, between each pair. Dictionaries are mutable, which means they can be changed. "
   ]
  },
  {
   "cell_type": "markdown",
   "id": "82495615",
   "metadata": {},
   "source": [
    "### Creating a Dictionary"
   ]
  },
  {
   "cell_type": "markdown",
   "id": "388c9335",
   "metadata": {},
   "source": [
    "In Python, a Dictionary can be created by placing a sequence of elements within curly {} braces, separated by ‘comma’. Dictionary holds pairs of values, one being the Key and the other corresponding pair element being its Key:value. Values in a dictionary can be of any data type and can be duplicated, whereas keys can’t be repeated and must be immutable. \n",
    "\n",
    "Note – Dictionary keys are case sensitive, the same name but different cases of Key will be treated distinctly. "
   ]
  },
  {
   "cell_type": "code",
   "execution_count": 146,
   "id": "632d5fae",
   "metadata": {},
   "outputs": [
    {
     "name": "stdout",
     "output_type": "stream",
     "text": [
      "{0: 'One', 'Two': 2, 3: 'Three', 'Four': 4}\n"
     ]
    }
   ],
   "source": [
    "d={0:'One','Two' :2, 3:\"Three\",'Four':4}\n",
    "print(d)"
   ]
  },
  {
   "cell_type": "code",
   "execution_count": 2,
   "id": "6dc02f39",
   "metadata": {},
   "outputs": [
    {
     "name": "stdout",
     "output_type": "stream",
     "text": [
      "2\n"
     ]
    }
   ],
   "source": [
    "DD={'Fruits':['apple','mango'],'Vegetable':['potato','tomato']}\n",
    "print(len(DD))"
   ]
  },
  {
   "cell_type": "code",
   "execution_count": 1,
   "id": "8c89f38f",
   "metadata": {},
   "outputs": [],
   "source": [
    "D={0:0,1:1,2:2,7:0,1:2,0:1}"
   ]
  },
  {
   "cell_type": "code",
   "execution_count": 2,
   "id": "02258ba2",
   "metadata": {},
   "outputs": [
    {
     "name": "stdout",
     "output_type": "stream",
     "text": [
      "4\n",
      "{0: 1, 1: 2, 2: 2, 7: 0}\n"
     ]
    }
   ],
   "source": [
    "print(len(D))\n",
    "print(D)"
   ]
  },
  {
   "cell_type": "code",
   "execution_count": 8,
   "id": "f1011f08",
   "metadata": {},
   "outputs": [
    {
     "name": "stdout",
     "output_type": "stream",
     "text": [
      "{'Name': 'Data', 1: [1, 2, 3, 4]}\n",
      "2\n"
     ]
    }
   ],
   "source": [
    "# Creating a Dictionary with Mixed keys\n",
    "Dict = {'Name': 'Python', 1: [1, 2, 3, 4],'Name':'Data'}\n",
    "print(Dict)\n",
    "print(len(Dict))"
   ]
  },
  {
   "cell_type": "code",
   "execution_count": 14,
   "id": "53f590af",
   "metadata": {},
   "outputs": [
    {
     "name": "stdout",
     "output_type": "stream",
     "text": [
      "{}\n",
      "{1: 'Hello', 2: 'From', 3: 'The', 4: 'Other', 5: 'Side'}\n",
      "<class 'dict'>\n",
      "{1: 'Python', 2: 'Core'}\n"
     ]
    }
   ],
   "source": [
    "# Creating an empty Dictionary\n",
    "Dictionary = {}\n",
    "print(Dictionary)\n",
    " \n",
    "# Creating a Dictionary with dict() method\n",
    "dictionary = {1: 'Hello', 2: 'From', 3:'The', 4:'Other', 5:'Side'}\n",
    "print(dictionary)\n",
    "print(type(dictionary))\n",
    " \n",
    "# Creating a Dictionary with each item as a Pair\n",
    "DICTIONARY = dict([[1, 'Python'], [2, 'Core']])\n",
    "print(DICTIONARY)"
   ]
  },
  {
   "cell_type": "code",
   "execution_count": 42,
   "id": "4c8d90d1",
   "metadata": {},
   "outputs": [
    {
     "name": "stdout",
     "output_type": "stream",
     "text": [
      "{0: 'a', 1: 'quick', 2: 'brown', 3: 'fox', 4: 'jumps', 5: 'over', 6: 'a', 7: 'lazy', 8: 'dog'}\n"
     ]
    }
   ],
   "source": [
    "di={0:'a', 1:'quick', 2:'brown', 3:'fox', 4:'jumps', 5:'over', 6:'a', 7:'lazy', 8:'dog'}\n",
    "print(di)"
   ]
  },
  {
   "cell_type": "code",
   "execution_count": 43,
   "id": "76732ab2",
   "metadata": {},
   "outputs": [
    {
     "name": "stdout",
     "output_type": "stream",
     "text": [
      "9\n"
     ]
    }
   ],
   "source": [
    "print(len(di))"
   ]
  },
  {
   "cell_type": "code",
   "execution_count": 44,
   "id": "56c21b78",
   "metadata": {},
   "outputs": [],
   "source": [
    "#  for accesing values we have to pass key\n",
    "# print(di[4])\n",
    "# print(di[3])\n",
    "# print(di[7])\n",
    "# print(di[2])\n",
    "# print(di[10])"
   ]
  },
  {
   "cell_type": "code",
   "execution_count": 45,
   "id": "64bb73f8",
   "metadata": {},
   "outputs": [
    {
     "name": "stdout",
     "output_type": "stream",
     "text": [
      "{0: 1, 1: 2, 2: 2, 7: 0}\n"
     ]
    }
   ],
   "source": [
    "print(D)"
   ]
  },
  {
   "cell_type": "code",
   "execution_count": 46,
   "id": "f2f7a33b",
   "metadata": {},
   "outputs": [
    {
     "name": "stdout",
     "output_type": "stream",
     "text": [
      "1\n",
      "2\n",
      "2\n"
     ]
    }
   ],
   "source": [
    "print(D[0])\n",
    "print(D[1])\n",
    "print(D[2])"
   ]
  },
  {
   "cell_type": "code",
   "execution_count": 47,
   "id": "4cd3efbb",
   "metadata": {},
   "outputs": [
    {
     "name": "stdout",
     "output_type": "stream",
     "text": [
      "dict_keys([0, 1, 2, 7])\n"
     ]
    }
   ],
   "source": [
    "print(D.keys())\n"
   ]
  },
  {
   "cell_type": "code",
   "execution_count": 35,
   "id": "abb09c9d",
   "metadata": {},
   "outputs": [
    {
     "name": "stdout",
     "output_type": "stream",
     "text": [
      "dict_keys([0, 1, 2, 3, 4, 5, 6, 7, 8])\n"
     ]
    }
   ],
   "source": [
    "# Accessing keys\n",
    "print(di.keys())\n",
    "# x=di.keys()\n",
    "# for i in x:\n",
    "#     print(i)"
   ]
  },
  {
   "cell_type": "code",
   "execution_count": 36,
   "id": "5c225fdc",
   "metadata": {},
   "outputs": [
    {
     "name": "stdout",
     "output_type": "stream",
     "text": [
      "dict_keys([0, 1, 2, 7])\n"
     ]
    }
   ],
   "source": [
    "print(D.keys())"
   ]
  },
  {
   "cell_type": "code",
   "execution_count": 37,
   "id": "568e5480",
   "metadata": {},
   "outputs": [
    {
     "name": "stdout",
     "output_type": "stream",
     "text": [
      "dict_keys([])\n"
     ]
    }
   ],
   "source": [
    "empty_dict={}\n",
    "print(empty_dict.keys())"
   ]
  },
  {
   "cell_type": "code",
   "execution_count": 26,
   "id": "14db7d88",
   "metadata": {},
   "outputs": [
    {
     "name": "stdout",
     "output_type": "stream",
     "text": [
      "dict_values(['a', 'quick', 'brown', 'fox', 'jumps', 'over', 'a', 'lazy', 'dog'])\n"
     ]
    }
   ],
   "source": [
    "# Accessing values\n",
    "print(di.values())"
   ]
  },
  {
   "cell_type": "code",
   "execution_count": 17,
   "id": "9a3246ec",
   "metadata": {},
   "outputs": [
    {
     "name": "stdout",
     "output_type": "stream",
     "text": [
      "dict_values([1, 2, 2, 0])\n"
     ]
    }
   ],
   "source": [
    "print(D.values())"
   ]
  },
  {
   "cell_type": "code",
   "execution_count": 18,
   "id": "c00c4de4",
   "metadata": {},
   "outputs": [
    {
     "name": "stdout",
     "output_type": "stream",
     "text": [
      "dict_values([])\n"
     ]
    }
   ],
   "source": [
    "empty_dict={}\n",
    "print(empty_dict.values())"
   ]
  },
  {
   "cell_type": "code",
   "execution_count": 19,
   "id": "90f923c6",
   "metadata": {},
   "outputs": [
    {
     "name": "stdout",
     "output_type": "stream",
     "text": [
      "dict_items([(0, 'a'), (1, 'quick'), (2, 'brown'), (3, 'fox'), (4, 'jumps'), (5, 'over'), (6, 'a'), (7, 'lazy'), (8, 'dog')])\n"
     ]
    }
   ],
   "source": [
    "# Accessing both key and values\n",
    "print(di.items())"
   ]
  },
  {
   "cell_type": "code",
   "execution_count": 20,
   "id": "7e42d9cc",
   "metadata": {},
   "outputs": [
    {
     "name": "stdout",
     "output_type": "stream",
     "text": [
      "dict_items([(0, 1), (1, 2), (2, 2), (7, 0)])\n"
     ]
    }
   ],
   "source": [
    "print(D.items())"
   ]
  },
  {
   "cell_type": "code",
   "execution_count": 21,
   "id": "7349451a",
   "metadata": {},
   "outputs": [
    {
     "name": "stdout",
     "output_type": "stream",
     "text": [
      "dict_items([])\n"
     ]
    }
   ],
   "source": [
    "empty_dict={}\n",
    "print(empty_dict.items())"
   ]
  },
  {
   "cell_type": "code",
   "execution_count": 9,
   "id": "b8bac83a",
   "metadata": {},
   "outputs": [
    {
     "name": "stdout",
     "output_type": "stream",
     "text": [
      "{1: 'a', 2: 'b'}\n"
     ]
    }
   ],
   "source": [
    "# clear empty the dict\n",
    "d1={1:\"a\",2:\"b\"}\n",
    "print(d1)\n",
    "d1.clear()"
   ]
  },
  {
   "cell_type": "code",
   "execution_count": 10,
   "id": "40151d5b",
   "metadata": {},
   "outputs": [
    {
     "name": "stdout",
     "output_type": "stream",
     "text": [
      "{}\n"
     ]
    }
   ],
   "source": [
    "print(d1)"
   ]
  },
  {
   "cell_type": "code",
   "execution_count": null,
   "id": "22f18c41",
   "metadata": {},
   "outputs": [],
   "source": []
  },
  {
   "cell_type": "code",
   "execution_count": 39,
   "id": "aee3ad23",
   "metadata": {},
   "outputs": [
    {
     "name": "stdout",
     "output_type": "stream",
     "text": [
      "{0: 'a', 1: 'quick', 2: 'brown', 3: 'fox', 4: 'jumps', 5: 'over', 7: 'lazy', 8: 'dog'}\n"
     ]
    }
   ],
   "source": [
    "# del delete the k:v pair from an index\n",
    "del di[6]   \n",
    "print(di)"
   ]
  },
  {
   "cell_type": "code",
   "execution_count": 40,
   "id": "e12f90d5",
   "metadata": {},
   "outputs": [],
   "source": [
    "# delete\n",
    "del di"
   ]
  },
  {
   "cell_type": "code",
   "execution_count": 48,
   "id": "dda85f16",
   "metadata": {},
   "outputs": [
    {
     "name": "stdout",
     "output_type": "stream",
     "text": [
      "{0: 'a', 1: 'quick', 2: 'brown', 3: 'fox', 4: 'jumps', 5: 'over', 6: 'a', 7: 'lazy', 8: 'dog'}\n"
     ]
    }
   ],
   "source": [
    "print(di)"
   ]
  },
  {
   "cell_type": "code",
   "execution_count": 55,
   "id": "903257ad",
   "metadata": {},
   "outputs": [
    {
     "name": "stdout",
     "output_type": "stream",
     "text": [
      "[8, 7, 6, 5, 4, 3, 2, 1, 0]\n"
     ]
    }
   ],
   "source": [
    "#sorted\n",
    "# x=sorted(di)\n",
    "# print(type(x),x)\n",
    "\n",
    "        # OR\n",
    "print(sorted(di.keys(),reverse=True))"
   ]
  },
  {
   "cell_type": "code",
   "execution_count": 56,
   "id": "93edd22f",
   "metadata": {},
   "outputs": [
    {
     "name": "stdout",
     "output_type": "stream",
     "text": [
      "['a', 'a', 'brown', 'dog', 'fox', 'jumps', 'lazy', 'over', 'quick']\n"
     ]
    }
   ],
   "source": [
    "print(sorted(di.values()))"
   ]
  },
  {
   "cell_type": "code",
   "execution_count": 57,
   "id": "37fc62ce",
   "metadata": {},
   "outputs": [
    {
     "name": "stdout",
     "output_type": "stream",
     "text": [
      "[(0, 'a'), (1, 'quick'), (2, 'brown'), (3, 'fox'), (4, 'jumps'), (5, 'over'), (6, 'a'), (7, 'lazy'), (8, 'dog')]\n"
     ]
    }
   ],
   "source": [
    "print(sorted(di.items()))"
   ]
  },
  {
   "cell_type": "code",
   "execution_count": 58,
   "id": "f9b1035c",
   "metadata": {},
   "outputs": [],
   "source": [
    "d1={'One':1,'Two':2,'Three':3,'Four':4,'Five':5}"
   ]
  },
  {
   "cell_type": "code",
   "execution_count": 60,
   "id": "c3653f84",
   "metadata": {},
   "outputs": [
    {
     "name": "stdout",
     "output_type": "stream",
     "text": [
      "3 {'O': 1, 'T': 3, 'F': 5}\n"
     ]
    }
   ],
   "source": [
    "d2={'O':1,'T':2,'T':3,'F':4,'F':5}\n",
    "print(len(d2),d2)"
   ]
  },
  {
   "cell_type": "code",
   "execution_count": 61,
   "id": "be1ef343",
   "metadata": {},
   "outputs": [
    {
     "name": "stdout",
     "output_type": "stream",
     "text": [
      "['Five', 'Four', 'One', 'Three', 'Two']\n"
     ]
    }
   ],
   "source": [
    "print(sorted(d1))"
   ]
  },
  {
   "cell_type": "code",
   "execution_count": 62,
   "id": "4a1320df",
   "metadata": {},
   "outputs": [
    {
     "name": "stdout",
     "output_type": "stream",
     "text": [
      "['F', 'O', 'T']\n"
     ]
    }
   ],
   "source": [
    "print(sorted(d2))"
   ]
  },
  {
   "cell_type": "code",
   "execution_count": 43,
   "id": "9ce8ee26",
   "metadata": {},
   "outputs": [
    {
     "name": "stdout",
     "output_type": "stream",
     "text": [
      "{'One': 1, 'Two': 2, 'Three': 3, 'Four': 4, 'Five': 5}\n"
     ]
    }
   ],
   "source": [
    "print(d1)"
   ]
  },
  {
   "cell_type": "code",
   "execution_count": 69,
   "id": "a3661073",
   "metadata": {},
   "outputs": [
    {
     "name": "stdout",
     "output_type": "stream",
     "text": [
      "{'One': 1, 'Two': 2, 'Three': 3, 'Four': 4, 'Five': 6}\n"
     ]
    }
   ],
   "source": [
    "# update\n",
    "d1.update({'Five':6})\n",
    "print(d1)"
   ]
  },
  {
   "cell_type": "code",
   "execution_count": 65,
   "id": "8bfbddf7",
   "metadata": {},
   "outputs": [
    {
     "data": {
      "text/plain": [
       "{'One': 1, 'Two': 2, 'Three': 3, 'Four': 4, 'Five': 7}"
      ]
     },
     "execution_count": 65,
     "metadata": {},
     "output_type": "execute_result"
    }
   ],
   "source": [
    "t={'One': 1, 'Two': 2, 'Three': 3, 'Four': 4, 'Five': 5,'Five':6}\n",
    "t.update({'Five':7})\n",
    "t"
   ]
  },
  {
   "cell_type": "code",
   "execution_count": 70,
   "id": "957ee47a",
   "metadata": {},
   "outputs": [
    {
     "name": "stdout",
     "output_type": "stream",
     "text": [
      "{'One': 1, 'Two': 2, 'Three': 3, 'Four': 4, 'Five': 6, 'example': 100}\n"
     ]
    }
   ],
   "source": [
    "d1.update({'example':100})\n",
    "print(d1)"
   ]
  },
  {
   "cell_type": "code",
   "execution_count": 71,
   "id": "39d74307",
   "metadata": {},
   "outputs": [
    {
     "name": "stdout",
     "output_type": "stream",
     "text": [
      "{0: 'a', 1: 'quick', 2: 'brown', 3: 'fox', 4: 'jumps', 5: 'over', 6: 'a', 7: 'lazy', 8: 'dog'}\n"
     ]
    }
   ],
   "source": [
    "print(di)"
   ]
  },
  {
   "cell_type": "code",
   "execution_count": 73,
   "id": "71a9a33b",
   "metadata": {},
   "outputs": [
    {
     "name": "stdout",
     "output_type": "stream",
     "text": [
      "{0: 'a', 2: 'brown', 3: 'fox', 4: 'jumps', 5: 'over', 6: 'a', 7: 'lazy', 8: 'dog'}\n"
     ]
    }
   ],
   "source": [
    "# pop\n",
    "di.pop(1)\n",
    "print(di)"
   ]
  },
  {
   "cell_type": "code",
   "execution_count": 74,
   "id": "bed94090",
   "metadata": {},
   "outputs": [
    {
     "name": "stdout",
     "output_type": "stream",
     "text": [
      "(8, 'dog')\n"
     ]
    }
   ],
   "source": [
    "# pop item\n",
    "print(di.popitem())"
   ]
  },
  {
   "cell_type": "code",
   "execution_count": 75,
   "id": "890d4825",
   "metadata": {},
   "outputs": [
    {
     "name": "stdout",
     "output_type": "stream",
     "text": [
      "{0: 'a', 2: 'brown', 3: 'fox', 4: 'jumps', 5: 'over', 6: 'a', 7: 'lazy'}\n"
     ]
    }
   ],
   "source": [
    "print(di)"
   ]
  },
  {
   "cell_type": "code",
   "execution_count": 76,
   "id": "8671f767",
   "metadata": {},
   "outputs": [
    {
     "name": "stdout",
     "output_type": "stream",
     "text": [
      "('example', 100)\n"
     ]
    }
   ],
   "source": [
    "print(d1.popitem())"
   ]
  },
  {
   "cell_type": "code",
   "execution_count": null,
   "id": "9fe0b8ef",
   "metadata": {},
   "outputs": [],
   "source": []
  },
  {
   "cell_type": "code",
   "execution_count": 78,
   "id": "0cded9b4",
   "metadata": {},
   "outputs": [
    {
     "name": "stdout",
     "output_type": "stream",
     "text": [
      "{'a': [1, 2, 3, 4, 5], 'o': [1, 2, 3, 4, 5], 'i': [1, 2, 3, 4, 5], 'e': [1, 2, 3, 4, 5], 'u': [1, 2, 3, 4, 5]}\n"
     ]
    }
   ],
   "source": [
    "# from keys\n",
    "li=['a','o','i','e','u']\n",
    "l1=[1,2,3,4,5]\n",
    "new_dict=dict.fromkeys(li,l1)\n",
    "print(new_dict)"
   ]
  },
  {
   "cell_type": "code",
   "execution_count": 79,
   "id": "adfb1c47",
   "metadata": {},
   "outputs": [
    {
     "name": "stdout",
     "output_type": "stream",
     "text": [
      "{0: 'a', 2: 'brown', 3: 'fox', 4: 'jumps', 5: 'over', 6: 'a', 7: 'lazy'}\n"
     ]
    }
   ],
   "source": [
    "print(di)"
   ]
  },
  {
   "cell_type": "code",
   "execution_count": 53,
   "id": "672213f1",
   "metadata": {},
   "outputs": [
    {
     "name": "stdout",
     "output_type": "stream",
     "text": [
      "7\n",
      "over\n"
     ]
    }
   ],
   "source": [
    "#max\n",
    "print(max(di.keys()))\n",
    "print(max(di.values()))"
   ]
  },
  {
   "cell_type": "code",
   "execution_count": 54,
   "id": "7944f668",
   "metadata": {},
   "outputs": [
    {
     "name": "stdout",
     "output_type": "stream",
     "text": [
      "0\n",
      "a\n"
     ]
    }
   ],
   "source": [
    "# min\n",
    "print(min(di.keys()))\n",
    "print(min(di.values()))"
   ]
  },
  {
   "cell_type": "code",
   "execution_count": 80,
   "id": "e3ca1c03",
   "metadata": {},
   "outputs": [
    {
     "name": "stdout",
     "output_type": "stream",
     "text": [
      "{0: 'a', 2: 'brown', 3: 'fox', 4: 'jumps', 5: 'over', 6: 'a', 7: 'lazy'}\n"
     ]
    }
   ],
   "source": [
    "print(di)"
   ]
  },
  {
   "cell_type": "code",
   "execution_count": 84,
   "id": "9e8d1dcf",
   "metadata": {},
   "outputs": [
    {
     "name": "stdout",
     "output_type": "stream",
     "text": [
      "{0: 'a', 2: 'brown', 3: 'fox', 4: 'jumps', 5: 'over', 6: 'a', 7: 'lazy', 8: ' dog', 9: ' dog', 10: ' cat'}\n"
     ]
    }
   ],
   "source": [
    "# dictionary modification\n",
    "di[10]=' cat'\n",
    "print(di)"
   ]
  },
  {
   "cell_type": "code",
   "execution_count": 90,
   "id": "6870c9f4",
   "metadata": {},
   "outputs": [
    {
     "name": "stdout",
     "output_type": "stream",
     "text": [
      "(8, ' dog')\n"
     ]
    }
   ],
   "source": [
    "print(di.popitem())"
   ]
  },
  {
   "cell_type": "code",
   "execution_count": 91,
   "id": "8184a755",
   "metadata": {},
   "outputs": [
    {
     "name": "stdout",
     "output_type": "stream",
     "text": [
      "{0: 'a', 2: 'brown', 3: 'fox', 4: 'jumps', 5: 'over', 6: 'a', 7: 'lazy'}\n"
     ]
    }
   ],
   "source": [
    "print(di)"
   ]
  },
  {
   "cell_type": "code",
   "execution_count": 92,
   "id": "8f75aee1",
   "metadata": {},
   "outputs": [
    {
     "name": "stdout",
     "output_type": "stream",
     "text": [
      "{0: 'a', 2: 'brown', 3: 'fox', 4: 'jumps', 5: 'over', 6: 'a', 7: 'lazy', 100: 'house'}\n"
     ]
    }
   ],
   "source": [
    "di[100]='house'\n",
    "print(di)"
   ]
  },
  {
   "cell_type": "markdown",
   "id": "992f9c65",
   "metadata": {},
   "source": [
    "## Dictionary Creation"
   ]
  },
  {
   "cell_type": "code",
   "execution_count": 93,
   "id": "394ed2dc",
   "metadata": {},
   "outputs": [],
   "source": [
    "DICT={}"
   ]
  },
  {
   "cell_type": "code",
   "execution_count": 94,
   "id": "4a87c2aa",
   "metadata": {},
   "outputs": [
    {
     "name": "stdout",
     "output_type": "stream",
     "text": [
      "{}\n"
     ]
    }
   ],
   "source": [
    "print(DICT)"
   ]
  },
  {
   "cell_type": "code",
   "execution_count": 111,
   "id": "dccc0af3",
   "metadata": {},
   "outputs": [],
   "source": [
    "DICT[5]='Welcome'\n",
    "DICT[6]='To'\n",
    "DICT[7]=\"Madrid\"\n",
    "DICT['A']={1 : 'Pyhton', 2 : 'For', 3 : 'AI'}\n",
    "DICT['B']={1 : 'Madrid', 2 : 'Solutions'}\n",
    "DICT['C']=[100,200,300]\n",
    "DICT['D']=(4,44,444,4444)"
   ]
  },
  {
   "cell_type": "code",
   "execution_count": 112,
   "id": "17fad770",
   "metadata": {},
   "outputs": [
    {
     "name": "stdout",
     "output_type": "stream",
     "text": [
      "{5: 'Welcome', 6: 'To', 7: 'Madrid', 'A': {1: 'Pyhton', 2: 'For', 3: 'AI'}, 'B': {1: 'Madrid', 2: 'Solutions'}, 'C': [100, 200, 300], 'D': (4, 44, 444, 4444)}\n"
     ]
    }
   ],
   "source": [
    "print(DICT)"
   ]
  },
  {
   "cell_type": "markdown",
   "id": "6dc7ec7d",
   "metadata": {},
   "source": [
    "## Nested Dictionary"
   ]
  },
  {
   "cell_type": "code",
   "execution_count": 132,
   "id": "705b600e",
   "metadata": {},
   "outputs": [
    {
     "name": "stdout",
     "output_type": "stream",
     "text": [
      "{5: 'Welcome', 6: 'To', 7: 'Madrid', 'A': {1: 'Pyhton', 2: 'For', 3: 'AI'}, 'B': {1: 'Madrid', 2: 'Solutions'}, 'C': [100, 200, 300], 'D': (4, 44, 444, 4444)}\n"
     ]
    }
   ],
   "source": [
    "DICT = {5: 'Welcome', 6: 'To', 7: 'Madrid', 'A': {1: 'Pyhton', 2: 'For', 3: 'AI'}, 'B': {1: 'Madrid', 2: 'Solutions'}, 'C': [100, 200, 300], 'D': (4, 44, 444, 4444)}\n",
    "print(DICT)"
   ]
  },
  {
   "cell_type": "code",
   "execution_count": 131,
   "id": "a3a55cc3",
   "metadata": {},
   "outputs": [],
   "source": [
    "# print(len(DICT))\n",
    "# print(DICT.keys())\n",
    "# print(DICT.values())\n",
    "# print(DICT.items())\n",
    "# # print(DICT)\n",
    "# DICT.clear()\n",
    "# # print(DICT)\n",
    "# del DICT[6]\n",
    "# # print(DICT)\n",
    "# DICT.update({'Nine':9})\n",
    "# # print(DICT)\n",
    "# DICT.pop(7)\n",
    "# # print(DICT)\n",
    "# DICT.popitem()\n",
    "# print(DICT)\n"
   ]
  },
  {
   "cell_type": "code",
   "execution_count": 133,
   "id": "bf2f0967",
   "metadata": {},
   "outputs": [
    {
     "name": "stdout",
     "output_type": "stream",
     "text": [
      "{5: 'Welcome', 6: 'To', 7: 'Madrid', 'A': {1: 'Pyhton', 2: 'For', 3: 'AI'}, 'B': {1: 'Madrid', 2: 'Solutions'}, 'C': [100, 200, 300], 'D': (4, 44, 444, 4444)}\n"
     ]
    }
   ],
   "source": [
    "print(DICT)"
   ]
  },
  {
   "cell_type": "code",
   "execution_count": 141,
   "id": "42569fbd",
   "metadata": {},
   "outputs": [],
   "source": [
    "# print(DICT[5])\n",
    "# print(DICT['A'])\n",
    "# print(DICT['D'])\n",
    "# print(DICT['A'][3])\n",
    "# print(DICT['B'][2])\n"
   ]
  },
  {
   "cell_type": "markdown",
   "id": "034da771",
   "metadata": {},
   "source": [
    "### Dictionary comprehension\n"
   ]
  },
  {
   "cell_type": "markdown",
   "id": "a7e30f23",
   "metadata": {},
   "source": [
    "Like List Comprehension, Python allows dictionary comprehensions. We can create dictionaries using simple expressions.\n",
    "A dictionary comprehension takes the form {key: value for (key, value) in iterable}"
   ]
  },
  {
   "cell_type": "code",
   "execution_count": 157,
   "id": "7b3b1223",
   "metadata": {},
   "outputs": [
    {
     "name": "stdout",
     "output_type": "stream",
     "text": [
      "{'a': 1, 'b': 2, 'c': 3, 'd': 4, 'e': 5}\n",
      "a b c d e\n",
      "1 2 3 4 5\n"
     ]
    }
   ],
   "source": [
    "keys = ['a','b','c','d','e']\n",
    "values = [1,2,3,4,5]\n",
    "\n",
    "# this line shows dict comprehension here\n",
    "myDict = { x:v for (x,v) in zip(keys, values)}\n",
    "\n",
    "print (myDict)\n",
    "# print(myDict['d'])\n",
    "print(*myDict.keys()) # unzip\n",
    "\n",
    "print(*myDict.values())\n"
   ]
  },
  {
   "cell_type": "code",
   "execution_count": 111,
   "id": "cad34632",
   "metadata": {},
   "outputs": [
    {
     "name": "stdout",
     "output_type": "stream",
     "text": [
      "{'b': 1, 'r': 2, 'o': 2, 'n': 1, 't': 1, 's': 2, 'a': 2, 'u': 1}\n"
     ]
    }
   ],
   "source": [
    "name=\"brontosauras\"\n",
    "q={}\n",
    "for i in name:\n",
    "    q[i]=name.count(i)\n",
    "print(q)"
   ]
  },
  {
   "cell_type": "code",
   "execution_count": null,
   "id": "f05ebc42",
   "metadata": {},
   "outputs": [],
   "source": []
  },
  {
   "cell_type": "code",
   "execution_count": null,
   "id": "c4295ddd",
   "metadata": {},
   "outputs": [],
   "source": []
  },
  {
   "cell_type": "code",
   "execution_count": 144,
   "id": "8619fe21",
   "metadata": {},
   "outputs": [
    {
     "name": "stdout",
     "output_type": "stream",
     "text": [
      "{1: 1, 2: 4, 3: 9, 4: 16, 5: 25}\n"
     ]
    }
   ],
   "source": [
    "# Python code to demonstrate dictionary creation using list comprehension\n",
    "myDict = {x:x**2 for x in [1,2,3,4,5]}\n",
    "print (myDict)\n"
   ]
  },
  {
   "cell_type": "code",
   "execution_count": 92,
   "id": "0ef9b069",
   "metadata": {},
   "outputs": [
    {
     "name": "stdout",
     "output_type": "stream",
     "text": [
      "{'C': 'ccc', 'O': 'ooo', 'D': 'ddd', 'I': 'iii', 'N': 'nnn', 'G': 'ggg'}\n"
     ]
    }
   ],
   "source": [
    "sDict = {x.upper(): x*3 for x in 'coding'}\n",
    "print (sDict)"
   ]
  },
  {
   "cell_type": "code",
   "execution_count": 147,
   "id": "80f6ce9f",
   "metadata": {},
   "outputs": [
    {
     "data": {
      "text/plain": [
       "{0: 'One', 'Two': 2, 3: 'Three', 'Four': 4}"
      ]
     },
     "execution_count": 147,
     "metadata": {},
     "output_type": "execute_result"
    }
   ],
   "source": [
    "d"
   ]
  },
  {
   "cell_type": "code",
   "execution_count": 94,
   "id": "dbe877a3",
   "metadata": {},
   "outputs": [
    {
     "name": "stdout",
     "output_type": "stream",
     "text": [
      "0\n",
      "Two\n",
      "3\n",
      "Four\n"
     ]
    }
   ],
   "source": [
    "for i in d:\n",
    "    print(i)"
   ]
  },
  {
   "cell_type": "code",
   "execution_count": 95,
   "id": "d3cb5750",
   "metadata": {},
   "outputs": [
    {
     "name": "stdout",
     "output_type": "stream",
     "text": [
      "0\n",
      "Two\n",
      "3\n",
      "Four\n"
     ]
    }
   ],
   "source": [
    "for j in d.keys():\n",
    "    print(j)"
   ]
  },
  {
   "cell_type": "code",
   "execution_count": 148,
   "id": "0e57b83e",
   "metadata": {},
   "outputs": [
    {
     "data": {
      "text/plain": [
       "{0: 'One', 'Two': 2, 3: 'Three', 'Four': 4}"
      ]
     },
     "execution_count": 148,
     "metadata": {},
     "output_type": "execute_result"
    }
   ],
   "source": [
    "d"
   ]
  },
  {
   "cell_type": "code",
   "execution_count": 96,
   "id": "660c38a9",
   "metadata": {},
   "outputs": [
    {
     "name": "stdout",
     "output_type": "stream",
     "text": [
      "One\n",
      "2\n",
      "Three\n",
      "4\n"
     ]
    }
   ],
   "source": [
    "for k in d.values():\n",
    "    print(k)"
   ]
  },
  {
   "cell_type": "code",
   "execution_count": 97,
   "id": "3d4b3e3d",
   "metadata": {},
   "outputs": [
    {
     "name": "stdout",
     "output_type": "stream",
     "text": [
      "(0, 'One')\n",
      "('Two', 2)\n",
      "(3, 'Three')\n",
      "('Four', 4)\n"
     ]
    }
   ],
   "source": [
    "for x in d.items():\n",
    "    print(x)"
   ]
  },
  {
   "cell_type": "code",
   "execution_count": null,
   "id": "2706e32e",
   "metadata": {},
   "outputs": [],
   "source": [
    "name='Deepanshu'\n",
    "a={}\n",
    "for i in name:\n",
    "    a[i]=name.count(i)\n",
    "print(a)"
   ]
  },
  {
   "cell_type": "code",
   "execution_count": null,
   "id": "3824bebe",
   "metadata": {},
   "outputs": [],
   "source": [
    "help(dict)"
   ]
  },
  {
   "cell_type": "code",
   "execution_count": 6,
   "id": "5b2dd181",
   "metadata": {},
   "outputs": [
    {
     "name": "stdout",
     "output_type": "stream",
     "text": [
      "{'q': 1, 'i': 1, 'c': 1, 'k': 1, 'b': 1, 'w': 1, 'n': 1, 'f': 1, 'x': 1, 'j': 1, 'm': 1, 'p': 1, 's': 1, 'v': 1, 'e': 1, 'l': 1, 'z': 1, 'y': 1, 'd': 1, 'g': 1} \n",
      "\n",
      "{'a': 3, ' ': 8, 'q': 1, 'u': 2, 'i': 1, 'c': 1, 'k': 1, 'b': 1, 'r': 2, 'o': 4, 'w': 1, 'n': 1, 'f': 1, 'x': 1, 'j': 1, 'm': 1, 'p': 1, 's': 1, 'v': 1, 'e': 1, 'l': 1, 'z': 1, 'y': 1, 'd': 1, 'g': 1}\n"
     ]
    }
   ],
   "source": [
    "d={}\n",
    "D={}\n",
    "x='a quick brown fox jumps over a lazy dog'\n",
    "for i in x:\n",
    "    D[i]=x.count(i)\n",
    "    \n",
    "    if x.count(i)==1:\n",
    "        d[i]=x.count(i)\n",
    "print(d,'\\n')\n",
    "\n",
    "print(D)"
   ]
  },
  {
   "cell_type": "code",
   "execution_count": 4,
   "id": "5164e4bd",
   "metadata": {},
   "outputs": [
    {
     "name": "stdout",
     "output_type": "stream",
     "text": [
      "{'b': 1, 'r': 2, 'o': 2, 'n': 1, 't': 1, 's': 2, 'a': 2, 'u': 1}\n"
     ]
    }
   ],
   "source": [
    "a={}\n",
    "x='brontosauras'\n",
    "for i in x:\n",
    "    a[i]=x.count(i)\n",
    "    \n",
    "print(a)\n",
    "    "
   ]
  },
  {
   "cell_type": "code",
   "execution_count": 17,
   "id": "3f16ac42",
   "metadata": {},
   "outputs": [
    {
     "name": "stdout",
     "output_type": "stream",
     "text": [
      "{'a': 5, 'b': 9, 'c': 12}\n"
     ]
    }
   ],
   "source": [
    "x='aaaaabbbbbbbbbcccccccccccc'\n",
    "a={}\n",
    "\n",
    "for i in x:\n",
    "    a[i]=x.count(i)\n",
    "\n",
    "print(a)\n"
   ]
  }
 ],
 "metadata": {
  "kernelspec": {
   "display_name": "Python 3",
   "language": "python",
   "name": "python3"
  },
  "language_info": {
   "codemirror_mode": {
    "name": "ipython",
    "version": 3
   },
   "file_extension": ".py",
   "mimetype": "text/x-python",
   "name": "python",
   "nbconvert_exporter": "python",
   "pygments_lexer": "ipython3",
   "version": "3.8.8"
  }
 },
 "nbformat": 4,
 "nbformat_minor": 5
}
