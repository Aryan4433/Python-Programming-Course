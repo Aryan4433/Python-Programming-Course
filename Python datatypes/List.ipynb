{
 "cells": [
  {
   "cell_type": "markdown",
   "id": "fc916def",
   "metadata": {},
   "source": [
    "# List"
   ]
  },
  {
   "cell_type": "code",
   "execution_count": null,
   "id": "5895d785",
   "metadata": {},
   "outputs": [],
   "source": [
    "# immautable\n",
    "# numeric\n",
    "# string\n",
    "# tuple"
   ]
  },
  {
   "cell_type": "code",
   "execution_count": 1,
   "id": "9d545e7e",
   "metadata": {},
   "outputs": [],
   "source": [
    "# Mtable\n",
    "# list\n",
    "# dict\n",
    "# set"
   ]
  },
  {
   "cell_type": "code",
   "execution_count": 1,
   "id": "2c4e972e",
   "metadata": {},
   "outputs": [
    {
     "name": "stdout",
     "output_type": "stream",
     "text": [
      "9\n"
     ]
    }
   ],
   "source": [
    "li=['a','quick','brown','fox','jumps','over','the','lazy','dog']\n",
    "print(len(li))"
   ]
  },
  {
   "cell_type": "code",
   "execution_count": 2,
   "id": "a298d9a0",
   "metadata": {},
   "outputs": [
    {
     "name": "stdout",
     "output_type": "stream",
     "text": [
      "['a', 'jaldi', 'brown', 'fox', 'jumps', 'over', 'the', 'lazy', 'dog']\n"
     ]
    }
   ],
   "source": [
    "# mutability of list\n",
    "li[1]='jaldi'\n",
    "print(li)"
   ]
  },
  {
   "cell_type": "code",
   "execution_count": 2,
   "id": "2246e6df",
   "metadata": {},
   "outputs": [],
   "source": [
    "# li=['a','quick','brown','fox','jumps','over','the','lazy','dog']\n",
    "# print(len(li))\n",
    "# print(li[5])\n",
    "# print(li[7])\n",
    "# print(li[0:4])\n",
    "# print(li[:21])\n",
    "# print(li[0:41])\n",
    "# print(li[0:])\n",
    "# print(li[100])\n",
    "# print(li[100:])\n",
    "# print(li[0:100])\n",
    "# print(li[0:42:2])\n",
    "# print(li[0:42:10])\n",
    "# print(li[0:42:100])\n",
    "# print(li[::])\n",
    "# print(li[0:41:1])\n",
    "# print(li[::1])\n",
    "# print(li[::2])\n",
    "# print(li[::50])\n",
    "# print(li[19:5])\n"
   ]
  },
  {
   "cell_type": "code",
   "execution_count": 1,
   "id": "1afb8fee",
   "metadata": {},
   "outputs": [
    {
     "name": "stdout",
     "output_type": "stream",
     "text": [
      "['dog', 'lazy', 'the', 'over', 'jumps', 'fox', 'brown', 'quick', 'a']\n"
     ]
    }
   ],
   "source": [
    "li=['a','quick','brown','fox','jumps','over','the','lazy','dog']\n",
    "# print(li[19:-5])\n",
    "# print(li[-3])\n",
    "# print(li[-3:])\n",
    "# print(li[0:-3])\n",
    "# print(li[-3:-2])\n",
    "# print(li[-27:-24])\n",
    "# print(li[-3:-11])\n",
    "# print(li[14:17])\n",
    "print(li[::-1])\n",
    "# print(li[::-5])"
   ]
  },
  {
   "cell_type": "markdown",
   "id": "a807d94e",
   "metadata": {},
   "source": [
    "## List Functions"
   ]
  },
  {
   "cell_type": "code",
   "execution_count": 16,
   "id": "78e70579",
   "metadata": {},
   "outputs": [
    {
     "name": "stdout",
     "output_type": "stream",
     "text": [
      "7\n"
     ]
    }
   ],
   "source": [
    "l=[1,2,3,[4,5,6],7,8,9]\n",
    "print(len(l))"
   ]
  },
  {
   "cell_type": "code",
   "execution_count": 17,
   "id": "ced7ba43",
   "metadata": {},
   "outputs": [
    {
     "name": "stdout",
     "output_type": "stream",
     "text": [
      "1\n"
     ]
    }
   ],
   "source": [
    "l1=[[1,2,3,[4,5,6],7,8,9]]\n",
    "print(len(l1))"
   ]
  },
  {
   "cell_type": "code",
   "execution_count": 19,
   "id": "c8b5f283",
   "metadata": {},
   "outputs": [
    {
     "name": "stdout",
     "output_type": "stream",
     "text": [
      "41\n",
      "['a', ' ', 'q', 'u', 'i', 'c', 'k', ' ', 'b', 'r', 'o', 'w', 'n', ' ', 'f', 'o', 'x', ' ', 'j', 'u', 'm', 'p', 's', ' ', 'o', 'v', 'e', 'r', ' ', 't', 'h', 'e', ' ', 'l', 'a', 'z', 'y', ' ', 'd', 'o', 'g']\n",
      "41\n",
      "['a', 'quick', 'brown', 'fox', 'jumps', 'over', 'the', 'lazy', 'dog']\n"
     ]
    }
   ],
   "source": [
    "# typecasting into list\n",
    "mystr='a quick brown fox jumps over the lazy dog'\n",
    "print(len(mystr))\n",
    "print(list(mystr))\n",
    "print(len(list(mystr)))\n",
    "print(mystr.split(' '))"
   ]
  },
  {
   "cell_type": "code",
   "execution_count": 20,
   "id": "38552893",
   "metadata": {},
   "outputs": [
    {
     "name": "stdout",
     "output_type": "stream",
     "text": [
      "4\n",
      "[1, 2, (3, 4), 5]\n",
      "4\n"
     ]
    }
   ],
   "source": [
    "tup=((1),2,(3,4),5)\n",
    "print(len(tup))\n",
    "print(list(tup))\n",
    "print(len(list(tup)))"
   ]
  },
  {
   "cell_type": "code",
   "execution_count": 21,
   "id": "f6651bed",
   "metadata": {},
   "outputs": [
    {
     "name": "stdout",
     "output_type": "stream",
     "text": [
      "3\n"
     ]
    }
   ],
   "source": [
    "# index\n",
    "li=['a','quick','brown','fox','jumps','over','the','lazy','dog']\n",
    "print(li.index('fox'))"
   ]
  },
  {
   "cell_type": "code",
   "execution_count": 10,
   "id": "a86dc2c6",
   "metadata": {},
   "outputs": [
    {
     "name": "stdout",
     "output_type": "stream",
     "text": [
      "['a', 'quick', 'brown', 'fox', 'jumps', 'over', 'the', 'lazy', 'dog', 'house']\n"
     ]
    }
   ],
   "source": [
    "# append\n",
    "li=['a','quick','brown','fox','jumps','over','the','lazy','dog']\n",
    "li.append('house')\n",
    "print(li)"
   ]
  },
  {
   "cell_type": "code",
   "execution_count": 23,
   "id": "4423a428",
   "metadata": {},
   "outputs": [
    {
     "name": "stdout",
     "output_type": "stream",
     "text": [
      "1\n",
      "[[1, 2, 3, [4, 5, 6], 7, 8, 9], 10]\n",
      "2\n"
     ]
    }
   ],
   "source": [
    "l1=[[1,2,3,[4,5,6],7,8,9]]\n",
    "print(len(l1))\n",
    "l1.append(10)\n",
    "print(l1)\n",
    "print(len(l1))"
   ]
  },
  {
   "cell_type": "code",
   "execution_count": 24,
   "id": "b87801a9",
   "metadata": {},
   "outputs": [
    {
     "name": "stdout",
     "output_type": "stream",
     "text": [
      "[[1, 2, 3, [4, 5, 6], 7, 8, 9], 10, [11, 12, 13]]\n",
      "3\n"
     ]
    }
   ],
   "source": [
    "l1.append([11,12,13])\n",
    "print(l1)\n",
    "print(len(l1))"
   ]
  },
  {
   "cell_type": "code",
   "execution_count": 25,
   "id": "4afc0818",
   "metadata": {},
   "outputs": [
    {
     "name": "stdout",
     "output_type": "stream",
     "text": [
      "[[1, 2, 3, [4, 5, 6], 7, 8, 9], 10, [11, 12, 13], 14]\n"
     ]
    }
   ],
   "source": [
    "l1.extend([14])\n",
    "print(l1)"
   ]
  },
  {
   "cell_type": "code",
   "execution_count": 26,
   "id": "0c584192",
   "metadata": {},
   "outputs": [
    {
     "name": "stdout",
     "output_type": "stream",
     "text": [
      "[[1, 2, 3, [4, 5, 6], 7, 8, 9], 10, [11, 12, 13], 14, 15, 16, 17]\n",
      "7\n"
     ]
    }
   ],
   "source": [
    "# extend\n",
    "l1.extend([15,16,17])\n",
    "print(l1)\n",
    "print(len(l1))"
   ]
  },
  {
   "cell_type": "code",
   "execution_count": 27,
   "id": "c45c9ece",
   "metadata": {},
   "outputs": [
    {
     "name": "stdout",
     "output_type": "stream",
     "text": [
      "['a', 'quick', 'brown', 'fox', 'jumps', 'over', 'the', 'lazy', 'dog']\n"
     ]
    }
   ],
   "source": [
    "print(li)"
   ]
  },
  {
   "cell_type": "code",
   "execution_count": 28,
   "id": "bfd76408",
   "metadata": {},
   "outputs": [
    {
     "name": "stdout",
     "output_type": "stream",
     "text": [
      "['a', 'quick', 'brown', 'fox', 'jumps', 'over', 'the', 'lazy', 'dog', 'in']\n"
     ]
    }
   ],
   "source": [
    "li.extend(['in'])\n",
    "print(li)"
   ]
  },
  {
   "cell_type": "code",
   "execution_count": 16,
   "id": "5e0959e4",
   "metadata": {},
   "outputs": [
    {
     "name": "stdout",
     "output_type": "stream",
     "text": [
      "['a', 'quick', 'brown', 'fox', 'jumps', 'over', 'the', 'lazy', 'dog', 'house', 'in', 'the', 'evening']\n"
     ]
    }
   ],
   "source": [
    "li.extend(['the','evening'])\n",
    "print(li)"
   ]
  },
  {
   "cell_type": "code",
   "execution_count": 33,
   "id": "825c2981",
   "metadata": {},
   "outputs": [
    {
     "name": "stdout",
     "output_type": "stream",
     "text": [
      "['apple', 'banana', 'g', 'r', 'a', 'p', 'e', 's', 'orange', ['kiwi']]\n"
     ]
    }
   ],
   "source": [
    "LI=['apple','banana']\n",
    "LI.extend('grapes')\n",
    "LI.extend(['orange'])\n",
    "LI.append(['kiwi'])\n",
    "print(LI)"
   ]
  },
  {
   "cell_type": "code",
   "execution_count": 39,
   "id": "241a6620",
   "metadata": {},
   "outputs": [
    {
     "name": "stdout",
     "output_type": "stream",
     "text": [
      "['a', 'quick', 'brown', 'fox', 'jumps', 'over', 'the', 'lazy', 'labra', 'dog', 'in']\n"
     ]
    }
   ],
   "source": [
    "# # insert \n",
    "li.insert(8,'labra')\n",
    "print(li)"
   ]
  },
  {
   "cell_type": "code",
   "execution_count": 2,
   "id": "4e5079c4",
   "metadata": {},
   "outputs": [],
   "source": [
    "l2=[10,30,50,70,90]"
   ]
  },
  {
   "cell_type": "code",
   "execution_count": 3,
   "id": "ffb596a1",
   "metadata": {},
   "outputs": [
    {
     "name": "stdout",
     "output_type": "stream",
     "text": [
      "[10, 30, 50, 55, 70, 90]\n"
     ]
    }
   ],
   "source": [
    "l2.insert(3,55)\n",
    "print(l2)"
   ]
  },
  {
   "cell_type": "code",
   "execution_count": 4,
   "id": "227f21b1",
   "metadata": {},
   "outputs": [
    {
     "name": "stdout",
     "output_type": "stream",
     "text": [
      "[0, 10, 30, 50, 55, 70, 90]\n"
     ]
    }
   ],
   "source": [
    "l2.insert(-100,0)\n",
    "print(l2)"
   ]
  },
  {
   "cell_type": "code",
   "execution_count": 21,
   "id": "8abec48c",
   "metadata": {},
   "outputs": [
    {
     "name": "stdout",
     "output_type": "stream",
     "text": [
      "[0, 10, 30, 50, 55, 70, 90, 100]\n"
     ]
    }
   ],
   "source": [
    "l2.insert(100,100)\n",
    "print(l2)"
   ]
  },
  {
   "cell_type": "code",
   "execution_count": 40,
   "id": "3673a200",
   "metadata": {},
   "outputs": [
    {
     "name": "stdout",
     "output_type": "stream",
     "text": [
      "['a', 'quick', 'brown', 'fox', 'jumps', 'over', 'the', 'lazy', 'labra', 'dog', 'in']\n"
     ]
    }
   ],
   "source": [
    "print(li)"
   ]
  },
  {
   "cell_type": "code",
   "execution_count": 41,
   "id": "bcde6262",
   "metadata": {},
   "outputs": [
    {
     "name": "stdout",
     "output_type": "stream",
     "text": [
      "labra\n"
     ]
    }
   ],
   "source": [
    "print(li.pop(8))"
   ]
  },
  {
   "cell_type": "code",
   "execution_count": 43,
   "id": "60a9affe",
   "metadata": {},
   "outputs": [
    {
     "name": "stdout",
     "output_type": "stream",
     "text": [
      "['a', 'quick', 'brown', 'fox', 'jumps', 'over', 'the', 'lazy', 'dog', 'in']\n"
     ]
    }
   ],
   "source": [
    "print(li)"
   ]
  },
  {
   "cell_type": "code",
   "execution_count": 44,
   "id": "389db07c",
   "metadata": {},
   "outputs": [
    {
     "name": "stdout",
     "output_type": "stream",
     "text": [
      "in\n"
     ]
    }
   ],
   "source": [
    "print(li.pop())"
   ]
  },
  {
   "cell_type": "code",
   "execution_count": 45,
   "id": "92e9145c",
   "metadata": {},
   "outputs": [
    {
     "name": "stdout",
     "output_type": "stream",
     "text": [
      "['a', 'quick', 'brown', 'fox', 'jumps', 'over', 'the', 'lazy', 'dog']\n"
     ]
    }
   ],
   "source": [
    "print(li)"
   ]
  },
  {
   "cell_type": "code",
   "execution_count": 27,
   "id": "05b46267",
   "metadata": {},
   "outputs": [
    {
     "name": "stdout",
     "output_type": "stream",
     "text": [
      "[0, 10, 30, 50, 55, 70, 90, 100]\n"
     ]
    }
   ],
   "source": [
    "print(l2)"
   ]
  },
  {
   "cell_type": "code",
   "execution_count": 28,
   "id": "759c516b",
   "metadata": {},
   "outputs": [
    {
     "name": "stdout",
     "output_type": "stream",
     "text": [
      "0\n"
     ]
    }
   ],
   "source": [
    "#pop\n",
    "print(l2.pop(0))\n"
   ]
  },
  {
   "cell_type": "code",
   "execution_count": 29,
   "id": "0cc36d3c",
   "metadata": {},
   "outputs": [
    {
     "name": "stdout",
     "output_type": "stream",
     "text": [
      "[10, 30, 50, 55, 70, 90, 100]\n"
     ]
    }
   ],
   "source": [
    "print(l2)"
   ]
  },
  {
   "cell_type": "code",
   "execution_count": 30,
   "id": "af817c90",
   "metadata": {},
   "outputs": [
    {
     "name": "stdout",
     "output_type": "stream",
     "text": [
      "100\n",
      "[10, 30, 50, 55, 70, 90]\n"
     ]
    }
   ],
   "source": [
    "print(l2.pop())\n",
    "print(l2)"
   ]
  },
  {
   "cell_type": "code",
   "execution_count": 46,
   "id": "4d2adbf0",
   "metadata": {},
   "outputs": [
    {
     "name": "stdout",
     "output_type": "stream",
     "text": [
      "['a', 'quick', 'brown', 'fox', 'jumps', 'over', 'the', 'lazy', 'dog']\n"
     ]
    }
   ],
   "source": [
    "print(li)"
   ]
  },
  {
   "cell_type": "code",
   "execution_count": 47,
   "id": "f0aeef7f",
   "metadata": {},
   "outputs": [
    {
     "name": "stdout",
     "output_type": "stream",
     "text": [
      "['a', 'quick', 'brown', 'fox', 'jumps', 'over', 'the', 'lazy', 'dog']\n"
     ]
    }
   ],
   "source": [
    "# remove\n",
    "print(li)"
   ]
  },
  {
   "cell_type": "code",
   "execution_count": 48,
   "id": "d8efa2ae",
   "metadata": {},
   "outputs": [],
   "source": [
    "li.remove('jumps')"
   ]
  },
  {
   "cell_type": "code",
   "execution_count": 49,
   "id": "7aeedfa6",
   "metadata": {},
   "outputs": [
    {
     "name": "stdout",
     "output_type": "stream",
     "text": [
      "['a', 'quick', 'brown', 'fox', 'over', 'the', 'lazy', 'dog']\n"
     ]
    }
   ],
   "source": [
    "print(li)"
   ]
  },
  {
   "cell_type": "code",
   "execution_count": 52,
   "id": "c017d52a",
   "metadata": {},
   "outputs": [
    {
     "name": "stdout",
     "output_type": "stream",
     "text": [
      "[1, 2, 4]\n"
     ]
    }
   ],
   "source": [
    "Li=[1,2,1,1,2,4,5,5,5]\n",
    "x=list(set(Li))\n",
    "x.remove(5)\n",
    "print(x)"
   ]
  },
  {
   "cell_type": "code",
   "execution_count": 53,
   "id": "6a250b7a",
   "metadata": {},
   "outputs": [
    {
     "ename": "TypeError",
     "evalue": "list.remove() takes exactly one argument (0 given)",
     "output_type": "error",
     "traceback": [
      "\u001b[1;31m---------------------------------------------------------------------------\u001b[0m",
      "\u001b[1;31mTypeError\u001b[0m                                 Traceback (most recent call last)",
      "Input \u001b[1;32mIn [53]\u001b[0m, in \u001b[0;36m<cell line: 2>\u001b[1;34m()\u001b[0m\n\u001b[0;32m      1\u001b[0m L\u001b[38;5;241m=\u001b[39m[\u001b[38;5;124m'\u001b[39m\u001b[38;5;124ma\u001b[39m\u001b[38;5;124m'\u001b[39m,\u001b[38;5;124m'\u001b[39m\u001b[38;5;124ma\u001b[39m\u001b[38;5;124m'\u001b[39m,\u001b[38;5;124m'\u001b[39m\u001b[38;5;124mb\u001b[39m\u001b[38;5;124m'\u001b[39m,\u001b[38;5;124m'\u001b[39m\u001b[38;5;124ma\u001b[39m\u001b[38;5;124m'\u001b[39m]\n\u001b[1;32m----> 2\u001b[0m \u001b[38;5;28mprint\u001b[39m(\u001b[43mL\u001b[49m\u001b[38;5;241;43m.\u001b[39;49m\u001b[43mremove\u001b[49m\u001b[43m(\u001b[49m\u001b[43m)\u001b[49m)\n\u001b[0;32m      3\u001b[0m \u001b[38;5;28mprint\u001b[39m(L)\n",
      "\u001b[1;31mTypeError\u001b[0m: list.remove() takes exactly one argument (0 given)"
     ]
    }
   ],
   "source": [
    "L=['a','a','b','a']\n",
    "print(L.remove())\n",
    "print(L)"
   ]
  },
  {
   "cell_type": "code",
   "execution_count": 54,
   "id": "49aa461c",
   "metadata": {},
   "outputs": [
    {
     "data": {
      "text/plain": [
       "[0, 10, 30, 50, 55, 55, 70, 90]"
      ]
     },
     "execution_count": 54,
     "metadata": {},
     "output_type": "execute_result"
    }
   ],
   "source": [
    "l2"
   ]
  },
  {
   "cell_type": "code",
   "execution_count": 55,
   "id": "0a1b3707",
   "metadata": {},
   "outputs": [],
   "source": [
    "l2.remove(55)"
   ]
  },
  {
   "cell_type": "code",
   "execution_count": 56,
   "id": "39c14b81",
   "metadata": {},
   "outputs": [
    {
     "name": "stdout",
     "output_type": "stream",
     "text": [
      "[0, 10, 30, 50, 55, 70, 90]\n"
     ]
    }
   ],
   "source": [
    "print(l2)"
   ]
  },
  {
   "cell_type": "code",
   "execution_count": 57,
   "id": "2a18c0e7",
   "metadata": {},
   "outputs": [
    {
     "name": "stdout",
     "output_type": "stream",
     "text": [
      "['a', 'quick', 'brown', 'fox', 'over', 'the', 'lazy', 'dog']\n"
     ]
    }
   ],
   "source": [
    "print(li)"
   ]
  },
  {
   "cell_type": "code",
   "execution_count": 58,
   "id": "a6994579",
   "metadata": {},
   "outputs": [],
   "source": [
    "# delete\n",
    "del li[6]"
   ]
  },
  {
   "cell_type": "code",
   "execution_count": 59,
   "id": "ef7c5560",
   "metadata": {},
   "outputs": [
    {
     "name": "stdout",
     "output_type": "stream",
     "text": [
      "['a', 'quick', 'brown', 'fox', 'over', 'the', 'dog']\n"
     ]
    }
   ],
   "source": [
    "print(li)"
   ]
  },
  {
   "cell_type": "code",
   "execution_count": 60,
   "id": "6eb029b2",
   "metadata": {},
   "outputs": [],
   "source": [
    "L=[1,2,3,4,5]\n",
    "del L"
   ]
  },
  {
   "cell_type": "code",
   "execution_count": 61,
   "id": "aa218fb3",
   "metadata": {},
   "outputs": [
    {
     "ename": "NameError",
     "evalue": "name 'L' is not defined",
     "output_type": "error",
     "traceback": [
      "\u001b[1;31m---------------------------------------------------------------------------\u001b[0m",
      "\u001b[1;31mNameError\u001b[0m                                 Traceback (most recent call last)",
      "Input \u001b[1;32mIn [61]\u001b[0m, in \u001b[0;36m<cell line: 1>\u001b[1;34m()\u001b[0m\n\u001b[1;32m----> 1\u001b[0m \u001b[38;5;28mprint\u001b[39m(\u001b[43mL\u001b[49m)\n",
      "\u001b[1;31mNameError\u001b[0m: name 'L' is not defined"
     ]
    }
   ],
   "source": [
    "print(L)"
   ]
  },
  {
   "cell_type": "code",
   "execution_count": 44,
   "id": "6a350fe5",
   "metadata": {},
   "outputs": [
    {
     "name": "stdout",
     "output_type": "stream",
     "text": [
      "['a', 'quick', 'brown', 'fox', 'jumps', 'over', 'the', 'lazy', 'dog', 'the']\n"
     ]
    }
   ],
   "source": [
    "print(li)"
   ]
  },
  {
   "cell_type": "code",
   "execution_count": 8,
   "id": "58acf1c7",
   "metadata": {},
   "outputs": [],
   "source": [
    "#count\n",
    "L=[1,1,1,1,2,2,2,2,2,'Deepanshu','ee','Deepanshu','Deepanshu','Deepanshu','Deepanshu','Deepanshu','Deepanshu','Deepanshu','Deepansu', ]"
   ]
  },
  {
   "cell_type": "code",
   "execution_count": 9,
   "id": "8830f11d",
   "metadata": {},
   "outputs": [
    {
     "data": {
      "text/plain": [
       "4"
      ]
     },
     "execution_count": 9,
     "metadata": {},
     "output_type": "execute_result"
    }
   ],
   "source": [
    "L.count(1)"
   ]
  },
  {
   "cell_type": "code",
   "execution_count": 10,
   "id": "7e6dff66",
   "metadata": {},
   "outputs": [
    {
     "data": {
      "text/plain": [
       "1"
      ]
     },
     "execution_count": 10,
     "metadata": {},
     "output_type": "execute_result"
    }
   ],
   "source": [
    "L.count('ee')"
   ]
  },
  {
   "cell_type": "code",
   "execution_count": 66,
   "id": "3c799b67",
   "metadata": {},
   "outputs": [
    {
     "name": "stdout",
     "output_type": "stream",
     "text": [
      "['a', 'quick', 'brown', 'fox', 'over', 'the', 'dog']\n"
     ]
    }
   ],
   "source": [
    "print(li)"
   ]
  },
  {
   "cell_type": "code",
   "execution_count": 49,
   "id": "69560136",
   "metadata": {},
   "outputs": [],
   "source": [
    "l=li"
   ]
  },
  {
   "cell_type": "code",
   "execution_count": 67,
   "id": "3ac5929c",
   "metadata": {},
   "outputs": [],
   "source": [
    "b=[1,2,3,4]"
   ]
  },
  {
   "cell_type": "code",
   "execution_count": 68,
   "id": "e9f1fd30",
   "metadata": {},
   "outputs": [],
   "source": [
    "a=b"
   ]
  },
  {
   "cell_type": "code",
   "execution_count": 69,
   "id": "cf400fa3",
   "metadata": {},
   "outputs": [
    {
     "data": {
      "text/plain": [
       "[1, 2, 3, 4]"
      ]
     },
     "execution_count": 69,
     "metadata": {},
     "output_type": "execute_result"
    }
   ],
   "source": [
    "a"
   ]
  },
  {
   "cell_type": "code",
   "execution_count": 70,
   "id": "5496852c",
   "metadata": {},
   "outputs": [],
   "source": [
    "a.clear()"
   ]
  },
  {
   "cell_type": "code",
   "execution_count": 71,
   "id": "4351cade",
   "metadata": {},
   "outputs": [
    {
     "data": {
      "text/plain": [
       "[]"
      ]
     },
     "execution_count": 71,
     "metadata": {},
     "output_type": "execute_result"
    }
   ],
   "source": [
    "a"
   ]
  },
  {
   "cell_type": "code",
   "execution_count": 72,
   "id": "af626cff",
   "metadata": {},
   "outputs": [
    {
     "data": {
      "text/plain": [
       "[]"
      ]
     },
     "execution_count": 72,
     "metadata": {},
     "output_type": "execute_result"
    }
   ],
   "source": [
    "b"
   ]
  },
  {
   "cell_type": "code",
   "execution_count": null,
   "id": "86f8ddf5",
   "metadata": {},
   "outputs": [],
   "source": []
  },
  {
   "cell_type": "code",
   "execution_count": 50,
   "id": "7320aabd",
   "metadata": {},
   "outputs": [
    {
     "name": "stdout",
     "output_type": "stream",
     "text": [
      "['a', 'quick', 'brown', 'fox', 'jumps', 'over', 'the', 'lazy', 'dog', 'the']\n"
     ]
    }
   ],
   "source": [
    "print(l)"
   ]
  },
  {
   "cell_type": "code",
   "execution_count": null,
   "id": "bb370617",
   "metadata": {},
   "outputs": [],
   "source": [
    "# l.clear()"
   ]
  },
  {
   "cell_type": "code",
   "execution_count": null,
   "id": "fab382ba",
   "metadata": {},
   "outputs": [],
   "source": [
    "# print(l)"
   ]
  },
  {
   "cell_type": "code",
   "execution_count": 61,
   "id": "4a9f2ca2",
   "metadata": {},
   "outputs": [
    {
     "name": "stdout",
     "output_type": "stream",
     "text": [
      "['the', 'the', 'quick', 'over', 'lazy', 'jumps', 'fox', 'dog', 'brown', 'a']\n"
     ]
    }
   ],
   "source": [
    "print(li)"
   ]
  },
  {
   "cell_type": "code",
   "execution_count": 73,
   "id": "6828d72c",
   "metadata": {},
   "outputs": [],
   "source": [
    "li.reverse()"
   ]
  },
  {
   "cell_type": "code",
   "execution_count": 74,
   "id": "300fd2ff",
   "metadata": {},
   "outputs": [
    {
     "name": "stdout",
     "output_type": "stream",
     "text": [
      "['dog', 'the', 'over', 'fox', 'brown', 'quick', 'a']\n"
     ]
    }
   ],
   "source": [
    "print(li)"
   ]
  },
  {
   "cell_type": "code",
   "execution_count": 75,
   "id": "33cbc07b",
   "metadata": {},
   "outputs": [
    {
     "data": {
      "text/plain": [
       "[0, 10, 30, 50, 55, 70, 90]"
      ]
     },
     "execution_count": 75,
     "metadata": {},
     "output_type": "execute_result"
    }
   ],
   "source": [
    "l2"
   ]
  },
  {
   "cell_type": "code",
   "execution_count": 79,
   "id": "e8130e1c",
   "metadata": {},
   "outputs": [],
   "source": [
    "l2.reverse()"
   ]
  },
  {
   "cell_type": "code",
   "execution_count": 80,
   "id": "8a5181fe",
   "metadata": {},
   "outputs": [
    {
     "name": "stdout",
     "output_type": "stream",
     "text": [
      "[90, 70, 55, 50, 30, 10, 0]\n"
     ]
    }
   ],
   "source": [
    "print(l2)"
   ]
  },
  {
   "cell_type": "code",
   "execution_count": 81,
   "id": "fc20ef82",
   "metadata": {},
   "outputs": [],
   "source": [
    "# sort\n",
    "li.sort()"
   ]
  },
  {
   "cell_type": "code",
   "execution_count": 82,
   "id": "855b844a",
   "metadata": {},
   "outputs": [
    {
     "name": "stdout",
     "output_type": "stream",
     "text": [
      "['a', 'brown', 'dog', 'fox', 'over', 'quick', 'the']\n"
     ]
    }
   ],
   "source": [
    "print(li)"
   ]
  },
  {
   "cell_type": "code",
   "execution_count": 84,
   "id": "32033ecf",
   "metadata": {},
   "outputs": [
    {
     "name": "stdout",
     "output_type": "stream",
     "text": [
      "97\n",
      "65\n",
      "['A', 'a']\n"
     ]
    }
   ],
   "source": [
    "l=['a','A']\n",
    "print(ord('a'))#97\n",
    "print(ord('A'))#65\n",
    "l.sort()\n",
    "print(l)"
   ]
  },
  {
   "cell_type": "code",
   "execution_count": 85,
   "id": "2f3c9798",
   "metadata": {},
   "outputs": [],
   "source": [
    "li.sort(reverse=True) # descending order"
   ]
  },
  {
   "cell_type": "code",
   "execution_count": 86,
   "id": "81779542",
   "metadata": {},
   "outputs": [
    {
     "name": "stdout",
     "output_type": "stream",
     "text": [
      "['the', 'quick', 'over', 'fox', 'dog', 'brown', 'a']\n"
     ]
    }
   ],
   "source": [
    "print(li)"
   ]
  },
  {
   "cell_type": "code",
   "execution_count": 92,
   "id": "8e9576b2",
   "metadata": {},
   "outputs": [
    {
     "name": "stdout",
     "output_type": "stream",
     "text": [
      "['a', 'brown', 'dog', 'fox', 'over', 'quick', 'the']\n"
     ]
    }
   ],
   "source": [
    "# Sorted \n",
    "#it doesnot sort the oroginal list\n",
    "print(sorted(li))"
   ]
  },
  {
   "cell_type": "code",
   "execution_count": 93,
   "id": "848ebd87",
   "metadata": {},
   "outputs": [
    {
     "name": "stdout",
     "output_type": "stream",
     "text": [
      "['the', 'quick', 'over', 'fox', 'dog', 'brown', 'a']\n"
     ]
    }
   ],
   "source": [
    "print(li)"
   ]
  },
  {
   "cell_type": "code",
   "execution_count": 67,
   "id": "abd4d5d8",
   "metadata": {},
   "outputs": [
    {
     "name": "stdout",
     "output_type": "stream",
     "text": [
      "['the', 'the', 'quick', 'over', 'lazy', 'jumps', 'fox', 'dog', 'brown', 'a']\n"
     ]
    }
   ],
   "source": [
    "print(sorted(li,reverse=True))"
   ]
  },
  {
   "cell_type": "code",
   "execution_count": 68,
   "id": "b42ae781",
   "metadata": {},
   "outputs": [
    {
     "name": "stdout",
     "output_type": "stream",
     "text": [
      "a\n"
     ]
    }
   ],
   "source": [
    "# min\n",
    "print(min(li))"
   ]
  },
  {
   "cell_type": "code",
   "execution_count": 69,
   "id": "d4335d8d",
   "metadata": {},
   "outputs": [
    {
     "name": "stdout",
     "output_type": "stream",
     "text": [
      "the\n"
     ]
    }
   ],
   "source": [
    "#max\n",
    "print(max(li))"
   ]
  },
  {
   "cell_type": "code",
   "execution_count": 70,
   "id": "5eff60ca",
   "metadata": {},
   "outputs": [
    {
     "data": {
      "text/plain": [
       "[90, 70, 50, 30, 10]"
      ]
     },
     "execution_count": 70,
     "metadata": {},
     "output_type": "execute_result"
    }
   ],
   "source": [
    "l2"
   ]
  },
  {
   "cell_type": "code",
   "execution_count": 71,
   "id": "9edb3eb8",
   "metadata": {},
   "outputs": [
    {
     "name": "stdout",
     "output_type": "stream",
     "text": [
      "10\n"
     ]
    }
   ],
   "source": [
    "print(min(l2))"
   ]
  },
  {
   "cell_type": "code",
   "execution_count": 72,
   "id": "fe0968c6",
   "metadata": {},
   "outputs": [
    {
     "name": "stdout",
     "output_type": "stream",
     "text": [
      "90\n"
     ]
    }
   ],
   "source": [
    "print(max(l2))"
   ]
  },
  {
   "cell_type": "code",
   "execution_count": 14,
   "id": "10001332",
   "metadata": {},
   "outputs": [
    {
     "name": "stdout",
     "output_type": "stream",
     "text": [
      "[0, 10, 30, 50, 55, 70, 90]\n"
     ]
    }
   ],
   "source": [
    "print(l2)"
   ]
  },
  {
   "cell_type": "code",
   "execution_count": 15,
   "id": "a248cb14",
   "metadata": {},
   "outputs": [
    {
     "name": "stdout",
     "output_type": "stream",
     "text": [
      "305\n"
     ]
    }
   ],
   "source": [
    "print(sum(l2))"
   ]
  },
  {
   "cell_type": "code",
   "execution_count": 16,
   "id": "0df5f641",
   "metadata": {},
   "outputs": [
    {
     "name": "stdout",
     "output_type": "stream",
     "text": [
      "Deepanshu verma abc\n"
     ]
    }
   ],
   "source": [
    "x=['Deepanshu','verma','abc']\n",
    "print(\" \".join(x))  \n",
    "# join() the list "
   ]
  },
  {
   "cell_type": "code",
   "execution_count": 108,
   "id": "79c5760c",
   "metadata": {},
   "outputs": [
    {
     "name": "stdout",
     "output_type": "stream",
     "text": [
      "[1, 2, 3, 4, 5, 6, 7, 8, 'Nine', 'Ten']\n"
     ]
    }
   ],
   "source": [
    "# list Modification\n",
    "l=[1,2,3,4,5,6,7,8,9,10]\n",
    "l[8:10]=['Nine','Ten']\n",
    "print(l)"
   ]
  },
  {
   "cell_type": "code",
   "execution_count": 109,
   "id": "dcf96a44",
   "metadata": {},
   "outputs": [
    {
     "name": "stdout",
     "output_type": "stream",
     "text": [
      "[1, 'Deepanshu', 8, 'Nine', 'Ten']\n"
     ]
    }
   ],
   "source": [
    "l[1:7]=['Deepanshu']\n",
    "print(l)"
   ]
  },
  {
   "cell_type": "code",
   "execution_count": 110,
   "id": "eba450d2",
   "metadata": {},
   "outputs": [
    {
     "name": "stdout",
     "output_type": "stream",
     "text": [
      "[1, 'Deepanshu', 8, 'Nine', 'Ten', 'Deepanshu']\n"
     ]
    }
   ],
   "source": [
    "l[10:11]=['Deepanshu']\n",
    "print(l)"
   ]
  },
  {
   "cell_type": "code",
   "execution_count": null,
   "id": "d9d28ee2",
   "metadata": {},
   "outputs": [],
   "source": []
  },
  {
   "cell_type": "code",
   "execution_count": null,
   "id": "571ce8fa",
   "metadata": {},
   "outputs": [],
   "source": []
  },
  {
   "cell_type": "markdown",
   "id": "c162b9af",
   "metadata": {},
   "source": [
    "# Nested list"
   ]
  },
  {
   "cell_type": "code",
   "execution_count": 112,
   "id": "8c3465c2",
   "metadata": {},
   "outputs": [
    {
     "name": "stdout",
     "output_type": "stream",
     "text": [
      "11\n",
      "[10, 20, 30]\n",
      "100\n"
     ]
    }
   ],
   "source": [
    "L1=[11,22,[10,20,30],100]\n",
    "# print(len(L1))\n",
    "print(L1[0])\n",
    "print(L1[2])\n",
    "print(L1[3])"
   ]
  },
  {
   "cell_type": "code",
   "execution_count": 122,
   "id": "6be5a6ed",
   "metadata": {},
   "outputs": [
    {
     "name": "stdout",
     "output_type": "stream",
     "text": [
      "['over', 'the', 'lazy', 'dog']\n"
     ]
    }
   ],
   "source": [
    "L2=['a', 'quick', 'brown', ['fox', 'jumps'], 'over', 'the', 'lazy', 'dog']\n",
    "# print(len(L2))\n",
    "# print(L2[3:4])\n",
    "# print(L2[3:4][0])\n",
    "# print(L2[3:4][0][1])\n",
    "# print(L2[3:4][0][1][2])\n",
    "print(L2[4:])"
   ]
  },
  {
   "cell_type": "code",
   "execution_count": 123,
   "id": "9de08d36",
   "metadata": {},
   "outputs": [
    {
     "data": {
      "text/plain": [
       "['a', 'quick', 'brown', ['fox', 'jumps'], 'over', 'the', 'lazy', 'dog']"
      ]
     },
     "execution_count": 123,
     "metadata": {},
     "output_type": "execute_result"
    }
   ],
   "source": [
    "L2"
   ]
  },
  {
   "cell_type": "code",
   "execution_count": 129,
   "id": "18c58f05",
   "metadata": {},
   "outputs": [
    {
     "name": "stdout",
     "output_type": "stream",
     "text": [
      "False\n",
      "False\n",
      "False\n",
      "True\n",
      "True\n"
     ]
    }
   ],
   "source": [
    "# Membership Operators\n",
    "print('b' in L2)\n",
    "print('j' in L2)\n",
    "print('jumps' in L2)\n",
    "print('quick' in L2)\n",
    "print('fox' in L2[3:4][0][0])"
   ]
  },
  {
   "cell_type": "code",
   "execution_count": 130,
   "id": "b6e415a6",
   "metadata": {},
   "outputs": [
    {
     "data": {
      "text/plain": [
       "['a', 'quick', 'brown', ['fox', 'jumps'], 'over', 'the', 'lazy', 'dog']"
      ]
     },
     "execution_count": 130,
     "metadata": {},
     "output_type": "execute_result"
    }
   ],
   "source": [
    "L2"
   ]
  },
  {
   "cell_type": "code",
   "execution_count": 134,
   "id": "ee0dd646",
   "metadata": {},
   "outputs": [
    {
     "name": "stdout",
     "output_type": "stream",
     "text": [
      "['brown', 'fox', 'jumps']\n"
     ]
    }
   ],
   "source": [
    "# # Concatenation\n",
    "# print(L2[2]+L2[3:4][0])\n",
    "print([L2[2]]+L2[3:4][0])"
   ]
  },
  {
   "cell_type": "code",
   "execution_count": 136,
   "id": "9d573426",
   "metadata": {},
   "outputs": [
    {
     "data": {
      "text/plain": [
       "[[1, 2, 3, [4, 5, 6], 7, 8, 9], 10, [11, 12, 13], 14, 15, 16, 17]"
      ]
     },
     "execution_count": 136,
     "metadata": {},
     "output_type": "execute_result"
    }
   ],
   "source": [
    "l1"
   ]
  },
  {
   "cell_type": "code",
   "execution_count": 150,
   "id": "ff5bc508",
   "metadata": {},
   "outputs": [
    {
     "name": "stdout",
     "output_type": "stream",
     "text": [
      "[[1, 2, 3, [4, 5, 6], 7, 8, 9], 10]\n",
      "[[1, 2, 3, [4, 5, 6], 7, 8, 9], 10, [11, 12, 13]]\n"
     ]
    }
   ],
   "source": [
    "# print(len(l1))\n",
    "# print(l1[3])\n",
    "# print(l1[0])\n",
    "# print(l1[0][0])\n",
    "# print(l1[0][3])\n",
    "# print(l1[0][6])\n",
    "# print(l1[1])\n",
    "# print(l1[2][2])\n",
    "# print(l1[0][1])\n",
    "# print(l1[0][3][0])\n",
    "# print(l1[6])\n",
    "# print(l1[0][5])\n",
    "print(l1[0:2])\n",
    "print(l1[0:3])\n"
   ]
  },
  {
   "cell_type": "code",
   "execution_count": 162,
   "id": "8b06df25",
   "metadata": {},
   "outputs": [
    {
     "name": "stdout",
     "output_type": "stream",
     "text": [
      "[1, [4, 5, 6], 9]\n"
     ]
    }
   ],
   "source": [
    "l1=[[1, 2, 3, [4, 5, 6], 7, 8, 9], 10, [11, 12, 13], 14, 15, 16, 17]\n",
    "# print(l1[0:3][2][1])\n",
    "# print(l1[0][0:5])\n",
    "# print(l1[4])\n",
    "# print(l1[0][2:14])\n",
    "# print(l1[0:1000])\n",
    "# print(l1[0][-4])\n",
    "# print(l1[-4])\n",
    "# print(l1[-5][-2:])\n",
    "# print(l1[-7][-4:])\n",
    "# print(l1[-6:-7])\n",
    "print(l1[0][0:100:3])\n"
   ]
  },
  {
   "cell_type": "code",
   "execution_count": 165,
   "id": "d712dbb4",
   "metadata": {},
   "outputs": [],
   "source": [
    "List=[['cats','vs','dogs'],['we know this']]\n"
   ]
  },
  {
   "cell_type": "code",
   "execution_count": 170,
   "id": "c6aafcfd",
   "metadata": {},
   "outputs": [
    {
     "name": "stdout",
     "output_type": "stream",
     "text": [
      "2\n",
      "['we know this']\n",
      "[['cats', 'vs', 'dogs'], ['we know this']]\n",
      "vs\n",
      "['vs', 'dogs']\n",
      "['cats', 'vs', 'dogs']\n"
     ]
    }
   ],
   "source": [
    "print(len(List))\n",
    "print(List[1])\n",
    "print(List[0:10])\n",
    "print(List[0][1])\n",
    "print(List[0][1:3])\n",
    "print(List[0][0:3])\n",
    "\n"
   ]
  },
  {
   "cell_type": "markdown",
   "id": "987670cb",
   "metadata": {},
   "source": [
    "### List Comprehension\n",
    "List comprehensions are used for creating new lists from other iterables like tuples, strings, arrays, lists, etc. List comprehension offers a shorter syntax when you want to create a new list based on the values of an existing list.\n",
    "\n",
    "Syntax:\n",
    "\n",
    "newList = [ expression(element) for element in oldList if condition ]"
   ]
  },
  {
   "cell_type": "code",
   "execution_count": 171,
   "id": "527ac65e",
   "metadata": {},
   "outputs": [
    {
     "name": "stdout",
     "output_type": "stream",
     "text": [
      "[1, 9, 25, 49, 81]\n"
     ]
    }
   ],
   "source": [
    "odd_square=[]\n",
    "for x in range(1,11):\n",
    "    if x%2==1:\n",
    "        odd_square.append(x**2)\n",
    "print(odd_square)"
   ]
  },
  {
   "cell_type": "code",
   "execution_count": 172,
   "id": "c2ce75fc",
   "metadata": {},
   "outputs": [
    {
     "name": "stdout",
     "output_type": "stream",
     "text": [
      "[1, 9, 25, 49, 81]\n"
     ]
    }
   ],
   "source": [
    "odd_square=[x**2 for x in range(1,11) if x%2==1]\n",
    "print(odd_square)"
   ]
  },
  {
   "cell_type": "code",
   "execution_count": 173,
   "id": "7280ee2b",
   "metadata": {},
   "outputs": [
    {
     "name": "stdout",
     "output_type": "stream",
     "text": [
      "['D', 'e', 'e', 'p', 'a', 'n', 's', 'h', 'u']\n"
     ]
    }
   ],
   "source": [
    "name=[letter for letter in 'Deepanshu']\n",
    "print(name)\n"
   ]
  },
  {
   "cell_type": "code",
   "execution_count": 174,
   "id": "bf89eea7",
   "metadata": {},
   "outputs": [
    {
     "name": "stdout",
     "output_type": "stream",
     "text": [
      "['AA']\n"
     ]
    }
   ],
   "source": [
    "d=[x*2 for x in ('DEEPANSHU') if x=='A']\n",
    "print(d)"
   ]
  },
  {
   "cell_type": "code",
   "execution_count": 175,
   "id": "ca176385",
   "metadata": {},
   "outputs": [
    {
     "data": {
      "text/plain": [
       "['apple', 'banana', 'mango']"
      ]
     },
     "execution_count": 175,
     "metadata": {},
     "output_type": "execute_result"
    }
   ],
   "source": [
    "fruits=['apple','banana','cherry','kiwi','mango']\n",
    "newlist=[x for x in fruits if \"a\" in x]\n",
    "newlist"
   ]
  },
  {
   "cell_type": "code",
   "execution_count": 144,
   "id": "73acc7b8",
   "metadata": {},
   "outputs": [
    {
     "data": {
      "text/plain": [
       "[0, 1, 2, 3, 4, 5, 6, 7, 8, 9]"
      ]
     },
     "execution_count": 144,
     "metadata": {},
     "output_type": "execute_result"
    }
   ],
   "source": [
    "newlist=[x for x in range(10)]\n",
    "newlist"
   ]
  },
  {
   "cell_type": "code",
   "execution_count": 176,
   "id": "b6596057",
   "metadata": {},
   "outputs": [
    {
     "data": {
      "text/plain": [
       "[6, 7, 8, 9]"
      ]
     },
     "execution_count": 176,
     "metadata": {},
     "output_type": "execute_result"
    }
   ],
   "source": [
    "newlist=[x for x in range(10) if x>5]\n",
    "newlist"
   ]
  },
  {
   "cell_type": "code",
   "execution_count": 177,
   "id": "7aeebbb5",
   "metadata": {},
   "outputs": [
    {
     "data": {
      "text/plain": [
       "['Even', 'odd', 'Even', 'odd', 'Even', 'odd', 'Even', 'odd', 'Even', 'odd']"
      ]
     },
     "execution_count": 177,
     "metadata": {},
     "output_type": "execute_result"
    }
   ],
   "source": [
    "obj=['Even' if i%2==0 else \"odd\" for i in range(10)]\n",
    "obj"
   ]
  },
  {
   "cell_type": "code",
   "execution_count": null,
   "id": "cc1655d3",
   "metadata": {},
   "outputs": [],
   "source": [
    "# find the least positive missing number\n",
    "Li=[-6,0,1,3,-9,2,5]"
   ]
  },
  {
   "cell_type": "code",
   "execution_count": 180,
   "id": "37a6f008",
   "metadata": {},
   "outputs": [],
   "source": [
    "l=[1,2,1,2,1,3,1,4,2,6,2,6,2,6,3,5,2,6,3,6,2,5,5]"
   ]
  },
  {
   "cell_type": "code",
   "execution_count": 178,
   "id": "e87071e2",
   "metadata": {},
   "outputs": [],
   "source": [
    "#Write a Python program to find palindromes in a given list of strings\n",
    "# pallindrome\n",
    "# not palindrome\n",
    "l=['madam','1331','php','deepanshu']"
   ]
  },
  {
   "cell_type": "code",
   "execution_count": 179,
   "id": "bfbad99f",
   "metadata": {},
   "outputs": [
    {
     "name": "stdout",
     "output_type": "stream",
     "text": [
      "madam pallindome\n",
      "1331 pallindome\n",
      "php pallindome\n",
      "deepanshu not palliondrome\n"
     ]
    }
   ],
   "source": [
    "for i in l:\n",
    "    if i==i[::-1]:\n",
    "        print(i,'pallindome')\n",
    "    else:\n",
    "        print(i,'not palliondrome')"
   ]
  },
  {
   "cell_type": "code",
   "execution_count": 2,
   "id": "df7c274d",
   "metadata": {},
   "outputs": [
    {
     "name": "stdout",
     "output_type": "stream",
     "text": [
      "madam paillidrome\n",
      "1331 paillidrome\n",
      "php paillidrome\n",
      "deepanshu not palliondrome\n"
     ]
    }
   ],
   "source": [
    "# no. is paillidrome or not\n",
    "L=['madam','1331','php','deepanshu']\n",
    "for i in L:\n",
    "    if i==i[::-1]:\n",
    "        print(i,\"paillidrome\")\n",
    "    else:\n",
    "        print(i,'not palliondrome')\n",
    "        "
   ]
  },
  {
   "cell_type": "code",
   "execution_count": 6,
   "id": "d8e1c4df",
   "metadata": {},
   "outputs": [
    {
     "name": "stdout",
     "output_type": "stream",
     "text": [
      "[1, 2, 3, 4, 6, 5, 0, 8, 9, 7, 12, 14, 19, 15]\n"
     ]
    }
   ],
   "source": [
    "#unique number\n",
    "a=[1,2,1,2,1,3,1,4,2,6,2,6,2,6,3,5,2,6,3,6,2,5,5,0,8,9,1,2,3,7,4,12,14,12,19,15]\n",
    "b=[]\n",
    "for i in a:\n",
    "    if i not in b:\n",
    "        b.append(i)\n",
    "print(b)"
   ]
  },
  {
   "cell_type": "code",
   "execution_count": 2,
   "id": "afbe5180",
   "metadata": {},
   "outputs": [],
   "source": [
    "# find the least positive missing number    "
   ]
  }
 ],
 "metadata": {
  "kernelspec": {
   "display_name": "Python 3",
   "language": "python",
   "name": "python3"
  },
  "language_info": {
   "codemirror_mode": {
    "name": "ipython",
    "version": 3
   },
   "file_extension": ".py",
   "mimetype": "text/x-python",
   "name": "python",
   "nbconvert_exporter": "python",
   "pygments_lexer": "ipython3",
   "version": "3.8.8"
  }
 },
 "nbformat": 4,
 "nbformat_minor": 5
}
