{
 "cells": [
  {
   "cell_type": "markdown",
   "id": "b6a7907a",
   "metadata": {},
   "source": [
    "# Sets"
   ]
  },
  {
   "cell_type": "markdown",
   "id": "5e73dfb6",
   "metadata": {},
   "source": [
    "What is Sets?\n",
    "\n",
    "- Sets are unordered.\n",
    "- Set elements are unique. Duplicate elements are not allowed.\n",
    "- A set itself may be modified, but the elements contained in the set must be of an immutable type.\n",
    "- Sets can be used to perform mathematical set operations like union, intersection, symmetric difference etc."
   ]
  },
  {
   "cell_type": "code",
   "execution_count": 1,
   "id": "89bb6a1a",
   "metadata": {},
   "outputs": [
    {
     "name": "stdout",
     "output_type": "stream",
     "text": [
      "{'a', 'b', 'c'}\n",
      "<class 'set'>\n"
     ]
    }
   ],
   "source": [
    "myset = set([\"a\", \"b\", \"c\"])     # creating a set with set() function\n",
    "print(myset)\n",
    "print(type(myset))"
   ]
  },
  {
   "cell_type": "code",
   "execution_count": 6,
   "id": "d4a06cf7",
   "metadata": {},
   "outputs": [
    {
     "name": "stdout",
     "output_type": "stream",
     "text": [
      "<class 'dict'>\n"
     ]
    }
   ],
   "source": [
    "a={}\n",
    "print(type(a))"
   ]
  },
  {
   "cell_type": "code",
   "execution_count": 2,
   "id": "2fb77393",
   "metadata": {},
   "outputs": [
    {
     "name": "stdout",
     "output_type": "stream",
     "text": [
      "<class 'set'>\n",
      "{0, 1, 2, 3, 4, 5, 6, 7, 8, 9}\n"
     ]
    }
   ],
   "source": [
    "s={1,1,1,1,2,2,3,4,5,3,4,6,3,7,4,7,3,1,1,2,3,5,7,6,5,8,0,8,9,7,8,0,8,7,6,4,3}\n",
    "print(type(s))\n",
    "print(s)"
   ]
  },
  {
   "cell_type": "markdown",
   "id": "8448eada",
   "metadata": {},
   "source": [
    "### Set Functions"
   ]
  },
  {
   "cell_type": "markdown",
   "id": "e78d48a1",
   "metadata": {},
   "source": [
    "- Adding elements :-\n",
    "- Insertion in set is done through set.add() function."
   ]
  },
  {
   "cell_type": "code",
   "execution_count": 9,
   "id": "66df86b2",
   "metadata": {},
   "outputs": [
    {
     "name": "stdout",
     "output_type": "stream",
     "text": [
      "{'a', 'b', 'd', 'c'}\n"
     ]
    }
   ],
   "source": [
    "myset.add(\"d\")   # Adding element to the set with add()\n",
    "print(myset)"
   ]
  },
  {
   "cell_type": "code",
   "execution_count": 10,
   "id": "1c294739",
   "metadata": {},
   "outputs": [
    {
     "name": "stdout",
     "output_type": "stream",
     "text": [
      "{'d', 'a', 'e', 'c', 'b'}\n"
     ]
    }
   ],
   "source": [
    "myset.add('e')\n",
    "print(myset)"
   ]
  },
  {
   "cell_type": "code",
   "execution_count": 11,
   "id": "cf05c6a0",
   "metadata": {},
   "outputs": [
    {
     "name": "stdout",
     "output_type": "stream",
     "text": [
      "{'d', 'a', 'e', 'c', 'b'}\n"
     ]
    }
   ],
   "source": [
    "print(myset)"
   ]
  },
  {
   "cell_type": "code",
   "execution_count": 12,
   "id": "0e639dfe",
   "metadata": {},
   "outputs": [
    {
     "name": "stdout",
     "output_type": "stream",
     "text": [
      "{'mango', 'grapes', 'apple'}\n"
     ]
    }
   ],
   "source": [
    "# Creating a Set\n",
    "fruits = {\"apple\", \"mango\", \"grapes\"}\n",
    " \n",
    "print(fruits)\n",
    " \n"
   ]
  },
  {
   "cell_type": "code",
   "execution_count": 16,
   "id": "d9191467",
   "metadata": {},
   "outputs": [
    {
     "name": "stdout",
     "output_type": "stream",
     "text": [
      "{'mango', 'grapes', 'orange', 'apple'}\n"
     ]
    }
   ],
   "source": [
    "# This will add  in the set\n",
    "fruits.add(\"orange\")\n",
    "\n",
    "print(fruits)\n",
    " \n"
   ]
  },
  {
   "cell_type": "code",
   "execution_count": 17,
   "id": "01105f4a",
   "metadata": {},
   "outputs": [
    {
     "name": "stdout",
     "output_type": "stream",
     "text": [
      "{1, 2, 'grapes', 3, 4, 'apple', 5, 'orange', 'mango'}\n"
     ]
    }
   ],
   "source": [
    "# Adding elements to the set using iterator\n",
    "for i in range(1, 6):\n",
    "    fruits.add(i)\n",
    "\n",
    "print(fruits)"
   ]
  },
  {
   "cell_type": "markdown",
   "id": "a4b16cea",
   "metadata": {},
   "source": [
    "- Union :-\n",
    "\n",
    "Two sets can be merged using union() function or | operator."
   ]
  },
  {
   "cell_type": "code",
   "execution_count": 18,
   "id": "968726b0",
   "metadata": {},
   "outputs": [],
   "source": [
    "fruits = {\"apple\", \"mango\", \"grapes\"}\n",
    "vegetables={'potato','onion','carrot'}\n",
    "dishes={'pizza','burger'}"
   ]
  },
  {
   "cell_type": "code",
   "execution_count": 19,
   "id": "4c5e8dca",
   "metadata": {},
   "outputs": [
    {
     "name": "stdout",
     "output_type": "stream",
     "text": [
      "{'carrot', 'grapes', 'onion', 'potato', 'apple', 'mango'}\n"
     ]
    }
   ],
   "source": [
    "# Union using union() function\n",
    "all_items=fruits.union(vegetables)\n",
    "print(all_items)"
   ]
  },
  {
   "cell_type": "code",
   "execution_count": 20,
   "id": "8490be34",
   "metadata": {},
   "outputs": [
    {
     "name": "stdout",
     "output_type": "stream",
     "text": [
      "{'pizza', 'grapes', 'apple', 'burger', 'mango'}\n"
     ]
    }
   ],
   "source": [
    "# Union using \"|\" operator\n",
    "all_items=fruits|dishes\n",
    "print(all_items)"
   ]
  },
  {
   "cell_type": "code",
   "execution_count": 21,
   "id": "993091d4",
   "metadata": {},
   "outputs": [
    {
     "data": {
      "text/plain": [
       "dict"
      ]
     },
     "execution_count": 21,
     "metadata": {},
     "output_type": "execute_result"
    }
   ],
   "source": [
    "a={}\n",
    "type(a)"
   ]
  },
  {
   "cell_type": "code",
   "execution_count": 24,
   "id": "b97f30fb",
   "metadata": {},
   "outputs": [
    {
     "name": "stdout",
     "output_type": "stream",
     "text": [
      "set1 set()\n",
      "set2 set()\n"
     ]
    }
   ],
   "source": [
    "# creation of empty set\n",
    "SET1=set()\n",
    "SET2=set()\n",
    "print('set1',SET1)\n",
    "print('set2',SET2)"
   ]
  },
  {
   "cell_type": "code",
   "execution_count": 25,
   "id": "d05e3076",
   "metadata": {},
   "outputs": [
    {
     "name": "stdout",
     "output_type": "stream",
     "text": [
      "<class 'set'>\n"
     ]
    }
   ],
   "source": [
    "print(type(SET1))"
   ]
  },
  {
   "cell_type": "code",
   "execution_count": 26,
   "id": "593cd1cd",
   "metadata": {},
   "outputs": [
    {
     "name": "stdout",
     "output_type": "stream",
     "text": [
      "set()\n"
     ]
    }
   ],
   "source": [
    "print(SET1)"
   ]
  },
  {
   "cell_type": "code",
   "execution_count": 27,
   "id": "3fa21824",
   "metadata": {},
   "outputs": [
    {
     "name": "stdout",
     "output_type": "stream",
     "text": [
      "{0, 1, 2, 3, 4}\n"
     ]
    }
   ],
   "source": [
    "for i in range(5):\n",
    "    SET1.add(i)\n",
    "print(SET1)"
   ]
  },
  {
   "cell_type": "code",
   "execution_count": 28,
   "id": "73b2fb3d",
   "metadata": {},
   "outputs": [
    {
     "name": "stdout",
     "output_type": "stream",
     "text": [
      "{3, 4, 5, 6}\n"
     ]
    }
   ],
   "source": [
    "for i in range(3,7):\n",
    "    SET2.add(i)\n",
    "print(SET2)"
   ]
  },
  {
   "cell_type": "code",
   "execution_count": 29,
   "id": "b9582424",
   "metadata": {},
   "outputs": [
    {
     "name": "stdout",
     "output_type": "stream",
     "text": [
      "{0, 1, 2, 3, 4}\n",
      "{3, 4, 5, 6}\n"
     ]
    }
   ],
   "source": [
    "print(SET1)\n",
    "print(SET2)"
   ]
  },
  {
   "cell_type": "markdown",
   "id": "075ee3e0",
   "metadata": {},
   "source": [
    "- Intersection :-\n",
    "\n",
    "This can be done through intersection() or & operator. Common Elements are selected."
   ]
  },
  {
   "cell_type": "code",
   "execution_count": 24,
   "id": "cba553ed",
   "metadata": {},
   "outputs": [
    {
     "name": "stdout",
     "output_type": "stream",
     "text": [
      "{3, 4}\n"
     ]
    }
   ],
   "source": [
    "# Intersection using intersection() function\n",
    "SET3 = SET1.intersection(SET2)\n",
    "print(SET3)"
   ]
  },
  {
   "cell_type": "code",
   "execution_count": 24,
   "id": "fdb2dd1f",
   "metadata": {},
   "outputs": [
    {
     "name": "stdout",
     "output_type": "stream",
     "text": [
      "{3, 4}\n"
     ]
    }
   ],
   "source": [
    "# Intersection using \"&\" operator\n",
    "SET3 = SET1 & SET2\n",
    "print(SET3)"
   ]
  },
  {
   "cell_type": "markdown",
   "id": "971853d2",
   "metadata": {},
   "source": [
    "- Difference :-\n",
    "\n",
    "To find difference in between sets. Similar to find difference in linked list. This is done through difference() or – operator."
   ]
  },
  {
   "cell_type": "code",
   "execution_count": 39,
   "id": "aa4eb6f0",
   "metadata": {},
   "outputs": [
    {
     "name": "stdout",
     "output_type": "stream",
     "text": [
      "{0, 1, 2, 3, 4}\n",
      "{3, 4, 5, 6}\n"
     ]
    }
   ],
   "source": [
    "print(SET1)\n",
    "print(SET2)"
   ]
  },
  {
   "cell_type": "code",
   "execution_count": 30,
   "id": "b302c01b",
   "metadata": {},
   "outputs": [
    {
     "name": "stdout",
     "output_type": "stream",
     "text": [
      "{0, 1, 2}\n"
     ]
    }
   ],
   "source": [
    "# Difference of two sets using difference() function\n",
    "SET3 = SET1.difference(SET2)\n",
    "# it returns elements that are in set 1 but not in set 2\n",
    "print(SET3)"
   ]
  },
  {
   "cell_type": "code",
   "execution_count": 31,
   "id": "40e5971b",
   "metadata": {},
   "outputs": [
    {
     "name": "stdout",
     "output_type": "stream",
     "text": [
      "{5, 6}\n"
     ]
    }
   ],
   "source": [
    "# Difference of two sets using '-' operator\n",
    "SET3 = SET2 - SET1\n",
    "print(SET3)"
   ]
  },
  {
   "cell_type": "markdown",
   "id": "46486be0",
   "metadata": {},
   "source": [
    "- Clearing sets :-\n",
    "\n",
    "Clear() method empties the whole set."
   ]
  },
  {
   "cell_type": "code",
   "execution_count": 32,
   "id": "a30102ce",
   "metadata": {},
   "outputs": [
    {
     "name": "stdout",
     "output_type": "stream",
     "text": [
      "{1, 2, 3, 4, 5, 6}\n",
      "set()\n"
     ]
    }
   ],
   "source": [
    "set1 = {1,2,3,4,5,6}\n",
    "SeT=set1\n",
    "print(set1)\n",
    " \n",
    "# This method will remove all the elements of the set\n",
    "set1.clear()\n",
    " \n",
    "print(set1)"
   ]
  },
  {
   "cell_type": "code",
   "execution_count": 31,
   "id": "ffb71781",
   "metadata": {},
   "outputs": [
    {
     "name": "stdout",
     "output_type": "stream",
     "text": [
      "set()\n"
     ]
    }
   ],
   "source": [
    "print(SeT)"
   ]
  },
  {
   "cell_type": "code",
   "execution_count": 34,
   "id": "873cc4b4",
   "metadata": {},
   "outputs": [
    {
     "name": "stdout",
     "output_type": "stream",
     "text": [
      "a\n",
      "{'b', 'd', 'c'}\n"
     ]
    }
   ],
   "source": [
    "# pop it removes the item in set randomly\n",
    "A = {'a', 'b', 'c', 'd'}\n",
    "removed_item = A.pop()\n",
    "print(removed_item)\n",
    "print(A)\n"
   ]
  },
  {
   "cell_type": "code",
   "execution_count": 3,
   "id": "baf2942d",
   "metadata": {},
   "outputs": [
    {
     "name": "stdout",
     "output_type": "stream",
     "text": [
      "True\n"
     ]
    }
   ],
   "source": [
    "# subset\n",
    "A = {1, 2, 3}\n",
    "B = {1, 2, 3, 4, 5}\n",
    "\n",
    "# all items of A are present in B\n",
    "print(A.issubset(B))"
   ]
  },
  {
   "cell_type": "code",
   "execution_count": 36,
   "id": "eda0691c",
   "metadata": {},
   "outputs": [
    {
     "name": "stdout",
     "output_type": "stream",
     "text": [
      "True\n"
     ]
    }
   ],
   "source": [
    "A={1,2,3,4,5}\n",
    "B={6,7,8,9,10,11}\n",
    "print(A.isdisjoint(B))"
   ]
  }
 ],
 "metadata": {
  "kernelspec": {
   "display_name": "Python 3",
   "language": "python",
   "name": "python3"
  },
  "language_info": {
   "codemirror_mode": {
    "name": "ipython",
    "version": 3
   },
   "file_extension": ".py",
   "mimetype": "text/x-python",
   "name": "python",
   "nbconvert_exporter": "python",
   "pygments_lexer": "ipython3",
   "version": "3.8.8"
  }
 },
 "nbformat": 4,
 "nbformat_minor": 5
}
