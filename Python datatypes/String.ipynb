{
 "cells": [
  {
   "cell_type": "code",
   "execution_count": 1,
   "id": "07f425f0",
   "metadata": {},
   "outputs": [
    {
     "name": "stdout",
     "output_type": "stream",
     "text": [
      "Hiii i am Deepanshu\n"
     ]
    }
   ],
   "source": [
    "# String Notation\n",
    "a='Hiii i am Deepanshu'\n",
    "print(a)"
   ]
  },
  {
   "cell_type": "code",
   "execution_count": 53,
   "id": "a3818c9a",
   "metadata": {},
   "outputs": [
    {
     "name": "stdout",
     "output_type": "stream",
     "text": [
      " hiii i am Deepanshu\n"
     ]
    }
   ],
   "source": [
    "b=\" hiiii am Deepanshu\"\n",
    "print(b)"
   ]
  },
  {
   "cell_type": "code",
   "execution_count": 1,
   "id": "a30911b8",
   "metadata": {},
   "outputs": [
    {
     "name": "stdout",
     "output_type": "stream",
     "text": [
      "hiii\n",
      "my\n",
      "name\n",
      "is\n",
      "deepanshu\n",
      "verma\n",
      "\n",
      "\n",
      "\n"
     ]
    }
   ],
   "source": [
    "# multi line strings\n",
    "d='''hiii\n",
    "my\n",
    "name\n",
    "is\n",
    "deepanshu\n",
    "verma\n",
    "\n",
    "\n",
    "'''\n",
    "print(d)\n",
    "\n"
   ]
  },
  {
   "cell_type": "code",
   "execution_count": 2,
   "id": "69e974fa",
   "metadata": {},
   "outputs": [
    {
     "name": "stdout",
     "output_type": "stream",
     "text": [
      "10\n"
     ]
    },
    {
     "data": {
      "text/plain": [
       "'\\nhdhopqw\\ndihpc[j\\n     c,w\\n     dsugdpqwx\\n     qwx]\\n'"
      ]
     },
     "execution_count": 2,
     "metadata": {},
     "output_type": "execute_result"
    }
   ],
   "source": [
    "\n",
    "a=10\n",
    "print(a)\n",
    "'''\n",
    "hdhopqw\n",
    "dihpc[j\n",
    "     c,w\n",
    "     dsugdpqwx\n",
    "     qwx]\n",
    "'''\n"
   ]
  },
  {
   "cell_type": "code",
   "execution_count": 3,
   "id": "fd2cefe5",
   "metadata": {},
   "outputs": [
    {
     "name": "stdout",
     "output_type": "stream",
     "text": [
      " hiiii \n",
      "             my\n",
      "                 name  \n",
      "                      is \n",
      "                         Deepanshu\n",
      "                                   verma\n",
      "\n"
     ]
    }
   ],
   "source": [
    "c=\"\"\" hiiii \n",
    "             my\n",
    "                 name  \n",
    "                      is \n",
    "                         Deepanshu\n",
    "                                   verma\n",
    "\"\"\"\n",
    "print(c)\n"
   ]
  },
  {
   "cell_type": "markdown",
   "id": "97e3d7a5",
   "metadata": {},
   "source": [
    "### String formatting"
   ]
  },
  {
   "cell_type": "code",
   "execution_count": 2,
   "id": "ad5d457d",
   "metadata": {},
   "outputs": [
    {
     "name": "stdout",
     "output_type": "stream",
     "text": [
      "Deepanshu + monga\n"
     ]
    }
   ],
   "source": [
    "name='Deepanshu'\n",
    "sur_name='monga'\n",
    "print(name,'+',sur_name) # concatenation"
   ]
  },
  {
   "cell_type": "code",
   "execution_count": 6,
   "id": "89a0af5c",
   "metadata": {},
   "outputs": [
    {
     "name": "stdout",
     "output_type": "stream",
     "text": [
      "Deepanshu verma\n"
     ]
    }
   ],
   "source": [
    "name='Deepanshu'\n",
    "full_name=name+ ' '+'verma'\n",
    "print(full_name) # concatenation"
   ]
  },
  {
   "cell_type": "code",
   "execution_count": 13,
   "id": "97833d1c",
   "metadata": {},
   "outputs": [
    {
     "name": "stdout",
     "output_type": "stream",
     "text": [
      "verma deepanshu \n",
      "verma deepanshu verma deepanshu verma deepanshu verma deepanshu verma deepanshu \n"
     ]
    }
   ],
   "source": [
    "a=' deepanshu '\n",
    "b='verma'\n",
    "c=b+a\n",
    "print(c)\n",
    "print(c*5)"
   ]
  },
  {
   "cell_type": "code",
   "execution_count": 10,
   "id": "082f8c83",
   "metadata": {},
   "outputs": [
    {
     "ename": "TypeError",
     "evalue": "unsupported operand type(s) for -: 'str' and 'str'",
     "output_type": "error",
     "traceback": [
      "\u001b[1;31m---------------------------------------------------------------------------\u001b[0m",
      "\u001b[1;31mTypeError\u001b[0m                                 Traceback (most recent call last)",
      "\u001b[1;32m<ipython-input-10-0818a97af4b6>\u001b[0m in \u001b[0;36m<module>\u001b[1;34m\u001b[0m\n\u001b[0;32m      2\u001b[0m \u001b[0ma\u001b[0m\u001b[1;33m=\u001b[0m\u001b[1;34m'deepanshu'\u001b[0m\u001b[1;33m\u001b[0m\u001b[1;33m\u001b[0m\u001b[0m\n\u001b[0;32m      3\u001b[0m \u001b[0mc\u001b[0m\u001b[1;33m=\u001b[0m\u001b[1;34m'verma'\u001b[0m\u001b[1;33m\u001b[0m\u001b[1;33m\u001b[0m\u001b[0m\n\u001b[1;32m----> 4\u001b[1;33m \u001b[0mprint\u001b[0m\u001b[1;33m(\u001b[0m\u001b[0mx\u001b[0m\u001b[1;33m-\u001b[0m\u001b[0mc\u001b[0m\u001b[1;33m)\u001b[0m\u001b[1;33m\u001b[0m\u001b[1;33m\u001b[0m\u001b[0m\n\u001b[0m",
      "\u001b[1;31mTypeError\u001b[0m: unsupported operand type(s) for -: 'str' and 'str'"
     ]
    }
   ],
   "source": [
    "x='hiii'\n",
    "a='deepanshu'\n",
    "c='verma'\n",
    "print(x-c)"
   ]
  },
  {
   "cell_type": "code",
   "execution_count": 72,
   "id": "91097401",
   "metadata": {},
   "outputs": [
    {
     "name": "stdout",
     "output_type": "stream",
     "text": [
      "aa\n"
     ]
    }
   ],
   "source": [
    "d='a'\n",
    "print(d*2)"
   ]
  },
  {
   "cell_type": "code",
   "execution_count": 15,
   "id": "3602f115",
   "metadata": {},
   "outputs": [
    {
     "name": "stdout",
     "output_type": "stream",
     "text": [
      "hello hiii\n"
     ]
    }
   ],
   "source": [
    "a='hiii'\n",
    "print('hello'+' '+a)"
   ]
  },
  {
   "cell_type": "code",
   "execution_count": 18,
   "id": "eee10f21",
   "metadata": {},
   "outputs": [
    {
     "name": "stdout",
     "output_type": "stream",
     "text": [
      "hello good evening good morning\n",
      "hello good evening good morning\n"
     ]
    }
   ],
   "source": [
    "## f specifier\n",
    "greeting='good morning'\n",
    "greeting1='good evening'\n",
    "# print('hello',greeting)\n",
    "print('hello', greeting1, greeting)\n",
    "print(f'hello {greeting1} {greeting}')"
   ]
  },
  {
   "cell_type": "code",
   "execution_count": 21,
   "id": "bfe6d6df",
   "metadata": {},
   "outputs": [
    {
     "name": "stdout",
     "output_type": "stream",
     "text": [
      "How are you, Deepanshu?\n"
     ]
    }
   ],
   "source": [
    "# format specifier\n",
    "name='Deepanshu'\n",
    "\n",
    "final_greeting = 'How are you, {}?'\n",
    "\n",
    "print(final_greeting.format(name))\n",
    "# print(final_greeting)\n"
   ]
  },
  {
   "cell_type": "code",
   "execution_count": 20,
   "id": "9733eaa2",
   "metadata": {},
   "outputs": [
    {
     "name": "stdout",
     "output_type": "stream",
     "text": [
      " my first name is Deepanshu and sur name is verma \n",
      " my first name is verma and sur name is Deepanshu \n"
     ]
    }
   ],
   "source": [
    "name='Deepanshu'\n",
    "surname='verma'\n",
    "\n",
    "print(' my first name is {} and sur name is {} '.format(name,surname))\n",
    "print(' my first name is {} and sur name is {} '.format(surname,name))"
   ]
  },
  {
   "cell_type": "markdown",
   "id": "1283b1cb",
   "metadata": {},
   "source": [
    "####  calculate your age in months use the f string to print ?"
   ]
  },
  {
   "cell_type": "code",
   "execution_count": 191,
   "id": "ac2b3a01",
   "metadata": {},
   "outputs": [
    {
     "name": "stdout",
     "output_type": "stream",
     "text": [
      "Enter your age: 24\n",
      "You have lived for 288 months.\n"
     ]
    }
   ],
   "source": [
    "age = int(input('Enter your age: ')) # Enter 3\n",
    "print(f'You have lived for {age * 12} months.') # Prints You have lived for 36 months.\n"
   ]
  },
  {
   "cell_type": "code",
   "execution_count": 39,
   "id": "8be7950d",
   "metadata": {},
   "outputs": [
    {
     "name": "stdout",
     "output_type": "stream",
     "text": [
      "Enter your age: 24\n",
      "You have lived for 288 months.\n"
     ]
    }
   ],
   "source": [
    "age = int(input('Enter your age: ')) # Enter 3\n",
    "months = age * 12\n",
    "print(f'You have lived for {months} months.') # Prints You have lived for 36 months.\n"
   ]
  },
  {
   "cell_type": "markdown",
   "id": "8bd7a71e",
   "metadata": {},
   "source": [
    "### A small exercise: calculate number of seconds lived instead of months! ?\n"
   ]
  },
  {
   "cell_type": "code",
   "execution_count": 5,
   "id": "6b61eadf",
   "metadata": {},
   "outputs": [
    {
     "name": "stdout",
     "output_type": "stream",
     "text": [
      "enter age19\n",
      "my age is 599184000 in seconds\n"
     ]
    }
   ],
   "source": [
    "age=int(input('enter age'))\n",
    "print(f'my age is {age*365*24*60*60} in seconds')"
   ]
  },
  {
   "cell_type": "code",
   "execution_count": 7,
   "id": "63ddae5a",
   "metadata": {},
   "outputs": [
    {
     "name": "stdout",
     "output_type": "stream",
     "text": [
      "deepanshu123466789\n"
     ]
    }
   ],
   "source": [
    "name='deepanshu123466789'\n",
    "\n",
    "surname='VERMA'\n",
    "                                 \n",
    "# print(len(name)) # to check the length of string\n",
    "# print(len(surname))\n",
    "# print(name[0])\n",
    "# print(name[0:10])\n",
    "# print(name[-2])\n",
    "# print(name[-5:])\n",
    "# print(name[:10])\n",
    "print(name[:])\n"
   ]
  },
  {
   "cell_type": "code",
   "execution_count": 32,
   "id": "5553a96d",
   "metadata": {},
   "outputs": [
    {
     "ename": "TypeError",
     "evalue": "'str' object does not support item assignment",
     "output_type": "error",
     "traceback": [
      "\u001b[1;31m---------------------------------------------------------------------------\u001b[0m",
      "\u001b[1;31mTypeError\u001b[0m                                 Traceback (most recent call last)",
      "\u001b[1;32m<ipython-input-32-902af9408672>\u001b[0m in \u001b[0;36m<module>\u001b[1;34m\u001b[0m\n\u001b[0;32m      2\u001b[0m \u001b[0ma\u001b[0m\u001b[1;33m=\u001b[0m\u001b[1;34m'deepanshu'\u001b[0m\u001b[1;33m\u001b[0m\u001b[1;33m\u001b[0m\u001b[0m\n\u001b[0;32m      3\u001b[0m \u001b[1;33m\u001b[0m\u001b[0m\n\u001b[1;32m----> 4\u001b[1;33m \u001b[0ma\u001b[0m\u001b[1;33m[\u001b[0m\u001b[1;36m0\u001b[0m\u001b[1;33m]\u001b[0m\u001b[1;33m=\u001b[0m\u001b[1;34m'D'\u001b[0m\u001b[1;33m\u001b[0m\u001b[1;33m\u001b[0m\u001b[0m\n\u001b[0m\u001b[0;32m      5\u001b[0m \u001b[0mprint\u001b[0m\u001b[1;33m(\u001b[0m\u001b[0ma\u001b[0m\u001b[1;33m)\u001b[0m\u001b[1;33m\u001b[0m\u001b[1;33m\u001b[0m\u001b[0m\n",
      "\u001b[1;31mTypeError\u001b[0m: 'str' object does not support item assignment"
     ]
    }
   ],
   "source": [
    "# checking immutability\n",
    "a='deepanshu'\n",
    "\n",
    "a[0]='D'\n",
    "print(a)"
   ]
  },
  {
   "cell_type": "code",
   "execution_count": 34,
   "id": "d5715474",
   "metadata": {},
   "outputs": [],
   "source": [
    "name='deepanshu123466789'"
   ]
  },
  {
   "cell_type": "code",
   "execution_count": 35,
   "id": "3df677ad",
   "metadata": {},
   "outputs": [
    {
     "name": "stdout",
     "output_type": "stream",
     "text": [
      "s\n"
     ]
    }
   ],
   "source": [
    "print(name[6]) # indexing"
   ]
  },
  {
   "cell_type": "code",
   "execution_count": 25,
   "id": "740ca154",
   "metadata": {},
   "outputs": [
    {
     "name": "stdout",
     "output_type": "stream",
     "text": [
      "u\n",
      "6\n"
     ]
    }
   ],
   "source": [
    "print(name[8])\n",
    "print(name[13])"
   ]
  },
  {
   "cell_type": "code",
   "execution_count": 26,
   "id": "d21f21e0",
   "metadata": {},
   "outputs": [
    {
     "name": "stdout",
     "output_type": "stream",
     "text": [
      "pan\n"
     ]
    }
   ],
   "source": [
    "print(name[3:6]) # slicing last index excluded"
   ]
  },
  {
   "cell_type": "code",
   "execution_count": 36,
   "id": "96bccedc",
   "metadata": {},
   "outputs": [
    {
     "ename": "IndexError",
     "evalue": "string index out of range",
     "output_type": "error",
     "traceback": [
      "\u001b[1;31m---------------------------------------------------------------------------\u001b[0m",
      "\u001b[1;31mIndexError\u001b[0m                                Traceback (most recent call last)",
      "\u001b[1;32m<ipython-input-36-b5c6ae5f9ed0>\u001b[0m in \u001b[0;36m<module>\u001b[1;34m\u001b[0m\n\u001b[1;32m----> 1\u001b[1;33m \u001b[0mprint\u001b[0m\u001b[1;33m(\u001b[0m\u001b[0mname\u001b[0m\u001b[1;33m[\u001b[0m\u001b[1;36m100000000000\u001b[0m\u001b[1;33m]\u001b[0m\u001b[1;33m)\u001b[0m\u001b[1;33m\u001b[0m\u001b[1;33m\u001b[0m\u001b[0m\n\u001b[0m",
      "\u001b[1;31mIndexError\u001b[0m: string index out of range"
     ]
    }
   ],
   "source": [
    "print(name[100000000000])"
   ]
  },
  {
   "cell_type": "code",
   "execution_count": 37,
   "id": "af3a8ad3",
   "metadata": {},
   "outputs": [
    {
     "name": "stdout",
     "output_type": "stream",
     "text": [
      "shu123466789\n"
     ]
    }
   ],
   "source": [
    "print(name[6:1000000000000000000000000000000000000]) #slicing"
   ]
  },
  {
   "cell_type": "code",
   "execution_count": 201,
   "id": "f534d9cd",
   "metadata": {},
   "outputs": [
    {
     "name": "stdout",
     "output_type": "stream",
     "text": [
      "9\n"
     ]
    }
   ],
   "source": [
    "print(name[-1:])"
   ]
  },
  {
   "cell_type": "code",
   "execution_count": 202,
   "id": "acf3e276",
   "metadata": {},
   "outputs": [
    {
     "name": "stdout",
     "output_type": "stream",
     "text": [
      "deepanshu123466\n"
     ]
    }
   ],
   "source": [
    "print(name[:-3])"
   ]
  },
  {
   "cell_type": "code",
   "execution_count": 203,
   "id": "dfd40aa6",
   "metadata": {},
   "outputs": [
    {
     "name": "stdout",
     "output_type": "stream",
     "text": [
      "987664321uhsnapeed\n"
     ]
    }
   ],
   "source": [
    "print(name[::-1])"
   ]
  },
  {
   "cell_type": "code",
   "execution_count": 11,
   "id": "22fdac5d",
   "metadata": {},
   "outputs": [
    {
     "name": "stdout",
     "output_type": "stream",
     "text": [
      "667\n"
     ]
    }
   ],
   "source": [
    "print(name[-5:-2]) # slicing"
   ]
  },
  {
   "cell_type": "code",
   "execution_count": 12,
   "id": "bdaaafc9",
   "metadata": {},
   "outputs": [
    {
     "name": "stdout",
     "output_type": "stream",
     "text": [
      "987664321uhsnapeed\n"
     ]
    }
   ],
   "source": [
    "print(name[::-1]) # reverse of stirng"
   ]
  },
  {
   "cell_type": "code",
   "execution_count": 205,
   "id": "552440a0",
   "metadata": {},
   "outputs": [
    {
     "name": "stdout",
     "output_type": "stream",
     "text": [
      "DEEPANSHU123466789\n"
     ]
    }
   ],
   "source": [
    "print(name.upper())"
   ]
  },
  {
   "cell_type": "code",
   "execution_count": 204,
   "id": "b80d9ff4",
   "metadata": {},
   "outputs": [
    {
     "name": "stdout",
     "output_type": "stream",
     "text": [
      "verma\n"
     ]
    }
   ],
   "source": [
    "print(surname.lower())"
   ]
  },
  {
   "cell_type": "code",
   "execution_count": 206,
   "id": "79a8bcb4",
   "metadata": {},
   "outputs": [
    {
     "name": "stdout",
     "output_type": "stream",
     "text": [
      "2\n"
     ]
    }
   ],
   "source": [
    "print(name.count('e'))"
   ]
  },
  {
   "cell_type": "code",
   "execution_count": 208,
   "id": "7336b975",
   "metadata": {},
   "outputs": [
    {
     "name": "stdout",
     "output_type": "stream",
     "text": [
      "8\n"
     ]
    }
   ],
   "source": [
    "print(name.find('u'))"
   ]
  },
  {
   "cell_type": "code",
   "execution_count": 209,
   "id": "1f482ffd",
   "metadata": {},
   "outputs": [
    {
     "name": "stdout",
     "output_type": "stream",
     "text": [
      "Deepanshu123466789\n"
     ]
    }
   ],
   "source": [
    "print(name.replace('d','D'))"
   ]
  },
  {
   "cell_type": "code",
   "execution_count": 210,
   "id": "bd473a3f",
   "metadata": {},
   "outputs": [
    {
     "name": "stdout",
     "output_type": "stream",
     "text": [
      "False\n"
     ]
    }
   ],
   "source": [
    "print(name.isalpha())\n"
   ]
  },
  {
   "cell_type": "code",
   "execution_count": 171,
   "id": "d04989e7",
   "metadata": {},
   "outputs": [
    {
     "name": "stdout",
     "output_type": "stream",
     "text": [
      "True\n"
     ]
    }
   ],
   "source": [
    "a='1234'\n",
    "print(a.isdigit())"
   ]
  },
  {
   "cell_type": "code",
   "execution_count": 74,
   "id": "d15ceb68",
   "metadata": {},
   "outputs": [
    {
     "name": "stdout",
     "output_type": "stream",
     "text": [
      "True\n",
      "False\n",
      "True\n",
      "deeaanshu123\n",
      "npanshu123\n"
     ]
    }
   ],
   "source": [
    "b='deepanshu123'\n",
    "print(b.isalnum()) #t\n",
    "print(b.isupper()) #f\n",
    "print(b.islower()) #t\n",
    "print(b.replace('p','a'))\n",
    "print(b.replace(b[0:3],'n'))"
   ]
  },
  {
   "cell_type": "markdown",
   "id": "62d4231c",
   "metadata": {},
   "source": [
    "### String functions"
   ]
  },
  {
   "cell_type": "code",
   "execution_count": 59,
   "id": "3f14f7ce",
   "metadata": {},
   "outputs": [
    {
     "name": "stdout",
     "output_type": "stream",
     "text": [
      "god yzal eht revo spmuj xof nworb kciuq a\n",
      "gzhvmooca\n",
      "------------------------------------------\n",
      "ick brown fox jum\n",
      "revo spmuj xof\n"
     ]
    }
   ],
   "source": [
    "mystr='a quick brown fox jumps over the lazy dog'\n",
    "# print(len(mystr))\n",
    "# print(mystr[5])\n",
    "# print(mystr[7])\n",
    "# print(mystr[0:4])\n",
    "# print(mystr[:21])\n",
    "# print(mystr[0:41])\n",
    "# print(mystr[0:])\n",
    "# print(mystr[100])\n",
    "# print(mystr[30])\n",
    "# print(mystr[0:100])\n",
    "# print(mystr[100:0])\n",
    "# print(mystr[0:42:2])\n",
    "# print(mystr[0:42:10])\n",
    "# print(mystr[0:42:100])\n",
    "# print(mystr[::])\n",
    "# print(mystr[0:41:1])\n",
    "# print(mystr[::1])\n",
    "# print(mystr[::2])\n",
    "# print(mystr[::50])\n",
    "# print(mystr[19:5])\n",
    "# print(mystr[19:-5])\n",
    "# # print(mystr[-3])\n",
    "# print(mystr[-3:])\n",
    "# print(mystr[0:-3])\n",
    "# print(mystr[-3:-2])\n",
    "# print(mystr[-27:-24])\n",
    "# print(mystr[-3:-11])\n",
    "# print(mystr[14:17])\n",
    "print(mystr[::-1])\n",
    "print(mystr[::-5])\n",
    "print('------------------------------------------')\n",
    "print(mystr[4:21])\n",
    "mystr[14:28]\n"
   ]
  },
  {
   "cell_type": "code",
   "execution_count": 325,
   "id": "7b2c410c",
   "metadata": {},
   "outputs": [],
   "source": [
    "mystr='a quick brown fox jumps over a lazy dog'"
   ]
  },
  {
   "cell_type": "code",
   "execution_count": 322,
   "id": "44ee2023",
   "metadata": {},
   "outputs": [
    {
     "name": "stdout",
     "output_type": "stream",
     "text": [
      "4\n"
     ]
    }
   ],
   "source": [
    "# count\n",
    "print(mystr.count('o')) # to count the particular character in a string"
   ]
  },
  {
   "cell_type": "code",
   "execution_count": 326,
   "id": "ca5e6850",
   "metadata": {},
   "outputs": [
    {
     "name": "stdout",
     "output_type": "stream",
     "text": [
      "A quick brown fox jumps over a lazy dog\n"
     ]
    }
   ],
   "source": [
    "#capitalize\n",
    "print(mystr.capitalize())"
   ]
  },
  {
   "cell_type": "code",
   "execution_count": 85,
   "id": "21ea8e26",
   "metadata": {},
   "outputs": [
    {
     "name": "stdout",
     "output_type": "stream",
     "text": [
      "8\n",
      "8\n"
     ]
    }
   ],
   "source": [
    "#find\n",
    "# print(mystr.find('o'))\n",
    "# print(mystr.find('do'))\n",
    "# print(mystr.find('#$%^&*((*&^%$))'))\n",
    "print(mystr.find('br'))\n",
    "print(mystr.find('br'))"
   ]
  },
  {
   "cell_type": "code",
   "execution_count": 56,
   "id": "08445374",
   "metadata": {},
   "outputs": [
    {
     "name": "stdout",
     "output_type": "stream",
     "text": [
      "10\n",
      "10\n"
     ]
    }
   ],
   "source": [
    "print(mystr.index('o'))\n",
    "print(mystr.find('o'))"
   ]
  },
  {
   "cell_type": "code",
   "execution_count": 92,
   "id": "734d3ae8",
   "metadata": {},
   "outputs": [
    {
     "name": "stdout",
     "output_type": "stream",
     "text": [
      "False\n",
      "True\n",
      "True\n",
      "True\n",
      "True\n",
      "False\n"
     ]
    }
   ],
   "source": [
    "mystr='a quick brown fox jumps over a lazy dog'\n",
    "mystr1='aquickbrownfoxjumpsoverthelazydog'\n",
    "mystr2='12345678967'\n",
    "mystr3='deepanshu2022'\n",
    "mystr4=' '\n",
    "print(mystr.isalpha())\n",
    "print(mystr1.isalpha())\n",
    "print(mystr2.isdigit())\n",
    "print(mystr3.isalnum())\n",
    "print(mystr4.isspace())\n",
    "print(mystr.isspace())\n",
    "\n"
   ]
  },
  {
   "cell_type": "code",
   "execution_count": 20,
   "id": "eb47015f",
   "metadata": {},
   "outputs": [],
   "source": [
    "mystr='a quick brown fox jumps over a lazy dog'\n",
    "\n"
   ]
  },
  {
   "cell_type": "code",
   "execution_count": 95,
   "id": "70c1e447",
   "metadata": {},
   "outputs": [
    {
     "name": "stdout",
     "output_type": "stream",
     "text": [
      "A QUICK BROWN FOX JUMPS OVER A LAZY DOG\n",
      "A QUICK BROWN FOX JUMPS OVER A LAZY DOG\n",
      "a quick brown fox jumps over a lazy dog\n",
      "A QUICK BROWN FOX JUMPS OVER A LAZY DOG\n",
      "False\n"
     ]
    }
   ],
   "source": [
    "print(mystr.upper())\n",
    "abc=mystr.upper()\n",
    "print(abc)\n",
    "print(abc.lower())\n",
    "print(abc.upper())\n",
    "print(abc.islower())\n",
    "# print(abc.isupper())\n",
    "\n"
   ]
  },
  {
   "cell_type": "code",
   "execution_count": 10,
   "id": "d5fc378a",
   "metadata": {},
   "outputs": [
    {
     "name": "stdout",
     "output_type": "stream",
     "text": [
      "True\n",
      "False\n",
      "True\n"
     ]
    }
   ],
   "source": [
    "name='Deepanshu Verma'\n",
    "name1='deepanshu'\n",
    "string=' '\n",
    "# print(name.iscapitalize())\n",
    "print(name.istitle()) # checks the first word  is capita or not\n",
    "print(name1.istitle())\n",
    "print(string.isspace())\n"
   ]
  },
  {
   "cell_type": "code",
   "execution_count": 23,
   "id": "b46949ad",
   "metadata": {},
   "outputs": [
    {
     "name": "stdout",
     "output_type": "stream",
     "text": [
      "a quick brown fox jumps over a lazy dog\n"
     ]
    }
   ],
   "source": [
    "print(mystr)"
   ]
  },
  {
   "cell_type": "code",
   "execution_count": 99,
   "id": "b63185fd",
   "metadata": {},
   "outputs": [
    {
     "name": "stdout",
     "output_type": "stream",
     "text": [
      "a  brown fox jumps over a lazy dog\n"
     ]
    }
   ],
   "source": [
    "# print(mystr.replace('quick','jaldi'))\n",
    "print(mystr.replace('quick',' '))"
   ]
  },
  {
   "cell_type": "code",
   "execution_count": 26,
   "id": "9c80dff4",
   "metadata": {},
   "outputs": [
    {
     "name": "stdout",
     "output_type": "stream",
     "text": [
      "upper\n",
      "LOWER\n"
     ]
    }
   ],
   "source": [
    "xyz='UPPER'\n",
    "abc='lower'\n",
    "print(xyz.swapcase())\n",
    "print(abc.swapcase())\n"
   ]
  },
  {
   "cell_type": "code",
   "execution_count": 103,
   "id": "3d2cb9e1",
   "metadata": {},
   "outputs": [
    {
     "name": "stdout",
     "output_type": "stream",
     "text": [
      "['a', 'quick', 'brown', 'fox', 'jumps', 'over', 'a', 'lazy', 'dog']\n",
      "['a', 'quick', 'brown', 'fox', 'jumps', 'over', 'the', 'lazy', 'dog']\n",
      "['a', 'quick', 'brown', 'fox', 'jumps', 'over', 'the', 'lazy', 'dog']\n",
      "['aquickbrownfoxjumpsoverthelazydog']\n"
     ]
    }
   ],
   "source": [
    "mystr3='a quick brown fox jumps over the lazy dog'\n",
    "mystr2='a,quick,brown,fox,jumps,over,the,lazy,dog'\n",
    "mystr1='aquickbrownfoxjumpsoverthelazydog'\n",
    "\n",
    "print(mystr.split())\n",
    "print(mystr3.split(' '))\n",
    "print(mystr2.split(','))\n",
    "print(mystr1.split())"
   ]
  },
  {
   "cell_type": "code",
   "execution_count": 34,
   "id": "a84cd5e0",
   "metadata": {},
   "outputs": [
    {
     "name": "stdout",
     "output_type": "stream",
     "text": [
      "a quick brown fox jumps over a lazy dog\n"
     ]
    }
   ],
   "source": [
    "print(mystr)"
   ]
  },
  {
   "cell_type": "code",
   "execution_count": 109,
   "id": "2a0ebf5b",
   "metadata": {},
   "outputs": [
    {
     "name": "stdout",
     "output_type": "stream",
     "text": [
      "a quick brown fox jumps over a lazy \n",
      " quick brown fox jumps over a lazy dog\n",
      "a quick brown fox jumps over a lazy dog\n",
      "True\n",
      "True\n"
     ]
    }
   ],
   "source": [
    "# strip function prints the string after removing the from beginning and end\n",
    "# a quick brown fox jumps over a lazy dog\n",
    "print(mystr.strip(\"dog\"))\n",
    "print(mystr.strip('a'))\n",
    "print(mystr.strip('fox'))\n",
    "print(mystr.endswith('dog'))\n",
    "print(mystr.startswith('a'))"
   ]
  },
  {
   "cell_type": "code",
   "execution_count": 12,
   "id": "376c3803",
   "metadata": {},
   "outputs": [
    {
     "name": "stdout",
     "output_type": "stream",
     "text": [
      "2\n"
     ]
    }
   ],
   "source": [
    "email='abcc@123.com'\n",
    "c=0\n",
    "for i in email:\n",
    "    if i.isalpha() or i.isdigit():\n",
    "        pass\n",
    "    else:\n",
    "        c+=1\n",
    "print(c)"
   ]
  }
 ],
 "metadata": {
  "kernelspec": {
   "display_name": "Python 3",
   "language": "python",
   "name": "python3"
  },
  "language_info": {
   "codemirror_mode": {
    "name": "ipython",
    "version": 3
   },
   "file_extension": ".py",
   "mimetype": "text/x-python",
   "name": "python",
   "nbconvert_exporter": "python",
   "pygments_lexer": "ipython3",
   "version": "3.8.8"
  }
 },
 "nbformat": 4,
 "nbformat_minor": 5
}
