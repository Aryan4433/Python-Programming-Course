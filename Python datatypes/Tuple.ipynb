{
 "cells": [
  {
   "cell_type": "markdown",
   "id": "36ad1511",
   "metadata": {},
   "source": [
    "# Tuples\n",
    "- What is a Tuple? \n",
    "\n",
    "A Tuple is a collection of Python objects like integer, floating number, strings which are separated by commas. In some ways, a tuple is similar to a list in terms of indexing, nested objects, and repetition but a tuple is immutable, unlike lists that are mutable."
   ]
  },
  {
   "cell_type": "code",
   "execution_count": 15,
   "id": "27193034",
   "metadata": {},
   "outputs": [
    {
     "name": "stdout",
     "output_type": "stream",
     "text": [
      "<class 'str'>\n"
     ]
    }
   ],
   "source": [
    "t=('deepanshu')\n",
    "print(type(t))"
   ]
  },
  {
   "cell_type": "code",
   "execution_count": 2,
   "id": "d1e06928",
   "metadata": {},
   "outputs": [
    {
     "name": "stdout",
     "output_type": "stream",
     "text": [
      "<class 'tuple'>\n"
     ]
    }
   ],
   "source": [
    "t=('deepanshu',)\n",
    "print(type(t))"
   ]
  },
  {
   "cell_type": "code",
   "execution_count": 17,
   "id": "9083c460",
   "metadata": {},
   "outputs": [
    {
     "name": "stdout",
     "output_type": "stream",
     "text": [
      "<class 'str'>\n"
     ]
    }
   ],
   "source": [
    "t='deepanshu''verma'\n",
    "print(type(t))"
   ]
  },
  {
   "cell_type": "code",
   "execution_count": 18,
   "id": "da316f23",
   "metadata": {},
   "outputs": [
    {
     "name": "stdout",
     "output_type": "stream",
     "text": [
      "<class 'str'>\n"
     ]
    }
   ],
   "source": [
    "t='deep,ans,hu'\n",
    "print(type(t))"
   ]
  },
  {
   "cell_type": "code",
   "execution_count": 3,
   "id": "65e4c5d8",
   "metadata": {},
   "outputs": [
    {
     "name": "stdout",
     "output_type": "stream",
     "text": [
      "<class 'tuple'>\n"
     ]
    }
   ],
   "source": [
    "t='deep','ans','hu',\n",
    "print(type(t))"
   ]
  },
  {
   "cell_type": "code",
   "execution_count": 19,
   "id": "3887afca",
   "metadata": {},
   "outputs": [
    {
     "name": "stdout",
     "output_type": "stream",
     "text": [
      "<class 'tuple'>\n"
     ]
    }
   ],
   "source": [
    "t=(1,2,3,4,5)\n",
    "print(type(t))"
   ]
  },
  {
   "cell_type": "code",
   "execution_count": 20,
   "id": "c7a33d4e",
   "metadata": {},
   "outputs": [
    {
     "name": "stdout",
     "output_type": "stream",
     "text": [
      "<class 'tuple'>\n"
     ]
    }
   ],
   "source": [
    "t=1,2,3,4,5\n",
    "print(type(t))"
   ]
  },
  {
   "cell_type": "code",
   "execution_count": 7,
   "id": "fdce8f79",
   "metadata": {},
   "outputs": [],
   "source": [
    "tup=('a', 'quick', 'brown', 'fox', 'jumps', 'over', 'the', 'lazy', 'dog')\n",
    "# print(type(tup),tup)\n",
    "# print(len(tup))\n",
    "# print(tup[5])\n",
    "# print(tup[7])\n",
    "# print(tup[0:4])\n",
    "# print(tup[:21])\n",
    "# print(tup[0:41])\n",
    "# print(tup[0:])\n",
    "# print(tup[100])\n",
    "# print(tup[0:100])\n",
    "# print(tup[100:0])\n",
    "# print(tup[0:42:2])\n",
    "# print(tup[0:42:10])\n",
    "# print(tup[0:42:100])\n",
    "# print(tup[::])\n",
    "# print(tup[0:41:1])\n",
    "# print(tup[::1])\n",
    "# print(tup[::2])\n",
    "# print(tup[::50])\n",
    "# print(tup[19:25])\n",
    "# print(tup[19:])\n",
    "# print(tup[1:200])\n",
    "# print(tup[19:-5])\n",
    "# print(tup[-3])\n",
    "# print(tup[-3:])\n",
    "# print(tup[0:-3])\n",
    "# print(tup[0:-3:2])\n",
    "# print(tup[-3:-2])\n",
    "# print(tup[-27:-24])\n",
    "# print(tup[-3:-11])\n",
    "# print(tup[14:17])\n",
    "# print(tup[::-1])\n",
    "# print(tup[::-5])"
   ]
  },
  {
   "cell_type": "code",
   "execution_count": 21,
   "id": "e758ae20",
   "metadata": {},
   "outputs": [
    {
     "name": "stdout",
     "output_type": "stream",
     "text": [
      "('a', 'over')\n",
      "('dog', 'fox')\n"
     ]
    }
   ],
   "source": [
    "tup=('a', 'quick', 'brown', 'fox', 'jumps', 'over', 'the', 'lazy', 'dog')\n",
    "# print(tup[19:25])\n",
    "# print(tup[19:])\n",
    "# print(tup[1:200])\n",
    "# print(tup[19:-5])\n",
    "# print(tup[:-5])\n",
    "# print(tup[-3])\n",
    "# print(tup[-3:])\n",
    "# print(tup[0:-3])\n",
    "# print(tup[0:-3:2])\n",
    "# print(tup[-3:-2])\n",
    "# print(tup[-27:-24])\n",
    "# print(tup[-3:-11])\n",
    "# print(tup[-3:-3])\n",
    "# print(tup[14:17])\n",
    "# print(tup[::-1])\n",
    "# print(tup[::5])\n",
    "# print(tup[::-5])"
   ]
  },
  {
   "cell_type": "markdown",
   "id": "94f03b8f",
   "metadata": {},
   "source": [
    "### tuple functions"
   ]
  },
  {
   "cell_type": "code",
   "execution_count": 22,
   "id": "e0eb2c2c",
   "metadata": {},
   "outputs": [],
   "source": [
    "# Packing and unpacking of tuples\n",
    "tup=('a', 'quick', 'brown', 'fox', 'jumps', 'over', 'the', 'lazy', 'dog') # packing of tuple\n",
    "a,b,c,d,e,f,g,h,i=tup # unpacking  tuple"
   ]
  },
  {
   "cell_type": "code",
   "execution_count": 23,
   "id": "9045b16a",
   "metadata": {},
   "outputs": [],
   "source": [
    "# a,b,c,d,e,f,g,h,i='a', 'quick', 'brown', 'fox', 'jumps', 'over', 'the', 'lazy', 'dog'"
   ]
  },
  {
   "cell_type": "code",
   "execution_count": 23,
   "id": "00838d3c",
   "metadata": {},
   "outputs": [
    {
     "name": "stdout",
     "output_type": "stream",
     "text": [
      "a\n",
      "<class 'str'> quick\n",
      "brown\n",
      "fox\n",
      "jumps\n",
      "over\n",
      "the\n",
      "lazy\n",
      "dog\n"
     ]
    }
   ],
   "source": [
    "print(a)\n",
    "print(type(b),b)\n",
    "print(c)\n",
    "print(d)\n",
    "print(e)\n",
    "print(f)\n",
    "print(g)\n",
    "print(h)\n",
    "print(i)"
   ]
  },
  {
   "cell_type": "code",
   "execution_count": 25,
   "id": "0034228b",
   "metadata": {},
   "outputs": [],
   "source": [
    "# modifying tuples"
   ]
  },
  {
   "cell_type": "code",
   "execution_count": 26,
   "id": "9e085271",
   "metadata": {},
   "outputs": [],
   "source": [
    "b='jaldi'\n",
    "i='cat'"
   ]
  },
  {
   "cell_type": "code",
   "execution_count": 27,
   "id": "292e3c85",
   "metadata": {},
   "outputs": [
    {
     "name": "stdout",
     "output_type": "stream",
     "text": [
      "('a', 'jaldi', 'brown', 'fox', 'jumps', 'over', 'the', 'lazy', 'cat')\n"
     ]
    }
   ],
   "source": [
    "t=(a,b,c,d,e,f,g,h,i) # packing the tuple\n",
    "print(t)"
   ]
  },
  {
   "cell_type": "code",
   "execution_count": 47,
   "id": "636ec9a7",
   "metadata": {},
   "outputs": [
    {
     "ename": "TypeError",
     "evalue": "'tuple' object does not support item assignment",
     "output_type": "error",
     "traceback": [
      "\u001b[1;31m---------------------------------------------------------------------------\u001b[0m",
      "\u001b[1;31mTypeError\u001b[0m                                 Traceback (most recent call last)",
      "\u001b[1;32m<ipython-input-47-5dea5bcf136e>\u001b[0m in \u001b[0;36m<module>\u001b[1;34m\u001b[0m\n\u001b[0;32m      1\u001b[0m \u001b[1;31m# CHECKING MUTABILITY\u001b[0m\u001b[1;33m\u001b[0m\u001b[1;33m\u001b[0m\u001b[1;33m\u001b[0m\u001b[0m\n\u001b[1;32m----> 2\u001b[1;33m \u001b[0mt\u001b[0m\u001b[1;33m[\u001b[0m\u001b[1;36m1\u001b[0m\u001b[1;33m]\u001b[0m\u001b[1;33m=\u001b[0m\u001b[1;34m'quick'\u001b[0m\u001b[1;33m\u001b[0m\u001b[1;33m\u001b[0m\u001b[0m\n\u001b[0m\u001b[0;32m      3\u001b[0m \u001b[0mprint\u001b[0m\u001b[1;33m(\u001b[0m\u001b[0mt\u001b[0m\u001b[1;33m)\u001b[0m\u001b[1;33m\u001b[0m\u001b[1;33m\u001b[0m\u001b[0m\n",
      "\u001b[1;31mTypeError\u001b[0m: 'tuple' object does not support item assignment"
     ]
    }
   ],
   "source": [
    "# CHECKING MUTABILITY\n",
    "t[1]='quick'\n",
    "print(t)"
   ]
  },
  {
   "cell_type": "code",
   "execution_count": 27,
   "id": "084ab22f",
   "metadata": {},
   "outputs": [
    {
     "name": "stdout",
     "output_type": "stream",
     "text": [
      "<class 'str'>\n",
      "('a', ' ', 'q', 'u', 'i', 'c', 'k', ' ', 'b', 'r', 'o', 'w', 'n', ' ', 'f', 'o', 'x', ' ', 'j', 'u', 'm', 'p', 's', ' ', 'o', 'v', 'e', 'r', ' ', 't', 'h', 'e', ' ', 'l', 'a', 'z', 'y', ' ', 'd', 'o', 'g')\n",
      "<class 'tuple'>\n"
     ]
    }
   ],
   "source": [
    "mystr='a quick brown fox jumps over the lazy dog'\n",
    "print(type(mystr))\n",
    "TUP=tuple(mystr)\n",
    "print(TUP)\n",
    "print(type(TUP))\n"
   ]
  },
  {
   "cell_type": "code",
   "execution_count": 29,
   "id": "ed1beaae",
   "metadata": {},
   "outputs": [
    {
     "name": "stdout",
     "output_type": "stream",
     "text": [
      "('deepanshu', 'verma', 'verma', 'deepanshu')\n",
      "('verma', 'deepanshu', 'deepanshu', 'verma')\n"
     ]
    }
   ],
   "source": [
    "# conactenation\n",
    "tup1=('deepanshu','verma')\n",
    "tup2=('verma','deepanshu')\n",
    "print(tup1+tup2)\n",
    "print(tup2+tup1)"
   ]
  },
  {
   "cell_type": "code",
   "execution_count": 30,
   "id": "9a94fd95",
   "metadata": {},
   "outputs": [
    {
     "name": "stdout",
     "output_type": "stream",
     "text": [
      "('deepanshu', 'verma', 'deepanshu', 'verma')\n",
      "('verma', 'deepanshu', 'verma', 'deepanshu', 'verma', 'deepanshu', 'verma', 'deepanshu', 'verma', 'deepanshu', 'verma', 'deepanshu', 'verma', 'deepanshu', 'verma', 'deepanshu', 'verma', 'deepanshu', 'verma', 'deepanshu')\n",
      "20\n"
     ]
    }
   ],
   "source": [
    "# Repetition of tuple\n",
    "tup1=('deepanshu','verma')\n",
    "tup2=('verma','deepanshu')\n",
    "print(tup1*2)\n",
    "print(tup2*10)\n",
    "print(len(tup2*10))"
   ]
  },
  {
   "cell_type": "code",
   "execution_count": 31,
   "id": "66336dfc",
   "metadata": {},
   "outputs": [
    {
     "name": "stdout",
     "output_type": "stream",
     "text": [
      "(1, 2, 3, 4, 5, 1, 2, 3, 4, 5)\n"
     ]
    }
   ],
   "source": [
    "t=(1,2,3,4,5)\n",
    "print(t*2)"
   ]
  },
  {
   "cell_type": "code",
   "execution_count": 32,
   "id": "541f9c60",
   "metadata": {},
   "outputs": [
    {
     "name": "stdout",
     "output_type": "stream",
     "text": [
      "('a', 'quick', 'brown', 'fox', 'jumps', 'over', 'the', 'lazy', 'dog')\n"
     ]
    }
   ],
   "source": [
    "print(tup)"
   ]
  },
  {
   "cell_type": "code",
   "execution_count": 47,
   "id": "7331f93a",
   "metadata": {},
   "outputs": [
    {
     "name": "stdout",
     "output_type": "stream",
     "text": [
      "7\n"
     ]
    }
   ],
   "source": [
    "print(tup.index('lazy'))"
   ]
  },
  {
   "cell_type": "code",
   "execution_count": 49,
   "id": "44c1707e",
   "metadata": {},
   "outputs": [
    {
     "name": "stdout",
     "output_type": "stream",
     "text": [
      "4\n"
     ]
    }
   ],
   "source": [
    "print(TUP.count('o'))"
   ]
  },
  {
   "cell_type": "code",
   "execution_count": 28,
   "id": "5f28f56e",
   "metadata": {},
   "outputs": [],
   "source": [
    "# delete\n",
    "del tup\n"
   ]
  },
  {
   "cell_type": "code",
   "execution_count": 31,
   "id": "e930c9bf",
   "metadata": {},
   "outputs": [
    {
     "name": "stdout",
     "output_type": "stream",
     "text": [
      "('a', 'quick', 'brown', 'fox', 'jumps', 'over', 'the', 'lazy', 'dog')\n"
     ]
    }
   ],
   "source": [
    "print(tup)"
   ]
  },
  {
   "cell_type": "code",
   "execution_count": 116,
   "id": "482ed318",
   "metadata": {},
   "outputs": [
    {
     "name": "stdout",
     "output_type": "stream",
     "text": [
      "['a', 'brown', 'dog', 'fox', 'jumps', 'lazy', 'over', 'quick', 'the']\n",
      "<class 'list'>\n"
     ]
    }
   ],
   "source": [
    "X=sorted(tup) # arrange in ascending order and return in a list\n",
    "print(X)\n",
    "print(type(X))"
   ]
  },
  {
   "cell_type": "code",
   "execution_count": 52,
   "id": "2fa37485",
   "metadata": {},
   "outputs": [
    {
     "name": "stdout",
     "output_type": "stream",
     "text": [
      "65\n"
     ]
    }
   ],
   "source": [
    "print(ord('A'))"
   ]
  },
  {
   "cell_type": "code",
   "execution_count": 53,
   "id": "994239fe",
   "metadata": {},
   "outputs": [
    {
     "name": "stdout",
     "output_type": "stream",
     "text": [
      "97\n"
     ]
    }
   ],
   "source": [
    "print(ord('a'))"
   ]
  },
  {
   "cell_type": "code",
   "execution_count": 118,
   "id": "adc211b5",
   "metadata": {},
   "outputs": [
    {
     "name": "stdout",
     "output_type": "stream",
     "text": [
      "['the', 'quick', 'over', 'lazy', 'jumps', 'fox', 'dog', 'brown', 'a']\n"
     ]
    }
   ],
   "source": [
    "X=sorted(X,reverse=True) # arrange in descending order and return in a list\n",
    "print(X)"
   ]
  },
  {
   "cell_type": "code",
   "execution_count": 49,
   "id": "626b3938",
   "metadata": {},
   "outputs": [
    {
     "name": "stdout",
     "output_type": "stream",
     "text": [
      "[1, 2, 3, 4, 5, 6, 7, 8, 9, 10]\n"
     ]
    }
   ],
   "source": [
    "t=(10,9,8,7,6,5,4,3,2,1)\n",
    "t=sorted(t)\n",
    "print(t)"
   ]
  },
  {
   "cell_type": "code",
   "execution_count": 67,
   "id": "ea53dbf9",
   "metadata": {},
   "outputs": [
    {
     "name": "stdout",
     "output_type": "stream",
     "text": [
      "[10, 9, 8, 7, 6, 5, 4, 3, 2, 1]\n"
     ]
    }
   ],
   "source": [
    "t=sorted(t,reverse=True) # descending order\n",
    "print(t)"
   ]
  },
  {
   "cell_type": "code",
   "execution_count": 70,
   "id": "8ae82197",
   "metadata": {},
   "outputs": [
    {
     "name": "stdout",
     "output_type": "stream",
     "text": [
      "97\n",
      "65\n"
     ]
    }
   ],
   "source": [
    "print(ord('a'))\n",
    "print(ord('A'))"
   ]
  },
  {
   "cell_type": "code",
   "execution_count": 50,
   "id": "8f8e4f81",
   "metadata": {},
   "outputs": [
    {
     "name": "stdout",
     "output_type": "stream",
     "text": [
      "['a', 'A']\n"
     ]
    }
   ],
   "source": [
    "tp=('A','a')\n",
    "tp=sorted(tp,reverse=True)\n",
    "print(tp)"
   ]
  },
  {
   "cell_type": "code",
   "execution_count": 52,
   "id": "11ca8a54",
   "metadata": {},
   "outputs": [
    {
     "name": "stdout",
     "output_type": "stream",
     "text": [
      "a\n"
     ]
    }
   ],
   "source": [
    "\n",
    "T=min(tup)\n",
    "print(T)"
   ]
  },
  {
   "cell_type": "code",
   "execution_count": 45,
   "id": "783a127f",
   "metadata": {},
   "outputs": [
    {
     "name": "stdout",
     "output_type": "stream",
     "text": [
      "1\n"
     ]
    }
   ],
   "source": [
    "t=(9,8,7,6,5,4,3,2,1)\n",
    "# print(t)\n",
    "x=min(t)\n",
    "print(x)"
   ]
  },
  {
   "cell_type": "code",
   "execution_count": 56,
   "id": "05ab9684",
   "metadata": {},
   "outputs": [
    {
     "name": "stdout",
     "output_type": "stream",
     "text": [
      "10\n"
     ]
    }
   ],
   "source": [
    "t=(10,9,8,7,6,5,4,3,2,1)\n",
    "\n",
    "y=max(t)\n",
    "print(y)"
   ]
  },
  {
   "cell_type": "code",
   "execution_count": 46,
   "id": "eeea5620",
   "metadata": {},
   "outputs": [
    {
     "name": "stdout",
     "output_type": "stream",
     "text": [
      "('a', 'quick', 'brown', 'fox', 'jumps', 'over', 'the', 'lazy', 'dog')\n"
     ]
    }
   ],
   "source": [
    "print(tup)"
   ]
  },
  {
   "cell_type": "code",
   "execution_count": 57,
   "id": "87343d23",
   "metadata": {},
   "outputs": [
    {
     "name": "stdout",
     "output_type": "stream",
     "text": [
      "55\n"
     ]
    }
   ],
   "source": [
    "print(sum(t))"
   ]
  },
  {
   "cell_type": "code",
   "execution_count": 119,
   "id": "7d7b0660",
   "metadata": {},
   "outputs": [
    {
     "name": "stdout",
     "output_type": "stream",
     "text": [
      "<class 'tuple'>\n"
     ]
    }
   ],
   "source": [
    "name=1,2\n",
    "print(type(name))"
   ]
  },
  {
   "cell_type": "code",
   "execution_count": 82,
   "id": "dbeceb9f",
   "metadata": {},
   "outputs": [],
   "source": [
    "# advance indexing and slicing"
   ]
  },
  {
   "cell_type": "code",
   "execution_count": 121,
   "id": "f9008798",
   "metadata": {},
   "outputs": [
    {
     "name": "stdout",
     "output_type": "stream",
     "text": [
      "7\n"
     ]
    }
   ],
   "source": [
    "print(len(x))"
   ]
  },
  {
   "cell_type": "code",
   "execution_count": 47,
   "id": "5c7c493b",
   "metadata": {},
   "outputs": [
    {
     "name": "stdout",
     "output_type": "stream",
     "text": [
      "7\n"
     ]
    }
   ],
   "source": [
    "x=((10,20,30),(40,50,60),(70,80,90),(11,22,33),(44,55,66),(77,88,99),(12,13,14)) # nested tuple\n",
    "# print(x)\n",
    "print(len(x))\n"
   ]
  },
  {
   "cell_type": "code",
   "execution_count": 154,
   "id": "441601fd",
   "metadata": {},
   "outputs": [
    {
     "name": "stdout",
     "output_type": "stream",
     "text": [
      "True\n"
     ]
    }
   ],
   "source": [
    "name='deepansu'\n",
    "print('d' in name)"
   ]
  },
  {
   "cell_type": "code",
   "execution_count": 51,
   "id": "eb00d125",
   "metadata": {},
   "outputs": [
    {
     "name": "stdout",
     "output_type": "stream",
     "text": [
      "False\n"
     ]
    }
   ],
   "source": [
    "x='deepanhsu',\n",
    "\n",
    "print('a' in x)"
   ]
  },
  {
   "cell_type": "code",
   "execution_count": 156,
   "id": "4c18538a",
   "metadata": {},
   "outputs": [
    {
     "name": "stdout",
     "output_type": "stream",
     "text": [
      "26 aquickbrownfxjmpsvethlzydg\n",
      "abcdefghijklmnopqrstuvwxyz\n"
     ]
    }
   ],
   "source": [
    "mystr='aquickbrownfoxjumpsoverthelazydog'\n",
    "st=''\n",
    "seq=''\n",
    "for i in mystr:\n",
    "    if i not in st:\n",
    "        st=st+i\n",
    "print(len(st),st)\n",
    "l=sorted(st)\n",
    "for j in l:\n",
    "    seq=seq+j\n",
    "print(seq)"
   ]
  },
  {
   "cell_type": "code",
   "execution_count": 69,
   "id": "cb4af749",
   "metadata": {},
   "outputs": [
    {
     "name": "stdout",
     "output_type": "stream",
     "text": [
      "((11, 22, 33), (44, 55, 66), (77, 88, 99), (12, 13, 14))\n",
      "(44, 55, 66)\n"
     ]
    }
   ],
   "source": [
    "x=((10,20,30),(40,50,60),(70,80,90),(11,22,33),(44,55,66),(77,88,99),(12,13,14)) \n",
    "# print(x[1])\n",
    "# print(x[0:])\n",
    "# print(x[:5])\n",
    "# print(x[1:5])\n",
    "# print(x[-4:])\n",
    "# print(x[:-4])\n",
    "# print(x[-4])\n",
    "# print(x[0:7:2])\n",
    "# print(x[3:][1])\n",
    "# print(x[-5:-3])\n",
    "# print(x[2:3])\n",
    "# print(x[2:3][0])\n",
    "# print(x[2:3][0][0])\n",
    "# print(x[2:3][0][0][1])\n",
    "# print(x[2:][2][2])\n",
    "# print(x[2:][2][3])\n",
    "# print(x[2:][2][100:1])\n",
    "# print(x[-4:])\n",
    "# print(x[-4:][1])\n",
    "# print(x[-4:][-1])\n",
    "# print(x[-4:][1][0])\n",
    "# print(x[-4:][3])\n",
    "# # print(x[-4:][3][2])\n",
    "# # print('-------------------------------------------------------------------')\n",
    "# # print(x[0:][2][1])\n",
    "# # print(x[2:3][0][1])\n",
    "# # print(x[-1:][0])\n",
    "# # print(x[-1:][0][0])\n",
    "# # print(x[-2:][1][0])\n",
    "# # print(x[0:][0][2])\n"
   ]
  },
  {
   "cell_type": "code",
   "execution_count": 8,
   "id": "df9fd1a0",
   "metadata": {},
   "outputs": [],
   "source": [
    "x=((10,20,30),(40,50,60),(70,80,90),(11,22,33),(44,55,66),(77,88,99),(12,13,14))\n",
    "# print(x[-4:][1][0])\n",
    "# print(x[-4:][3])\n",
    "# print(x[-4:][3][2])\n",
    "# print(x[0:][2][1])\n",
    "# print(x[2:3][0][1])\n",
    "# print(x[-1:][0])\n",
    "# print(x[-1:][0][0])\n",
    "# print(x[-2:][1][0])\n",
    "# print(x[0:][0][2])\n",
    "# print(x[2][3])\n",
    "# print(x[2:-4])\n",
    "# print(x[0:2][2][3])\n",
    "# print(x[2:][:2])\n",
    "# print(x[2:][:2][0][-1],x[-1])\n",
    "\n",
    "\n",
    "\n"
   ]
  }
 ],
 "metadata": {
  "kernelspec": {
   "display_name": "Python 3",
   "language": "python",
   "name": "python3"
  },
  "language_info": {
   "codemirror_mode": {
    "name": "ipython",
    "version": 3
   },
   "file_extension": ".py",
   "mimetype": "text/x-python",
   "name": "python",
   "nbconvert_exporter": "python",
   "pygments_lexer": "ipython3",
   "version": "3.8.8"
  }
 },
 "nbformat": 4,
 "nbformat_minor": 5
}
