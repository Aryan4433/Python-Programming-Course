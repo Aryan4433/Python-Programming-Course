{
 "cells": [
  {
   "cell_type": "code",
   "execution_count": 6,
   "id": "ca36a6e8",
   "metadata": {},
   "outputs": [
    {
     "name": "stdout",
     "output_type": "stream",
     "text": [
      "enter passwordAryan@3002\n",
      "Aryan@3002\n",
      "Password is saved!\n"
     ]
    }
   ],
   "source": [
    "# A website requires the users to input username and password to register. \n",
    "#Write a program to check the validity of password input by users. \n",
    "#Following are the criteria for checking the password: \n",
    "#1. At least 1 letter between [a-z] \n",
    "#2. At least 1 number between [0-9] \n",
    "#1. At least 1 letter between [A-Z] \n",
    "#3. At least 1 character from [$#@] \n",
    "#4. Minimum length of transaction password: 6 \n",
    "#5. Maximum length of transaction password: 12 \n",
    "#Your program should accept a sequence of comma separated passwords and will check them according to the above criteria.\n",
    "#Passwords that match the criteria are to be printed, each separated by a comma. \n",
    "#If the following passwords are given as input to the program: ABd1234@1,a F1#,2w3E*,2We3345 \n",
    "#Then, the output of the program should be: ABd1234@1 \n",
    "\n",
    "lower=0\n",
    "upper=0\n",
    "digit=0\n",
    "special_character=0\n",
    "password=input('enter password').split(',')\n",
    "for i in password:\n",
    "    if len(i)>=6 or len(i)<=12:\n",
    "        for j in i:\n",
    "            if j.islower():\n",
    "                lower=lower+1\n",
    "        \n",
    "            if j.isupper():\n",
    "                upper=upper+1\n",
    "            \n",
    "            if j.isdigit():\n",
    "                digit=digit+1\n",
    "            \n",
    "            if j=='@' or j=='$':\n",
    "                special_character=special_character+1\n",
    "            if lower>=1 and upper>=1 and digit>=1 and special_character>=1 and lower+upper+digit+special_character==len(i):\n",
    "                print(i)\n",
    "                print(\"Password is saved!\")\n",
    "            else:\n",
    "                pass\n",
    "        \n",
    "    "
   ]
  }
 ],
 "metadata": {
  "kernelspec": {
   "display_name": "Python 3",
   "language": "python",
   "name": "python3"
  },
  "language_info": {
   "codemirror_mode": {
    "name": "ipython",
    "version": 3
   },
   "file_extension": ".py",
   "mimetype": "text/x-python",
   "name": "python",
   "nbconvert_exporter": "python",
   "pygments_lexer": "ipython3",
   "version": "3.8.8"
  }
 },
 "nbformat": 4,
 "nbformat_minor": 5
}
