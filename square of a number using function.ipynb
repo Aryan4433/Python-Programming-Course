{
 "cells": [
  {
   "cell_type": "code",
   "execution_count": 3,
   "id": "5c9475b6",
   "metadata": {},
   "outputs": [
    {
     "name": "stdout",
     "output_type": "stream",
     "text": [
      "16\n"
     ]
    }
   ],
   "source": [
    "# Write a method which can calculate square value of number\n",
    "def square_root(num):\n",
    "    num=num**2\n",
    "    print(num)\n",
    "square_root(4)"
   ]
  }
 ],
 "metadata": {
  "kernelspec": {
   "display_name": "Python 3",
   "language": "python",
   "name": "python3"
  },
  "language_info": {
   "codemirror_mode": {
    "name": "ipython",
    "version": 3
   },
   "file_extension": ".py",
   "mimetype": "text/x-python",
   "name": "python",
   "nbconvert_exporter": "python",
   "pygments_lexer": "ipython3",
   "version": "3.8.8"
  }
 },
 "nbformat": 4,
 "nbformat_minor": 5
}
