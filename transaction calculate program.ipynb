{
 "cells": [
  {
   "cell_type": "code",
   "execution_count": 1,
   "id": "1e443711",
   "metadata": {},
   "outputs": [],
   "source": [
    "# Write a program that computes the net amount of a bank account based a transaction log from console input. \n",
    "#The transaction log format is shown as following: \n",
    "#D 100 \n",
    "#W 200 \n",
    "#D means deposit while W means withdrawal. \n",
    "#Suppose the input is supplied to the program: \n",
    "#D 300\n",
    "#D 300 \n",
    "#W 200 \n",
    "#D 100 \n",
    "#Then, the output should be: 500 "
   ]
  },
  {
   "cell_type": "code",
   "execution_count": 15,
   "id": "1e1e9c58",
   "metadata": {},
   "outputs": [
    {
     "name": "stdout",
     "output_type": "stream",
     "text": [
      "You have 0 amount in your account\n",
      "TELL ME,you want to withdraw or deposit money?deposit\n",
      "Enter the amount which you want to deposit...200\n",
      "TELL ME,you want to withdraw or deposit money?deposit\n",
      "Enter the amount which you want to deposit...200\n",
      "TELL ME,you want to withdraw or deposit money?withdraw\n",
      "Enter the amount which you want to withdraw...100\n",
      "TELL ME,you want to withdraw or deposit money?no\n",
      "You have 300 amount in your account\n"
     ]
    }
   ],
   "source": [
    "a=0\n",
    "print(\"You have {} amount in your account\".format(a))\n",
    "while True:\n",
    "    b= input(\"TELL ME,you want to withdraw or deposit money?\")\n",
    "    if b:\n",
    "        if b==\"deposit\":\n",
    "            d=int(input(\"Enter the amount which you want to deposit...\"))\n",
    "            a=a+d\n",
    "        elif b==\"withdraw\":\n",
    "            w=int(input(\"Enter the amount which you want to withdraw...\"))\n",
    "            a=a-w\n",
    "        else:\n",
    "            break\n",
    "    else:\n",
    "        break\n",
    "print(\"You have {} amount in your account\".format(a))\n"
   ]
  }
 ],
 "metadata": {
  "kernelspec": {
   "display_name": "Python 3",
   "language": "python",
   "name": "python3"
  },
  "language_info": {
   "codemirror_mode": {
    "name": "ipython",
    "version": 3
   },
   "file_extension": ".py",
   "mimetype": "text/x-python",
   "name": "python",
   "nbconvert_exporter": "python",
   "pygments_lexer": "ipython3",
   "version": "3.8.8"
  }
 },
 "nbformat": 4,
 "nbformat_minor": 5
}
